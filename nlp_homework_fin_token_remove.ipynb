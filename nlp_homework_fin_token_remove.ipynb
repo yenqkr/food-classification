{
  "cells": [
    {
      "cell_type": "markdown",
      "id": "cb7e8082-2e4d-4d20-8fd0-ef802bb53894",
      "metadata": {
        "id": "cb7e8082-2e4d-4d20-8fd0-ef802bb53894"
      },
      "source": [
        "# nlp-homework\n",
        "- 자연어처리 과제 ai융합학부 20211336 박예인\n",
        "\n"
      ]
    },
    {
      "cell_type": "markdown",
      "id": "830f173b-3ed7-4cb8-98e1-cd70a166fbe1",
      "metadata": {
        "id": "830f173b-3ed7-4cb8-98e1-cd70a166fbe1"
      },
      "source": [
        "## Overview\n",
        "- **Food Order Analysis Dataset**: 3,000 records\n",
        "   - **Goal**: Extract food names, option names, and quantities from order sentences\n",
        "- **Solution**: Fine-tuning meta-llama/Llama-3.2-1B-Instruct\n",
        "- **Methodology**:\n",
        "   - Load model with 4-bit quantization\n",
        "   - Attach LoRA adapter\n",
        "   - Train using **SFTTrainer**: Sentence -> next token prediction\n",
        "   - Process dataset with **ConstantLengthDataset**\n"
      ]
    },
    {
      "cell_type": "code",
      "execution_count": 1,
      "id": "AVy4UrvdKITW",
      "metadata": {
        "colab": {
          "base_uri": "https://localhost:8080/"
        },
        "id": "AVy4UrvdKITW",
        "outputId": "a1d992bc-02a6-4a46-9069-cda1805380bf"
      },
      "outputs": [
        {
          "name": "stdout",
          "output_type": "stream",
          "text": [
            "Mounted at /content/drive\n"
          ]
        }
      ],
      "source": [
        "from google.colab import drive\n",
        "drive.mount('/content/drive')"
      ]
    },
    {
      "cell_type": "code",
      "execution_count": 2,
      "id": "rX0daM3gdLFE",
      "metadata": {
        "colab": {
          "base_uri": "https://localhost:8080/"
        },
        "id": "rX0daM3gdLFE",
        "outputId": "9c5a5614-b25a-42f8-88c2-47f1df7fcb08"
      },
      "outputs": [
        {
          "name": "stdout",
          "output_type": "stream",
          "text": [
            "Requirement already satisfied: transformers in /usr/local/lib/python3.10/dist-packages (4.46.3)\n",
            "Requirement already satisfied: accelerate in /usr/local/lib/python3.10/dist-packages (1.1.1)\n",
            "Collecting datasets\n",
            "  Downloading datasets-3.1.0-py3-none-any.whl.metadata (20 kB)\n",
            "Requirement already satisfied: peft in /usr/local/lib/python3.10/dist-packages (0.13.2)\n",
            "Collecting trl\n",
            "  Downloading trl-0.12.2-py3-none-any.whl.metadata (11 kB)\n",
            "Collecting bitsandbytes\n",
            "  Downloading bitsandbytes-0.45.0-py3-none-manylinux_2_24_x86_64.whl.metadata (2.9 kB)\n",
            "Requirement already satisfied: wandb in /usr/local/lib/python3.10/dist-packages (0.18.7)\n",
            "Requirement already satisfied: filelock in /usr/local/lib/python3.10/dist-packages (from transformers) (3.16.1)\n",
            "Requirement already satisfied: huggingface-hub<1.0,>=0.23.2 in /usr/local/lib/python3.10/dist-packages (from transformers) (0.26.3)\n",
            "Requirement already satisfied: numpy>=1.17 in /usr/local/lib/python3.10/dist-packages (from transformers) (1.26.4)\n",
            "Requirement already satisfied: packaging>=20.0 in /usr/local/lib/python3.10/dist-packages (from transformers) (24.2)\n",
            "Requirement already satisfied: pyyaml>=5.1 in /usr/local/lib/python3.10/dist-packages (from transformers) (6.0.2)\n",
            "Requirement already satisfied: regex!=2019.12.17 in /usr/local/lib/python3.10/dist-packages (from transformers) (2024.9.11)\n",
            "Requirement already satisfied: requests in /usr/local/lib/python3.10/dist-packages (from transformers) (2.32.3)\n",
            "Requirement already satisfied: tokenizers<0.21,>=0.20 in /usr/local/lib/python3.10/dist-packages (from transformers) (0.20.3)\n",
            "Requirement already satisfied: safetensors>=0.4.1 in /usr/local/lib/python3.10/dist-packages (from transformers) (0.4.5)\n",
            "Requirement already satisfied: tqdm>=4.27 in /usr/local/lib/python3.10/dist-packages (from transformers) (4.66.6)\n",
            "Requirement already satisfied: psutil in /usr/local/lib/python3.10/dist-packages (from accelerate) (5.9.5)\n",
            "Requirement already satisfied: torch>=1.10.0 in /usr/local/lib/python3.10/dist-packages (from accelerate) (2.5.1+cu121)\n",
            "Requirement already satisfied: pyarrow>=15.0.0 in /usr/local/lib/python3.10/dist-packages (from datasets) (17.0.0)\n",
            "Collecting dill<0.3.9,>=0.3.0 (from datasets)\n",
            "  Downloading dill-0.3.8-py3-none-any.whl.metadata (10 kB)\n",
            "Requirement already satisfied: pandas in /usr/local/lib/python3.10/dist-packages (from datasets) (2.2.2)\n",
            "Collecting xxhash (from datasets)\n",
            "  Downloading xxhash-3.5.0-cp310-cp310-manylinux_2_17_x86_64.manylinux2014_x86_64.whl.metadata (12 kB)\n",
            "Collecting multiprocess<0.70.17 (from datasets)\n",
            "  Downloading multiprocess-0.70.16-py310-none-any.whl.metadata (7.2 kB)\n",
            "Collecting fsspec<=2024.9.0,>=2023.1.0 (from fsspec[http]<=2024.9.0,>=2023.1.0->datasets)\n",
            "  Downloading fsspec-2024.9.0-py3-none-any.whl.metadata (11 kB)\n",
            "Requirement already satisfied: aiohttp in /usr/local/lib/python3.10/dist-packages (from datasets) (3.11.9)\n",
            "Requirement already satisfied: rich in /usr/local/lib/python3.10/dist-packages (from trl) (13.9.4)\n",
            "Requirement already satisfied: typing_extensions>=4.8.0 in /usr/local/lib/python3.10/dist-packages (from bitsandbytes) (4.12.2)\n",
            "Requirement already satisfied: click!=8.0.0,>=7.1 in /usr/local/lib/python3.10/dist-packages (from wandb) (8.1.7)\n",
            "Requirement already satisfied: docker-pycreds>=0.4.0 in /usr/local/lib/python3.10/dist-packages (from wandb) (0.4.0)\n",
            "Requirement already satisfied: gitpython!=3.1.29,>=1.0.0 in /usr/local/lib/python3.10/dist-packages (from wandb) (3.1.43)\n",
            "Requirement already satisfied: platformdirs in /usr/local/lib/python3.10/dist-packages (from wandb) (4.3.6)\n",
            "Requirement already satisfied: protobuf!=4.21.0,!=5.28.0,<6,>=3.19.0 in /usr/local/lib/python3.10/dist-packages (from wandb) (4.25.5)\n",
            "Requirement already satisfied: sentry-sdk>=2.0.0 in /usr/local/lib/python3.10/dist-packages (from wandb) (2.19.0)\n",
            "Requirement already satisfied: setproctitle in /usr/local/lib/python3.10/dist-packages (from wandb) (1.3.4)\n",
            "Requirement already satisfied: setuptools in /usr/local/lib/python3.10/dist-packages (from wandb) (75.1.0)\n",
            "Requirement already satisfied: six>=1.4.0 in /usr/local/lib/python3.10/dist-packages (from docker-pycreds>=0.4.0->wandb) (1.16.0)\n",
            "Requirement already satisfied: aiohappyeyeballs>=2.3.0 in /usr/local/lib/python3.10/dist-packages (from aiohttp->datasets) (2.4.4)\n",
            "Requirement already satisfied: aiosignal>=1.1.2 in /usr/local/lib/python3.10/dist-packages (from aiohttp->datasets) (1.3.1)\n",
            "Requirement already satisfied: async-timeout<6.0,>=4.0 in /usr/local/lib/python3.10/dist-packages (from aiohttp->datasets) (4.0.3)\n",
            "Requirement already satisfied: attrs>=17.3.0 in /usr/local/lib/python3.10/dist-packages (from aiohttp->datasets) (24.2.0)\n",
            "Requirement already satisfied: frozenlist>=1.1.1 in /usr/local/lib/python3.10/dist-packages (from aiohttp->datasets) (1.5.0)\n",
            "Requirement already satisfied: multidict<7.0,>=4.5 in /usr/local/lib/python3.10/dist-packages (from aiohttp->datasets) (6.1.0)\n",
            "Requirement already satisfied: propcache>=0.2.0 in /usr/local/lib/python3.10/dist-packages (from aiohttp->datasets) (0.2.1)\n",
            "Requirement already satisfied: yarl<2.0,>=1.17.0 in /usr/local/lib/python3.10/dist-packages (from aiohttp->datasets) (1.18.3)\n",
            "Requirement already satisfied: gitdb<5,>=4.0.1 in /usr/local/lib/python3.10/dist-packages (from gitpython!=3.1.29,>=1.0.0->wandb) (4.0.11)\n",
            "Requirement already satisfied: charset-normalizer<4,>=2 in /usr/local/lib/python3.10/dist-packages (from requests->transformers) (3.4.0)\n",
            "Requirement already satisfied: idna<4,>=2.5 in /usr/local/lib/python3.10/dist-packages (from requests->transformers) (3.10)\n",
            "Requirement already satisfied: urllib3<3,>=1.21.1 in /usr/local/lib/python3.10/dist-packages (from requests->transformers) (2.2.3)\n",
            "Requirement already satisfied: certifi>=2017.4.17 in /usr/local/lib/python3.10/dist-packages (from requests->transformers) (2024.8.30)\n",
            "Requirement already satisfied: networkx in /usr/local/lib/python3.10/dist-packages (from torch>=1.10.0->accelerate) (3.4.2)\n",
            "Requirement already satisfied: jinja2 in /usr/local/lib/python3.10/dist-packages (from torch>=1.10.0->accelerate) (3.1.4)\n",
            "Requirement already satisfied: sympy==1.13.1 in /usr/local/lib/python3.10/dist-packages (from torch>=1.10.0->accelerate) (1.13.1)\n",
            "Requirement already satisfied: mpmath<1.4,>=1.1.0 in /usr/local/lib/python3.10/dist-packages (from sympy==1.13.1->torch>=1.10.0->accelerate) (1.3.0)\n",
            "Requirement already satisfied: python-dateutil>=2.8.2 in /usr/local/lib/python3.10/dist-packages (from pandas->datasets) (2.8.2)\n",
            "Requirement already satisfied: pytz>=2020.1 in /usr/local/lib/python3.10/dist-packages (from pandas->datasets) (2024.2)\n",
            "Requirement already satisfied: tzdata>=2022.7 in /usr/local/lib/python3.10/dist-packages (from pandas->datasets) (2024.2)\n",
            "Requirement already satisfied: markdown-it-py>=2.2.0 in /usr/local/lib/python3.10/dist-packages (from rich->trl) (3.0.0)\n",
            "Requirement already satisfied: pygments<3.0.0,>=2.13.0 in /usr/local/lib/python3.10/dist-packages (from rich->trl) (2.18.0)\n",
            "Requirement already satisfied: smmap<6,>=3.0.1 in /usr/local/lib/python3.10/dist-packages (from gitdb<5,>=4.0.1->gitpython!=3.1.29,>=1.0.0->wandb) (5.0.1)\n",
            "Requirement already satisfied: mdurl~=0.1 in /usr/local/lib/python3.10/dist-packages (from markdown-it-py>=2.2.0->rich->trl) (0.1.2)\n",
            "Requirement already satisfied: MarkupSafe>=2.0 in /usr/local/lib/python3.10/dist-packages (from jinja2->torch>=1.10.0->accelerate) (3.0.2)\n",
            "Downloading datasets-3.1.0-py3-none-any.whl (480 kB)\n",
            "\u001b[2K   \u001b[90m━━━━━━━━━━━━━━━━━━━━━━━━━━━━━━━━━━━━━━━━\u001b[0m \u001b[32m480.6/480.6 kB\u001b[0m \u001b[31m14.4 MB/s\u001b[0m eta \u001b[36m0:00:00\u001b[0m\n",
            "\u001b[?25hDownloading trl-0.12.2-py3-none-any.whl (365 kB)\n",
            "\u001b[2K   \u001b[90m━━━━━━━━━━━━━━━━━━━━━━━━━━━━━━━━━━━━━━━━\u001b[0m \u001b[32m365.7/365.7 kB\u001b[0m \u001b[31m29.2 MB/s\u001b[0m eta \u001b[36m0:00:00\u001b[0m\n",
            "\u001b[?25hDownloading bitsandbytes-0.45.0-py3-none-manylinux_2_24_x86_64.whl (69.1 MB)\n",
            "\u001b[2K   \u001b[90m━━━━━━━━━━━━━━━━━━━━━━━━━━━━━━━━━━━━━━━━\u001b[0m \u001b[32m69.1/69.1 MB\u001b[0m \u001b[31m9.7 MB/s\u001b[0m eta \u001b[36m0:00:00\u001b[0m\n",
            "\u001b[?25hDownloading dill-0.3.8-py3-none-any.whl (116 kB)\n",
            "\u001b[2K   \u001b[90m━━━━━━━━━━━━━━━━━━━━━━━━━━━━━━━━━━━━━━━━\u001b[0m \u001b[32m116.3/116.3 kB\u001b[0m \u001b[31m10.3 MB/s\u001b[0m eta \u001b[36m0:00:00\u001b[0m\n",
            "\u001b[?25hDownloading fsspec-2024.9.0-py3-none-any.whl (179 kB)\n",
            "\u001b[2K   \u001b[90m━━━━━━━━━━━━━━━━━━━━━━━━━━━━━━━━━━━━━━━━\u001b[0m \u001b[32m179.3/179.3 kB\u001b[0m \u001b[31m16.3 MB/s\u001b[0m eta \u001b[36m0:00:00\u001b[0m\n",
            "\u001b[?25hDownloading multiprocess-0.70.16-py310-none-any.whl (134 kB)\n",
            "\u001b[2K   \u001b[90m━━━━━━━━━━━━━━━━━━━━━━━━━━━━━━━━━━━━━━━━\u001b[0m \u001b[32m134.8/134.8 kB\u001b[0m \u001b[31m14.1 MB/s\u001b[0m eta \u001b[36m0:00:00\u001b[0m\n",
            "\u001b[?25hDownloading xxhash-3.5.0-cp310-cp310-manylinux_2_17_x86_64.manylinux2014_x86_64.whl (194 kB)\n",
            "\u001b[2K   \u001b[90m━━━━━━━━━━━━━━━━━━━━━━━━━━━━━━━━━━━━━━━━\u001b[0m \u001b[32m194.1/194.1 kB\u001b[0m \u001b[31m14.5 MB/s\u001b[0m eta \u001b[36m0:00:00\u001b[0m\n",
            "\u001b[?25hInstalling collected packages: xxhash, fsspec, dill, multiprocess, bitsandbytes, datasets, trl\n",
            "  Attempting uninstall: fsspec\n",
            "    Found existing installation: fsspec 2024.10.0\n",
            "    Uninstalling fsspec-2024.10.0:\n",
            "      Successfully uninstalled fsspec-2024.10.0\n",
            "\u001b[31mERROR: pip's dependency resolver does not currently take into account all the packages that are installed. This behaviour is the source of the following dependency conflicts.\n",
            "gcsfs 2024.10.0 requires fsspec==2024.10.0, but you have fsspec 2024.9.0 which is incompatible.\u001b[0m\u001b[31m\n",
            "\u001b[0mSuccessfully installed bitsandbytes-0.45.0 datasets-3.1.0 dill-0.3.8 fsspec-2024.9.0 multiprocess-0.70.16 trl-0.12.2 xxhash-3.5.0\n"
          ]
        }
      ],
      "source": [
        "! pip install transformers accelerate datasets peft trl bitsandbytes wandb"
      ]
    },
    {
      "cell_type": "code",
      "execution_count": 3,
      "id": "98776311-5d88-46e0-ae19-ad118f10c107",
      "metadata": {
        "id": "98776311-5d88-46e0-ae19-ad118f10c107"
      },
      "outputs": [],
      "source": [
        "import os\n",
        "from dataclasses import dataclass, field\n",
        "from typing import Optional\n",
        "import re\n",
        "\n",
        "import torch\n",
        "import sys\n",
        "# import tyro\n",
        "from accelerate import Accelerator\n",
        "from datasets import load_dataset, Dataset\n",
        "from peft import AutoPeftModelForCausalLM, LoraConfig\n",
        "from tqdm import tqdm\n",
        "from transformers import (\n",
        "    HfArgumentParser,\n",
        "    AutoModelForCausalLM,\n",
        "    AutoTokenizer,\n",
        "    BitsAndBytesConfig,\n",
        "    TrainingArguments,\n",
        "    TextStreamer,\n",
        "    logging as hf_logging,\n",
        ")\n",
        "import logging\n",
        "from trl import SFTTrainer, SFTConfig\n",
        "\n",
        "from trl.trainer import ConstantLengthDataset"
      ]
    },
    {
      "cell_type": "markdown",
      "id": "2267ff1b-5cc5-4374-87f3-a1e26ab1ea05",
      "metadata": {
        "id": "2267ff1b-5cc5-4374-87f3-a1e26ab1ea05"
      },
      "source": [
        "# Setting"
      ]
    },
    {
      "cell_type": "markdown",
      "id": "gcQ2fjqvv3J2",
      "metadata": {
        "id": "gcQ2fjqvv3J2"
      },
      "source": [
        "## Q1. meta-llama/Llama-3.2-1B-Instruct 모델 사용\n",
        "- base_model_id에 meta-llama/Llama-3.2-1B-Instruct 저장"
      ]
    },
    {
      "cell_type": "code",
      "execution_count": 4,
      "id": "424ade05-83c1-4dc2-b1a1-8a15b87345fb",
      "metadata": {
        "id": "424ade05-83c1-4dc2-b1a1-8a15b87345fb"
      },
      "outputs": [],
      "source": [
        "base_model_id = \"meta-llama/Llama-3.2-1B-Instruct\"\n",
        "device_map=\"cuda\"\n",
        "torch_dtype = torch.bfloat16\n",
        "output_dir = \"./nlp-homework\"\n",
        "dataset_name = \"drive/MyDrive/llm-modeling-lab.jsonl\"\n",
        "seq_length = 512"
      ]
    },
    {
      "cell_type": "markdown",
      "id": "ac8f5418-3ad1-4433-a55e-e70decfc4ae2",
      "metadata": {
        "id": "ac8f5418-3ad1-4433-a55e-e70decfc4ae2"
      },
      "source": [
        "# Raw Dataset"
      ]
    },
    {
      "cell_type": "markdown",
      "id": "EMcVZyNivupG",
      "metadata": {
        "id": "EMcVZyNivupG"
      },
      "source": [
        "## Q2. train(2800개), validation(200개) dataset 분리"
      ]
    },
    {
      "cell_type": "code",
      "execution_count": 5,
      "id": "c58ccc56-06f3-4dc4-bb72-070a734ec55f",
      "metadata": {
        "colab": {
          "base_uri": "https://localhost:8080/",
          "height": 85,
          "referenced_widgets": [
            "fdc1adaf647a4c94b062a06460cb547d",
            "193eefaf791046828812228f7e86a0fc",
            "dadd51ccb0294e6ca33cdb82e4c28dcc",
            "cf48eae86e694233994ec33795fb70d6",
            "5e01b35fe6464971969abe6d428c57a3",
            "2d3ed489f55944bdb90b6f7d4b05d338",
            "3633cca2782444ec9df7ba0bc8380230",
            "8d217e92297c4c95857b9fa8f9cd682f",
            "741e4a180d7043ffbc04f8ce535a9639",
            "ac812acb6747449ebc9d049e3ae4ff53",
            "9d9591513c99422dbdf705cfc6ee9d65"
          ]
        },
        "id": "c58ccc56-06f3-4dc4-bb72-070a734ec55f",
        "outputId": "8a7903ff-189e-4bc9-fc6d-d248d7833a3a"
      },
      "outputs": [
        {
          "data": {
            "application/vnd.jupyter.widget-view+json": {
              "model_id": "fdc1adaf647a4c94b062a06460cb547d",
              "version_major": 2,
              "version_minor": 0
            },
            "text/plain": [
              "Generating train split: 0 examples [00:00, ? examples/s]"
            ]
          },
          "metadata": {},
          "output_type": "display_data"
        },
        {
          "name": "stdout",
          "output_type": "stream",
          "text": [
            "Train dataset size: 2800\n",
            "Validation dataset size: 200\n"
          ]
        }
      ],
      "source": [
        "from datasets import Dataset\n",
        "\n",
        "# JSON 데이터 로드\n",
        "full_dataset = Dataset.from_json(path_or_paths=dataset_name)\n",
        "\n",
        "# 데이터셋 분리\n",
        "train_dataset = full_dataset.select(range(2800))  # 학습 데이터 2,800개\n",
        "validation_dataset = full_dataset.select(range(2800, 3000))  # 검증 데이터 200개\n",
        "\n",
        "# 확인\n",
        "print(f\"Train dataset size: {len(train_dataset)}\")\n",
        "print(f\"Validation dataset size: {len(validation_dataset)}\")\n"
      ]
    },
    {
      "cell_type": "markdown",
      "id": "995f9c64-9a6c-46ee-8e45-7bb01c8a06cc",
      "metadata": {
        "id": "995f9c64-9a6c-46ee-8e45-7bb01c8a06cc"
      },
      "source": [
        "# Loading the Tokenizer"
      ]
    },
    {
      "cell_type": "code",
      "execution_count": 6,
      "id": "gAnt9TLFKpfw",
      "metadata": {
        "colab": {
          "base_uri": "https://localhost:8080/"
        },
        "id": "gAnt9TLFKpfw",
        "outputId": "fbaf8b24-3feb-446e-a70f-c6da5b714e2e"
      },
      "outputs": [
        {
          "name": "stdout",
          "output_type": "stream",
          "text": [
            "Requirement already satisfied: huggingface_hub in /usr/local/lib/python3.10/dist-packages (0.26.3)\n",
            "Requirement already satisfied: filelock in /usr/local/lib/python3.10/dist-packages (from huggingface_hub) (3.16.1)\n",
            "Requirement already satisfied: fsspec>=2023.5.0 in /usr/local/lib/python3.10/dist-packages (from huggingface_hub) (2024.9.0)\n",
            "Requirement already satisfied: packaging>=20.9 in /usr/local/lib/python3.10/dist-packages (from huggingface_hub) (24.2)\n",
            "Requirement already satisfied: pyyaml>=5.1 in /usr/local/lib/python3.10/dist-packages (from huggingface_hub) (6.0.2)\n",
            "Requirement already satisfied: requests in /usr/local/lib/python3.10/dist-packages (from huggingface_hub) (2.32.3)\n",
            "Requirement already satisfied: tqdm>=4.42.1 in /usr/local/lib/python3.10/dist-packages (from huggingface_hub) (4.66.6)\n",
            "Requirement already satisfied: typing-extensions>=3.7.4.3 in /usr/local/lib/python3.10/dist-packages (from huggingface_hub) (4.12.2)\n",
            "Requirement already satisfied: charset-normalizer<4,>=2 in /usr/local/lib/python3.10/dist-packages (from requests->huggingface_hub) (3.4.0)\n",
            "Requirement already satisfied: idna<4,>=2.5 in /usr/local/lib/python3.10/dist-packages (from requests->huggingface_hub) (3.10)\n",
            "Requirement already satisfied: urllib3<3,>=1.21.1 in /usr/local/lib/python3.10/dist-packages (from requests->huggingface_hub) (2.2.3)\n",
            "Requirement already satisfied: certifi>=2017.4.17 in /usr/local/lib/python3.10/dist-packages (from requests->huggingface_hub) (2024.8.30)\n"
          ]
        }
      ],
      "source": [
        "! pip install huggingface_hub"
      ]
    },
    {
      "cell_type": "code",
      "execution_count": 9,
      "id": "10d7fd4f-cd39-49a6-a03d-0b34678f45bf",
      "metadata": {
        "id": "10d7fd4f-cd39-49a6-a03d-0b34678f45bf"
      },
      "outputs": [],
      "source": [
        "tokenizer = AutoTokenizer.from_pretrained(\n",
        "    base_model_id\n",
        ")\n",
        "tokenizer.padding_side = \"right\""
      ]
    },
    {
      "cell_type": "markdown",
      "id": "187b1c68-e1da-4301-8525-c335240f0aea",
      "metadata": {
        "id": "187b1c68-e1da-4301-8525-c335240f0aea"
      },
      "source": [
        "# Loading the Base Model"
      ]
    },
    {
      "cell_type": "code",
      "execution_count": 10,
      "id": "103caa04-8a09-4605-a281-e6e780cfe704",
      "metadata": {
        "id": "103caa04-8a09-4605-a281-e6e780cfe704"
      },
      "outputs": [],
      "source": [
        "bnb_config = BitsAndBytesConfig(\n",
        "    load_in_4bit=True,\n",
        "    bnb_4bit_quant_type=\"nf4\",\n",
        "    bnb_4bit_compute_dtype=torch.bfloat16,\n",
        ")"
      ]
    },
    {
      "cell_type": "markdown",
      "id": "6uqOYJ25mFn5",
      "metadata": {
        "id": "6uqOYJ25mFn5"
      },
      "source": [
        "### base_model_id=meta-llama/Llama-3.2-1B-Instruct 모델 불러오기"
      ]
    },
    {
      "cell_type": "code",
      "execution_count": 11,
      "id": "f32bf7fc-5b99-4170-95fc-abec8b50a0ed",
      "metadata": {
        "colab": {
          "base_uri": "https://localhost:8080/",
          "height": 113,
          "referenced_widgets": [
            "1e58bc15629a4161a05aa6e841a728e9",
            "6c15a8a81ac74bbabd443f73851fad52",
            "027a4428521740fa910436854c00581c",
            "34c42ceb3bed49b3a6dcb0546f4e2ac8",
            "165c1ff4579a41c292d007a94f6f5d67",
            "c26ffd1fb3ff48bdbb9effcc68cf0d16",
            "57411c8449524880b2c185a54a9f4829",
            "4e8179892b9d412f91e941d2b334c093",
            "d2f82de71cf545a5bafca207facfb672",
            "f85eea3c47714fb6839c7bda212a25a7",
            "b68dbd02d6604d41852eae84250d54cc",
            "2133473d2f0b4ccdba0c1df52105e2fe",
            "c8eb7d5b5c1c49d089267b0f4e635bc8",
            "59959e247bc94c6ababae06d486b4c12",
            "4f6e913e7e8a4f8a888b80f1e30b6f85",
            "7186daca947c45ec84ba4669b7b31981",
            "4a612e11ac8b43b481b986b69c771cd6",
            "3687c050ad584d6681eddc8517b47656",
            "02d3d6e2827e400c9cd8b4de8bfe0d5b",
            "5c1372cf0d2648f0b3638c56b13b4257",
            "8d6da28bb8174c25846fb984c2693838",
            "4ba1aab821fc471bbb32139f65cf4cf3",
            "78e4896f18974f41bff41143944ce4d8",
            "784715bedd504091a683f32a5bb59c60",
            "2c123ed100a947eca137243bd2159c68",
            "a345305428044caaa9f264580d674875",
            "90062ac5df4a46078db9db751be34bfa",
            "45db22b330e34ba1ad50f6e8297b2bbc",
            "75fe4c9153cf42e4b2094a1e3210d997",
            "5f7bccbd5c8a416b8b515b473d8c6391",
            "8485cbf9adff4081a25778a07c806475",
            "2817da44edd148889b8733d1b2a39d4b",
            "b81e35afe2704d81aa0464eb83224dce"
          ]
        },
        "id": "f32bf7fc-5b99-4170-95fc-abec8b50a0ed",
        "outputId": "7d54751d-3c50-4f6e-ff78-3fa5de1818ce"
      },
      "outputs": [
        {
          "data": {
            "application/vnd.jupyter.widget-view+json": {
              "model_id": "1e58bc15629a4161a05aa6e841a728e9",
              "version_major": 2,
              "version_minor": 0
            },
            "text/plain": [
              "config.json:   0%|          | 0.00/877 [00:00<?, ?B/s]"
            ]
          },
          "metadata": {},
          "output_type": "display_data"
        },
        {
          "data": {
            "application/vnd.jupyter.widget-view+json": {
              "model_id": "2133473d2f0b4ccdba0c1df52105e2fe",
              "version_major": 2,
              "version_minor": 0
            },
            "text/plain": [
              "model.safetensors:   0%|          | 0.00/2.47G [00:00<?, ?B/s]"
            ]
          },
          "metadata": {},
          "output_type": "display_data"
        },
        {
          "data": {
            "application/vnd.jupyter.widget-view+json": {
              "model_id": "78e4896f18974f41bff41143944ce4d8",
              "version_major": 2,
              "version_minor": 0
            },
            "text/plain": [
              "generation_config.json:   0%|          | 0.00/189 [00:00<?, ?B/s]"
            ]
          },
          "metadata": {},
          "output_type": "display_data"
        }
      ],
      "source": [
        "base_model = AutoModelForCausalLM.from_pretrained(\n",
        "    base_model_id,\n",
        "    quantization_config=bnb_config,\n",
        "    device_map=\"auto\",  # {\"\": Accelerator().local_process_index},\n",
        ")"
      ]
    },
    {
      "cell_type": "code",
      "execution_count": 12,
      "id": "e6412ea2-576f-4a95-b941-6c55ef4b1490",
      "metadata": {
        "id": "e6412ea2-576f-4a95-b941-6c55ef4b1490"
      },
      "outputs": [],
      "source": [
        "base_model.config.use_cache = False"
      ]
    },
    {
      "cell_type": "code",
      "execution_count": 13,
      "id": "3d148097-9770-4743-ad28-40d7952e1ee0",
      "metadata": {
        "id": "3d148097-9770-4743-ad28-40d7952e1ee0"
      },
      "outputs": [],
      "source": [
        "if getattr(tokenizer, \"pad_token\", None) is None:\n",
        "    tokenizer.pad_token = tokenizer.eos_token\n",
        "    tokenizer.pad_token_id = tokenizer.eos_token_id\n",
        "tokenizer.padding_side = \"right\"  # Fix weird overflow issue with fp16 training\n",
        "if base_model.config.pad_token_id != tokenizer.pad_token_id:\n",
        "    base_model.config.pad_token_id = tokenizer.pad_token_id"
      ]
    },
    {
      "cell_type": "markdown",
      "id": "e2f4c432-9c07-4f82-9c6e-4b5625d3ffa4",
      "metadata": {
        "id": "e2f4c432-9c07-4f82-9c6e-4b5625d3ffa4"
      },
      "source": [
        "# Utilities"
      ]
    },
    {
      "cell_type": "code",
      "execution_count": 14,
      "id": "20dc069b-19f6-4c22-8f6f-ef7fa380ca01",
      "metadata": {
        "id": "20dc069b-19f6-4c22-8f6f-ef7fa380ca01"
      },
      "outputs": [],
      "source": [
        "def chars_token_ratio(dataset, tokenizer, prepare_sample_text, nb_examples=400):\n",
        "    \"\"\"\n",
        "    Estimate the average number of characters per token in the dataset.\n",
        "    \"\"\"\n",
        "    total_characters, total_tokens = 0, 0\n",
        "    for _, example in tqdm(zip(range(nb_examples), iter(dataset)), total=nb_examples):\n",
        "        text = prepare_sample_text(example)\n",
        "        total_characters += len(text)\n",
        "        if tokenizer.is_fast:\n",
        "            total_tokens += len(tokenizer(text).tokens())\n",
        "        else:\n",
        "            total_tokens += len(tokenizer.tokenize(text))\n",
        "\n",
        "    return total_characters / total_tokens"
      ]
    },
    {
      "cell_type": "code",
      "execution_count": 15,
      "id": "e83ee095-d8a8-4618-8d62-29ef7b38bc28",
      "metadata": {
        "id": "e83ee095-d8a8-4618-8d62-29ef7b38bc28"
      },
      "outputs": [],
      "source": [
        "def function_prepare_sample_text(tokenizer, for_train=True):\n",
        "    \"\"\"A Closure\"\"\"\n",
        "\n",
        "    def _prepare_sample_text(example):\n",
        "        \"\"\"Prepare the text from a sample of the dataset.\"\"\"\n",
        "        user_prompt=\"너는 사용자가 입력한 주문 문장을 분석하는 에이전트이다. 주문으로부터 이를 구성하는 음식명, 옵션명, 수량을 차례대로 추출해야 한다.\\n### 주문 문장: \"\n",
        "        messages = [\n",
        "            # {\"role\": \"system\", \"content\": f\"{system_prompt}\"},\n",
        "            {\"role\": \"user\", \"content\": f\"{user_prompt}{example['input']}\"},\n",
        "        ]\n",
        "        if for_train:\n",
        "            messages.append({\"role\": \"assistant\", \"content\": f\"{example['output']}\"})\n",
        "\n",
        "        text = tokenizer.apply_chat_template(messages, tokenize=False, add_generation_prompt=False if for_train else True)\n",
        "        return text\n",
        "    return _prepare_sample_text"
      ]
    },
    {
      "cell_type": "code",
      "execution_count": 16,
      "id": "dde80015-14c3-4c84-a529-cdb784c9792c",
      "metadata": {
        "id": "dde80015-14c3-4c84-a529-cdb784c9792c"
      },
      "outputs": [],
      "source": [
        "def create_datasets(tokenizer, dataset, seq_length):\n",
        "\n",
        "    prepare_sample_text = function_prepare_sample_text(tokenizer)\n",
        "\n",
        "    chars_per_token = chars_token_ratio(dataset, tokenizer, prepare_sample_text)\n",
        "    print(\n",
        "        f\"The character to token ratio of the dataset is: {chars_per_token:.2f}\"\n",
        "    )\n",
        "\n",
        "    cl_dataset = ConstantLengthDataset(\n",
        "        tokenizer,\n",
        "        dataset,\n",
        "        formatting_func=prepare_sample_text,\n",
        "        infinite=True,\n",
        "        seq_length=seq_length,\n",
        "        chars_per_token=chars_per_token,\n",
        "    )\n",
        "\n",
        "    return cl_dataset"
      ]
    },
    {
      "cell_type": "markdown",
      "id": "5a15270e-9d1b-4f85-9b0f-dcbfe5d358b0",
      "metadata": {
        "id": "5a15270e-9d1b-4f85-9b0f-dcbfe5d358b0"
      },
      "source": [
        "# Build a dataset"
      ]
    },
    {
      "cell_type": "markdown",
      "id": "rTe9lzA5HLdY",
      "metadata": {
        "id": "rTe9lzA5HLdY"
      },
      "source": [
        "### - 데이터셋 생성"
      ]
    },
    {
      "cell_type": "code",
      "execution_count": 17,
      "id": "476ca90e-a3eb-45d7-ae63-faec631e64a5",
      "metadata": {
        "colab": {
          "base_uri": "https://localhost:8080/"
        },
        "id": "476ca90e-a3eb-45d7-ae63-faec631e64a5",
        "outputId": "b64ad6e2-bbba-4de9-c5cc-23e5d4b5dde7"
      },
      "outputs": [
        {
          "name": "stderr",
          "output_type": "stream",
          "text": [
            "100%|██████████| 400/400 [00:00<00:00, 1496.86it/s]\n"
          ]
        },
        {
          "name": "stdout",
          "output_type": "stream",
          "text": [
            "The character to token ratio of the dataset is: 2.61\n"
          ]
        },
        {
          "name": "stderr",
          "output_type": "stream",
          "text": [
            " 50%|█████     | 200/400 [00:00<00:00, 1518.73it/s]"
          ]
        },
        {
          "name": "stdout",
          "output_type": "stream",
          "text": [
            "The character to token ratio of the dataset is: 2.62\n"
          ]
        },
        {
          "name": "stderr",
          "output_type": "stream",
          "text": [
            "\n"
          ]
        }
      ],
      "source": [
        "# 훈련 데이터셋 생성\n",
        "train_ds = create_datasets(tokenizer, train_dataset, seq_length)\n",
        "\n",
        "# 검증 데이터셋 생성\n",
        "val_ds = create_datasets(tokenizer, validation_dataset, seq_length)"
      ]
    },
    {
      "cell_type": "code",
      "execution_count": 18,
      "id": "84d799e9-751d-4528-8baa-bed8ea6ea829",
      "metadata": {
        "colab": {
          "base_uri": "https://localhost:8080/"
        },
        "id": "84d799e9-751d-4528-8baa-bed8ea6ea829",
        "outputId": "65413eee-be37-4c71-94d9-ba2221f467e5"
      },
      "outputs": [
        {
          "name": "stderr",
          "output_type": "stream",
          "text": [
            "/usr/local/lib/python3.10/dist-packages/trl/trainer/utils.py:648: UserWarning: The dataset reached end and the iterator is reset to the start.\n",
            "  warnings.warn(\"The dataset reached end and the iterator is reset to the start.\")\n"
          ]
        },
        {
          "name": "stdout",
          "output_type": "stream",
          "text": [
            "레귤러\n",
            "- 분석 결과 1: 음식명:탕수육, 옵션:소, 수량:두 그릇<|eot_id|><|eot_id|><|begin_of_text|><|begin_of_text|><|start_header_id|>system<|end_header_id|>\n",
            "\n",
            "Cutting Knowledge Date: December 2023\n",
            "Today Date: 08 Dec 2024\n",
            "\n",
            "<|eot_id|><|start_header_id|>user<|end_header_id|>\n",
            "\n",
            "너는 사용자가 입력한 주문 문장을 분석하는 에이전트이다. 주문으로부터 이를 구성하는 음식명, 옵션명, 수량을 차례대로 추출해야 한다.\n",
            "### 주문 문장: 동참하려고 하는데요, 세트메뉴 F 하나랑 미린다 중 한 캔 주세요.<|eot_id|><|start_header_id|>assistant<|end_header_id|>\n",
            "\n",
            "- 분석 결과 0: 음식명:세트메뉴 F,수량:하나\n",
            "- 분석 결과 1: 음식명:미린다,옵션:중,수량:한 캔<|eot_id|><|eot_id|><|begin_of_text|><|begin_of_text|><|start_header_id|>system<|end_header_id|>\n",
            "\n",
            "Cutting Knowledge Date: December 2023\n",
            "Today Date: 08 Dec 2024\n",
            "\n",
            "<|eot_id|><|start_header_id|>user<|end_header_id|>\n",
            "\n",
            "너는 사용자가 입력한 주문 문장을 분석하는 에이전트이다. 주문으로부터 이를 구성하는 음식명, 옵션명, 수량을 차례대로 추출해야 한다.\n",
            "### 주문 문장: 아보카도새우포케 한 그릇하고 팥빙수 한 개 주세요.<|eot_id|><|start_header_id|>assistant<|end_header_id|>\n",
            "\n",
            "- 분석 결과 0: 음식명:아보카도새우포케, 수량:한 그릇\n",
            "- 분석 결과 1: 음식명:팥빙수, 수량:한 개<|eot_id|><|eot_id|><|begin_of_text|><|begin_of_text|><|start_header_id|>system<|end_header_id|>\n",
            "\n",
            "Cutting Knowledge Date: December 2023\n",
            "Today Date: 08 Dec 2024\n",
            "\n",
            "<|eot_id|><|start_header_id|>user<|end_header_id|>\n",
            "\n",
            "너는 사용자가 입력한 주문 문장을 분석하는 에이전트이다. 주문으로부터 이를 구성하는 음식명, 옵션명, 수량을 차례대로 추출해야 한다.\n",
            "### 주문 문장: 후라이드반+데리야끼반 곱배기 주시고, 카나디언햄스파게티 한 그릇 주세요.<|eot_id|><|start_header_id|>assistant<|end_header_id|>\n",
            "\n",
            "- 분석 결과 0: 음식명:후라이드+데리야끼, 옵션:곱배기\n",
            "- 분석 결과 1: 음식명:카나디언햄스파\n"
          ]
        }
      ],
      "source": [
        "# 훈련 데이터셋 샘플 확인\n",
        "train_it = iter(train_ds)\n",
        "print(tokenizer.decode(next(train_it)['input_ids']))"
      ]
    },
    {
      "cell_type": "code",
      "execution_count": 19,
      "id": "AVqWv2XMZY9c",
      "metadata": {
        "colab": {
          "base_uri": "https://localhost:8080/"
        },
        "id": "AVqWv2XMZY9c",
        "outputId": "c369432e-615e-4505-ccbb-38b6ac0e2518"
      },
      "outputs": [
        {
          "name": "stdout",
          "output_type": "stream",
          "text": [
            "�션명, 수량을 차례대로 추출해야 한다.\n",
            "### 주문 문장: 교촌리얼후라이드 한 마리 주문할게요. 그리고 머릿고기 대를 추가할게요.<|eot_id|><|start_header_id|>assistant<|end_header_id|>\n",
            "\n",
            "- 분석 결과 0: 음식명:교촌리얼후라이드,수량:한 마리\n",
            "- 분석 결과 1: 음식명:머릿고기,옵션:대<|eot_id|><|eot_id|><|begin_of_text|><|begin_of_text|><|start_header_id|>system<|end_header_id|>\n",
            "\n",
            "Cutting Knowledge Date: December 2023\n",
            "Today Date: 08 Dec 2024\n",
            "\n",
            "<|eot_id|><|start_header_id|>user<|end_header_id|>\n",
            "\n",
            "너는 사용자가 입력한 주문 문장을 분석하는 에이전트이다. 주문으로부터 이를 구성하는 음식명, 옵션명, 수량을 차례대로 추출해야 한다.\n",
            "### 주문 문장: 한우고기말이 두 판하고 마늘간장 소 짜로 주세요.<|eot_id|><|start_header_id|>assistant<|end_header_id|>\n",
            "\n",
            "- 분석 결과 0: 음식명:한우고기말이, 수량:두 판\n",
            "- 분석 결과 1: 음식명:마늘간장, 옵션:소짜<|eot_id|><|eot_id|><|begin_of_text|><|begin_of_text|><|start_header_id|>system<|end_header_id|>\n",
            "\n",
            "Cutting Knowledge Date: December 2023\n",
            "Today Date: 08 Dec 2024\n",
            "\n",
            "<|eot_id|><|start_header_id|>user<|end_header_id|>\n",
            "\n",
            "너는 사용자가 입력한 주문 문장을 분석하는 에이전트이다. 주문으로부터 이를 구성하는 음식명, 옵션명, 수량을 차례대로 추출해야 한다.\n",
            "### 주문 문장: 참이슬 한 병으로 시작하고, 볶음면 한 그릇 추가 주세요.<|eot_id|><|start_header_id|>assistant<|end_header_id|>\n",
            "\n",
            "- 분석 결과 0: 음식명:참이슬, 수량:한병\n",
            "- 분석 결과 1: 음식명:볶음면, 수량:한그릇<|eot_id|><|eot_id|><|begin_of_text|><|begin_of_text|><|start_header_id|>system<|end_header_id|>\n",
            "\n",
            "Cutting Knowledge Date: December 2023\n",
            "Today Date: 08 Dec 2024\n",
            "\n",
            "<|eot_id|><|start_header_id|>user<|end_header_id|>\n",
            "\n",
            "너는 사용자가 입력한 주문 문장을 분석하는 에이전트이다. 주문으로부터 이를 구성하는 음식명, 옵션명, 수량을 차례대로 추출해야 한다.\n",
            "### 주문 문장: 날씨가 점점 더워지네요, 요번엔 팥칼국수 1인분에 빠사칸윙봉현미 추가 해\n"
          ]
        }
      ],
      "source": [
        "# 검증 데이터셋 샘플 확인\n",
        "val_it = iter(val_ds)\n",
        "print(tokenizer.decode(next(val_it)['input_ids']))"
      ]
    },
    {
      "cell_type": "markdown",
      "id": "4dab0c34-a994-4482-a539-d98ccfc74857",
      "metadata": {
        "id": "4dab0c34-a994-4482-a539-d98ccfc74857"
      },
      "source": [
        "# Fine Tuning"
      ]
    },
    {
      "cell_type": "markdown",
      "id": "-hoC9TW6iEkg",
      "metadata": {
        "id": "-hoC9TW6iEkg"
      },
      "source": [
        "\n",
        "\n",
        "## Training Time (1 Epoch)\n",
        "- **T4**: 40 min\n",
        "\n",
        "## Loss\n",
        "- **500 steps**: 0.581900\n",
        "- **1000 steps**: 0.500900\n",
        "- **1400 steps**: 0.462000"
      ]
    },
    {
      "cell_type": "markdown",
      "id": "0PlDKX2D7fzj",
      "metadata": {
        "id": "0PlDKX2D7fzj"
      },
      "source": [
        "## Seting for a LoRA adapter"
      ]
    },
    {
      "cell_type": "code",
      "execution_count": 20,
      "id": "ob-_OvI674Ud",
      "metadata": {
        "id": "ob-_OvI674Ud"
      },
      "outputs": [],
      "source": [
        "lora_config = LoraConfig(\n",
        "            r=8,\n",
        "            lora_alpha=16,\n",
        "            lora_dropout=0.05,\n",
        "            target_modules=[\n",
        "                \"q_proj\",\n",
        "                \"k_proj\",\n",
        "                \"v_proj\",\n",
        "                \"o_proj\",\n",
        "                \"down_proj\",\n",
        "                \"up_proj\",\n",
        "                \"gate_proj\",\n",
        "            ],\n",
        "            bias=\"none\",\n",
        "            task_type=\"CAUSAL_LM\",\n",
        "        )"
      ]
    },
    {
      "cell_type": "code",
      "execution_count": 21,
      "id": "7V0rd2Lh78-P",
      "metadata": {
        "id": "7V0rd2Lh78-P"
      },
      "outputs": [],
      "source": [
        "peft_config = lora_config"
      ]
    },
    {
      "cell_type": "code",
      "execution_count": 22,
      "id": "EEqW7GcMeC54",
      "metadata": {
        "colab": {
          "base_uri": "https://localhost:8080/"
        },
        "id": "EEqW7GcMeC54",
        "outputId": "ceb5e432-e9c2-4aaf-e240-901030abe198"
      },
      "outputs": [
        {
          "name": "stderr",
          "output_type": "stream",
          "text": [
            "\u001b[34m\u001b[1mwandb\u001b[0m: Using wandb-core as the SDK backend.  Please refer to https://wandb.me/wandb-core for more information.\n",
            "\u001b[34m\u001b[1mwandb\u001b[0m: W&B API key is configured. Use \u001b[1m`wandb login --relogin`\u001b[0m to force relogin\n",
            "\u001b[34m\u001b[1mwandb\u001b[0m: \u001b[33mWARNING\u001b[0m If you're specifying your api key in code, ensure this code is not shared publicly.\n",
            "\u001b[34m\u001b[1mwandb\u001b[0m: \u001b[33mWARNING\u001b[0m Consider setting the WANDB_API_KEY environment variable, or running `wandb login` from the command line.\n",
            "\u001b[34m\u001b[1mwandb\u001b[0m: Appending key for api.wandb.ai to your netrc file: /root/.netrc\n"
          ]
        },
        {
          "name": "stdout",
          "output_type": "stream",
          "text": [
            "Successfully logged in to Weights & Biases\n"
          ]
        }
      ],
      "source": [
        "from google.colab import userdata\n",
        "import wandb\n",
        "\n",
        "wandb_api_key = userdata.get('WANDB_API_KEY')\n",
        "if wandb_api_key:\n",
        "    wandb.login(key=wandb_api_key)\n",
        "    print(\"Successfully logged in to Weights & Biases\")\n",
        "else:\n",
        "    print(\"WANDB_API_KEY not found in Colab secrets\")"
      ]
    },
    {
      "cell_type": "code",
      "execution_count": 23,
      "id": "HlVpgaqgEfZP",
      "metadata": {
        "colab": {
          "base_uri": "https://localhost:8080/",
          "height": 144
        },
        "id": "HlVpgaqgEfZP",
        "outputId": "423d8f87-e86d-471a-c0bd-528967f9e4aa"
      },
      "outputs": [
        {
          "name": "stderr",
          "output_type": "stream",
          "text": [
            "\u001b[34m\u001b[1mwandb\u001b[0m: Currently logged in as: \u001b[33myenqkr\u001b[0m (\u001b[33myenqkr-study\u001b[0m). Use \u001b[1m`wandb login --relogin`\u001b[0m to force relogin\n"
          ]
        },
        {
          "data": {
            "text/html": [
              "Tracking run with wandb version 0.18.7"
            ],
            "text/plain": [
              "<IPython.core.display.HTML object>"
            ]
          },
          "metadata": {},
          "output_type": "display_data"
        },
        {
          "data": {
            "text/html": [
              "Run data is saved locally in <code>/content/wandb/run-20241208_131932-ukhgu8de</code>"
            ],
            "text/plain": [
              "<IPython.core.display.HTML object>"
            ]
          },
          "metadata": {},
          "output_type": "display_data"
        },
        {
          "data": {
            "text/html": [
              "Syncing run <strong><a href='https://wandb.ai/yenqkr-study/nlp-llama-homework/runs/ukhgu8de' target=\"_blank\">astral-breeze-2</a></strong> to <a href='https://wandb.ai/yenqkr-study/nlp-llama-homework' target=\"_blank\">Weights & Biases</a> (<a href='https://wandb.me/developer-guide' target=\"_blank\">docs</a>)<br/>"
            ],
            "text/plain": [
              "<IPython.core.display.HTML object>"
            ]
          },
          "metadata": {},
          "output_type": "display_data"
        },
        {
          "data": {
            "text/html": [
              " View project at <a href='https://wandb.ai/yenqkr-study/nlp-llama-homework' target=\"_blank\">https://wandb.ai/yenqkr-study/nlp-llama-homework</a>"
            ],
            "text/plain": [
              "<IPython.core.display.HTML object>"
            ]
          },
          "metadata": {},
          "output_type": "display_data"
        },
        {
          "data": {
            "text/html": [
              " View run at <a href='https://wandb.ai/yenqkr-study/nlp-llama-homework/runs/ukhgu8de' target=\"_blank\">https://wandb.ai/yenqkr-study/nlp-llama-homework/runs/ukhgu8de</a>"
            ],
            "text/plain": [
              "<IPython.core.display.HTML object>"
            ]
          },
          "metadata": {},
          "output_type": "display_data"
        },
        {
          "data": {
            "text/html": [
              "<button onClick=\"this.nextSibling.style.display='block';this.style.display='none';\">Display W&B run</button><iframe src='https://wandb.ai/yenqkr-study/nlp-llama-homework/runs/ukhgu8de?jupyter=true' style='border:none;width:100%;height:420px;display:none;'></iframe>"
            ],
            "text/plain": [
              "<wandb.sdk.wandb_run.Run at 0x7cd357f63700>"
            ]
          },
          "execution_count": 23,
          "metadata": {},
          "output_type": "execute_result"
        }
      ],
      "source": [
        "wandb.init(project=\"nlp-llama-homework\")"
      ]
    },
    {
      "cell_type": "code",
      "execution_count": 27,
      "id": "171a1cdf-2931-4cbe-bc68-20252e680fc3",
      "metadata": {
        "id": "171a1cdf-2931-4cbe-bc68-20252e680fc3"
      },
      "outputs": [],
      "source": [
        "sft_config = SFTConfig(\n",
        "    output_dir=output_dir,\n",
        "    per_device_train_batch_size=2,\n",
        "    gradient_accumulation_steps=1,\n",
        "    gradient_checkpointing=False,\n",
        "    learning_rate=1e-4,\n",
        "    warmup_ratio=0.1,\n",
        "    max_grad_norm=0.3,\n",
        "    weight_decay=0.05,\n",
        "    num_train_epochs=1,\n",
        "    logging_steps=20,\n",
        "    eval_strategy=\"no\",\n",
        "    save_strategy=\"steps\",\n",
        "    save_steps=50,\n",
        "    save_total_limit=2,\n",
        "    max_seq_length=seq_length,\n",
        "    report_to=\"wandb\",\n",
        "    # report_to=\"none\",\n",
        "    run_name=\"nlp-homework\",\n",
        "\n",
        ")"
      ]
    },
    {
      "cell_type": "code",
      "execution_count": 28,
      "id": "129069b9-d1f6-4a75-a304-b92484a1c751",
      "metadata": {
        "id": "129069b9-d1f6-4a75-a304-b92484a1c751"
      },
      "outputs": [],
      "source": [
        "trainer = SFTTrainer(\n",
        "    model=base_model,\n",
        "    train_dataset=train_ds,\n",
        "    eval_dataset=val_ds,\n",
        "    peft_config=peft_config,\n",
        "    tokenizer=tokenizer,\n",
        "    args=sft_config\n",
        ")"
      ]
    },
    {
      "cell_type": "code",
      "execution_count": 29,
      "id": "1e25629b-a831-4266-bf4a-8ea7d94a2403",
      "metadata": {
        "colab": {
          "base_uri": "https://localhost:8080/",
          "height": 1000
        },
        "id": "1e25629b-a831-4266-bf4a-8ea7d94a2403",
        "outputId": "febc5632-cdcd-4369-c92f-29a1697f2f9f"
      },
      "outputs": [
        {
          "name": "stderr",
          "output_type": "stream",
          "text": [
            "/usr/local/lib/python3.10/dist-packages/trl/trainer/utils.py:648: UserWarning: The dataset reached end and the iterator is reset to the start.\n",
            "  warnings.warn(\"The dataset reached end and the iterator is reset to the start.\")\n"
          ]
        },
        {
          "data": {
            "text/html": [
              "\n",
              "    <div>\n",
              "      \n",
              "      <progress value='1400' max='1400' style='width:300px; height:20px; vertical-align: middle;'></progress>\n",
              "      [1400/1400 39:45, Epoch 1/1]\n",
              "    </div>\n",
              "    <table border=\"1\" class=\"dataframe\">\n",
              "  <thead>\n",
              " <tr style=\"text-align: left;\">\n",
              "      <th>Step</th>\n",
              "      <th>Training Loss</th>\n",
              "    </tr>\n",
              "  </thead>\n",
              "  <tbody>\n",
              "    <tr>\n",
              "      <td>20</td>\n",
              "      <td>2.704600</td>\n",
              "    </tr>\n",
              "    <tr>\n",
              "      <td>40</td>\n",
              "      <td>2.308000</td>\n",
              "    </tr>\n",
              "    <tr>\n",
              "      <td>60</td>\n",
              "      <td>1.827000</td>\n",
              "    </tr>\n",
              "    <tr>\n",
              "      <td>80</td>\n",
              "      <td>1.284900</td>\n",
              "    </tr>\n",
              "    <tr>\n",
              "      <td>100</td>\n",
              "      <td>1.080100</td>\n",
              "    </tr>\n",
              "    <tr>\n",
              "      <td>120</td>\n",
              "      <td>0.935900</td>\n",
              "    </tr>\n",
              "    <tr>\n",
              "      <td>140</td>\n",
              "      <td>0.876500</td>\n",
              "    </tr>\n",
              "    <tr>\n",
              "      <td>160</td>\n",
              "      <td>0.847500</td>\n",
              "    </tr>\n",
              "    <tr>\n",
              "      <td>180</td>\n",
              "      <td>0.773300</td>\n",
              "    </tr>\n",
              "    <tr>\n",
              "      <td>200</td>\n",
              "      <td>0.712900</td>\n",
              "    </tr>\n",
              "    <tr>\n",
              "      <td>220</td>\n",
              "      <td>0.630100</td>\n",
              "    </tr>\n",
              "    <tr>\n",
              "      <td>240</td>\n",
              "      <td>0.654200</td>\n",
              "    </tr>\n",
              "    <tr>\n",
              "      <td>260</td>\n",
              "      <td>0.625700</td>\n",
              "    </tr>\n",
              "    <tr>\n",
              "      <td>280</td>\n",
              "      <td>0.643400</td>\n",
              "    </tr>\n",
              "    <tr>\n",
              "      <td>300</td>\n",
              "      <td>0.616700</td>\n",
              "    </tr>\n",
              "    <tr>\n",
              "      <td>320</td>\n",
              "      <td>0.612000</td>\n",
              "    </tr>\n",
              "    <tr>\n",
              "      <td>340</td>\n",
              "      <td>0.590800</td>\n",
              "    </tr>\n",
              "    <tr>\n",
              "      <td>360</td>\n",
              "      <td>0.598900</td>\n",
              "    </tr>\n",
              "    <tr>\n",
              "      <td>380</td>\n",
              "      <td>0.632000</td>\n",
              "    </tr>\n",
              "    <tr>\n",
              "      <td>400</td>\n",
              "      <td>0.618400</td>\n",
              "    </tr>\n",
              "    <tr>\n",
              "      <td>420</td>\n",
              "      <td>0.611600</td>\n",
              "    </tr>\n",
              "    <tr>\n",
              "      <td>440</td>\n",
              "      <td>0.622500</td>\n",
              "    </tr>\n",
              "    <tr>\n",
              "      <td>460</td>\n",
              "      <td>0.593800</td>\n",
              "    </tr>\n",
              "    <tr>\n",
              "      <td>480</td>\n",
              "      <td>0.586300</td>\n",
              "    </tr>\n",
              "    <tr>\n",
              "      <td>500</td>\n",
              "      <td>0.581900</td>\n",
              "    </tr>\n",
              "    <tr>\n",
              "      <td>520</td>\n",
              "      <td>0.563200</td>\n",
              "    </tr>\n",
              "    <tr>\n",
              "      <td>540</td>\n",
              "      <td>0.522500</td>\n",
              "    </tr>\n",
              "    <tr>\n",
              "      <td>560</td>\n",
              "      <td>0.547800</td>\n",
              "    </tr>\n",
              "    <tr>\n",
              "      <td>580</td>\n",
              "      <td>0.530600</td>\n",
              "    </tr>\n",
              "    <tr>\n",
              "      <td>600</td>\n",
              "      <td>0.545100</td>\n",
              "    </tr>\n",
              "    <tr>\n",
              "      <td>620</td>\n",
              "      <td>0.537100</td>\n",
              "    </tr>\n",
              "    <tr>\n",
              "      <td>640</td>\n",
              "      <td>0.532900</td>\n",
              "    </tr>\n",
              "    <tr>\n",
              "      <td>660</td>\n",
              "      <td>0.518100</td>\n",
              "    </tr>\n",
              "    <tr>\n",
              "      <td>680</td>\n",
              "      <td>0.509500</td>\n",
              "    </tr>\n",
              "    <tr>\n",
              "      <td>700</td>\n",
              "      <td>0.522800</td>\n",
              "    </tr>\n",
              "    <tr>\n",
              "      <td>720</td>\n",
              "      <td>0.567600</td>\n",
              "    </tr>\n",
              "    <tr>\n",
              "      <td>740</td>\n",
              "      <td>0.536000</td>\n",
              "    </tr>\n",
              "    <tr>\n",
              "      <td>760</td>\n",
              "      <td>0.541500</td>\n",
              "    </tr>\n",
              "    <tr>\n",
              "      <td>780</td>\n",
              "      <td>0.508200</td>\n",
              "    </tr>\n",
              "    <tr>\n",
              "      <td>800</td>\n",
              "      <td>0.528200</td>\n",
              "    </tr>\n",
              "    <tr>\n",
              "      <td>820</td>\n",
              "      <td>0.535400</td>\n",
              "    </tr>\n",
              "    <tr>\n",
              "      <td>840</td>\n",
              "      <td>0.541500</td>\n",
              "    </tr>\n",
              "    <tr>\n",
              "      <td>860</td>\n",
              "      <td>0.521600</td>\n",
              "    </tr>\n",
              "    <tr>\n",
              "      <td>880</td>\n",
              "      <td>0.517100</td>\n",
              "    </tr>\n",
              "    <tr>\n",
              "      <td>900</td>\n",
              "      <td>0.520200</td>\n",
              "    </tr>\n",
              "    <tr>\n",
              "      <td>920</td>\n",
              "      <td>0.524100</td>\n",
              "    </tr>\n",
              "    <tr>\n",
              "      <td>940</td>\n",
              "      <td>0.484800</td>\n",
              "    </tr>\n",
              "    <tr>\n",
              "      <td>960</td>\n",
              "      <td>0.524200</td>\n",
              "    </tr>\n",
              "    <tr>\n",
              "      <td>980</td>\n",
              "      <td>0.517900</td>\n",
              "    </tr>\n",
              "    <tr>\n",
              "      <td>1000</td>\n",
              "      <td>0.500900</td>\n",
              "    </tr>\n",
              "    <tr>\n",
              "      <td>1020</td>\n",
              "      <td>0.498800</td>\n",
              "    </tr>\n",
              "    <tr>\n",
              "      <td>1040</td>\n",
              "      <td>0.500800</td>\n",
              "    </tr>\n",
              "    <tr>\n",
              "      <td>1060</td>\n",
              "      <td>0.479200</td>\n",
              "    </tr>\n",
              "    <tr>\n",
              "      <td>1080</td>\n",
              "      <td>0.496200</td>\n",
              "    </tr>\n",
              "    <tr>\n",
              "      <td>1100</td>\n",
              "      <td>0.496400</td>\n",
              "    </tr>\n",
              "    <tr>\n",
              "      <td>1120</td>\n",
              "      <td>0.513300</td>\n",
              "    </tr>\n",
              "    <tr>\n",
              "      <td>1140</td>\n",
              "      <td>0.468700</td>\n",
              "    </tr>\n",
              "    <tr>\n",
              "      <td>1160</td>\n",
              "      <td>0.487000</td>\n",
              "    </tr>\n",
              "    <tr>\n",
              "      <td>1180</td>\n",
              "      <td>0.484500</td>\n",
              "    </tr>\n",
              "    <tr>\n",
              "      <td>1200</td>\n",
              "      <td>0.481000</td>\n",
              "    </tr>\n",
              "    <tr>\n",
              "      <td>1220</td>\n",
              "      <td>0.500000</td>\n",
              "    </tr>\n",
              "    <tr>\n",
              "      <td>1240</td>\n",
              "      <td>0.487300</td>\n",
              "    </tr>\n",
              "    <tr>\n",
              "      <td>1260</td>\n",
              "      <td>0.474300</td>\n",
              "    </tr>\n",
              "    <tr>\n",
              "      <td>1280</td>\n",
              "      <td>0.475800</td>\n",
              "    </tr>\n",
              "    <tr>\n",
              "      <td>1300</td>\n",
              "      <td>0.467000</td>\n",
              "    </tr>\n",
              "    <tr>\n",
              "      <td>1320</td>\n",
              "      <td>0.471000</td>\n",
              "    </tr>\n",
              "    <tr>\n",
              "      <td>1340</td>\n",
              "      <td>0.471200</td>\n",
              "    </tr>\n",
              "    <tr>\n",
              "      <td>1360</td>\n",
              "      <td>0.482600</td>\n",
              "    </tr>\n",
              "    <tr>\n",
              "      <td>1380</td>\n",
              "      <td>0.487300</td>\n",
              "    </tr>\n",
              "    <tr>\n",
              "      <td>1400</td>\n",
              "      <td>0.462000</td>\n",
              "    </tr>\n",
              "  </tbody>\n",
              "</table><p>"
            ],
            "text/plain": [
              "<IPython.core.display.HTML object>"
            ]
          },
          "metadata": {},
          "output_type": "display_data"
        },
        {
          "name": "stderr",
          "output_type": "stream",
          "text": [
            "/usr/local/lib/python3.10/dist-packages/trl/trainer/utils.py:648: UserWarning: The dataset reached end and the iterator is reset to the start.\n",
            "  warnings.warn(\"The dataset reached end and the iterator is reset to the start.\")\n",
            "/usr/local/lib/python3.10/dist-packages/trl/trainer/utils.py:648: UserWarning: The dataset reached end and the iterator is reset to the start.\n",
            "  warnings.warn(\"The dataset reached end and the iterator is reset to the start.\")\n"
          ]
        },
        {
          "data": {
            "text/plain": [
              "TrainOutput(global_step=1400, training_loss=0.649314375604902, metrics={'train_runtime': 2388.7175, 'train_samples_per_second': 1.172, 'train_steps_per_second': 0.586, 'total_flos': 8419093040332800.0, 'train_loss': 0.649314375604902, 'epoch': 1.0})"
            ]
          },
          "execution_count": 29,
          "metadata": {},
          "output_type": "execute_result"
        }
      ],
      "source": [
        "trainer.train()"
      ]
    },
    {
      "cell_type": "markdown",
      "id": "hbPExb0dXk1j",
      "metadata": {
        "id": "hbPExb0dXk1j"
      },
      "source": [
        "## Q3. hugging face에 파인튜닝한 LoRa 어댑터 업로드\n",
        "- push_to_hub로 업로드 되도록 설정\n",
        "- 모델 ID : yenqkr/nlp-homework"
      ]
    },
    {
      "cell_type": "code",
      "execution_count": 30,
      "id": "Cq5DNJ7aTZ2t",
      "metadata": {
        "colab": {
          "base_uri": "https://localhost:8080/",
          "height": 216,
          "referenced_widgets": [
            "a6206491c1914eca8f50652f2802b871",
            "e92698e4f29349a7a986c4b09b720597",
            "88e52707a3aa4740a311280bf593bbdc",
            "c65c16802f27402382d1f96d5d30ab70",
            "2b226c87418c4fb7952186b16101bfa4",
            "c746564f4b5c469da4d3338add3eb33f",
            "d7505b941d0644b1be6cdcd5ef7d2a28",
            "2dfd5a82506542ccb0ca3a316de39042",
            "e24cbb6745914e6580887e2b904ff7dd",
            "c8f292327879494391e4c1937bfafbd4",
            "a16de46bfb9c4445a1e5809ef1c93335",
            "27b5811a4f284616977aa8d981ab5428",
            "9b490c87acab4e979b2a1f58cfb36887",
            "caa1c322b6a94dc89d5b388aca3a8fc7",
            "41ce8aca83234903aa148523ed01a7ab",
            "efdfe68e7ce94cb9bf0447faf2b4f34c",
            "8f16266ad8cf448e91a84284fb299146",
            "648022be2f214d5fb54db5589fd197dd",
            "b2f99a5effe54686bb594a589a615b4d",
            "2315e06a9ffd4bb986dbfdce7b72d0ac",
            "a363e235f3964823a65822718f5b3cb8",
            "5f06529df403459eac31c28e38b914ab",
            "3cd210cd1c044806a4d595491045bf79",
            "173da04f65fb4cb8bd04fedde44ae85c",
            "f977d2d088954bfa99395025e00bb276",
            "0512342bd8c646cc812773ecfc24175a",
            "4ad04bb8a26e4cc1bb37b9af2cf6c951",
            "a8fc0291476446a8bb7364ac61d0327b",
            "4b2c70771bd94f929aeaac1bd9330612",
            "78462038c43c40b28d6eac4dc9056a1f",
            "62f8c8bb54af4780b0fd152cd2f9f920",
            "ecd59dac9a9645458c518b3660cef52a",
            "21bbf628db3f4717b83373ae774e26c2",
            "41cf6e5726d1499bb8810fd5c36ed8df",
            "7ef90725fd46483a9735add63323cf36",
            "0762f8f161ca4f1c8a2f4fd5d8c8b066",
            "4d507cfd120a41ce85a124926ca2ed34",
            "72f2a856cf9b4adab755ba5cdecc1ae7",
            "48a3b2f74a134f21973cf88011296fe3",
            "120bb09635b541e6a459faf3d8c5fd27",
            "64fb52caab9a4c3abc262cd5563ca2d7",
            "39ea4a25880d4dedb9096f1f0f8869da",
            "b3f885429769449687ea6c466bc7404d",
            "3e427dfa340f421091aaac917491f1f8"
          ]
        },
        "id": "Cq5DNJ7aTZ2t",
        "outputId": "5dea23ce-86bd-4cad-9852-59c1e9e4bbd3"
      },
      "outputs": [
        {
          "data": {
            "application/vnd.jupyter.widget-view+json": {
              "model_id": "a6206491c1914eca8f50652f2802b871",
              "version_major": 2,
              "version_minor": 0
            },
            "text/plain": [
              "tokenizer.json:   0%|          | 0.00/17.2M [00:00<?, ?B/s]"
            ]
          },
          "metadata": {},
          "output_type": "display_data"
        },
        {
          "data": {
            "application/vnd.jupyter.widget-view+json": {
              "model_id": "27b5811a4f284616977aa8d981ab5428",
              "version_major": 2,
              "version_minor": 0
            },
            "text/plain": [
              "adapter_model.safetensors:   0%|          | 0.00/22.6M [00:00<?, ?B/s]"
            ]
          },
          "metadata": {},
          "output_type": "display_data"
        },
        {
          "data": {
            "application/vnd.jupyter.widget-view+json": {
              "model_id": "3cd210cd1c044806a4d595491045bf79",
              "version_major": 2,
              "version_minor": 0
            },
            "text/plain": [
              "Upload 3 LFS files:   0%|          | 0/3 [00:00<?, ?it/s]"
            ]
          },
          "metadata": {},
          "output_type": "display_data"
        },
        {
          "data": {
            "application/vnd.jupyter.widget-view+json": {
              "model_id": "41cf6e5726d1499bb8810fd5c36ed8df",
              "version_major": 2,
              "version_minor": 0
            },
            "text/plain": [
              "training_args.bin:   0%|          | 0.00/5.56k [00:00<?, ?B/s]"
            ]
          },
          "metadata": {},
          "output_type": "display_data"
        },
        {
          "data": {
            "application/vnd.google.colaboratory.intrinsic+json": {
              "type": "string"
            },
            "text/plain": [
              "CommitInfo(commit_url='https://huggingface.co/yenqkr/nlp-homework/commit/265b4ff20f1ec17305a5bf61ace768055d6c63f2', commit_message='nlp-homework', commit_description='', oid='265b4ff20f1ec17305a5bf61ace768055d6c63f2', pr_url=None, repo_url=RepoUrl('https://huggingface.co/yenqkr/nlp-homework', endpoint='https://huggingface.co', repo_type='model', repo_id='yenqkr/nlp-homework'), pr_revision=None, pr_num=None)"
            ]
          },
          "execution_count": 30,
          "metadata": {},
          "output_type": "execute_result"
        }
      ],
      "source": [
        "# 모델을 Hugging Face에 업로드\n",
        "trainer.push_to_hub(\"nlp-homework\")"
      ]
    },
    {
      "cell_type": "markdown",
      "id": "e1MK1m22Wj1l",
      "metadata": {
        "id": "e1MK1m22Wj1l"
      },
      "source": [
        "# Validation"
      ]
    },
    {
      "cell_type": "markdown",
      "id": "zb9feUHCWoJ7",
      "metadata": {
        "id": "zb9feUHCWoJ7"
      },
      "source": [
        "## Q4. 허깅페이스에 올린 어댑터 모델 불러오기\n",
        "- model_id = \"yenqkr/nlp-homework\""
      ]
    },
    {
      "cell_type": "code",
      "execution_count": 31,
      "id": "cFrkeF8IeMdh",
      "metadata": {
        "colab": {
          "base_uri": "https://localhost:8080/",
          "height": 177,
          "referenced_widgets": [
            "2e0ea504d9384753a5868a8d8eb089c7",
            "df65025cf0094ba79d8e71e324a92420",
            "feb7999ceb774a49b904a7f1c8fcf643",
            "496c81034d904d9293cc821016698374",
            "ef439b6b2669422e8033d2314f8bda91",
            "bb046630b49d4a90bc592b9fabff6736",
            "f6bd1d8074ba4df28f0fd35f5720f634",
            "dab6fdf313af44ba8fae417b44d589c1",
            "c79160e8cc084b70be10021484f6bd54",
            "749b9c3c7bb34d3b8a2e239594a1267b",
            "002ae991c3e74faba584b6aac80bff81",
            "e6210928e2084eb69083dfc3155b320d",
            "aff0ea85c44741608ebc55ec2f126aea",
            "5241d89a4c0d49ef8fbfdb9d4220ab00",
            "aa68d6aca7c241a3ab13d3e92333ec6c",
            "ea2183d811cb436a8993c18dd1434d1f",
            "a1b76f79eac1463e9cab7beedeed7fe2",
            "22a2bd3b72e94cdd88632198a2c8da75",
            "90b3fb81a92549ff99c30f662aa82d77",
            "1e0d9c420388498b8f803a027207290f",
            "9df058bafb1d42bc9d0731be171999b4",
            "8ef45f2a6bb14e67b68faf37843c61de",
            "4f4efc2ea73a4256a8639e41f9f35b64",
            "f13c6eaaf22d4027bade59de32cd8e63",
            "91bb582cbd0049d589aa4530418678ca",
            "3eecc5bdc82c48c9b85d2de401c012df",
            "5d591827fa284390878e524188897f6f",
            "db8f42675d4f41f08b927997330e98a5",
            "343e7d4defd4471da4172e2dcf8b6c2f",
            "cbde15630b9a4bd690e9f48a54da780a",
            "23fda1f56d4a456da09d3db23fa289db",
            "891839598054467ca6d3f56ecce4d976",
            "bcbf6362004747b79f663b2cd6cdc7a5",
            "ab6c986922774b739678d2f15806baa7",
            "190ae00812244db988b3e3778fa943a6",
            "dd23367d5d0a48c2a6c94147c313c961",
            "7c03238e95f8418ba793b77bca25460d",
            "8df0e0b444bb4552b9a36e8b96c87f58",
            "42e61f592e074674a06703609ea53ae0",
            "b5ced2c30c184d648ba134b8f14c2b5f",
            "d2716cf750454f039d479e23b364240a",
            "b23f39c2071c436480c686a8f6df67e9",
            "5737cc8fcd3546269235e2a039b3d1a2",
            "a4d753b2741f40c79f6a0324180bbf1d",
            "5dc88e07ff4547ddbf96d88851bbfc85",
            "35687360905f44b1bad4a74ed245b650",
            "e387675d3ff44bcd8677ee1308c35b1b",
            "043544c7a8bc4359ad61c117c4023d91",
            "a58a616ee132479d9faedec83aa6ecb9",
            "7a456704092e4b0c877422329982cc05",
            "253ef944c55f47868b4f821620d24b13",
            "bde82b38c79d4b67b3ee352d7f7b73e3",
            "070fb31851bd4f79b1974121c979ce86",
            "580aa2b608244de083d760da5ff7d48c",
            "62a703c1c72d4acf974235d9479fd913"
          ]
        },
        "id": "cFrkeF8IeMdh",
        "outputId": "b7fcfa34-b6f6-416f-cac9-d8ad4d7fa111"
      },
      "outputs": [
        {
          "data": {
            "application/vnd.jupyter.widget-view+json": {
              "model_id": "2e0ea504d9384753a5868a8d8eb089c7",
              "version_major": 2,
              "version_minor": 0
            },
            "text/plain": [
              "adapter_config.json:   0%|          | 0.00/734 [00:00<?, ?B/s]"
            ]
          },
          "metadata": {},
          "output_type": "display_data"
        },
        {
          "data": {
            "application/vnd.jupyter.widget-view+json": {
              "model_id": "e6210928e2084eb69083dfc3155b320d",
              "version_major": 2,
              "version_minor": 0
            },
            "text/plain": [
              "tokenizer_config.json:   0%|          | 0.00/54.6k [00:00<?, ?B/s]"
            ]
          },
          "metadata": {},
          "output_type": "display_data"
        },
        {
          "data": {
            "application/vnd.jupyter.widget-view+json": {
              "model_id": "4f4efc2ea73a4256a8639e41f9f35b64",
              "version_major": 2,
              "version_minor": 0
            },
            "text/plain": [
              "tokenizer.json:   0%|          | 0.00/17.2M [00:00<?, ?B/s]"
            ]
          },
          "metadata": {},
          "output_type": "display_data"
        },
        {
          "data": {
            "application/vnd.jupyter.widget-view+json": {
              "model_id": "ab6c986922774b739678d2f15806baa7",
              "version_major": 2,
              "version_minor": 0
            },
            "text/plain": [
              "special_tokens_map.json:   0%|          | 0.00/325 [00:00<?, ?B/s]"
            ]
          },
          "metadata": {},
          "output_type": "display_data"
        },
        {
          "data": {
            "application/vnd.jupyter.widget-view+json": {
              "model_id": "5dc88e07ff4547ddbf96d88851bbfc85",
              "version_major": 2,
              "version_minor": 0
            },
            "text/plain": [
              "adapter_model.safetensors:   0%|          | 0.00/22.6M [00:00<?, ?B/s]"
            ]
          },
          "metadata": {},
          "output_type": "display_data"
        }
      ],
      "source": [
        "from transformers import AutoModelForCausalLM, AutoTokenizer\n",
        "\n",
        "# Hugging Face Hub에 업로드한 모델 ID\n",
        "model_id = \"yenqkr/nlp-homework\"  # 업로드한 모델의 ID\n",
        "\n",
        "model = (\n",
        "    AutoPeftModelForCausalLM.from_pretrained(\n",
        "        model_id,\n",
        "        quantization_config=bnb_config,\n",
        "        device_map=\"auto\",\n",
        "        # device='cuda',\n",
        "        trust_remote_code=True,\n",
        "    )\n",
        ")\n",
        "tokenizer = AutoTokenizer.from_pretrained(model_id)"
      ]
    },
    {
      "cell_type": "markdown",
      "id": "005fb2f7-ac7b-43d5-b5dc-2299847479a8",
      "metadata": {
        "id": "005fb2f7-ac7b-43d5-b5dc-2299847479a8"
      },
      "source": [
        "# Evaluation"
      ]
    },
    {
      "cell_type": "markdown",
      "id": "4aacc509-e38f-4094-aa63-1499844a9b46",
      "metadata": {
        "id": "4aacc509-e38f-4094-aa63-1499844a9b46"
      },
      "source": [
        "## Utilities for Evaluation"
      ]
    },
    {
      "cell_type": "code",
      "execution_count": 32,
      "id": "94f94ccf-5e9a-4dc8-87fb-383f138789a8",
      "metadata": {
        "id": "94f94ccf-5e9a-4dc8-87fb-383f138789a8"
      },
      "outputs": [],
      "source": [
        "def wrapper_generate(tokenizer, model, input_prompt, do_stream=False):\n",
        "    def get_text_after_prompt(text):\n",
        "        pattern = r'<start_of_turn>model\\n(.*?)<end_of_turn>'\n",
        "        match = re.search(pattern, text, re.DOTALL)\n",
        "\n",
        "        if match:\n",
        "            extracted_text = match.group(1).strip()\n",
        "            return extracted_text\n",
        "        else:\n",
        "            return text\n",
        "\n",
        "\n",
        "    data = tokenizer(input_prompt, return_tensors=\"pt\")\n",
        "    streamer = TextStreamer(tokenizer, skip_prompt=True, skip_special_tokens=True)\n",
        "    input_ids = data.input_ids[..., :-1]\n",
        "    with torch.no_grad():\n",
        "        pred = model.generate(\n",
        "            input_ids=input_ids.cuda(),\n",
        "            streamer=streamer if do_stream else None,\n",
        "            use_cache=True,\n",
        "            max_new_tokens=128, #float(\"inf\"),\n",
        "            do_sample=False,\n",
        "            pad_token_id=tokenizer.pad_token_id,\n",
        "            eos_token_id=tokenizer.eos_token_id,\n",
        "        )\n",
        "    decoded_text = tokenizer.batch_decode(pred, skip_special_tokens=False)\n",
        "    generated_text = decoded_text[0]\n",
        "\n",
        "    # \"<|eot_id|>\"와 같은 불필요한 태그 제거\n",
        "    cleaned_text = re.sub(r'<\\|.*?\\|>', '', generated_text).strip()\n",
        "\n",
        "    # 분석 결과만 추출\n",
        "    return extract_analysis_results(cleaned_text)"
      ]
    },
    {
      "cell_type": "code",
      "execution_count": 33,
      "id": "dsGOibn2mMim",
      "metadata": {
        "id": "dsGOibn2mMim"
      },
      "outputs": [],
      "source": [
        "def extract_analysis_results(text):\n",
        "    # 정규식을 사용하여 \"분석 결과\" 부분만 추출\n",
        "    pattern = r'- 분석 결과 \\d+: .*'\n",
        "    matches = re.findall(pattern, text)\n",
        "    if matches:\n",
        "        return '\\n'.join(matches)  # 매칭된 결과를 줄바꿈으로 연결\n",
        "    else:\n",
        "        return \"분석 결과가 없습니다.\"\n"
      ]
    },
    {
      "cell_type": "markdown",
      "id": "Nm44Knf3_c2O",
      "metadata": {
        "id": "Nm44Knf3_c2O"
      },
      "source": [
        "## Release GPU memory"
      ]
    },
    {
      "cell_type": "code",
      "execution_count": null,
      "id": "uc6kd_3w-2Mj",
      "metadata": {
        "id": "uc6kd_3w-2Mj"
      },
      "outputs": [],
      "source": [
        "import gc\n",
        "del trainer\n",
        "del base_model\n",
        "gc.collect()\n",
        "torch.cuda.empty_cache()"
      ]
    },
    {
      "cell_type": "markdown",
      "id": "up9BB2Ym8xFJ",
      "metadata": {
        "id": "up9BB2Ym8xFJ"
      },
      "source": [
        "If you want other checkpoints, modify suffix."
      ]
    },
    {
      "cell_type": "markdown",
      "id": "3ec991b9-b69c-4680-a80f-e42865ec0dd5",
      "metadata": {
        "id": "3ec991b9-b69c-4680-a80f-e42865ec0dd5"
      },
      "source": [
        "## Test"
      ]
    },
    {
      "cell_type": "code",
      "execution_count": 34,
      "id": "d64be61b-bdc8-4bc7-9af2-68bfd47284cb",
      "metadata": {
        "id": "d64be61b-bdc8-4bc7-9af2-68bfd47284cb"
      },
      "outputs": [],
      "source": [
        "preprocessor = function_prepare_sample_text(tokenizer, for_train=False)"
      ]
    },
    {
      "cell_type": "code",
      "execution_count": 35,
      "id": "b5UlP946es0Z",
      "metadata": {
        "colab": {
          "base_uri": "https://localhost:8080/"
        },
        "id": "b5UlP946es0Z",
        "outputId": "f964dfec-a4cf-4f86-92af-139489eae797"
      },
      "outputs": [
        {
          "data": {
            "text/plain": [
              "['꽃살버섯샐러드 한그릇과 스테이크올리오스파게티 세트를 주세요.',\n",
              " '교촌통통치킨카츠 한 판, 행복지수커피 한잔, 그리고 헤즐넛 핫 하나도 주세요.',\n",
              " '에스프레소도피오(핫) 한잔과 진하게 허니티 한 잔 주세요.',\n",
              " '밀크티 두 캔에, 도토리묵밥 한 그릇이랑 동치미 한병 주세요.',\n",
              " '열무국수 한 그릇 곱배기로 주시고, 칼국수도 한 뚝배기요.',\n",
              " '식당에서 제일 잘나가는 \"민족치킨\" 하나 주세요, 그리고 토란줄기 감자탕도 하나 추가요.',\n",
              " '오늘 저녁은 참치모듬 하나랑 제육두루치기 둘 주세요.',\n",
              " '구슬바닐라카페스무디 ICE 한잔이랑 준과랑치즈케익 하나 주세요.',\n",
              " '라디오더치라떼 ICE 한잔하고요, 볼케이노피자 R 사이즈 한판 주세요.',\n",
              " '물회 특 한그릇 대로 해주시고, 웨이퍼롤 바닐라 세트로 주세요.',\n",
              " '다크쇼콜라 L 사이즈 한잔 해주시고, 짜파게티 한개 주세요.',\n",
              " '코다리찜 중 사이즈 주시고, 클라우드라떼 S 사이즈 한잔 주세요.',\n",
              " '제주두루치기 2인분 주시고, B set 800g으로 주세요.',\n",
              " '오울블루 한그릇 주시고, 라면에 계란 추가해서 주세요.',\n",
              " '돈가스덮밥 등심 한그릇 주시고, 심심풀이새우깡 하나 주세요.',\n",
              " '금준미홍차 한잔하고, 까망베르치즈구이 하나 주시고, 젤라또 초코 한개 주세요.',\n",
              " '불목살 중자 200g와 꼬치어묵 세 개, 흑당버블밀크티 아이스 레귤러 사이즈 두 잔 주세요.',\n",
              " '오늘은 호두아몬드파티 24cm 한 판, 블루베리스무디 XL사이즈 두 잔으로 할게요.',\n",
              " '모두가 좋아하는 돈돈탕 중자 한 그릇, 옥수수 한 개 주세요.',\n",
              " '카라멜프라페 그란데 사이즈 한 잔, 닭불고기백반 1개 주세요.',\n",
              " '징기스칸 양고기 220g하고 사리 당면 한 개 주시고, 아이스 말차라떼 이잔 주세요.',\n",
              " '보쌈 세트 한 판, 리얼 고구마라떼 라지 사이즈로 한 잔 주세요.',\n",
              " '치즈크레커 두 판, 레몬에이드 ICE 레귤러 한 잔 주세요.',\n",
              " '오도독살 180g, 빵 추가 한개 주세요.',\n",
              " '한방 대나무 통삼계탕 두인분, 한우익힘 비빔밥 점심 메뉴 한 개 주세요.',\n",
              " '코다리등갈비찜 소 자로 주시고, 칡찐빵6개 주세요.',\n",
              " '오늘은 일욜이네, 송어통매운탕 하나랑 무침을 추가로 주시겠어요?',\n",
              " '콩국수 두 그릇과 미니계란탕 한 개 부탁드려요.',\n",
              " '제주흑돼지두루치기 2인분 주세요. 그리고 카라멜카페모카 아이스로 할게요.',\n",
              " '몬테스클래식멜롯 한병과 칡냉면 한그릇 주세요',\n",
              " '참치마요주먹밥 2개랑  카페모카 아이스로 1잔 주세요.',\n",
              " '주말이니까 한번 신나게 먹어볼까? 배터지게 음식을 주문해봅니다, 약초삼계탕 곱배기, 포도 1개, 그리고 키위쥬스대해 한 잔까지 맘껏 즐겨볼까요.',\n",
              " '그냥라면 1개랑 갈비닭 한 개 주세요.',\n",
              " '찬바람이 불어오니까 그냥라면 하나랑 핫코코아 한 잔 주세요.',\n",
              " '두루치기 1인분하고요, 병맥주 중자 주세요. 그리고 날다닭마늘치킨 반도 한 번 해주세요.',\n",
              " '홍대피자 한 판 하고 바닐라 라떼 스몰 한잔 주세요. 그리고 해물파전도 추가로 주세요.',\n",
              " '빡도니삼겹살 한판이랑 공기밥 2개 주세요.',\n",
              " '우롱밀크티 J 사이즈로 하나 요청드려요.',\n",
              " '모둠어묵 두그릇 주시고 또, 음료 콜라 355ml 한캔 주세요.',\n",
              " '보쌈 고기추가로 주세요. 그리고 사리 라면 한그릇 주세요.',\n",
              " '시골쌈밥정식에 삼겹살 더 추가해주시고, 한치땅콩도 하나 주세요.',\n",
              " '아포카토 Iced로 2잔 주세요.',\n",
              " '모듬 4인분 750g으로 주시고, 별미오뎅 추가 4개도 주세요.',\n",
              " '트레디셔널 M 사이즈로 하나 주세요. 그리고 수제청귤 ICE 옵션 한잔도 요청드립니다.',\n",
              " '베이컨 포테이토 L 사이즈 한개랑, 카페모카 hot/L 두잔 주세요.',\n",
              " '패밀리 세트 하나랑 새우깡 두개 더 추가해 주세요.',\n",
              " '순살한 마리 칠리로 변경하고요. 찜햇닭강정 싱글 한 개 주세요.',\n",
              " '찜 비취교자 5개에요. 두부조림 2인분 주세요.',\n",
              " '오늘은 제육삼구비빔밥 하나랑 떡볶이 한 그릇 주세요.',\n",
              " '포슬포슬한 뼈삼겹살과 막창구이 곱배기 주세요.',\n",
              " '오늘은 비빔밥과 떡볶이를 먹고 싶어요. 그러니까, 둘 다 한 그릇씩 주세요.',\n",
              " '제육볶음 곱배기 하나와 김치찌개 한 그릇 주세요.',\n",
              " '순살후라이드 두 개랑 라지 사이즈 코카콜라 주세요.',\n",
              " '치킨 가라아게 한 판과 김치볶음밥 한 그릇 주세요.',\n",
              " '소고기 덮밥 한 그릇이랑 미니 사이즈 라면 추가해 주세요.',\n",
              " '홍합탕과 타릭피자를 주문할게요. 그리고 사이다 두 캔 주세요.',\n",
              " '\"시레기 오리백숙 한 개 주문하고 카페라떼 톨 사이즈로 둘 주세요.\"',\n",
              " '\"기린가족해피피크닉 15cm 한 판과 다음으로는 마늘족발 세트 XL 하나입니다.\"',\n",
              " '\"모카요프치노 한잔 고고. 추가로 참게탕에 라면사리 넣어주세요\"',\n",
              " '\"고기듬뿍김치찌개 한그릇입니다. 올라는 그냥 볼록만 주세요.\"',\n",
              " '\"알탕은 한인분하고요. 좀 맵게 해주세요. 그리고 수비드삼겹살수육 대자 한 판 주세요.\"',\n",
              " '\"땡초불꽃치킨 한마리랑 슈크림라떼 reg 사이즈 두 잔 주문하겠습니다.\"',\n",
              " '\"우리동네국수 1그릇, 우리밀국수 2그릇 주세요. 그리고 라면 떡추가로 주실 수 있나요?\"',\n",
              " '\"당근케익 한 개랑 볼로네제 두 개 주세요.\"',\n",
              " '\"페퍼로니피자 M 사이즈 두개와 오자몽블랙티 HOT 한잔 주세요.\"',\n",
              " '\"조니워커하이볼세트 200ml 주세요. 수입대게 하나도 추가해주세요.\"',\n",
              " '망고요거트 아이스 한잔 부탁드려요. 그리고 수닭세트 2인분 주세요.',\n",
              " '아이스티 레귤러 한 잔과 어린이음료 하나 주세요.',\n",
              " '참다랑어 200g 두판 주세요.',\n",
              " '딸기쉐이크 한 잔, 바닐라아이스크림 아이스 한 개 주세요.',\n",
              " '망고스무디 XL 사이즈 두 잔 주세요.',\n",
              " '참다랑어초밥 12P 세트 한 개, 잼잼주먹밥 한 그릇 주세요.',\n",
              " '한우스페셜 1인분 주문할게요. 그리고 수제차 메리골드 하나 주세요.',\n",
              " '누룽지오리백숙 두 그릇 주세요.',\n",
              " '그릴비프치즈랩 한 판, 치즈슈프림윙봉치킨 한 그릇 주세요.',\n",
              " '오리훈제영양돌솥밥 한 그릇, 찰밥 추가로 주세요.',\n",
              " '오늘은 칼칼하게 한우얼큰육개장 곱배기로 하나 주시고, 버블티밀크티 아이스로 한잔 주세요.',\n",
              " '아이스티 레몬 XL 사이즈 한 잔하고, 단새우 한 판 주세요.',\n",
              " '크리스피순살 간장 M 사이즈 두개, 황차 반발효차 HOT 한잔 주세요.',\n",
              " '오늘은 새우를 먹고싶어서 레몬크림새우 소 사이즈로 해주세요. 그리고 알탕에는 라면사리 추가해주세요.',\n",
              " '카사바칩 하나, 코카콜라 355ml 두 캔 주세요.',\n",
              " '저희 모듬 3인분으로 하고, 반반이 가능한가요? 그리고 육칼면 한 그릇 추가해주세요.',\n",
              " '명품꽃등심 1인분 150g으로 주세요. 그리고 곁들여 먹을 왕새치뱃살 100g도 주세요.',\n",
              " '오늘 점심은 훠궈와 꼬치 기본 사이즈로 주세요. 평일 점심에는 성인 한명만 가능한 건가요?',\n",
              " '냉채족발 국내산으로 부탁드리고, 더블 그린 카페라떼도 한잔 주세요.',\n",
              " '죽이 좋을 것 같아. 아포가토 핫으로 한잔하고, 캐모마일 티도 한잔 주세요.',\n",
              " '제주그린밀크티 대한잔, 얼그레이 핫한잔, 그리고 비스코프크림라떼 아이스 한잔 주세요.',\n",
              " '짜장면 부탁드리고요, 원하면 새우카레 하나 주문할게요.',\n",
              " '초코라떼 아이스 1잔, 또 그리고 치즈볶음밥 한그릇 주세요.',\n",
              " '생로스구이 한판이랑 우럭 두마리 주세요.',\n",
              " '한돈양념돼지갈비 200g과 가라아게카레덮밥 그리고 쿠키앤크림바빈치노 한개 주세요.',\n",
              " '특정식 1인분 주문하겠습니다. 또한 고추장찌개도 주세요.',\n",
              " '까르보나라 피자 패스츄리도우로 부탁드리고, 깐풍강정 커플팩 400g도 주세요.',\n",
              " '치즈스노우퀸+후라이드 핫한개 주세요.',\n",
              " '버섯칼국수사리 주문할게요. 그리고 한우된장찌개 한그릇도 주세요.',\n",
              " '첵스초코쉐이크 레귤러로 주시고, 코코티스무디 망고복숭아 아이스 메디엄 주세요.',\n",
              " '도토리막국수 두그릇 주시고, 찹쌀치즈볼 2개 설정해 주세요.',\n",
              " '그린티민트초코칩라떼 아이스 한잔에요, 그리고 쌀먹걸리 한병 주세요.',\n",
              " '묵은지생삼겹솥뚜껑구이 200g랑 또봉이+고추통닭 하나 주세요.',\n",
              " '해물뼈찜 중자, 와 참치김치찌개 곱배기 주세요.',\n",
              " '참이슬 한 병으로 시작하고, 볶음면 한 그릇 추가 주세요.',\n",
              " '연유카페라떼 그란데 사이즈로 주시고, 또 소금소갈비 150g 주세요.',\n",
              " '무침 2인분이랑 어니언치즈순살뿌치4조각 한판 주세요.',\n",
              " '흑당버블티 버블추가하고, 하트팝 하나 주세요.',\n",
              " '마루국물떡볶이 한 판이랑 수제꽃잎차 한잔 주세요.',\n",
              " '오리로스 쌈밥정식 1인분, 광어 중자로 주세요.',\n",
              " '제가 배가 많이 고프네요, 새우로제파스타 하나랑 333맥주 한 캔 주세요.',\n",
              " '더치블랙 한 잔하고 흑돼지갈비살 이인분 주세요.',\n",
              " '저는 새싹보리라떼 아이스로 한 잔, 가자미조림 한 그릇 주세요.',\n",
              " '아인슈페너 라지 사이즈와 꽃갈비살돈까스단품 한 달러 주세요.',\n",
              " '엄마랑 왔어서 골뱅이비빔면 두 그릇이랑 보쌈set 중자 주세요.',\n",
              " '치킨오이스터크림 파스타 핫하게 하나 주시고 코코넛크림 한 판 주세요.',\n",
              " '야채웰빙 M 사이즈 두 판과 탕수육 특대 한 판 주세요.',\n",
              " '착즙주스 포도 한 잔이랑 물쫄면 한 그릇 주세요.',\n",
              " '자스민 아이스로 한 잔하고 마라탄면 한 그릇 주세요.',\n",
              " '저는 꿔바로우 잔치 세트랑 요거트 프라페 한 잔 주세요.',\n",
              " '핏자 콤비를 주문하고 싶네요 그리고 웰빙피자L 사이즈도 추가해주세요.',\n",
              " '일단 하와이얀 피자 L 사이즈 두판 주세요. 그리고 흑후추소안심이랑 칠리 큰새우도 주문할게요.',\n",
              " '치즈감자을 좋아하시죠? 이번엔 치즈 옵션으로 주문하세요. 그리고 곱대창 200g도 같이 주문하겠습니다.',\n",
              " '집에서 맥주랑 대만 우유튀김은 어떠세요? 만약 맥주를 좋아하신다면 하노이 맥주 한 캔도 추천드립니다.',\n",
              " '프리미엄 티에 대해 궁금한게 있는데요, 저는 캐모마일이 좋아서 이번엔 그렇게 주문하려구요. 아, 단호박 라떼도 하나 주문할게요.',\n",
              " '요국산의 토종순대국 특을 한 그릇 주문하겠습니다. 그리고 헤이즐넛라떼 아이스도 하나 주세요.',\n",
              " '오늘은 콘치즈크러스트를 한 판 주문하려고 하는데요, 그리고 딸기 크로플 겨울 한정 메뉴도 함께 주문하겠습니다.',\n",
              " '교촌리얼후라이드 한 마리 주문할게요. 그리고 머릿고기 대를 추가할게요.',\n",
              " '여기서는 주스도 팝니까? 그럼 오도독살이랑 주스를 각각 하나씩 주문하고 싶어요.',\n",
              " '에스프레소 아포가토 중에 하나를 주문하려고 하는데요. 그리고 스팸&계란후라이도 주문할게요.',\n",
              " '묵은지찜 중 한판과 가브리살 200g 두판 주세요.',\n",
              " '어향가지밥과 함께 팥빙수 컵사이즈 아이스로 하나 주세요.',\n",
              " '블랙밀크티 M사이즈로 두 잔과 돼지고기찌개 한그릇 주세요.',\n",
              " '수제오징어튀김 6개와 통등심체다돈까스 두 개 주세요.',\n",
              " '인절미호떡과 피넛버터쿠키 세 개 마지막으로 생대구 소 사이즈 주세요.',\n",
              " '엄나무 한방 삼계탕엔 파울라너 한 캔 너무 좋아요!',\n",
              " '홍어와 삼합 주문하고 응급실닭볶음탕 중상맛으로 다이어트 하는데 수량 한 개로 가능할까요?',\n",
              " '다리와 라크치킨 하나랑 고추장찜닭 순살 대 4인분 좀 줄여서 3인분 해도 될까요?',\n",
              " '불고기치즈굿브레드 L사이즈로 두 개, 블랙우룽밀크티 컵사이즈 두 유로 한 잔 요리가 서빙되면 다음 주문하겠습니다.',\n",
              " '무뼈닭발 200g 주세요. 그리고 장치조림 이인분, 꽃살 180g 두개 추가해주실 수 있을까요?',\n",
              " '모둠튀김세트 두 판 주세요. 그리고 제육볶음 한 그릇도 추가해주세요.',\n",
              " '흑임자죽 한 그릇하고, 버블티 아이스로 주세요.',\n",
              " '엄청난토마토해물떡볶이 1.5인분 주세요. 그리고 페스츄리핫도그 하나 더 주세요.',\n",
              " '등심돈까스 두개랑 게딱지없는간장게장백반 한 개 주세요.',\n",
              " '쿨피스 패밀리사이즈 두 캔 주세요.',\n",
              " '한우명품모듬 500g 주세요. 그리고 빠삭치킨 양 많게 해주세요.',\n",
              " '뼈찜 덜 맵게 하고 양념소스 매운소스 주세요.',\n",
              " '한우고기말이 두 판하고 마늘간장 소 짜로 주세요.',\n",
              " '콜라 ICE로 하나, 호세쿠엘보 750ml 두 병 주세요.',\n",
              " '분노의짜장 레귤러 사이즈 2개랑 치즈베이글 하나 주세요.',\n",
              " '목덜미살 200g 한판, 고구마스틱 2개랑 아이스 레몬에이드 한잔 주세요.',\n",
              " '냉라멘 라지 사이즈 하나, 수제등심돈까스 소짜로 한그릇 주세요.',\n",
              " '북어조림 소자, 팥 크로아상 세개, 꼬마쥐포 150g 주세요.',\n",
              " '얼큰한우내장전 대로 두개, 왕만두 김치 네개 주세요.',\n",
              " '돼지부속모듬 600g, 새치 대 하나 채워주세요.',\n",
              " '육계닭볶음탕 한그릇, 팥 크로아상 두개, 아이스허브차 로즈마리 한잔 이랑 오곡라떼 한잔 주세요.',\n",
              " '뼈찜 덜맵게 대, 홍차 HOT 한잔 주세요.',\n",
              " '계란찜 2개와 고구마스틱 한판 주세요.',\n",
              " '간장삼겹살 SET XL 한판, 오리지널 자몽에이드 한잔 주세요.',\n",
              " '비빔탄탄면 라지 하나, 왕만두 김치 한개, 수제등심돈까스 소짜 한그릇 주세요.',\n",
              " '이번에는 좀 달게요. 요번에는 순대육개장에 라지 사이즈로 주세요. 그리고 순댓국 중사이즈 두 그릇 주세요.',\n",
              " '날씨가 점점 더워지네요, 요번엔 팥칼국수 1인분에 빠사칸윙봉현미 추가 해주세요.',\n",
              " '저기요, 머리고기 한판하고 순대 두개 주세요. 그리고 깐풍육 소 사이즈로 주세요.',\n",
              " '송어회 특대 한개랑 맵냥치킨 두개 주세요. 그리고 해삼송이 L사이즈로도 주세요.',\n",
              " '딸기+바나나쥬스 한 잔이랑 뽕잎밥 2인분 주세요. 그리고 토종닭도리탕 중 사이즈도 주세요.',\n",
              " '사골곰국 한 그릇하고 뼈찜 아주맵게로 하나 주세요. 그리고 계란탕 추가요.',\n",
              " '제가 주문할게요, 참치김치컵밥 하나랑 cass생맥주 500cc 한잔 주세요.',\n",
              " '여기, 엽기오돌뼈 중사이즈로 한개 주세요. 그랑 떡볶이랑 김말이 추가요.',\n",
              " '철판 모짜렐라치즈 하나 주세요. 그리고 소주 한병 추가요.',\n",
              " '마늘탕수육 중 사이즈 하나에요. 그리고 얼그레이밀크티 특대 사이즈로 주세요.',\n",
              " '안녕하세요, 불뼈구이 소 조리한판 주문할게요 그리고 한우진곰탕도 둘 주세요.',\n",
              " '당근케이크 조각 한개랑 미디엄 사이즈 아이스아메리카노 두잔이요!',\n",
              " '양등갈비 150g 2인분하고요, 아메리카노 그란데사이즈 두잔 해주세요.',\n",
              " '삼겹살 200g 셋 그리고 오돌뼈 토시살 된장찌개상합메뉴 하나입니다.',\n",
              " '참치치즈돌솥밥 두그릇, 딸기에이드 스몰사이즈 두잔 주문하겠습니다.',\n",
              " '라조기 소로 한개, 되지마머니 튀김 한판 추가해주세요.',\n",
              " '안녕하세요, 라제니요또 한그릇 주세요. 그리고 냉모밀도 한그릇 해주세요.',\n",
              " '아메리카노세트메뉴 두세트랑 곱창탕 한그릇 주세요.',\n",
              " '안녕하세요, 또래오래 세트 2판 주세요. 그리고 매운오돌뼈랑 주먹밥 하나',\n",
              " '바지락칼국수 세그릇 주세요. 아, 그리고 김밥 한줄 더요.',\n",
              " '곱창전골 두그릇하구요, 한우옛날육개장 한그릇이랑 통닭삼총사 하나 부탁드립니다.',\n",
              " '가지고 있는 제주특산수제하귤 소세트 한 개 주세요.',\n",
              " '팔당농장 소불고기 산채정식 두인분 따로 주문 가능한가요?',\n",
              " '음료수로 미린다 원사이즈 두 캔 주실 수 있나요?',\n",
              " '한스쿱 아이스로 바꾸고 싶은데, 그리고 사이즈는 그란데로 지정해주세요.',\n",
              " '조림 두 인분 주시고, 양념이 뭉클이지 않게 잘 섞어주세요.',\n",
              " '오늘의 명란파스타 한 그릇이랑 음료는 더치커피 아이스로 주세요.',\n",
              " '한잔으로 유자차 고흥유자청 주세요. 그리고 약간 얼음 많이 주세요.',\n",
              " '오늘 메뉴는 특갈비찜한 판으로 주문하겠습니다. 그런데 고기가 불린 것 주시면 좋겠어요.',\n",
              " '왕갈비 100g 하나랑 순살 양념 매운맛 첨가해서 주시겠어요?',\n",
              " '저는 묵은지두부김치 중자로 한그릇하고, 뿌링치즈볼 5개 주세요!',\n",
              " '자몽에이드 L 사이즈 한 정도 주세요. 그리고 얼큰뼈찜 중짜 주세요.',\n",
              " '저하고 친구하고 둘이 와규 안심덧살 200g랑, 물냉면 두그릇 주세요.',\n",
              " '플랫화이트 벨루치 다크 HOT 한잔하고 바닐라라떼 hot size up 한잔 주세요.',\n",
              " '갈비치 킨 1개, 피자 R사이즈, 음료수 500ml 한판 주세요.',\n",
              " '불보쌈 대자 하나하고, 조각닭 후라이드 두 판 주세요.',\n",
              " '베이컨에그샌드위치 하나랑 칠리새우 6P 두개 주세요.',\n",
              " '엔도르피노순한맛 두병 과 허니 버터칩 한개 주세요.',\n",
              " '수제비 한그릇과 아이스 아메리카노 미디엄 사이즈 두잔 주세요.',\n",
              " '매운 감자탕 중짜, 상큼한 라임에이드 L 사이즈 한잔 부탁드려요.',\n",
              " '사람 많으니까 아포카토 라지 한 그릇이랑 그린티라떼 라지 한 잔 주세요.',\n",
              " '오늘은 콩국수 미디엄 한 그릇과 갈비레오 라지 두 판 주세요.',\n",
              " '왕갈비탕 특 한 판, 마치찜 대 한 그릇 주세요.',\n",
              " '오늘은 뉴트리바 한 캔 줘. 그리고 불백 곱배기 한 그릇 같이 주세요.']"
            ]
          },
          "execution_count": 35,
          "metadata": {},
          "output_type": "execute_result"
        }
      ],
      "source": [
        "# 검증 데이터셋의 input값 불러오기\n",
        "inputs = [item[\"input\"] for item in validation_dataset]\n",
        "inputs"
      ]
    },
    {
      "cell_type": "code",
      "execution_count": 36,
      "id": "4OZi8p-ggMmr",
      "metadata": {
        "colab": {
          "base_uri": "https://localhost:8080/"
        },
        "id": "4OZi8p-ggMmr",
        "outputId": "6ddfc483-b561-4cc1-9d32-71613defd68e"
      },
      "outputs": [
        {
          "data": {
            "text/plain": [
              "['- 분석 결과 0: 음식명:꽃살버섯샐러드, 수량:한그릇 \\n- 분석 결과 1: 음식명:스테이크올리오스파게티',\n",
              " '- 분석 결과 0: 음식명:교촌통통치킨카츠, 수량: 한 판\\n- 분석 결과 1: 음식명:행복지수커피, 수량: 한잔\\n- 분석 결과 2: 음식명:헤즐넛, 옵션: 핫, 수량: 하나',\n",
              " '- 분석 결과 0: 음식명:에스프레소도피오,옵션:핫,수량:한잔\\n- 분석 결과 1: 음식명:허니티,옵션:진하게,수량:한 잔',\n",
              " '- 분석 결과 0: 음식명:밀크티,수량:두 캔\\n- 분석 결과 1: 음식명:도토리묵밥, 수량: 한 그릇\\n- 분석 결과 2: 음식명:동치미, 수량: 한병',\n",
              " '- 분석 결과 0: 음식명:열무국수,옵션:곱배기, 수량:한 그릇\\n- 분석 결과 1: 음식명:칼국수, 수량:한 뚝배기',\n",
              " '- 분석 결과 0: 음식명:민족치킨, 수량:하나\\n- 분석 결과 1: 음식명:토란줄기 감자탕, 수량:하나',\n",
              " '- 분석 결과 0: 음식명:참치모듬,수량:하나\\n- 분석 결과 1: 음식명:제육두루치기,수량:둘',\n",
              " '- 분석 결과 0: 음식명:구슬바닐라카페스무디,옵션:ICE,수량:한잔\\n- 분석 결과 1: 음식명:준과랑치즈케익,수량:하나',\n",
              " '- 분석 결과 0: 음식명:라디오더치라떼,옵션:ICE,수량:한잔\\n- 분석 결과 1: 음식명:볼케이노피자,옵션:R,수량:한판',\n",
              " '- 분석 결과 0: 음식명:물회,옵션:특,수량:한그릇\\n- 분석 결과 1: 음식명:웨이퍼롤,옵션:바닐라',\n",
              " '- 분석 결과 0: 음식명:다크쇼콜라,옵션:L,수량:한잔\\n- 분석 결과 1: 음식명:짜파게티,수량:한개',\n",
              " '- 분석 결과 0: 음식명:코다리찜,옵션:중\\n- 분석 결과 1: 음식명:클라우드라떼,옵션:S,수량:한잔',\n",
              " '- 분석 결과 0: 음식명:제주두루치기,수량:2인분\\n- 분석 결과 1: 음식명:B set,옵션:800g',\n",
              " '- 분석 결과 0: 음식명:오울블루,수량:한그릇\\n- 분석 결과 1: 음식명:라면,옵션:계란추가',\n",
              " '- 분석 결과 0: 음식명:돈가스덮밥,옵션:등심,수량:한그릇\\n- 분석 결과 1: 음식명:심심풀이새우깡,수량:하나',\n",
              " '- 분석 결과 0: 음식명:금준미홍차,수량:한잔\\n- 분석 결과 1: 음식명:까망베르치즈구이,수량:하나\\n- 분석 결과 2: 음식명:젤라또,옵션:초코,수량:한개',\n",
              " '- 분석 결과 1: 음식명:불목살,옵션:중자,수량:200g\\n- 분석 결과 2: 음식명:꼬치어묵,수량:세 개\\n- 분석 결과 3: 음식명:흑당버블밀크티,옵션:아이스 레귤러, 수량:두 잔',\n",
              " '- 분석 결과 1: 음식명:호두아몬드파티,수량:한 판\\n- 분석 결과 2: 음식명:블루베리스무디,옵션:XL, 수량:두 잔',\n",
              " '- 분석 결과 1: 음식명:돈돈탕,옵션:중자,수량:한 그릇\\n- 분석 결과 2: 음식명:옥수수,수량:한 개',\n",
              " '- 분석 결과 1: 음식명:카라멜프라페,옵션:그란데,수량:한 잔\\n- 분석 결과 2: 음식명:닭불고기백반, 수량:1개',\n",
              " '- 분석 결과 1: 음식명:징기스칸 양고기,수량:220g\\n- 분석 결과 2: 음식명:사리 당면, 수량:한 개\\n- 분석 결과 3: 음식명:아이스 말차라떼, 수량:두 잔',\n",
              " '- 분석 결과 1: 음식명:보쌈 세트, 수량:한 판\\n- 분석 결과 2: 음식명:리얼 고구마라떼, 옵션:라지, 수량:한 잔',\n",
              " '- 분석 결과 1: 음식명:치즈크레커, 수량:두 판\\n- 분석 결과 2: 음식명:레몬에이드, 옵션: ICE 레귤러, 수량: 한 잔',\n",
              " '- 분석 결과 1: 음식명:오도독살, 수량: 180g\\n- 분석 결과 2: 음식명: 빵, 수량: 한 개',\n",
              " '- 분석 결과 1: 음식명:한방 대나무 통삼계탕, 수량: 두인분\\n- 분석 결과 2: 음식명:한우익힘 비빔밥, 옵션: 점심, 수량:한 개',\n",
              " '- 분석 결과 1: 음식명:코다리등갈비찜, 옵션:소\\n- 분석 결과 2: 음식명:칡찐빵, 수량:6개',\n",
              " '- 분석 결과 0: 음식명:송어통매운탕,수량:하나',\n",
              " '- 분석 결과 0: 음식명:콩국수,수량:두그릇\\n- 분석 결과 1: 음식명:미니계란탕,수량:한개',\n",
              " '- 분석 결과 0: 음식명:제주흑돼지두루치기,수량:2인분\\n- 분석 결과 1: 음식명:카라멜카페모카, 옵션:아이스',\n",
              " '- 분석 결과 0: 음식명:몬테스클래식멜롯,수량:한병\\n- 분석 결과 1: 음식명:칡냉면,수량:한그릇',\n",
              " '- 분석 결과 0: 음식명:참치마요주먹밥,수량:2개\\n- 분석 결과 1: 음식명:카페모카, 옵션: 아이스, 수량: 1잔',\n",
              " '- 분석 결과 0: 음식명:약초삼계탕,옵션:곱배기\\n- 분석 결과 1: 음식명:포도,수량:1개\\n- 분석 결과 2: 음식명:키위쥬스, 옵션:대, 수량:한잔',\n",
              " '- 분석 결과 0: 음식명:그냥라면,수량:1개\\n- 분석 결과 1: 음식명:갈비닭,수량:한개',\n",
              " '- 분석 결과 0: 음식명:그냥라면,수량:하나\\n- 분석 결과 1: 음식명:핫코코아,수량:한잔',\n",
              " '- 분석 결과 0: 음식명:두루치기,수량:1인분\\n- 분석 결과 1: 음식명:병맥주,옵션:중자\\n- 분석 결과 2: 음식명:날다닭마늘치킨, 수량: 반도',\n",
              " '- 분석 결과 0: 음식명:홍대피자,수량:한판\\n- 분석 결과 1: 음식명:바닐라 라떼,옵션:스몰,수량:한잔\\n- 분석 결과 2: 음식명:해물파전',\n",
              " '- 분석 결과 0: 음식명:빡도니삼겹살, 수량:한판\\n- 분석 결과 1: 음식명:공기밥, 수량:2개',\n",
              " '- 분석 결과 0: 음식명:우롱밀크티, 옵션:J, 수량:하나',\n",
              " '- 분석 결과 0: 음식명:모둠어묵, 수량:두그릇\\n- 분석 결과 1: 음식명:음료 콜라, 옵션:355ml, 수량:한캔',\n",
              " '- 분석 결과 0: 음식명:보쌈, 옵션:고기추가\\n- 분석 결과 1: 음식명:사리 라면, 수량:한그릇',\n",
              " '- 분석 결과 0: 음식명:시골쌈밥정식, 옵션:삼겹살 추가\\n- 분석 결과 1: 음식명:한치땅콩, 수량:하나',\n",
              " '- 분석 결과 0: 음식명:아포카토, 옵션:Iced, 수량:2잔',\n",
              " '- 분석 결과 0: 음식명:모듬, 옵션:750g, 수량:4인분\\n- 분석 결과 1: 음식명:별미오뎅 추가, 수량:4개',\n",
              " '- 분석 결과 0: 음식명:트레디셔널, 옵션:M, 수량:하나\\n- 분석 결과 1: 음식명:수제청귤, 옵션:ICE, 수량:한잔',\n",
              " '- 분석 결과 0: 음식명:베이컨 포테이토, 옵션:L, 수량:한개\\n- 분석 결과 1: 음식명:카페모카, 옵션:hot/L, 수량:두잔',\n",
              " '- 분석 결과 0: 음식명:패밀리 세트, 수량:하나\\n- 분석 결과 1: 음식명:새우깡, 옵션:추가, 수량:두개',\n",
              " '- 분석 결과 0: 음식명: 순살, 옵션: 칠리, 수량: 한 마리\\n- 분석 결과 1: 음식명: 찜햇닭강정, 옵션: 싱글, 수량: 한 개 ',\n",
              " '- 분석 결과 0: 음식명: 찜, 옵션: 비취교자, 수량: 5개\\n- 분석 결과 1: 음식명: 두부조림, 수량: 2인분',\n",
              " '- 분석 결과 0: 음식명: 제육삼구비빔밥, 수량: 하나 \\n- 분석 결과 1: 음식명: 떡볶이, 수량: 한 그릇',\n",
              " '- 분석 결과 0: 음식명: 뼈삼겹살,\\n- 분석 결과 1: 음식명: 막창구이, 옵션: 곱배기 ',\n",
              " '- 분석 결과 0: 음식명: 비빔밥, 수량: 한 그릇\\n- 분석 결과 1: 음식명: 떡볶이, 수량: 한 그릇   ',\n",
              " '- 분석 결과 0: 음식명: 제육볶음, 옵션: 곱배기, 수량: 하나\\n- 분석 결과 1: 음식명: 김치찌개, 수량: 한 그릇',\n",
              " '- 분석 결과 0: 음식명: 순살후라이드, 수량: 두 개\\n- 분석 결과 1: 음식명: 코카콜라, 옵션: 라지 사이즈',\n",
              " '- 분석 결과 0: 음식명: 치킨 가라아게, 수량: 한 판\\n- 분석 결과 1: 음식명: 김치볶음밥, 수량: 한 그릇 ',\n",
              " '- 분석 결과 0: 음식명: 소고기 덮밥, 수량: 한 그릇\\n- 분석 결과 1: 음식명: 라면, 옵션: 미니 사이즈',\n",
              " '- 분석 결과 0: 음식명: 홍합탕\\n- 분석 결과 1: 음식명: 타릭피자\\n- 분석 결과 2: 음식명: 사이다, 수량: 두 캔',\n",
              " '- 분석 결과 0: 음식명:시레기 오리백숙, 수량:1개\\n- 분석 결과 1: 음식명:카페라떼, 옵션:톨, 수량:둘',\n",
              " '- 분석 결과 0: 음식명:기린가족해피피크닉, 옵션:15cm, 수량:한 판\\n- 분석 결과 1: 음식명:마늘족발, 옵션:세트 XL, 수량:하나',\n",
              " '- 분석 결과 0: 음식명:모카요프치노, 수량:한잔\\n- 분석 결과 1: 음식명:참게탕, 옵션:라면사리',\n",
              " '- 분석 결과 0: 음식명:고기듬뿍김치찌개, 수량:한그릇\\n- 분석 결과 1: 음식명:올라',\n",
              " '- 분석 결과 0: 음식명:알탕, 옵션:맵게 해주세요, 수량:한인분\\n- 분석 결과 1: 음식명:수비드삼겹살수육, 옵션:대자, 수량:한 판',\n",
              " '- 분석 결과 0: 음식명:땡초불꽃치킨, 수량:한마리\\n- 분석 결과 1: 음식명:슈크림라떼, 옵션:reg, 수량:두 잔',\n",
              " '- 분석 결과 0: 음식명:우리동네국수, 수량:1그릇\\n- 분석 결과 1: 음식명:우리밀국수, 수량:2그릇\\n- 분석 결과 2: 음식명:라면,옵션:떡추가',\n",
              " '- 분석 결과 0: 음식명:당근케익,수량:한 개\\n- 분석 결과 1: 음식명:볼로네제, 수량:두 개',\n",
              " '- 분석 결과 0: 음식명:페퍼로니피자, 옵션:M 사이즈, 수량:두개\\n- 분석 결과 1: 음식명:오자몽블랙티,옵션:HOT, 수량:한잔',\n",
              " '- 분석 결과 0: 음식명:조니워커하이볼세트, 옵션:200ml\\n- 분석 결과 1: 음식명:수입대게, 수량:하나',\n",
              " '- 분석 결과 0: 음식명:망고요거트,옵션:아이스,수량:한잔\\n- 분석 결과 1: 음식명:수닭세트,수량:2인분',\n",
              " '- 분석 결과 0: 음식명:아이스티,옵션:레귤러,수량:한 잔\\n- 분석 결과 1: 음식명:어린이음료,수량:하나',\n",
              " '- 분석 결과 0: 음식명:참다랑어,옵션:200g,수량:두판',\n",
              " '- 분석 결과 0: 음식명:딸기쉐이크,수량:한 잔\\n- 분석 결과 1: 음식명:바닐라아이스크림,옵션:아이스,수량:한 개',\n",
              " '- 분석 결과 0: 음식명:망고스무디,옵션:XL,수량:두 잔',\n",
              " '- 분석 결과 0: 음식명:참다랑어초밥,옵션:12P,수량:한 개\\n- 분석 결과 1: 음식명:잼잼주먹밥,수량:한 그릇',\n",
              " '- 분석 결과 0: 음식명:한우스페셜,수량:1인분 \\n- 분석 결과 1: 음식명:수제차 메리골드, 수량:하나 ',\n",
              " '- 분석 결과 0: 음식명:누룽지오리백숙,수량:두 그릇 ',\n",
              " '- 분석 결과 0: 음식명:그릴비프치즈랩, 수량:한 판\\t\\n- 분석 결과 1: 음식명:치즈슈프림윙봉치킨, 수량:한 그릇',\n",
              " '- 분석 결과 0: 음식명:오리훈제영양돌솥밥,수량:한 그릇\\n- 분석 결과 1: 음식명:찰밥',\n",
              " '- 분석 결과 0: 음식명:한우얼큰육개장,옵션:곱배기,수량:하나\\n- 분석 결과 1: 음식명:버블티밀크티,옵션:아이스,수량:한잔 ',\n",
              " '- 분석 결과 0: 음식명:아이스티,옵션:레몬, XL,수량:한 잔\\n- 분석 결과 1: 음식명:단새우,수량:한 판   ',\n",
              " '- 분석 결과 0: 음식명:크리스피순살 간장,옵션:M,수량:두개\\n- 분석 결과 1: 음식명:황차 반발효차,옵션:HOT,수량:한잔',\n",
              " '- 분석 결과 0: 음식명:레몬크림새우,옵션:소\\n- 분석 결과 1: 음식명:알탕,옵션:라면사리',\n",
              " '- 분석 결과 0: 음식명:카사바칩,수량:하나\\n- 분석 결과 1: 음식명:코카콜라,옵션:355ml,수량:두 캔',\n",
              " '- 분석 결과 0: 음식명:모듬,옵션:반반, 수량:3인분\\n- 분석 결과 1: 음식명:육칼면,수량:한 그릇',\n",
              " '- 분석 결과 0: 음식명:명품꽃등심,수량:1인분,옵션:150g\\n- 분석 결과 1: 음식명:왕새치뱃살,옵션:100g  ',\n",
              " '- 분석 결과 0: 음식명:훠궈,옵션:기본,수량:한명\\n- 분석 결과 1: 음식명:꼬치,옵션:기본,수량:한명',\n",
              " '- 분석 결과 0: 음식명:냉채족발,옵션:국내산\\n- 분석 결과 1: 음식명:더블 그린 카페라떼,수량:한잔',\n",
              " '- 분석 결과 0: 음식명:아포가토,옵션:핫,수량:한잔\\n- 분석 결과 1: 음식명:캐모마일 티,수량:한잔',\n",
              " '- 분석 결과 0: 음식명:제주그린밀크티,옵션:대,수량:한잔\\n- 분석 결과 1: 음식명:얼그레이,옵션:핫,수량:한잔\\n- 분석 결과 2: 음식명:비스코프크림라떼,옵션:아이스,수량:한잔',\n",
              " '- 분석 결과 0: 음식명:짜장면\\n- 분석 결과 1: 음식명:새우카레,수량:하나',\n",
              " '- 분석 결과 0: 음식명:초코라떼,옵션:아이스,수량:1잔\\n- 분석 결과 1: 음식명:치즈볶음밥,수량:한그릇',\n",
              " '- 분석 결과 0: 음식명:생로스구이,수량:한판\\n- 분석 결과 1: 음식명:우럭,수량:두마리 ',\n",
              " '- 분석 결과 0: 음식명:한돈양념돼지갈비,옵션:200g\\n- 분석 결과 1: 음식명:가라아게카레덮밥\\n- 분석 결과 2: 음식명:쿠키앤크림바빈치노,수량:한개',\n",
              " '- 분석 결과 0: 음식명:특정식,수량:1인분\\n- 분석 결과 1: 음식명:고추장찌개',\n",
              " '- 분석 결과 0: 음식명:까르보나라 피자 옵션:패스츄리도우\\n- 분석 결과 1: 음식명:깐풍강정, 옵션:커플팩 400g',\n",
              " '- 분석 결과 0: 음식명:치즈스노우퀸+후라이드,옵션:핫, 수량:한개',\n",
              " '- 분석 결과 0: 음식명:버섯칼국수사리\\n- 분석 결과 1: 음식명:한우된장찌개,수량:한그릇',\n",
              " '- 분석 결과 0: 음식명:첵스초코쉐이크,옵션:레귤러\\n- 분석 결과 1: 음식명:코코티스무디, 옵션:망고복숭아 아이스 메디엄',\n",
              " '- 분석 결과 0: 음식명:도토리막국수, 수량:두그릇\\n- 분석 결과 1: 음식명:찹쌀치즈볼, 수량:2개',\n",
              " '- 분석 결과 0: 음식명:그린티민트초코칩라떼, 옵션:아이스, 수량:한잔\\n- 분석 결과 1: 음식명:쌀먹걸리, 수량:한병',\n",
              " '- 분석 결과 0: 음식명:묵은지생삼겹솥뚜껑구이, 수량:200g\\n- 분석 결과 1: 음식명:또봉이+고추통닭, 수량:하나',\n",
              " '- 분석 결과 0: 음식명:해물뼈찜, 옵션:중자\\n- 분석 결과 1: 음식명:참치김치찌개, 옵션:곱배기',\n",
              " '- 분석 결과 0: 음식명:참이슬, 수량:한병\\n- 분석 결과 1: 음식명:볶음면, 수량:한그릇',\n",
              " '- 분석 결과 0: 음식명:연유카페라떼, 옵션:그란데\\n- 분석 결과 1: 음식명:소금소갈비, 수량:150g',\n",
              " '- 분석 결과 0: 음식명:무침, 수량:2인분\\n- 분석 결과 1: 음식명:어니언치즈순살뿌치4조각, 수량:한판',\n",
              " '- 분석 결과 0: 음식명:흑당버블티, 옵션:버블추가\\n- 분석 결과 1: 음식명:하트팝, 수량:하나',\n",
              " '- 분석 결과 0: 음식명:마루국물떡볶이, 수량:한판\\n- 분석 결과 1: 음식명:수제꽃잎차, 수량:한잔',\n",
              " '- 분석 결과 0: 음식명:오리로스 쌈밥정식, 수량:1인분\\n- 분석 결과 1: 음식명:광어, 옵션:중자',\n",
              " '- 분석 결과 0: 음식명:새우로제파스타,수량:하나\\n- 분석 결과 1: 음식명:333맥주,수량:한 캔',\n",
              " '- 분석 결과 0: 음식명:더치블랙,수량:한 잔\\n- 분석 결과 1: 음식명:흑돼지갈비살,수량:이인분',\n",
              " '- 분석 결과 0: 음식명:새싹보리라떼,옵션:아이스,수량:한 잔\\n- 분석 결과 1: 음식명:가자미조림,수량:한 그릇',\n",
              " '- 분석 결과 0: 음식명:아인슈페너,옵션:라지\\n- 분석 결과 1: 음식명:꽃갈비살돈까스단품,수량:한 달러',\n",
              " '- 분석 결과 0: 음식명:골뱅이비빔면,수량:두 그릇\\n- 분석 결과 1: 음식명:보쌈set,옵션:중자',\n",
              " '- 분석 결과 0: 음식명:치킨오이스터크림파스타,옵션:핫하게,수량:하나\\n- 분석 결과 1: 음식명:코코넛크림,수량:한 판',\n",
              " '- 분석 결과 0: 음식명:야채웰빙,옵션:M,수량:두 판\\n- 분석 결과 1: 음식명:탕수육,옵션:특대,수량:한 판',\n",
              " '- 분석 결과 0: 음식명:착즙주스,옵션:포도,수량:한 잔\\n- 분석 결과 1: 음식명:물쫄면,수량:한 그릇',\n",
              " '- 분석 결과 0: 음식명:자스민,옵션:아이스,수량:한 잔\\n- 분석 결과 1: 음식명:마라탄면,수량:한 그릇',\n",
              " '- 분석 결과 0: 음식명:꿔바로우,옵션:잔치세트\\n- 분석 결과 1: 음식명:요거트 프라페,수량:한 잔',\n",
              " '- 분석 결과 0: 음식명:핏자,옵션:콤비 \\n- 분석 결과 1: 음식명:웰빙피자,옵션:L',\n",
              " '- 분석 결과 0: 음식명:하와이얀피자,옵션:L,수량:두판 \\n- 분석 결과 1: 음식명:흑후추소안심\\n- 분석 결과 2: 음식명:칠리큰새우',\n",
              " '- 분석 결과 0: 음식명:치즈감자,옵션:치즈 \\n- 분석 결과 1: 음식명:곱대창,옵션:200g',\n",
              " '- 분석 결과 0: 음식명:맥주\\n- 분석 결과 1: 음식명:대만우유튀김\\n- 분석 결과 2: 음식명:하노이맥주,수량:한 캔',\n",
              " '- 분석 결과 0: 음식명:프리미엄티,옵션:캐모마일\\n- 분석 결과 1: 음식명:단호박라떼',\n",
              " '- 분석 결과 0: 음식명:토종순대국,옵션:특, 수량:한 그릇\\n- 분석 결과 1: 음식명:헤이즐넛라떼,옵션:아이스',\n",
              " '- 분석 결과 0: 음식명:콘치즈크러스트,수량:한 판\\n- 분석 결과 1: 음식명:딸기크로플,옵션:겨울 한정',\n",
              " '- 분석 결과 0: 음식명:교촌리얼후라이드,수량:한 마리\\n- 분석 결과 1: 음식명:머릿고기,옵션:대',\n",
              " '- 분석 결과 0: 음식명:오도독살,수량:하나\\n- 분석 결과 1: 음식명:주스,수량:하나',\n",
              " '- 분석 결과 0: 음식명:에스프레소아포가토,옵션:중\\n- 분석 결과 1: 음식명:스팸&계란후라이',\n",
              " '- 분석 결과 0: 음식명:묵은지찜,옵션:중,수량:한판\\n- 분석 결과 1: 음식명:가브리살,옵션:200g,수량:두판',\n",
              " '- 분석 결과 0: 음식명:어향가지밥\\n- 분석 결과 1: 음식명:팥빙수,옵션:컵사이즈, ICE,수량:하나',\n",
              " '- 분석 결과 0: 음식명:블랙밀크티,옵션:M,수량:두 잔\\n- 분석 결과 1: 음식명:돼지고기찌개,수량:한그릇',\n",
              " '- 분석 결과 0: 음식명:수제오징어튀김,수량:6개\\n- 분석 결과 1: 음식명:통등심체다돈까스,수량:두 개',\n",
              " '- 분석 결과 0: 음식명:인절미호떡\\n- 분석 결과 1: 음식명:피넛버터쿠키,수량:세 개\\n- 분석 결과 2: 음식명:생대구,옵션:소',\n",
              " '- 분석 결과 0: 음식명:엄나무 한방 삼계탕\\n- 분석 결과 1: 음식명:파울라너,수량:한 캔',\n",
              " '- 분석 결과 0: 음식명:홍어와삼합\\n- 분석 결과 1: 음식명:응급실닭볶음탕,옵션:중상맛,수량:한 개',\n",
              " '- 분석 결과 0: 음식명:다리와 락치킨,수량:하나\\n- 분석 결과 1: 음식명:고추장찜닭,옵션:순살, 대,수량:3인분',\n",
              " '- 분석 결과 0: 음식명:불고기치즈굿브레드,옵션:L,수량:두 개\\n- 분석 결과 1: 음식명:블랙우룽밀크티,옵션:컵사이즈, 두 유,수량:한 잔',\n",
              " '- 분석 결과 0: 음식명:무뼈닭발,옵션:200g\\n- 분석 결과 1: 음식명:장치조림, 수량:이인분\\n- 분석 결과 2: 음식명:꽃살,옵션:180g,수량:두개',\n",
              " '- 분석 결과 0: 음식명:모둠튀김세트,수량:두 판\\n- 분석 결과 1: 음식명:제육볶음, 수량: 한 그릇',\n",
              " '- 분석 결과 0: 음식명:흑임자죽, 수량: 한 그릇\\n- 분석 결과 1: 음식명:버블티, 옵션:아이스',\n",
              " '- 분석 결과 0: 음식명:엄청난토마토해물떡볶이, 수량:1.5인분\\n- 분석 결과 1: 음식명:페스츄리핫도그, 수량:하나',\n",
              " '- 분석 결과 0: 음식명:등심돈까스, 수량: 두개\\n- 분석 결과 1: 음식명:게딱지없는간장게장백반, 수량:한 개',\n",
              " '- 분석 결과 0: 음식명:쿨피스, 옵션:패밀리사이즈, 수량:두 캔',\n",
              " '- 분석 결과 0: 음식명:한우명품모듬, 옵션:500g\\n- 분석 결과 1: 음식명:빠삭치킨, 옵션:양 많게',\n",
              " '- 분석 결과 0: 음식명:뼈찜, 옵션:덜 맵게\\n- 분석 결과 1: 음식명:양념소스, 옵션:매운소스 ',\n",
              " '- 분석 결과 0: 음식명:한우고기말이, 수량:두 판\\n- 분석 결과 1: 음식명:마늘간장, 옵션:소짜',\n",
              " '- 분석 결과 0: 음식명:콜라, 옵션:ICE, 수량:하나\\n- 분석 결과 1: 음식명:호세쿠엘보, 옵션:750ml, 수량:두 병',\n",
              " '- 분석 결과 0: 음식명:분노의짜장, 옵션:레귤러, 수량:2개\\n- 분석 결과 1: 음식명:치즈베이글, 수량:하나',\n",
              " '- 분석 결과 0: 음식명:목덜미살,옵션:200g,수량:한판\\n- 분석 결과 1: 음식명:고구마스틱,수량:2개\\n- 분석 결과 2: 음식명:아이스 레몬에이드,수량:한잔',\n",
              " '- 분석 결과 0: 음식명:냉라멘,옵션:라지,수량:하나\\n- 분석 결과 1: 음식명:수제등심돈까스,옵션:소짜,수량:한그릇',\n",
              " '- 분석 결과 0: 음식명:북어조림,옵션:소자\\n- 분석 결과 1: 음식명:팥 크로아상,수량:세개\\n- 분석 결과 2: 음식명:꼬마쥐포,옵션:150g',\n",
              " '- 분석 결과 0: 음식명:얼큰한우내장전,옵션:대,수량:두개\\n- 분석 결과 1: 음식명:왕만두 김치,수량:네개',\n",
              " '- 분석 결과 0: 음식명:돼지부속모듬,옵션:600g\\n- 분석 결과 1: 음식명:새치,옵션:대,수량:하나',\n",
              " '- 분석 결과 0: 음식명:육계닭볶음탕,수량:한그릇\\n- 분석 결과 1: 음식명:팥 크로아상,수량:두개\\n- 분석 결과 2: 음식명:아이스허브차 로즈마리,수량:한잔\\n- 분석 결과 3: 음식명:오곡라떼,수량:한잔',\n",
              " '- 분석 결과 0: 음식명:뼈찜,옵션:덜맵게 대\\n- 분석 결과 1: 음식명:홍차,옵션:HOT,수량:한잔',\n",
              " '- 분석 결과 0: 음식명:계란찜,수량:2개\\n- 분석 결과 1: 음식명:고구마스틱,수량:한판',\n",
              " '- 분석 결과 0: 음식명:간장삼겹살,옵션:SET XL,수량:한판\\n- 분석 결과 1: 음식명:오리지널 자몽에이드,수량:한잔',\n",
              " '- 분석 결과 0: 음식명:비빔탄탄면,옵션:라지,수량:하나\\n- 분석 결과 1: 음식명:왕만두 김치,수량:한개\\n- 분석 결과 2: 음식명:수제등심돈까스,옵션:소짜,수량:한그릇',\n",
              " '- 분석 결과 0: 음식명:순대육개장,옵션:라지\\n- 분석 결과 1: 음식명:순댓국,옵션:중,수량:두그릇',\n",
              " '- 분석 결과 0: 음식명:팥칼국수,수량:1인분\\n- 분석 결과 1: 음식명:빠사칸윙봉현미',\n",
              " '- 분석 결과 0: 음식명:머리고기,수량:한판\\n- 분석 결과 1: 음식명:순대,수량:두개\\n- 분석 결과 2: 음식명:깐풍육,옵션:소',\n",
              " '- 분석 결과 0: 음식명:송어회,옵션:특대,수량:한개\\n- 분석 결과 1: 음식명:맵냥치킨,수량:두개\\n- 분석 결과 2: 음식명:해삼송이,옵션:L',\n",
              " '- 분석 결과 0: 음식명:딸기+바나나쥬스,수량:한잔\\n- 분석 결과 1: 음식명:뽕잎밥, 수량:2인분\\n- 분석 결과 2: 음식명:토종닭도리탕,옵션:중',\n",
              " '- 분석 결과 0: 음식명:사골곰국,수량:한그릇\\n- 분석 결과 1: 음식명:뼈찜,옵션:아주맵게,수량:하나\\n- 분석 결과 2: 음식명:계란탕',\n",
              " '- 분석 결과 0: 음식명:참치김치컵밥, 수량:하나\\n- 분석 결과 1: 음식명:cass생맥주,옵션:500cc,수량:한잔',\n",
              " '- 분석 결과 0: 음식명:엽기오돌뼈,옵션:중,수량:한개\\n- 분석 결과 1: 음식명:떡볶이\\n- 분석 결과 2: 음식명:김말이',\n",
              " '- 분석 결과 0: 음식명:철판 모짜렐라치즈, 수량:하나\\n- 분석 결과 1: 음식명:소주,수량:한병',\n",
              " '- 분석 결과 0: 음식명:마늘탕수육,옵션:중,수량:하나\\n- 분석 결과 1: 음식명:얼그레이밀크티,옵션:특대',\n",
              " '- 분석 결과 0: 음식명:불뼈구이,옵션:소, 수량:한판\\n- 분석 결과 1: 음식명:한우진곰탕,수량:둘 ',\n",
              " '- 분석 결과 0: 음식명:당근케이크, 수량: 한개\\n- 분석 결과 1: 음식명:아이스아메리카노,옵션:미디엄,수량:두잔',\n",
              " '- 분석 결과 0: 음식명:양등갈비,옵션:150g, 수량:2인분\\n- 분석 결과 1: 음식명:아메리카노,옵션:그란데사이즈,수량:두잔',\n",
              " '- 분석 결과 0: 음식명:삼겹살,옵션:200g,수량:셋\\n- 분석 결과 1: 음식명:오돌뼈 토시살 된장찌개',\n",
              " '- 분석 결과 0: 음식명:참치치즈돌솥밥,수량:두그릇\\n- 분석 결과 1: 음식명:딸기에이드,옵션:스몰사이즈,수량:두잔',\n",
              " '- 분석 결과 0: 음식명:라조기,옵션:소,수량:한개\\n- 분석 결과 1: 음식명:되지마머니 튀김,수량:한판',\n",
              " '- 분석 결과 0: 음식명:라제니요또,수량:한그릇\\n- 분석 결과 1: 음식명:냉모밀, 수량:한그릇',\n",
              " '- 분석 결과 0: 음식명:아메리카노세트메뉴, 수량:두세트\\n- 분석 결과 1: 음식명:곱창탕, 수량:한그릇',\n",
              " '- 분석 결과 0: 음식명:또래오래 세트, 수량:2판\\n- 분석 결과 1: 음식명:매운오돌뼈\\n- 분석 결과 2: 음식명:주먹밥, 수량:하나 ',\n",
              " '- 분석 결과 0: 음식명:바지락칼국수, 수량:세그릇  \\n- 분석 결과 1: 음식명:김밥, 수량:한줄',\n",
              " '- 분석 결과 0: 음식명:곱창전골, 수량:두그릇\\n- 분석 결과 1: 음식명:한우옛날육개장, 수량:한그릇\\n- 분석 결과 2: 음식명:통닭삼총사, 수량:하나',\n",
              " '- 분석 결과 0: 음식명:제주특산수제하귤, 옵션:소, 수량:한 개',\n",
              " '- 분석 결과 0: 음식명:소불고기산채정식, 수량:두인분',\n",
              " '- 분석 결과 0: 음식명:미린다, 수량:두 캔',\n",
              " '- 분석 결과 0: 음식명:한스쿱, 옵션:아이스, 옵션:그란데',\n",
              " '- 분석 결과 0: 음식명:조림, 수량:두 인분',\n",
              " '- 분석 결과 0: 음식명:명란파스타, 수량:한 그릇\\n- 분석 결과 1: 음식명:더치커피, 옵션:아이스',\n",
              " '- 분석 결과 0: 음식명:유자차, 옵션:고흥유자청, 수량:한잔',\n",
              " '- 분석 결과 0: 음식명:특갈비찜, 수량:한 판',\n",
              " '- 분석 결과 0: 음식명:왕갈비, 옵션:100g, 수량:하나\\n- 분석 결과 1: 음식명:순살양념, 옵션:매운맛',\n",
              " '- 분석 결과 0: 음식명:묵은지두부김치, 옵션:중자, 수량:한 그릇\\n- 분석 결과 1: 음식명:뿌링치즈볼, 수량:5개',\n",
              " '- 분석 결과 0: 음식명:자몽에이드, 옵션:L, 수량:한 정도 \\n- 분석 결과 1: 음식명:얼큰뼈찜, 옵션:중짜',\n",
              " '- 분석 결과 0: 음식명:와규 안심덧살, 수량:200g\\n- 분석 결과 1: 음식명:물냉면, 수량:두 그릇',\n",
              " '- 분석 결과 0: 음식명:플랫화이트 벨루치, 옵션:HOT,수량: 한 잔\\n- 분석 결과 1: 음식명:바닐라라떼, 옵션:hot size up,수량: 한 잔',\n",
              " '- 분석 결과 0: 음식명:갈비치킨, 수량:1개\\n- 분석 결과 1: 음식명:피자, 옵션:R사이즈\\n- 분석 결과 2: 음식명:음료수, 수량:500ml 한 판',\n",
              " '- 분석 결과 0: 음식명:불보쌈, 옵션:대자,수량:하나\\n- 분석 결과 1: 음식명:조각닭 후라이드, 수량:두 판',\n",
              " '- 분석 결과 0: 음식명:베이컨에그샌드위치, 수량:하나\\n- 분석 결과 1: 음식명:칠리새우, 옵션:6P, 수량:두개 ',\n",
              " '- 분석 결과 0: 음식명:엔도르피노순한맛, 수량:두병\\n- 분석 결과 1: 음식명:허니 버터칩, 수량:한개 ',\n",
              " '- 분석 결과 0: 음식명:수제비, 수량:한 그릇\\n- 분석 결과 1: 음식명:아이스 아메리카노, 옵션:미디엄, 수량:두잔',\n",
              " '- 분석 결과 0: 음식명:감자탕, 옵션:중짜\\n- 분석 결과 1: 음식명:라임에이드, 옵션:L 사이즈, 수량:한잔',\n",
              " '- 분석 결과 0: 음식명:아포카토,옵션:라지,수량:한 그릇\\n- 분석 결과 1: 음식명:그린티라떼,옵션:라지,수량:한 잔',\n",
              " '- 분석 결과 0: 음식명:콩국수,옵션:미디엄,수량:한 그릇\\n- 분석 결과 1: 음식명:갈비레오,옵션:라지,수량:두 판',\n",
              " '- 분석 결과 0: 음식명:왕갈비탕,옵션:특,수량:한 판\\n- 분석 결과 1: 음식명:마치찜,옵션:대,수량:한 그릇',\n",
              " '- 분석 결과 0: 음식명:뉴트리바,수량:한 캔\\n- 분석 결과 1: 음식명:불백,옵션:곱배기,수량:한 그릇']"
            ]
          },
          "execution_count": 36,
          "metadata": {},
          "output_type": "execute_result"
        }
      ],
      "source": [
        "# 검증 데이터셋의 output값 불러오기\n",
        "expected_outputs = [item[\"output\"] for item in validation_dataset]\n",
        "expected_outputs"
      ]
    },
    {
      "cell_type": "markdown",
      "id": "AEqE_L82FXkP",
      "metadata": {
        "id": "AEqE_L82FXkP"
      },
      "source": [
        "### 검증 데이터셋의 input 값을 훈련시킨 모델에 입력시켜 output 생성"
      ]
    },
    {
      "cell_type": "code",
      "execution_count": 37,
      "id": "eHVZmDXjgUKQ",
      "metadata": {
        "colab": {
          "base_uri": "https://localhost:8080/"
        },
        "id": "eHVZmDXjgUKQ",
        "outputId": "670bafab-85de-4fe2-ad6e-fa72d9a3b7d4"
      },
      "outputs": [
        {
          "name": "stderr",
          "output_type": "stream",
          "text": [
            "\rGenerating Outputs:   0%|          | 0/200 [00:00<?, ?it/s]/usr/local/lib/python3.10/dist-packages/transformers/generation/configuration_utils.py:590: UserWarning: `do_sample` is set to `False`. However, `temperature` is set to `0.6` -- this flag is only used in sample-based generation modes. You should set `do_sample=True` or unset `temperature`.\n",
            "  warnings.warn(\n",
            "/usr/local/lib/python3.10/dist-packages/transformers/generation/configuration_utils.py:595: UserWarning: `do_sample` is set to `False`. However, `top_p` is set to `0.9` -- this flag is only used in sample-based generation modes. You should set `do_sample=True` or unset `top_p`.\n",
            "  warnings.warn(\n",
            "The attention mask is not set and cannot be inferred from input because pad token is same as eos token. As a consequence, you may observe unexpected behavior. Please pass your input's `attention_mask` to obtain reliable results.\n"
          ]
        },
        {
          "name": "stdout",
          "output_type": "stream",
          "text": [
            "Input Text: 꽃살버섯샐러드 한그릇과 스테이크올리오스파게티 세트를 주세요.\n"
          ]
        },
        {
          "name": "stderr",
          "output_type": "stream",
          "text": [
            "\rGenerating Outputs:   0%|          | 1/200 [00:08<27:23,  8.26s/it]"
          ]
        },
        {
          "name": "stdout",
          "output_type": "stream",
          "text": [
            "Result: - 분석 결과 0: 음식명:꽃살버섯샐러드,수량:한그릇\n",
            "- 분석 결과 1: 음식명:스테이크올리오스파게티,수량:세트\n",
            "- 분석 결과 2: 음식명:꽃살버섯샐러드,옵션:스파게티,수량:한그릇\n",
            "- 분석 결과 3: 음식명:스테이크올리오스파게티,수량:세트\n",
            "Input Text: 교촌통통치킨카츠 한 판, 행복지수커피 한잔, 그리고 헤즐넛 핫 하나도 주세요.\n"
          ]
        },
        {
          "name": "stderr",
          "output_type": "stream",
          "text": [
            "\rGenerating Outputs:   1%|          | 2/200 [00:13<21:32,  6.53s/it]"
          ]
        },
        {
          "name": "stdout",
          "output_type": "stream",
          "text": [
            "Result: - 분석 결과 0: 음식명:교촌통통치킨카츠, 수량:한 판\n",
            "- 분석 결과 1: 음식명:행복지수커피, 수량:한잔\n",
            "- 분석 결과 2: 음식명:헤즐넛, 옵션:핫, 수량:하나.\n",
            "Input Text: 에스프레소도피오(핫) 한잔과 진하게 허니티 한 잔 주세요.\n"
          ]
        },
        {
          "name": "stderr",
          "output_type": "stream",
          "text": [
            "\rGenerating Outputs:   2%|▏         | 3/200 [00:17<17:08,  5.22s/it]"
          ]
        },
        {
          "name": "stdout",
          "output_type": "stream",
          "text": [
            "Result: - 분석 결과 0: 음식명:에스프레소도피오,옵션:핫,수량:한잔\n",
            "- 분석 결과 1: 음식명:허니티,옵션:진하게,수량:한 잔.\n",
            "Input Text: 밀크티 두 캔에, 도토리묵밥 한 그릇이랑 동치미 한병 주세요.\n"
          ]
        },
        {
          "name": "stderr",
          "output_type": "stream",
          "text": [
            "\rGenerating Outputs:   2%|▏         | 4/200 [00:21<16:14,  4.97s/it]"
          ]
        },
        {
          "name": "stdout",
          "output_type": "stream",
          "text": [
            "Result: - 분석 결과 0: 음식명:밀크티,수량:두 캔\n",
            "- 분석 결과 1: 음식명:도토리묵밥,수량:한 그릇\n",
            "- 분석 결과 2: 음식명:동치미,수량:한병.\n",
            "Input Text: 열무국수 한 그릇 곱배기로 주시고, 칼국수도 한 뚝배기요.\n"
          ]
        },
        {
          "name": "stderr",
          "output_type": "stream",
          "text": [
            "\rGenerating Outputs:   2%|▎         | 5/200 [00:26<16:08,  4.97s/it]"
          ]
        },
        {
          "name": "stdout",
          "output_type": "stream",
          "text": [
            "Result: - 분석 결과 0: 음식명:열무국수,옵션:곱배기,수량:한 그릇\n",
            "- 분석 결과 1: 음식명:칼국수,옵션:뚝배기,수량:한 뚝배기.\n",
            "Input Text: 식당에서 제일 잘나가는 \"민족치킨\" 하나 주세요, 그리고 토란줄기 감자탕도 하나 추가요.\n"
          ]
        },
        {
          "name": "stderr",
          "output_type": "stream",
          "text": [
            "\rGenerating Outputs:   3%|▎         | 6/200 [00:29<13:40,  4.23s/it]"
          ]
        },
        {
          "name": "stdout",
          "output_type": "stream",
          "text": [
            "Result: - 분석 결과 0: 음식명:민족치킨, 수량:하나\n",
            "- 분석 결과 1: 음식명:토란줄기 감자탕, 수량:하나.\n",
            "Input Text: 오늘 저녁은 참치모듬 하나랑 제육두루치기 둘 주세요.\n"
          ]
        },
        {
          "name": "stderr",
          "output_type": "stream",
          "text": [
            "\rGenerating Outputs:   4%|▎         | 7/200 [00:32<11:59,  3.73s/it]"
          ]
        },
        {
          "name": "stdout",
          "output_type": "stream",
          "text": [
            "Result: - 분석 결과 0: 음식명:참치모듬, 수량:하나\n",
            "- 분석 결과 1: 음식명:제육두루치기, 수량:둘\n",
            "Input Text: 구슬바닐라카페스무디 ICE 한잔이랑 준과랑치즈케익 하나 주세요.\n"
          ]
        },
        {
          "name": "stderr",
          "output_type": "stream",
          "text": [
            "\rGenerating Outputs:   4%|▍         | 8/200 [00:36<12:15,  3.83s/it]"
          ]
        },
        {
          "name": "stdout",
          "output_type": "stream",
          "text": [
            "Result: - 분석 결과 0: 음식명:구슬바닐라카페스무디,옵션:ICE,수량:한잔\n",
            "- 분석 결과 1: 음식명:준과치즈케익,수량:하나.\n",
            "Input Text: 라디오더치라떼 ICE 한잔하고요, 볼케이노피자 R 사이즈 한판 주세요.\n"
          ]
        },
        {
          "name": "stderr",
          "output_type": "stream",
          "text": [
            "\rGenerating Outputs:   4%|▍         | 9/200 [00:42<14:04,  4.42s/it]"
          ]
        },
        {
          "name": "stdout",
          "output_type": "stream",
          "text": [
            "Result: - 분석 결과 0: 음식명:라디오더치라떼,옵션:ICE,수량:한잔\n",
            "- 분석 결과 1: 음식명:볼케이노피자,옵션:R,수량:한판.\n",
            "Input Text: 물회 특 한그릇 대로 해주시고, 웨이퍼롤 바닐라 세트로 주세요.\n"
          ]
        },
        {
          "name": "stderr",
          "output_type": "stream",
          "text": [
            "\rGenerating Outputs:   5%|▌         | 10/200 [00:47<15:07,  4.78s/it]"
          ]
        },
        {
          "name": "stdout",
          "output_type": "stream",
          "text": [
            "Result: - 분석 결과 0: 음식명:물회,옵션:특,수량:한그릇\n",
            "- 분석 결과 1: 음식명:웨이퍼롤 바닐라 세트,수량:세트\n",
            "Input Text: 다크쇼콜라 L 사이즈 한잔 해주시고, 짜파게티 한개 주세요.\n"
          ]
        },
        {
          "name": "stderr",
          "output_type": "stream",
          "text": [
            "\rGenerating Outputs:   6%|▌         | 11/200 [00:52<15:32,  4.93s/it]"
          ]
        },
        {
          "name": "stdout",
          "output_type": "stream",
          "text": [
            "Result: - 분석 결과 0: 음식명:다크쇼콜라,옵션:L,수량:한잔\n",
            "- 분석 결과 1: 음식명:짜파게티,수량:한개\n",
            "Input Text: 코다리찜 중 사이즈 주시고, 클라우드라떼 S 사이즈 한잔 주세요.\n"
          ]
        },
        {
          "name": "stderr",
          "output_type": "stream",
          "text": [
            "\rGenerating Outputs:   6%|▌         | 12/200 [00:56<13:57,  4.45s/it]"
          ]
        },
        {
          "name": "stdout",
          "output_type": "stream",
          "text": [
            "Result: - 분석 결과 0: 음식명:코다리찜,옵션:중\n",
            "- 분석 결과 1: 음식명:클라우드라떼,옵션:S,수량:한잔.\n",
            "Input Text: 제주두루치기 2인분 주시고, B set 800g으로 주세요.\n"
          ]
        },
        {
          "name": "stderr",
          "output_type": "stream",
          "text": [
            "\rGenerating Outputs:   6%|▋         | 13/200 [00:59<13:02,  4.19s/it]"
          ]
        },
        {
          "name": "stdout",
          "output_type": "stream",
          "text": [
            "Result: - 분석 결과 0: 음식명:제주두루치기, 수량:2인분\n",
            "- 분석 결과 1: 음식명:B set, 옵션:800g. 수량:수량을 차례대로 추출해야 한다.\n",
            "Input Text: 오울블루 한그릇 주시고, 라면에 계란 추가해서 주세요.\n"
          ]
        },
        {
          "name": "stderr",
          "output_type": "stream",
          "text": [
            "\rGenerating Outputs:   7%|▋         | 14/200 [01:03<12:12,  3.94s/it]"
          ]
        },
        {
          "name": "stdout",
          "output_type": "stream",
          "text": [
            "Result: - 분석 결과 0: 음식명:오울블루,수량:한그릇\n",
            "- 분석 결과 1: 음식명:라면,옵션:계란추가,수량:한그릇.\n",
            "Input Text: 돈가스덮밥 등심 한그릇 주시고, 심심풀이새우깡 하나 주세요.\n"
          ]
        },
        {
          "name": "stderr",
          "output_type": "stream",
          "text": [
            "\rGenerating Outputs:   8%|▊         | 15/200 [01:08<12:56,  4.20s/it]"
          ]
        },
        {
          "name": "stdout",
          "output_type": "stream",
          "text": [
            "Result: - 분석 결과 0: 음식명:돈가스덮밥,옵션:등심,수량:한그릇\n",
            "- 분석 결과 1: 음식명:심심풀이새우깡,수량:하나.\n",
            "Input Text: 금준미홍차 한잔하고, 까망베르치즈구이 하나 주시고, 젤라또 초코 한개 주세요.\n"
          ]
        },
        {
          "name": "stderr",
          "output_type": "stream",
          "text": [
            "\rGenerating Outputs:   8%|▊         | 16/200 [01:12<12:58,  4.23s/it]"
          ]
        },
        {
          "name": "stdout",
          "output_type": "stream",
          "text": [
            "Result: - 분석 결과 0: 음식명:금준미홍차,수량:한잔\n",
            "- 분석 결과 1: 음식명: 까망베르치즈구이,수량:하나\n",
            "- 분석 결과 2: 음식명: 젤라또 초코,수량:한개.\n",
            "Input Text: 불목살 중자 200g와 꼬치어묵 세 개, 흑당버블밀크티 아이스 레귤러 사이즈 두 잔 주세요.\n"
          ]
        },
        {
          "name": "stderr",
          "output_type": "stream",
          "text": [
            "\rGenerating Outputs:   8%|▊         | 17/200 [01:17<14:09,  4.64s/it]"
          ]
        },
        {
          "name": "stdout",
          "output_type": "stream",
          "text": [
            "Result: - 분석 결과 0: 음식명:불목살,옵션:중자,수량:200g\n",
            "- 분석 결과 1: 음식명:꼬치어묵,수량:세 개\n",
            "- 분석 결과 2: 음식명:흑당버블밀크티,옵션:아이스,레귤러,수량:두 잔.\n",
            "Input Text: 오늘은 호두아몬드파티 24cm 한 판, 블루베리스무디 XL사이즈 두 잔으로 할게요.\n"
          ]
        },
        {
          "name": "stderr",
          "output_type": "stream",
          "text": [
            "\rGenerating Outputs:   9%|▉         | 18/200 [01:22<14:24,  4.75s/it]"
          ]
        },
        {
          "name": "stdout",
          "output_type": "stream",
          "text": [
            "Result: - 분석 결과 0: 음식명:호두아몬드파티,옵션:24cm,수량:한 판\n",
            "- 분석 결과 1: 음식명:블루베리스무디,옵션:XL사이즈,수량:두 잔.\n",
            "Input Text: 모두가 좋아하는 돈돈탕 중자 한 그릇, 옥수수 한 개 주세요.\n"
          ]
        },
        {
          "name": "stderr",
          "output_type": "stream",
          "text": [
            "\rGenerating Outputs:  10%|▉         | 19/200 [01:26<12:57,  4.30s/it]"
          ]
        },
        {
          "name": "stdout",
          "output_type": "stream",
          "text": [
            "Result: - 분석 결과 0: 음식명:돈돈탕,옵션:중자,수량:한 그릇\n",
            "- 분석 결과 1: 음식명:옥수수,수량:한 개.\n",
            "Input Text: 카라멜프라페 그란데 사이즈 한 잔, 닭불고기백반 1개 주세요.\n"
          ]
        },
        {
          "name": "stderr",
          "output_type": "stream",
          "text": [
            "\rGenerating Outputs:  10%|█         | 20/200 [01:29<12:09,  4.05s/it]"
          ]
        },
        {
          "name": "stdout",
          "output_type": "stream",
          "text": [
            "Result: - 분석 결과 0: 음식명:카라멜프라페,옵션:그란데,수량:한 잔\n",
            "- 분석 결과 1: 음식명:닭불고기백반,수량:1개.\n",
            "Input Text: 징기스칸 양고기 220g하고 사리 당면 한 개 주시고, 아이스 말차라떼 이잔 주세요.\n"
          ]
        },
        {
          "name": "stderr",
          "output_type": "stream",
          "text": [
            "\rGenerating Outputs:  10%|█         | 21/200 [01:35<13:17,  4.46s/it]"
          ]
        },
        {
          "name": "stdout",
          "output_type": "stream",
          "text": [
            "Result: - 분석 결과 0: 음식명:징기스칸,옵션:양고기,수량:220g\n",
            "- 분석 결과 1: 음식명:사리 당면,수량:한 개\n",
            "- 분석 결과 2: 음식명:아이스 말차라떼,수량:이잔\n",
            "Input Text: 보쌈 세트 한 판, 리얼 고구마라떼 라지 사이즈로 한 잔 주세요.\n"
          ]
        },
        {
          "name": "stderr",
          "output_type": "stream",
          "text": [
            "\rGenerating Outputs:  11%|█         | 22/200 [01:38<12:33,  4.23s/it]"
          ]
        },
        {
          "name": "stdout",
          "output_type": "stream",
          "text": [
            "Result: - 분석 결과 0: 음식명:보쌈 세트, 수량:한 판\n",
            "- 분석 결과 1: 음식명:리얼 고구마라떼, 옵션:라지, 수량:한 잔.\n",
            "Input Text: 치즈크레커 두 판, 레몬에이드 ICE 레귤러 한 잔 주세요.\n"
          ]
        },
        {
          "name": "stderr",
          "output_type": "stream",
          "text": [
            "\rGenerating Outputs:  12%|█▏        | 23/200 [01:42<11:42,  3.97s/it]"
          ]
        },
        {
          "name": "stdout",
          "output_type": "stream",
          "text": [
            "Result: - 분석 결과 0: 음식명:치즈크레커,수량:두 판\n",
            "- 분석 결과 1: 음식명:레몬에이드,옵션:ICE 레귤러,수량:한 잔.\n",
            "Input Text: 오도독살 180g, 빵 추가 한개 주세요.\n"
          ]
        },
        {
          "name": "stderr",
          "output_type": "stream",
          "text": [
            "\rGenerating Outputs:  12%|█▏        | 24/200 [01:44<10:27,  3.57s/it]"
          ]
        },
        {
          "name": "stdout",
          "output_type": "stream",
          "text": [
            "Result: - 분석 결과 0: 음식명:오도독살,옵션:180g\n",
            "- 분석 결과 1: 음식명:빵,수량:한개\n",
            "Input Text: 한방 대나무 통삼계탕 두인분, 한우익힘 비빔밥 점심 메뉴 한 개 주세요.\n"
          ]
        },
        {
          "name": "stderr",
          "output_type": "stream",
          "text": [
            "\rGenerating Outputs:  12%|█▎        | 25/200 [01:48<10:55,  3.75s/it]"
          ]
        },
        {
          "name": "stdout",
          "output_type": "stream",
          "text": [
            "Result: - 분석 결과 0: 음식명:한방 대나무 통삼계탕, 수량:두인분\n",
            "- 분석 결과 1: 음식명:한우익힘 비빔밥, 수량:한 개.\n",
            "Input Text: 코다리등갈비찜 소 자로 주시고, 칡찐빵6개 주세요.\n"
          ]
        },
        {
          "name": "stderr",
          "output_type": "stream",
          "text": [
            "\rGenerating Outputs:  13%|█▎        | 26/200 [01:52<10:39,  3.68s/it]"
          ]
        },
        {
          "name": "stdout",
          "output_type": "stream",
          "text": [
            "Result: - 분석 결과 0: 음식명:코다리등갈비찜,옵션:소자\n",
            "- 분석 결과 1: 음식명:칡찐빵,수량:6개\n",
            "Input Text: 오늘은 일욜이네, 송어통매운탕 하나랑 무침을 추가로 주시겠어요?\n"
          ]
        },
        {
          "name": "stderr",
          "output_type": "stream",
          "text": [
            "\rGenerating Outputs:  14%|█▎        | 27/200 [01:55<09:50,  3.42s/it]"
          ]
        },
        {
          "name": "stdout",
          "output_type": "stream",
          "text": [
            "Result: - 분석 결과 0: 음식명:송어통매운탕, 수량:하나\n",
            "- 분석 결과 1: 음식명:무침, 수량:추가로 주세요.\n",
            "Input Text: 콩국수 두 그릇과 미니계란탕 한 개 부탁드려요.\n"
          ]
        },
        {
          "name": "stderr",
          "output_type": "stream",
          "text": [
            "\rGenerating Outputs:  14%|█▍        | 28/200 [01:57<09:13,  3.22s/it]"
          ]
        },
        {
          "name": "stdout",
          "output_type": "stream",
          "text": [
            "Result: - 분석 결과 0: 음식명:콩국수, 수량:두 그릇\n",
            "- 분석 결과 1: 음식명:미니계란탕, 수량:한 개\n",
            "Input Text: 제주흑돼지두루치기 2인분 주세요. 그리고 카라멜카페모카 아이스로 할게요.\n"
          ]
        },
        {
          "name": "stderr",
          "output_type": "stream",
          "text": [
            "\rGenerating Outputs:  14%|█▍        | 29/200 [02:02<10:02,  3.53s/it]"
          ]
        },
        {
          "name": "stdout",
          "output_type": "stream",
          "text": [
            "Result: - 분석 결과 0: 음식명:제주흑돼지두루치기, 수량:2인분\n",
            "- 분석 결과 1: 음식명:카라멜카페모카, 옵션:아이스, 수량:한잔.\n",
            "Input Text: 몬테스클래식멜롯 한병과 칡냉면 한그릇 주세요\n"
          ]
        },
        {
          "name": "stderr",
          "output_type": "stream",
          "text": [
            "\rGenerating Outputs:  15%|█▌        | 30/200 [02:06<10:13,  3.61s/it]"
          ]
        },
        {
          "name": "stdout",
          "output_type": "stream",
          "text": [
            "Result: - 분석 결과 0: 음식명:몬테스클래식멜LOT,수량:한병\n",
            "- 분석 결과 1: 음식명:칡냉면,수량:한그릇.\n",
            "Input Text: 참치마요주먹밥 2개랑  카페모카 아이스로 1잔 주세요.\n"
          ]
        },
        {
          "name": "stderr",
          "output_type": "stream",
          "text": [
            "\rGenerating Outputs:  16%|█▌        | 31/200 [02:09<10:00,  3.55s/it]"
          ]
        },
        {
          "name": "stdout",
          "output_type": "stream",
          "text": [
            "Result: - 분석 결과 0: 음식명:참치마요주먹밥, 수량:2개\n",
            "- 분석 결과 1: 음식명:카페모카, 옵션:아이스, 수량:1잔.\n",
            "Input Text: 주말이니까 한번 신나게 먹어볼까? 배터지게 음식을 주문해봅니다, 약초삼계탕 곱배기, 포도 1개, 그리고 키위쥬스대해 한 잔까지 맘껏 즐겨볼까요.\n"
          ]
        },
        {
          "name": "stderr",
          "output_type": "stream",
          "text": [
            "\rGenerating Outputs:  16%|█▌        | 32/200 [02:18<14:21,  5.13s/it]"
          ]
        },
        {
          "name": "stdout",
          "output_type": "stream",
          "text": [
            "Result: - 분석 결과 0: 음식명:양초삼계탕,옵션:곱배기\n",
            "- 분석 결과 1: 음식명:포도,수량:1개\n",
            "- 분석 결과 2: 음식명:키위쥬스대해,수량:한 잔\n",
            "- 분석 결과 3: 음식명:배터지게 음식,옵션:음식명:양념,수량:한 판\n",
            "- 분석 결과 4: 음식명:포도,수량:한 개\n",
            "Input Text: 그냥라면 1개랑 갈비닭 한 개 주세요.\n"
          ]
        },
        {
          "name": "stderr",
          "output_type": "stream",
          "text": [
            "\rGenerating Outputs:  16%|█▋        | 33/200 [02:21<12:21,  4.44s/it]"
          ]
        },
        {
          "name": "stdout",
          "output_type": "stream",
          "text": [
            "Result: - 분석 결과 0: 음식명:그런라면,수량:1개\n",
            "- 분석 결과 1: 음식명:갈비닭,수량:한 개\n",
            "Input Text: 찬바람이 불어오니까 그냥라면 하나랑 핫코코아 한 잔 주세요.\n"
          ]
        },
        {
          "name": "stderr",
          "output_type": "stream",
          "text": [
            "\rGenerating Outputs:  17%|█▋        | 34/200 [02:23<10:48,  3.90s/it]"
          ]
        },
        {
          "name": "stdout",
          "output_type": "stream",
          "text": [
            "Result: - 분석 결과 0: 음식명:justrae, 수량:하나\n",
            "- 분석 결과 1: 음식명:핫코코아, 수량:한 잔.\n",
            "Input Text: 두루치기 1인분하고요, 병맥주 중자 주세요. 그리고 날다닭마늘치킨 반도 한 번 해주세요.\n"
          ]
        },
        {
          "name": "stderr",
          "output_type": "stream",
          "text": [
            "\rGenerating Outputs:  18%|█▊        | 35/200 [02:28<11:22,  4.14s/it]"
          ]
        },
        {
          "name": "stdout",
          "output_type": "stream",
          "text": [
            "Result: - 분석 결과 0: 음식명:두루치기,수량:1인분\n",
            "- 분석 결과 1: 음식명:병맥주,옵션:중자\n",
            "- 분석 결과 2: 음식명:날다닭마늘치킨,수량:한 번,옵션:반도\n",
            "Input Text: 홍대피자 한 판 하고 바닐라 라떼 스몰 한잔 주세요. 그리고 해물파전도 추가로 주세요.\n"
          ]
        },
        {
          "name": "stderr",
          "output_type": "stream",
          "text": [
            "\rGenerating Outputs:  18%|█▊        | 36/200 [02:34<12:50,  4.70s/it]"
          ]
        },
        {
          "name": "stdout",
          "output_type": "stream",
          "text": [
            "Result: - 분석 결과 0: 음식명:홍대피자,수량:한 판\n",
            "- 분석 결과 1: 음식명:바닐라 라떼,옵션:스몰,수량:한잔\n",
            "- 분석 결과 2: 음식명:해물파전,수량:추가로 주세요.\n",
            "Input Text: 빡도니삼겹살 한판이랑 공기밥 2개 주세요.\n"
          ]
        },
        {
          "name": "stderr",
          "output_type": "stream",
          "text": [
            "\rGenerating Outputs:  18%|█▊        | 37/200 [02:37<11:18,  4.16s/it]"
          ]
        },
        {
          "name": "stdout",
          "output_type": "stream",
          "text": [
            "Result: - 분석 결과 0: 음식명:빡도니삼겹살, 수량:한판\n",
            "- 분석 결과 1: 음식명:공기밥, 수량:2개\n",
            "Input Text: 우롱밀크티 J 사이즈로 하나 요청드려요.\n"
          ]
        },
        {
          "name": "stderr",
          "output_type": "stream",
          "text": [
            "\rGenerating Outputs:  19%|█▉        | 38/200 [02:42<12:05,  4.48s/it]"
          ]
        },
        {
          "name": "stdout",
          "output_type": "stream",
          "text": [
            "Result: - 분석 결과 0: 음식명:우롱밀크티, 옵션:J 사이즈, 수량:하나\n",
            "- 분석 결과 1: 음식명:밀크티, 옵션:우롱, 수량:하나. \n",
            "- 분석 결과 2: 음식명:우롱밀크티, 옵션:J 사이즈, 수량:하나.\n",
            "Input Text: 모둠어묵 두그릇 주시고 또, 음료 콜라 355ml 한캔 주세요.\n"
          ]
        },
        {
          "name": "stderr",
          "output_type": "stream",
          "text": [
            "\rGenerating Outputs:  20%|█▉        | 39/200 [02:49<14:16,  5.32s/it]"
          ]
        },
        {
          "name": "stdout",
          "output_type": "stream",
          "text": [
            "Result: - 분석 결과 0: 음식명:모둠어묵, 수량:두그릇\n",
            "- 분석 결과 1: 음식명:콜라, 옵션:355ml, 수량:한캔\n",
            "Input Text: 보쌈 고기추가로 주세요. 그리고 사리 라면 한그릇 주세요.\n"
          ]
        },
        {
          "name": "stderr",
          "output_type": "stream",
          "text": [
            "\rGenerating Outputs:  20%|██        | 40/200 [02:53<13:07,  4.92s/it]"
          ]
        },
        {
          "name": "stdout",
          "output_type": "stream",
          "text": [
            "Result: - 분석 결과 0: 음식명:보쌈,옵션:고기추가\n",
            "- 분석 결과 1: 음식명:사리 라면,수량:한그릇.\n",
            "Input Text: 시골쌈밥정식에 삼겹살 더 추가해주시고, 한치땅콩도 하나 주세요.\n"
          ]
        },
        {
          "name": "stderr",
          "output_type": "stream",
          "text": [
            "\rGenerating Outputs:  20%|██        | 41/200 [02:57<11:56,  4.51s/it]"
          ]
        },
        {
          "name": "stdout",
          "output_type": "stream",
          "text": [
            "Result: - 분석 결과 0: 음식명:시골쌈밥정식,옵션:삼겹살,수량:한판\n",
            "- 분석 결과 1: 음식명:한치땅콩,수량:하나.\n",
            "Input Text: 아포카토 Iced로 2잔 주세요.\n"
          ]
        },
        {
          "name": "stderr",
          "output_type": "stream",
          "text": [
            "\rGenerating Outputs:  21%|██        | 42/200 [03:01<11:29,  4.37s/it]"
          ]
        },
        {
          "name": "stdout",
          "output_type": "stream",
          "text": [
            "Result: - 분석 결과 0: 음식명:아포카토,옵션:Iced,수량:2잔\n",
            "- 분석 결과 1: 음식명:아포카토,옵션:ICE,수량:2잔\n",
            "Input Text: 모듬 4인분 750g으로 주시고, 별미오뎅 추가 4개도 주세요.\n"
          ]
        },
        {
          "name": "stderr",
          "output_type": "stream",
          "text": [
            "\rGenerating Outputs:  22%|██▏       | 43/200 [03:04<10:48,  4.13s/it]"
          ]
        },
        {
          "name": "stdout",
          "output_type": "stream",
          "text": [
            "Result: - 분석 결과 0: 음식명:모듬, 옵션:750g, 수량:4인분\n",
            "- 분석 결과 1: 음식명:별미오뎅, 수량:4개\n",
            "Input Text: 트레디셔널 M 사이즈로 하나 주세요. 그리고 수제청귤 ICE 옵션 한잔도 요청드립니다.\n"
          ]
        },
        {
          "name": "stderr",
          "output_type": "stream",
          "text": [
            "\rGenerating Outputs:  22%|██▏       | 44/200 [03:10<11:38,  4.48s/it]"
          ]
        },
        {
          "name": "stdout",
          "output_type": "stream",
          "text": [
            "Result: - 분석 결과 0: 음식명:트레디셔널,옵션:M,수량:하나\n",
            "- 분석 결과 1: 음식명:수제청귤,옵션:ICE,수량:한잔\n",
            "Input Text: 베이컨 포테이토 L 사이즈 한개랑, 카페모카 hot/L 두잔 주세요.\n"
          ]
        },
        {
          "name": "stderr",
          "output_type": "stream",
          "text": [
            "\rGenerating Outputs:  22%|██▎       | 45/200 [03:15<11:47,  4.56s/it]"
          ]
        },
        {
          "name": "stdout",
          "output_type": "stream",
          "text": [
            "Result: - 분석 결과 0: 음식명:베이컨 포테이토, 옵션:L, 수량:한개\n",
            "- 분석 결과 1: 음식명:카페모카, 옵션:hot/L, 수량:두잔.\n",
            "Input Text: 패밀리 세트 하나랑 새우깡 두개 더 추가해 주세요.\n"
          ]
        },
        {
          "name": "stderr",
          "output_type": "stream",
          "text": [
            "\rGenerating Outputs:  23%|██▎       | 46/200 [03:21<12:56,  5.04s/it]"
          ]
        },
        {
          "name": "stdout",
          "output_type": "stream",
          "text": [
            "Result: - 분석 결과 0: 음식명:패밀리 세트, 수량:하나\n",
            "- 분석 결과 1: 음식명:새우깡, 수량:두개, 옵션:추가해 주세요.\n",
            "Input Text: 순살한 마리 칠리로 변경하고요. 찜햇닭강정 싱글 한 개 주세요.\n"
          ]
        },
        {
          "name": "stderr",
          "output_type": "stream",
          "text": [
            "\rGenerating Outputs:  24%|██▎       | 47/200 [03:32<17:26,  6.84s/it]"
          ]
        },
        {
          "name": "stdout",
          "output_type": "stream",
          "text": [
            "Result: - 분석 결과 0: 음식명:순살한 마리, 옵션:칠리\n",
            "- 분석 결과 1: 음식명:찜햇닭강정, 수량:한 개\n",
            "- 분석 결과 2: 음식명:찜뼈, 수량:한 개. \n",
            "- 분석 결과 3: 음식명:찜뼈, 수량:한 개. \n",
            "- 분석 결과 4: 음식명:찜뼈, 수량:한 개. \n",
            "- 분석 결과 5: 음식명:\n",
            "Input Text: 찜 비취교자 5개에요. 두부조림 2인분 주세요.\n"
          ]
        },
        {
          "name": "stderr",
          "output_type": "stream",
          "text": [
            "\rGenerating Outputs:  24%|██▍       | 48/200 [03:35<14:21,  5.67s/it]"
          ]
        },
        {
          "name": "stdout",
          "output_type": "stream",
          "text": [
            "Result: - 분석 결과 0: 음식명:찜 비취교자, 수량:5개\n",
            "- 분석 결과 1: 음식명:두부조림, 수량:2인분.\n",
            "Input Text: 오늘은 제육삼구비빔밥 하나랑 떡볶이 한 그릇 주세요.\n"
          ]
        },
        {
          "name": "stderr",
          "output_type": "stream",
          "text": [
            "\rGenerating Outputs:  24%|██▍       | 49/200 [03:39<13:01,  5.17s/it]"
          ]
        },
        {
          "name": "stdout",
          "output_type": "stream",
          "text": [
            "Result: - 분석 결과 0: 음식명:제육삼구비빔밥,수량:하나\n",
            "- 분석 결과 1: 음식명:떡볶이,수량:한 그릇.\n",
            "Input Text: 포슬포슬한 뼈삼겹살과 막창구이 곱배기 주세요.\n"
          ]
        },
        {
          "name": "stderr",
          "output_type": "stream",
          "text": [
            "\rGenerating Outputs:  25%|██▌       | 50/200 [03:45<13:41,  5.48s/it]"
          ]
        },
        {
          "name": "stdout",
          "output_type": "stream",
          "text": [
            "Result: - 분석 결과 0: 음식명:포슬포슬한 뼈삼겹살\n",
            "- 분석 결과 1: 음식명:막창구이,옵션:곱배기,수량:한판.\n",
            "Input Text: 오늘은 비빔밥과 떡볶이를 먹고 싶어요. 그러니까, 둘 다 한 그릇씩 주세요.\n"
          ]
        },
        {
          "name": "stderr",
          "output_type": "stream",
          "text": [
            "\rGenerating Outputs:  26%|██▌       | 51/200 [03:54<16:41,  6.72s/it]"
          ]
        },
        {
          "name": "stdout",
          "output_type": "stream",
          "text": [
            "Result: - 분석 결과 0: 음식명:비빔밥, 수량:한 그릇\n",
            "- 분석 결과 1: 음식명:떡볶이, 수량:한 그릇\n",
            "- 분석 결과 2: 음식명:비빔밥, 수량:한 그릇\n",
            "- 분석 결과 3: 음식명:떡볶이, 수량:한 그릇\n",
            "- 분석 결과 4: 음식명:비빔밥, 수량:한 그릇\n",
            "- 분석 결과 5: 음\n",
            "Input Text: 제육볶음 곱배기 하나와 김치찌개 한 그릇 주세요.\n"
          ]
        },
        {
          "name": "stderr",
          "output_type": "stream",
          "text": [
            "\rGenerating Outputs:  26%|██▌       | 52/200 [03:58<14:25,  5.85s/it]"
          ]
        },
        {
          "name": "stdout",
          "output_type": "stream",
          "text": [
            "Result: - 분석 결과 0: 음식명:제육볶음,옵션:곱배기,수량:하나\n",
            "- 분석 결과 1: 음식명:김치찌개,수량:한 그릇.\n",
            "Input Text: 순살후라이드 두 개랑 라지 사이즈 코카콜라 주세요.\n"
          ]
        },
        {
          "name": "stderr",
          "output_type": "stream",
          "text": [
            "\rGenerating Outputs:  26%|██▋       | 53/200 [04:02<13:02,  5.32s/it]"
          ]
        },
        {
          "name": "stdout",
          "output_type": "stream",
          "text": [
            "Result: - 분석 결과 0: 음식명:순살후라이드,수량:두 개\n",
            "- 분석 결과 1: 음식명:코카콜라,옵션:라지사이즈,수량:두 개.\n",
            "Input Text: 치킨 가라아게 한 판과 김치볶음밥 한 그릇 주세요.\n"
          ]
        },
        {
          "name": "stderr",
          "output_type": "stream",
          "text": [
            "\rGenerating Outputs:  27%|██▋       | 54/200 [04:06<11:22,  4.68s/it]"
          ]
        },
        {
          "name": "stdout",
          "output_type": "stream",
          "text": [
            "Result: - 분석 결과 0: 음식명:치킨 가라아게, 수량:한 판\n",
            "- 분석 결과 1: 음식명:김치볶음밥, 수량:한 그릇.\n",
            "Input Text: 소고기 덮밥 한 그릇이랑 미니 사이즈 라면 추가해 주세요.\n"
          ]
        },
        {
          "name": "stderr",
          "output_type": "stream",
          "text": [
            "\rGenerating Outputs:  28%|██▊       | 55/200 [04:09<10:09,  4.21s/it]"
          ]
        },
        {
          "name": "stdout",
          "output_type": "stream",
          "text": [
            "Result: - 분석 결과 0: 음식명:소고기 덮밥, 수량:한 그릇\n",
            "- 분석 결과 1: 음식명:미니 사이즈 라면, 수량:추가\n",
            "Input Text: 홍합탕과 타릭피자를 주문할게요. 그리고 사이다 두 캔 주세요.\n"
          ]
        },
        {
          "name": "stderr",
          "output_type": "stream",
          "text": [
            "\rGenerating Outputs:  28%|██▊       | 56/200 [04:12<09:32,  3.98s/it]"
          ]
        },
        {
          "name": "stdout",
          "output_type": "stream",
          "text": [
            "Result: - 분석 결과 0: 음식명:홍합탕\n",
            "- 분석 결과 1: 음식명:타릭피자\n",
            "- 분석 결과 2: 음식명:사이다,수량:두 캔.\n",
            "Input Text: \"시레기 오리백숙 한 개 주문하고 카페라떼 톨 사이즈로 둘 주세요.\"\n"
          ]
        },
        {
          "name": "stderr",
          "output_type": "stream",
          "text": [
            "\rGenerating Outputs:  28%|██▊       | 57/200 [04:16<09:31,  3.99s/it]"
          ]
        },
        {
          "name": "stdout",
          "output_type": "stream",
          "text": [
            "Result: - 분석 결과 0: 음식명:시레기 오리백숙, 수량:한 개\n",
            "- 분석 결과 1: 음식명:카페라떼, 옵션:톨, 수량:둘\n",
            "Input Text: \"기린가족해피피크닉 15cm 한 판과 다음으로는 마늘족발 세트 XL 하나입니다.\"\n"
          ]
        },
        {
          "name": "stderr",
          "output_type": "stream",
          "text": [
            "\rGenerating Outputs:  29%|██▉       | 58/200 [04:21<09:52,  4.17s/it]"
          ]
        },
        {
          "name": "stdout",
          "output_type": "stream",
          "text": [
            "Result: - 분석 결과 0: 음식명:기린가족해피피크닉,옵션:15cm,수량:한 판\n",
            "- 분석 결과 1: 음식명:마늘족발,옵션:세트 XL,수량:하나.\n",
            "Input Text: \"모카요프치노 한잔 고고. 추가로 참게탕에 라면사리 넣어주세요\"\n"
          ]
        },
        {
          "name": "stderr",
          "output_type": "stream",
          "text": [
            "\rGenerating Outputs:  30%|██▉       | 59/200 [04:27<10:56,  4.66s/it]"
          ]
        },
        {
          "name": "stdout",
          "output_type": "stream",
          "text": [
            "Result: - 분석 결과 0: 음식명:모카요프치노, 수량:한잔\n",
            "- 분석 결과 1: 음식명:참게탕, 옵션:라면사리, 수량:한잔.\n",
            "Input Text: \"고기듬뿍김치찌개 한그릇입니다. 올라는 그냥 볼록만 주세요.\"\n"
          ]
        },
        {
          "name": "stderr",
          "output_type": "stream",
          "text": [
            "\rGenerating Outputs:  30%|███       | 60/200 [04:35<13:26,  5.76s/it]"
          ]
        },
        {
          "name": "stdout",
          "output_type": "stream",
          "text": [
            "Result: - 분석 결과 0: 음식명:고기듬뿍김치찌개, 수량:한그릇\n",
            "- 분석 결과 1: 음식명:올라라, 옵션:볼록만, 수량:한그릇.\n",
            "Input Text: \"알탕은 한인분하고요. 좀 맵게 해주세요. 그리고 수비드삼겹살수육 대자 한 판 주세요.\"\n"
          ]
        },
        {
          "name": "stderr",
          "output_type": "stream",
          "text": [
            "\rGenerating Outputs:  30%|███       | 61/200 [04:41<13:35,  5.87s/it]"
          ]
        },
        {
          "name": "stdout",
          "output_type": "stream",
          "text": [
            "Result: - 분석 결과 0: 음식명:알탕,옵션:맵게\n",
            "- 분석 결과 1: 음식명:수비드삼겹살수육,옵션:대자,수량:한 판.\n",
            "Input Text: \"땡초불꽃치킨 한마리랑 슈크림라떼 reg 사이즈 두 잔 주문하겠습니다.\"\n"
          ]
        },
        {
          "name": "stderr",
          "output_type": "stream",
          "text": [
            "\rGenerating Outputs:  31%|███       | 62/200 [04:50<15:43,  6.84s/it]"
          ]
        },
        {
          "name": "stdout",
          "output_type": "stream",
          "text": [
            "Result: - 분석 결과 0: 음식명:땡초불꽃치킨, 수량:한마리\n",
            "- 분석 결과 1: 음식명:슈크림라떼, 옵션:reg, 수량:두 잔.\n",
            "Input Text: \"우리동네국수 1그릇, 우리밀국수 2그릇 주세요. 그리고 라면 떡추가로 주실 수 있나요?\"\n"
          ]
        },
        {
          "name": "stderr",
          "output_type": "stream",
          "text": [
            "\rGenerating Outputs:  32%|███▏      | 63/200 [05:03<19:29,  8.53s/it]"
          ]
        },
        {
          "name": "stdout",
          "output_type": "stream",
          "text": [
            "Result: - 분석 결과 0: 음식명:우리동네국수, 수량:1그릇\n",
            "- 분석 결과 1: 음식명:우리밀국수, 수량:2그릇\n",
            "- 분석 결과 2: 음식명:라면, 옵션:떡추가, 수량:2개.\n",
            "Input Text: \"당근케익 한 개랑 볼로네제 두 개 주세요.\"\n"
          ]
        },
        {
          "name": "stderr",
          "output_type": "stream",
          "text": [
            "\rGenerating Outputs:  32%|███▏      | 64/200 [05:09<18:02,  7.96s/it]"
          ]
        },
        {
          "name": "stdout",
          "output_type": "stream",
          "text": [
            "Result: - 분석 결과 0: 음식명:당근케익, 수량:한 개\n",
            "- 분석 결과 1: 음식명:볼로네제, 수량:두 개.\n",
            "Input Text: \"페퍼로니피자 M 사이즈 두개와 오자몽블랙티 HOT 한잔 주세요.\"\n"
          ]
        },
        {
          "name": "stderr",
          "output_type": "stream",
          "text": [
            "\rGenerating Outputs:  32%|███▎      | 65/200 [05:15<16:28,  7.32s/it]"
          ]
        },
        {
          "name": "stdout",
          "output_type": "stream",
          "text": [
            "Result: - 분석 결과 0: 음식명:페퍼로니피자, 옵션:M, 수량:두개\n",
            "- 분석 결과 1: 음식명:오자몽블랙티, 옵션:HOT, 수량:한잔.\n",
            "Input Text: \"조니워커하이볼세트 200ml 주세요. 수입대게 하나도 추가해주세요.\"\n"
          ]
        },
        {
          "name": "stderr",
          "output_type": "stream",
          "text": [
            "\rGenerating Outputs:  33%|███▎      | 66/200 [05:19<13:47,  6.18s/it]"
          ]
        },
        {
          "name": "stdout",
          "output_type": "stream",
          "text": [
            "Result: - 분석 결과 0: 음식명:조니워커하이볼세트,옵션:200ml\n",
            "- 분석 결과 1: 음식명:수입대게,수량:하나.\n",
            "Input Text: 망고요거트 아이스 한잔 부탁드려요. 그리고 수닭세트 2인분 주세요.\n"
          ]
        },
        {
          "name": "stderr",
          "output_type": "stream",
          "text": [
            "\rGenerating Outputs:  34%|███▎      | 67/200 [05:23<12:36,  5.69s/it]"
          ]
        },
        {
          "name": "stdout",
          "output_type": "stream",
          "text": [
            "Result: - 분석 결과 0: 음식명:망고요거트,옵션:아이스,수량:한잔\n",
            "- 분석 결과 1: 음식명:수닭세트,수량:2인분.\n",
            "Input Text: 아이스티 레귤러 한 잔과 어린이음료 하나 주세요.\n"
          ]
        },
        {
          "name": "stderr",
          "output_type": "stream",
          "text": [
            "\rGenerating Outputs:  34%|███▍      | 68/200 [05:29<12:38,  5.75s/it]"
          ]
        },
        {
          "name": "stdout",
          "output_type": "stream",
          "text": [
            "Result: - 분석 결과 0: 음식명:아이스티,옵션:레귤러,수량:한 잔\n",
            "- 분석 결과 1: 음식명:어린이음료,수량:하나.\n",
            "Input Text: 참다랑어 200g 두판 주세요.\n"
          ]
        },
        {
          "name": "stderr",
          "output_type": "stream",
          "text": [
            "\rGenerating Outputs:  34%|███▍      | 69/200 [05:34<11:49,  5.41s/it]"
          ]
        },
        {
          "name": "stdout",
          "output_type": "stream",
          "text": [
            "Result: - 분석 결과 0: 음식명:참다랑어, 옵션:200g, 수량:두판\n",
            "- 분석 결과 1: 음식명:참다랑어, 수량:두판\n",
            "Input Text: 딸기쉐이크 한 잔, 바닐라아이스크림 아이스 한 개 주세요.\n"
          ]
        },
        {
          "name": "stderr",
          "output_type": "stream",
          "text": [
            "\rGenerating Outputs:  35%|███▌      | 70/200 [05:37<10:28,  4.83s/it]"
          ]
        },
        {
          "name": "stdout",
          "output_type": "stream",
          "text": [
            "Result: - 분석 결과 0: 음식명:딸기쉐이크,수량:한 잔\n",
            "- 분석 결과 1: 음식명:바닐라아이스크림,옵션:아이스,수량:한 개\n",
            "Input Text: 망고스무디 XL 사이즈 두 잔 주세요.\n"
          ]
        },
        {
          "name": "stderr",
          "output_type": "stream",
          "text": [
            "\rGenerating Outputs:  36%|███▌      | 71/200 [05:41<09:32,  4.44s/it]"
          ]
        },
        {
          "name": "stdout",
          "output_type": "stream",
          "text": [
            "Result: - 분석 결과 0: 음식명:망고스무디,옵션:XL,수량:두 잔\n",
            "- 분석 결과 1: 음식명:망고스무디,옵션:XL,수량:두 잔\n",
            "Input Text: 참다랑어초밥 12P 세트 한 개, 잼잼주먹밥 한 그릇 주세요.\n"
          ]
        },
        {
          "name": "stderr",
          "output_type": "stream",
          "text": [
            "\rGenerating Outputs:  36%|███▌      | 72/200 [05:46<09:48,  4.60s/it]"
          ]
        },
        {
          "name": "stdout",
          "output_type": "stream",
          "text": [
            "Result: - 분석 결과 0: 음식명:참다랑어초밥,옵션:12P 세트,수량:한 개\n",
            "- 분석 결과 1: 음식명:잼잼주먹밥,수량:한 그릇.\n",
            "Input Text: 한우스페셜 1인분 주문할게요. 그리고 수제차 메리골드 하나 주세요.\n"
          ]
        },
        {
          "name": "stderr",
          "output_type": "stream",
          "text": [
            "\rGenerating Outputs:  36%|███▋      | 73/200 [05:49<08:52,  4.19s/it]"
          ]
        },
        {
          "name": "stdout",
          "output_type": "stream",
          "text": [
            "Result: - 분석 결과 0: 음식명:한우스페셜,수량:1인분\n",
            "- 분석 결과 1: 음식명:수제차,옵션:메리골드,수량:하나.\n",
            "Input Text: 누룽지오리백숙 두 그릇 주세요.\n"
          ]
        },
        {
          "name": "stderr",
          "output_type": "stream",
          "text": [
            "\rGenerating Outputs:  37%|███▋      | 74/200 [05:57<11:17,  5.38s/it]"
          ]
        },
        {
          "name": "stdout",
          "output_type": "stream",
          "text": [
            "Result: - 분석 결과 0: 음식명:누룽지오리백숙, 수량:두 그릇\n",
            "- 분석 결과 1: 음식명:오리백숙, 수량:두 그릇. \n",
            "- 분석 결과 2: 음식명:누룽지오리백숙, 옵션:대, 수량:두 그릇. \n",
            "- 분석 결과 3: 음식명:오리백숙, 수량:두 그릇. \n",
            "- 분석 결과 4: 음식명:누룽지오리백숙\n",
            "Input Text: 그릴비프치즈랩 한 판, 치즈슈프림윙봉치킨 한 그릇 주세요.\n"
          ]
        },
        {
          "name": "stderr",
          "output_type": "stream",
          "text": [
            "\rGenerating Outputs:  38%|███▊      | 75/200 [06:03<11:51,  5.69s/it]"
          ]
        },
        {
          "name": "stdout",
          "output_type": "stream",
          "text": [
            "Result: - 분석 결과 0: 음식명:그릴비프치즈랩, 수량:한 판\n",
            "- 분석 결과 1: 음식명:치즈슈프림윙봉치킨, 수량:한 그릇.\n",
            "Input Text: 오리훈제영양돌솥밥 한 그릇, 찰밥 추가로 주세요.\n"
          ]
        },
        {
          "name": "stderr",
          "output_type": "stream",
          "text": [
            "\rGenerating Outputs:  38%|███▊      | 76/200 [06:09<11:49,  5.72s/it]"
          ]
        },
        {
          "name": "stdout",
          "output_type": "stream",
          "text": [
            "Result: - 분석 결과 0: 음식명:오리훈제영양돌솥밥,수량:한 그릇\n",
            "- 분석 결과 1: 음식명:찰밥,옵션:추가로 주세요.\n",
            "Input Text: 오늘은 칼칼하게 한우얼큰육개장 곱배기로 하나 주시고, 버블티밀크티 아이스로 한잔 주세요.\n"
          ]
        },
        {
          "name": "stderr",
          "output_type": "stream",
          "text": [
            "\rGenerating Outputs:  38%|███▊      | 77/200 [06:14<11:18,  5.52s/it]"
          ]
        },
        {
          "name": "stdout",
          "output_type": "stream",
          "text": [
            "Result: - 분석 결과 0: 음식명:한우얼큰육개장,옵션:곱배기,수량:하나\n",
            "- 분석 결과 1: 음식명:버블티밀크티,옵션:아이스,수량:한잔.\n",
            "Input Text: 아이스티 레몬 XL 사이즈 한 잔하고, 단새우 한 판 주세요.\n"
          ]
        },
        {
          "name": "stderr",
          "output_type": "stream",
          "text": [
            "\rGenerating Outputs:  39%|███▉      | 78/200 [06:18<09:55,  4.88s/it]"
          ]
        },
        {
          "name": "stdout",
          "output_type": "stream",
          "text": [
            "Result: - 분석 결과 0: 음식명:아이스티, 옵션:레몬 XL, 수량:한 잔\n",
            "- 분석 결과 1: 음식명:단새우, 수량:한 판.\n",
            "Input Text: 크리스피순살 간장 M 사이즈 두개, 황차 반발효차 HOT 한잔 주세요.\n"
          ]
        },
        {
          "name": "stderr",
          "output_type": "stream",
          "text": [
            "\rGenerating Outputs:  40%|███▉      | 79/200 [06:21<09:09,  4.54s/it]"
          ]
        },
        {
          "name": "stdout",
          "output_type": "stream",
          "text": [
            "Result: - 분석 결과 0: 음식명:크리스피순살,옵션:간장 M,수량:두개\n",
            "- 분석 결과 1: 음식명:황차 반발효차,옵션:HOT,수량:한잔.\n",
            "Input Text: 오늘은 새우를 먹고싶어서 레몬크림새우 소 사이즈로 해주세요. 그리고 알탕에는 라면사리 추가해주세요.\n"
          ]
        },
        {
          "name": "stderr",
          "output_type": "stream",
          "text": [
            "\rGenerating Outputs:  40%|████      | 80/200 [06:31<12:07,  6.06s/it]"
          ]
        },
        {
          "name": "stdout",
          "output_type": "stream",
          "text": [
            "Result: - 분석 결과 0: 음식명:레몬크림새우,옵션:소\n",
            "- 분석 결과 1: 음식명:알탕,옵션:라면사리 추가\n",
            "- 분석 결과 2: 음식명:새우,옵션:레몬크림새우,수량:소\n",
            "- 분석 결과 3: 음식명:알탕,옵션:라면사리 추가\n",
            "- 분석 결과 4: 음식명:새우,옵션:레몬크림새우,수량:소\n",
            "Input Text: 카사바칩 하나, 코카콜라 355ml 두 캔 주세요.\n"
          ]
        },
        {
          "name": "stderr",
          "output_type": "stream",
          "text": [
            "\rGenerating Outputs:  40%|████      | 81/200 [06:34<10:14,  5.17s/it]"
          ]
        },
        {
          "name": "stdout",
          "output_type": "stream",
          "text": [
            "Result: - 분석 결과 0: 음식명:카사바칩, 수량:하나\n",
            "- 분석 결과 1: 음식명:코카콜라, 옵션:355ml, 수량:두 캔\n",
            "Input Text: 저희 모듬 3인분으로 하고, 반반이 가능한가요? 그리고 육칼면 한 그릇 추가해주세요.\n"
          ]
        },
        {
          "name": "stderr",
          "output_type": "stream",
          "text": [
            "\rGenerating Outputs:  41%|████      | 82/200 [06:38<09:25,  4.79s/it]"
          ]
        },
        {
          "name": "stdout",
          "output_type": "stream",
          "text": [
            "Result: - 분석 결과 0: 음식명:모듬,수량:3인분\n",
            "- 분석 결과 1: 음식명:반반이 가능한가요?\n",
            "- 분석 결과 2: 음식명:육칼면,수량:한 그릇 추가해주세요.\n",
            "Input Text: 명품꽃등심 1인분 150g으로 주세요. 그리고 곁들여 먹을 왕새치뱃살 100g도 주세요.\n"
          ]
        },
        {
          "name": "stderr",
          "output_type": "stream",
          "text": [
            "\rGenerating Outputs:  42%|████▏     | 83/200 [06:43<09:20,  4.79s/it]"
          ]
        },
        {
          "name": "stdout",
          "output_type": "stream",
          "text": [
            "Result: - 분석 결과 0: 음식명:명품꽃등심,옵션:150g,수량:1인분\n",
            "- 분석 결과 1: 음식명:왕새치뱃살,옵션:100g,수량:두개.\n",
            "Input Text: 오늘 점심은 훠궈와 꼬치 기본 사이즈로 주세요. 평일 점심에는 성인 한명만 가능한 건가요?\n"
          ]
        },
        {
          "name": "stderr",
          "output_type": "stream",
          "text": [
            "\rGenerating Outputs:  42%|████▏     | 84/200 [06:46<08:26,  4.37s/it]"
          ]
        },
        {
          "name": "stdout",
          "output_type": "stream",
          "text": [
            "Result: - 분석 결과 0: 음식명: 훠궈와 꼬치, 옵션: 기본\n",
            "- 분석 결과 1: 음식명: 평일 점심, 수량: 한명만 possible.\n",
            "Input Text: 냉채족발 국내산으로 부탁드리고, 더블 그린 카페라떼도 한잔 주세요.\n"
          ]
        },
        {
          "name": "stderr",
          "output_type": "stream",
          "text": [
            "\rGenerating Outputs:  42%|████▎     | 85/200 [06:49<07:42,  4.02s/it]"
          ]
        },
        {
          "name": "stdout",
          "output_type": "stream",
          "text": [
            "Result: - 분석 결과 0: 음식명:냉채족발, 옵션:국내산\n",
            "- 분석 결과 1: 음식명:더블 그린 카페라떼, 수량:한잔.\n",
            "Input Text: 죽이 좋을 것 같아. 아포가토 핫으로 한잔하고, 캐모마일 티도 한잔 주세요.\n"
          ]
        },
        {
          "name": "stderr",
          "output_type": "stream",
          "text": [
            "\rGenerating Outputs:  43%|████▎     | 86/200 [06:54<07:49,  4.12s/it]"
          ]
        },
        {
          "name": "stdout",
          "output_type": "stream",
          "text": [
            "Result: - 분석 결과 0: 음식명:아포가토,옵션:핫,수량:한잔\n",
            "- 분석 결과 1: 음식명:캐모마일,수량:한잔.\n",
            "Input Text: 제주그린밀크티 대한잔, 얼그레이 핫한잔, 그리고 비스코프크림라떼 아이스 한잔 주세요.\n"
          ]
        },
        {
          "name": "stderr",
          "output_type": "stream",
          "text": [
            "\rGenerating Outputs:  44%|████▎     | 87/200 [07:00<08:55,  4.74s/it]"
          ]
        },
        {
          "name": "stdout",
          "output_type": "stream",
          "text": [
            "Result: - 분석 결과 0: 음식명:제주그린밀크티, 수량:잔\n",
            "- 분석 결과 1: 음식명:얼그레이, 옵션:핫, 수량:한잔\n",
            "- 분석 결과 2: 음식명:비스코프크림라떼, 옵션:아이스, 수량:한잔.\n",
            "Input Text: 짜장면 부탁드리고요, 원하면 새우카레 하나 주문할게요.\n"
          ]
        },
        {
          "name": "stderr",
          "output_type": "stream",
          "text": [
            "\rGenerating Outputs:  44%|████▍     | 88/200 [07:02<07:27,  4.00s/it]"
          ]
        },
        {
          "name": "stdout",
          "output_type": "stream",
          "text": [
            "Result: - 분석 결과 0: 음식명:짜장면\n",
            "- 분석 결과 1: 음식명:새우카레,수량:하나.\n",
            "Input Text: 초코라떼 아이스 1잔, 또 그리고 치즈볶음밥 한그릇 주세요.\n"
          ]
        },
        {
          "name": "stderr",
          "output_type": "stream",
          "text": [
            "\rGenerating Outputs:  44%|████▍     | 89/200 [07:06<07:06,  3.84s/it]"
          ]
        },
        {
          "name": "stdout",
          "output_type": "stream",
          "text": [
            "Result: - 분석 결과 0: 음식명:초코라떼,옵션:아이스,수량:1잔\n",
            "- 분석 결과 1: 음식명:치즈볶음밥,수량:한그릇.\n",
            "Input Text: 생로스구이 한판이랑 우럭 두마리 주세요.\n"
          ]
        },
        {
          "name": "stderr",
          "output_type": "stream",
          "text": [
            "\rGenerating Outputs:  45%|████▌     | 90/200 [07:09<06:33,  3.57s/it]"
          ]
        },
        {
          "name": "stdout",
          "output_type": "stream",
          "text": [
            "Result: - 분석 결과 0: 음식명:생로스구이, 수량:한판\n",
            "- 분석 결과 1: 음식명:우럭, 수량:두마리.\n",
            "Input Text: 한돈양념돼지갈비 200g과 가라아게카레덮밥 그리고 쿠키앤크림바빈치노 한개 주세요.\n"
          ]
        },
        {
          "name": "stderr",
          "output_type": "stream",
          "text": [
            "\rGenerating Outputs:  46%|████▌     | 91/200 [07:15<07:57,  4.38s/it]"
          ]
        },
        {
          "name": "stdout",
          "output_type": "stream",
          "text": [
            "Result: - 분석 결과 0: 음식명:한돈양념돼지갈비,옵션:200g\n",
            "- 분석 결과 1: 음식명:가라아게카레덮밥\n",
            "- 분석 결과 2: 음식명:쿠키앤크림바빈치노,수량:한개.\n",
            "Input Text: 특정식 1인분 주문하겠습니다. 또한 고추장찌개도 주세요.\n"
          ]
        },
        {
          "name": "stderr",
          "output_type": "stream",
          "text": [
            "\rGenerating Outputs:  46%|████▌     | 92/200 [07:18<07:03,  3.92s/it]"
          ]
        },
        {
          "name": "stdout",
          "output_type": "stream",
          "text": [
            "Result: - 분석 결과 0: 음식명:특정식, 수량:1인분\n",
            "- 분석 결과 1: 음식명:고추장찌개, 수량:한개.\n",
            "Input Text: 까르보나라 피자 패스츄리도우로 부탁드리고, 깐풍강정 커플팩 400g도 주세요.\n"
          ]
        },
        {
          "name": "stderr",
          "output_type": "stream",
          "text": [
            "\rGenerating Outputs:  46%|████▋     | 93/200 [07:22<06:58,  3.91s/it]"
          ]
        },
        {
          "name": "stdout",
          "output_type": "stream",
          "text": [
            "Result: - 분석 결과 0: 음식명: 까르보나라 피자, 옵션: 패스츄리도우\n",
            "- 분석 결과 1: 음식명: 깐풍강정, 옵션: 커플팩, 수량: 400g.\n",
            "Input Text: 치즈스노우퀸+후라이드 핫한개 주세요.\n"
          ]
        },
        {
          "name": "stderr",
          "output_type": "stream",
          "text": [
            "\rGenerating Outputs:  47%|████▋     | 94/200 [07:29<08:36,  4.87s/it]"
          ]
        },
        {
          "name": "stdout",
          "output_type": "stream",
          "text": [
            "Result: - 분석 결과 0: 음식명:치즈스노우퀸+후라이드,옵션:핫,수량:한개. \n",
            "- 분석 결과 1: 음식명:치즈스노우퀸,옵션:후라이드,수량:한개. \n",
            "- 분석 결과 2: 음식명:치즈스노우퀸+후라이드 핫한개.\n",
            "Input Text: 버섯칼국수사리 주문할게요. 그리고 한우된장찌개 한그릇도 주세요.\n"
          ]
        },
        {
          "name": "stderr",
          "output_type": "stream",
          "text": [
            "\rGenerating Outputs:  48%|████▊     | 95/200 [07:32<07:31,  4.30s/it]"
          ]
        },
        {
          "name": "stdout",
          "output_type": "stream",
          "text": [
            "Result: - 분석 결과 0: 음식명:버섯칼국수사리\n",
            "- 분석 결과 1: 음식명:한우된장찌개,수량:한그릇.\n",
            "Input Text: 첵스초코쉐이크 레귤러로 주시고, 코코티스무디 망고복숭아 아이스 메디엄 주세요.\n"
          ]
        },
        {
          "name": "stderr",
          "output_type": "stream",
          "text": [
            "\rGenerating Outputs:  48%|████▊     | 96/200 [07:36<07:33,  4.36s/it]"
          ]
        },
        {
          "name": "stdout",
          "output_type": "stream",
          "text": [
            "Result: - 분석 결과 0: 음식명: 첵스초코쉐이크, 옵션: 레귤러\n",
            "- 분석 결과 1: 음식명: 코코티스무디, 옵션: 망고복숭아, 옵션: 아이스, 메디엄 수량: 한잔.\n",
            "Input Text: 도토리막국수 두그릇 주시고, 찹쌀치즈볼 2개 설정해 주세요.\n"
          ]
        },
        {
          "name": "stderr",
          "output_type": "stream",
          "text": [
            "\rGenerating Outputs:  48%|████▊     | 97/200 [07:40<07:24,  4.31s/it]"
          ]
        },
        {
          "name": "stdout",
          "output_type": "stream",
          "text": [
            "Result: - 분석 결과 0: 음식명:도토리막국수,수량:두그릇\n",
            "- 분석 결과 1: 음식명:찹쌀치즈볼,수량:2개\n",
            "Input Text: 그린티민트초코칩라떼 아이스 한잔에요, 그리고 쌀먹걸리 한병 주세요.\n"
          ]
        },
        {
          "name": "stderr",
          "output_type": "stream",
          "text": [
            "\rGenerating Outputs:  49%|████▉     | 98/200 [07:44<07:01,  4.13s/it]"
          ]
        },
        {
          "name": "stdout",
          "output_type": "stream",
          "text": [
            "Result: - 분석 결과 0: 음식명:그린티민트초코칩라떼,옵션:아이스,수량:한잔\n",
            "- 분석 결과 1: 음식명:쌀먹걸리,수량:한병.\n",
            "Input Text: 묵은지생삼겹솥뚜껑구이 200g랑 또봉이+고추통닭 하나 주세요.\n"
          ]
        },
        {
          "name": "stderr",
          "output_type": "stream",
          "text": [
            "\rGenerating Outputs:  50%|████▉     | 99/200 [07:48<06:44,  4.01s/it]"
          ]
        },
        {
          "name": "stdout",
          "output_type": "stream",
          "text": [
            "Result: - 분석 결과 0: 음식명:묵은지생삼겹솥뚜껑구이,옵션:200g\n",
            "- 분석 결과 1: 음식명:또봉이+고추통닭,수량:하나.\n",
            "Input Text: 해물뼈찜 중자, 와 참치김치찌개 곱배기 주세요.\n"
          ]
        },
        {
          "name": "stderr",
          "output_type": "stream",
          "text": [
            "\rGenerating Outputs:  50%|█████     | 100/200 [07:52<06:42,  4.03s/it]"
          ]
        },
        {
          "name": "stdout",
          "output_type": "stream",
          "text": [
            "Result: - 분석 결과 0: 음식명:해물뼈찜, 옵션:중자\n",
            "- 분석 결과 1: 음식명:와 참치김치찌개, 옵션:곱배기, 수량:주세요.\n",
            "Input Text: 참이슬 한 병으로 시작하고, 볶음면 한 그릇 추가 주세요.\n"
          ]
        },
        {
          "name": "stderr",
          "output_type": "stream",
          "text": [
            "\rGenerating Outputs:  50%|█████     | 101/200 [07:55<06:24,  3.88s/it]"
          ]
        },
        {
          "name": "stdout",
          "output_type": "stream",
          "text": [
            "Result: - 분석 결과 0: 음식명:참이슬, 수량:한 병\n",
            "- 분석 결과 1: 음식명:볶음면, 수량:한 그릇 추가요.\n",
            "Input Text: 연유카페라떼 그란데 사이즈로 주시고, 또 소금소갈비 150g 주세요.\n"
          ]
        },
        {
          "name": "stderr",
          "output_type": "stream",
          "text": [
            "\rGenerating Outputs:  51%|█████     | 102/200 [07:59<05:58,  3.66s/it]"
          ]
        },
        {
          "name": "stdout",
          "output_type": "stream",
          "text": [
            "Result: - 분석 결과 0: 음식명:연유카페라떼,옵션:그란데\n",
            "- 분석 결과 1: 음식명:소금소갈비,옵션:150g.\n",
            "Input Text: 무침 2인분이랑 어니언치즈순살뿌치4조각 한판 주세요.\n"
          ]
        },
        {
          "name": "stderr",
          "output_type": "stream",
          "text": [
            "\rGenerating Outputs:  52%|█████▏    | 103/200 [08:02<05:40,  3.51s/it]"
          ]
        },
        {
          "name": "stdout",
          "output_type": "stream",
          "text": [
            "Result: - 분석 결과 0: 음식명:무침,수량:2인분\n",
            "- 분석 결과 1: 음식명:어니언치즈순살뿌치4조각,수량:한판.\n",
            "Input Text: 흑당버블티 버블추가하고, 하트팝 하나 주세요.\n"
          ]
        },
        {
          "name": "stderr",
          "output_type": "stream",
          "text": [
            "\rGenerating Outputs:  52%|█████▏    | 104/200 [08:05<05:23,  3.37s/it]"
          ]
        },
        {
          "name": "stdout",
          "output_type": "stream",
          "text": [
            "Result: - 분석 결과 0: 음식명:흑당버블티,옵션:버블추가\n",
            "- 분석 결과 1: 음식명:하트팝,수량:하나.\n",
            "Input Text: 마루국물떡볶이 한 판이랑 수제꽃잎차 한잔 주세요.\n"
          ]
        },
        {
          "name": "stderr",
          "output_type": "stream",
          "text": [
            "\rGenerating Outputs:  52%|█████▎    | 105/200 [08:09<05:41,  3.59s/it]"
          ]
        },
        {
          "name": "stdout",
          "output_type": "stream",
          "text": [
            "Result: - 분석 결과 0: 음식명:마루국물떡볶이, 수량:한 판\n",
            "- 분석 결과 1: 음식명:수제꽃잎차, 수량:한잔.\n",
            "Input Text: 오리로스 쌈밥정식 1인분, 광어 중자로 주세요.\n"
          ]
        },
        {
          "name": "stderr",
          "output_type": "stream",
          "text": [
            "\rGenerating Outputs:  53%|█████▎    | 106/200 [08:12<05:36,  3.58s/it]"
          ]
        },
        {
          "name": "stdout",
          "output_type": "stream",
          "text": [
            "Result: - 분석 결과 0: 음식명:오리로스 쌈밥정식, 수량:1인분\n",
            "- 분석 결과 1: 음식명:광어, 옵션:중자, 수량:1인분.\n",
            "Input Text: 제가 배가 많이 고프네요, 새우로제파스타 하나랑 333맥주 한 캔 주세요.\n"
          ]
        },
        {
          "name": "stderr",
          "output_type": "stream",
          "text": [
            "\rGenerating Outputs:  54%|█████▎    | 107/200 [08:15<05:10,  3.34s/it]"
          ]
        },
        {
          "name": "stdout",
          "output_type": "stream",
          "text": [
            "Result: - 분석 결과 0: 음식명:새우로제파스타,수량:하나\n",
            "- 분석 결과 1: 음식명:333맥주,수량:한 캔.\n",
            "Input Text: 더치블랙 한 잔하고 흑돼지갈비살 이인분 주세요.\n"
          ]
        },
        {
          "name": "stderr",
          "output_type": "stream",
          "text": [
            "\rGenerating Outputs:  54%|█████▍    | 108/200 [08:18<05:00,  3.26s/it]"
          ]
        },
        {
          "name": "stdout",
          "output_type": "stream",
          "text": [
            "Result: - 분석 결과 0: 음식명:더치블랙,수량:한 잔\n",
            "- 분석 결과 1: 음식명:흑돼지갈비살,수량:이인분.\n",
            "Input Text: 저는 새싹보리라떼 아이스로 한 잔, 가자미조림 한 그릇 주세요.\n"
          ]
        },
        {
          "name": "stderr",
          "output_type": "stream",
          "text": [
            "\rGenerating Outputs:  55%|█████▍    | 109/200 [08:23<05:38,  3.72s/it]"
          ]
        },
        {
          "name": "stdout",
          "output_type": "stream",
          "text": [
            "Result: - 분석 결과 0: 음식명:새싹보리라떼,옵션:아이스,수량:한 잔\n",
            "- 분석 결과 1: 음식명:가자미조림,수량:한 그릇.\n",
            "Input Text: 아인슈페너 라지 사이즈와 꽃갈비살돈까스단품 한 달러 주세요.\n"
          ]
        },
        {
          "name": "stderr",
          "output_type": "stream",
          "text": [
            "\rGenerating Outputs:  55%|█████▌    | 110/200 [08:26<05:23,  3.59s/it]"
          ]
        },
        {
          "name": "stdout",
          "output_type": "stream",
          "text": [
            "Result: - 분석 결과 0: 음식명:아인슈페너,옵션:라지\n",
            "- 분석 결과 1: 음식명:꽃갈비살돈까스단품,수량:한 달러\n",
            "Input Text: 엄마랑 왔어서 골뱅이비빔면 두 그릇이랑 보쌈set 중자 주세요.\n"
          ]
        },
        {
          "name": "stderr",
          "output_type": "stream",
          "text": [
            "\rGenerating Outputs:  56%|█████▌    | 111/200 [08:30<05:19,  3.59s/it]"
          ]
        },
        {
          "name": "stdout",
          "output_type": "stream",
          "text": [
            "Result: - 분석 결과 0: 음식명:골뱅ibi빔면,수량:두 그릇\n",
            "- 분석 결과 1: 음식명:보쌈set,옵션:중자,수량:두 그릇.\n",
            "Input Text: 치킨오이스터크림 파스타 핫하게 하나 주시고 코코넛크림 한 판 주세요.\n"
          ]
        },
        {
          "name": "stderr",
          "output_type": "stream",
          "text": [
            "\rGenerating Outputs:  56%|█████▌    | 112/200 [08:34<05:21,  3.66s/it]"
          ]
        },
        {
          "name": "stdout",
          "output_type": "stream",
          "text": [
            "Result: - 분석 결과 0: 음식명:치킨오이스터크림 파스타,옵션:핫,수량:하나\n",
            "- 분석 결과 1: 음식명:코코넛크림,수량:한 판.\n",
            "Input Text: 야채웰빙 M 사이즈 두 판과 탕수육 특대 한 판 주세요.\n"
          ]
        },
        {
          "name": "stderr",
          "output_type": "stream",
          "text": [
            "\rGenerating Outputs:  56%|█████▋    | 113/200 [08:38<05:33,  3.83s/it]"
          ]
        },
        {
          "name": "stdout",
          "output_type": "stream",
          "text": [
            "Result: - 분석 결과 0: 음식명:야채웰빙,옵션:M,수량:두 판\n",
            "- 분석 결과 1: 음식명:탕수육,옵션:특대,수량:한 판.\n",
            "Input Text: 착즙주스 포도 한 잔이랑 물쫄면 한 그릇 주세요.\n"
          ]
        },
        {
          "name": "stderr",
          "output_type": "stream",
          "text": [
            "\rGenerating Outputs:  57%|█████▋    | 114/200 [08:41<05:17,  3.69s/it]"
          ]
        },
        {
          "name": "stdout",
          "output_type": "stream",
          "text": [
            "Result: - 분석 결과 0: 음식명:착즙주스,옵션:포도,수량:한 잔\n",
            "- 분석 결과 1: 음식명:물쫄면,수량:한 그릇.\n",
            "Input Text: 자스민 아이스로 한 잔하고 마라탄면 한 그릇 주세요.\n"
          ]
        },
        {
          "name": "stderr",
          "output_type": "stream",
          "text": [
            "\rGenerating Outputs:  57%|█████▊    | 115/200 [08:45<05:00,  3.53s/it]"
          ]
        },
        {
          "name": "stdout",
          "output_type": "stream",
          "text": [
            "Result: - 분석 결과 0: 음식명:자스민,옵션:아이스,수량:한 잔\n",
            "- 분석 결과 1: 음식명:마라탄면,수량:한 그릇.\n",
            "Input Text: 저는 꿔바로우 잔치 세트랑 요거트 프라페 한 잔 주세요.\n"
          ]
        },
        {
          "name": "stderr",
          "output_type": "stream",
          "text": [
            "\rGenerating Outputs:  58%|█████▊    | 116/200 [08:48<04:44,  3.38s/it]"
          ]
        },
        {
          "name": "stdout",
          "output_type": "stream",
          "text": [
            "Result: - 분석 결과 0: 음식명:꿔바로우 잔치 세트\n",
            "- 분석 결과 1: 음식명:요거트 프라페, 수량:한 잔.\n",
            "Input Text: 핏자 콤비를 주문하고 싶네요 그리고 웰빙피자L 사이즈도 추가해주세요.\n"
          ]
        },
        {
          "name": "stderr",
          "output_type": "stream",
          "text": [
            "\rGenerating Outputs:  58%|█████▊    | 117/200 [08:52<05:19,  3.85s/it]"
          ]
        },
        {
          "name": "stdout",
          "output_type": "stream",
          "text": [
            "Result: - 분석 결과 0: 음식명:핏자 콤비\n",
            "- 분석 결과 1: 음식명: 웰빙피자, 옵션:L, 수량: 추가\n",
            "- 분석 결과 2: 음식명:핏자 콤비, 수량: 추가\n",
            "Input Text: 일단 하와이얀 피자 L 사이즈 두판 주세요. 그리고 흑후추소안심이랑 칠리 큰새우도 주문할게요.\n"
          ]
        },
        {
          "name": "stderr",
          "output_type": "stream",
          "text": [
            "\rGenerating Outputs:  59%|█████▉    | 118/200 [08:57<05:29,  4.02s/it]"
          ]
        },
        {
          "name": "stdout",
          "output_type": "stream",
          "text": [
            "Result: - 분석 결과 0: 음식명:하와이얀 피자,옵션:L,수량:두판\n",
            "- 분석 결과 1: 음식명:흑후추소안심이\n",
            "- 분석 결과 2: 음식명:칠리 큰새우도,수량:두개.\n",
            "Input Text: 치즈감자을 좋아하시죠? 이번엔 치즈 옵션으로 주문하세요. 그리고 곱대창 200g도 같이 주문하겠습니다.\n"
          ]
        },
        {
          "name": "stderr",
          "output_type": "stream",
          "text": [
            "\rGenerating Outputs:  60%|█████▉    | 119/200 [09:02<05:48,  4.30s/it]"
          ]
        },
        {
          "name": "stdout",
          "output_type": "stream",
          "text": [
            "Result: - 분석 결과 0: 음식명:치즈감자\n",
            "- 분석 결과 1: 음식명:곱대창,옵션:200g\n",
            "- 분석 결과 2: 음식명:치즈감자,옵션:치즈,수량:한판\n",
            "Input Text: 집에서 맥주랑 대만 우유튀김은 어떠세요? 만약 맥주를 좋아하신다면 하노이 맥주 한 캔도 추천드립니다.\n"
          ]
        },
        {
          "name": "stderr",
          "output_type": "stream",
          "text": [
            "\rGenerating Outputs:  60%|██████    | 120/200 [09:08<06:21,  4.77s/it]"
          ]
        },
        {
          "name": "stdout",
          "output_type": "stream",
          "text": [
            "Result: - 분석 결과 0: 음식명:맥주\n",
            "- 분석 결과 1: 음식명:대만 우유튀김\n",
            "- 분석 결과 2: 음식명:하노이 맥주, 수량:한 캔. \n",
            "- 분석 결과 3: 음식명:대만 우유튀김, 수량:한 개.\n",
            "Input Text: 프리미엄 티에 대해 궁금한게 있는데요, 저는 캐모마일이 좋아서 이번엔 그렇게 주문하려구요. 아, 단호박 라떼도 하나 주문할게요.\n"
          ]
        },
        {
          "name": "stderr",
          "output_type": "stream",
          "text": [
            "\rGenerating Outputs:  60%|██████    | 121/200 [09:11<05:43,  4.35s/it]"
          ]
        },
        {
          "name": "stdout",
          "output_type": "stream",
          "text": [
            "Result: - 분석 결과 0: 음식명:프리미엄 티\n",
            "- 분석 결과 1: 음식명:캐모마일\n",
            "- 분석 결과 2: 음식명:단호박 라떼, 수량:하나.\n",
            "Input Text: 요국산의 토종순대국 특을 한 그릇 주문하겠습니다. 그리고 헤이즐넛라떼 아이스도 하나 주세요.\n"
          ]
        },
        {
          "name": "stderr",
          "output_type": "stream",
          "text": [
            "\rGenerating Outputs:  61%|██████    | 122/200 [09:15<05:35,  4.30s/it]"
          ]
        },
        {
          "name": "stdout",
          "output_type": "stream",
          "text": [
            "Result: - 분석 결과 0: 음식명:요국산의 토종순대국,옵션:특,수량:한 그릇\n",
            "- 분석 결과 1: 음식명:헤이즐넛라떼,옵션:아이스,수량:하나.\n",
            "Input Text: 오늘은 콘치즈크러스트를 한 판 주문하려고 하는데요, 그리고 딸기 크로플 겨울 한정 메뉴도 함께 주문하겠습니다.\n"
          ]
        },
        {
          "name": "stderr",
          "output_type": "stream",
          "text": [
            "\rGenerating Outputs:  62%|██████▏   | 123/200 [09:20<05:39,  4.42s/it]"
          ]
        },
        {
          "name": "stdout",
          "output_type": "stream",
          "text": [
            "Result: - 분석 결과 0: 음식명:콘치즈크러스트, 수량:한 판\n",
            "- 분석 결과 1: 음식명:딸기 크로플, 수량: 겨울 한정 메뉴도 함께 주문하겠습니다.\n",
            "Input Text: 교촌리얼후라이드 한 마리 주문할게요. 그리고 머릿고기 대를 추가할게요.\n"
          ]
        },
        {
          "name": "stderr",
          "output_type": "stream",
          "text": [
            "\rGenerating Outputs:  62%|██████▏   | 124/200 [09:23<05:11,  4.10s/it]"
          ]
        },
        {
          "name": "stdout",
          "output_type": "stream",
          "text": [
            "Result: - 분석 결과 0: 음식명:교촌리얼후라이드,수량:한 마리\n",
            "- 분석 결과 1: 음식명:머릿고기,옵션:대,수량:한 개.\n",
            "Input Text: 여기서는 주스도 팝니까? 그럼 오도독살이랑 주스를 각각 하나씩 주문하고 싶어요.\n"
          ]
        },
        {
          "name": "stderr",
          "output_type": "stream",
          "text": [
            "\rGenerating Outputs:  62%|██████▎   | 125/200 [09:27<05:02,  4.03s/it]"
          ]
        },
        {
          "name": "stdout",
          "output_type": "stream",
          "text": [
            "Result: - 분석 결과 0: 음식명:오도독살\n",
            "- 분석 결과 1: 음식명:주스,옵션:팝,수량:하나\n",
            "- 분석 결과 2: 음식명:오도독살이,수량:하나.\n",
            "Input Text: 에스프레소 아포가토 중에 하나를 주문하려고 하는데요. 그리고 스팸&계란후라이도 주문할게요.\n"
          ]
        },
        {
          "name": "stderr",
          "output_type": "stream",
          "text": [
            "\rGenerating Outputs:  63%|██████▎   | 126/200 [09:31<04:56,  4.01s/it]"
          ]
        },
        {
          "name": "stdout",
          "output_type": "stream",
          "text": [
            "Result: - 분석 결과 0: 음식명:에스프레소 아포가토,옵션:중,수량:하나\n",
            "- 분석 결과 1: 음식명:스팸&계란후라이,수량:하나.\n",
            "Input Text: 묵은지찜 중 한판과 가브리살 200g 두판 주세요.\n"
          ]
        },
        {
          "name": "stderr",
          "output_type": "stream",
          "text": [
            "\rGenerating Outputs:  64%|██████▎   | 127/200 [09:36<05:00,  4.12s/it]"
          ]
        },
        {
          "name": "stdout",
          "output_type": "stream",
          "text": [
            "Result: - 분석 결과 0: 음식명:묵은지찜, 옵션:중, 수량:한판\n",
            "- 분석 결과 1: 음식명:가브리살, 옵션:200g, 수량:두판.\n",
            "Input Text: 어향가지밥과 함께 팥빙수 컵사이즈 아이스로 하나 주세요.\n"
          ]
        },
        {
          "name": "stderr",
          "output_type": "stream",
          "text": [
            "\rGenerating Outputs:  64%|██████▍   | 128/200 [09:38<04:27,  3.71s/it]"
          ]
        },
        {
          "name": "stdout",
          "output_type": "stream",
          "text": [
            "Result: - 분석 결과 0: 음식명:어향가지밥\n",
            "- 분석 결과 1: 음식명:팥빙수,옵션:컬프,수량:하나\n",
            "Input Text: 블랙밀크티 M사이즈로 두 잔과 돼지고기찌개 한그릇 주세요.\n"
          ]
        },
        {
          "name": "stderr",
          "output_type": "stream",
          "text": [
            "\rGenerating Outputs:  64%|██████▍   | 129/200 [09:42<04:17,  3.63s/it]"
          ]
        },
        {
          "name": "stdout",
          "output_type": "stream",
          "text": [
            "Result: - 분석 결과 0: 음식명:블랙밀크티,옵션:M사이즈,수량:두 잔\n",
            "- 분석 결과 1: 음식명:돼지고기찌개,수량:한그릇.\n",
            "Input Text: 수제오징어튀김 6개와 통등심체다돈까스 두 개 주세요.\n"
          ]
        },
        {
          "name": "stderr",
          "output_type": "stream",
          "text": [
            "\rGenerating Outputs:  65%|██████▌   | 130/200 [09:45<04:14,  3.64s/it]"
          ]
        },
        {
          "name": "stdout",
          "output_type": "stream",
          "text": [
            "Result: - 분석 결과 0: 음식명:수제오징어튀김,수량:6개\n",
            "- 분석 결과 1: 음식명:통등심체다돈까스,수량:두 개.\n",
            "Input Text: 인절미호떡과 피넛버터쿠키 세 개 마지막으로 생대구 소 사이즈 주세요.\n"
          ]
        },
        {
          "name": "stderr",
          "output_type": "stream",
          "text": [
            "\rGenerating Outputs:  66%|██████▌   | 131/200 [09:52<05:09,  4.48s/it]"
          ]
        },
        {
          "name": "stdout",
          "output_type": "stream",
          "text": [
            "Result: - 분석 결과 0: 음식명:인절미호떡\n",
            "- 분석 결과 1: 음식명:피넛버터쿠키,수량:세 개\n",
            "- 분석 결과 2: 음식명:생대구,옵션:소,수량:세 개,옵션:마끼아또,옵션:생대구,수량:세 개.\n",
            "Input Text: 엄나무 한방 삼계탕엔 파울라너 한 캔 너무 좋아요!\n"
          ]
        },
        {
          "name": "stderr",
          "output_type": "stream",
          "text": [
            "\rGenerating Outputs:  66%|██████▌   | 132/200 [09:55<04:35,  4.05s/it]"
          ]
        },
        {
          "name": "stdout",
          "output_type": "stream",
          "text": [
            "Result: - 분석 결과 0: 음식명:엄나무, 옵션:삼계탕, 수량:한방\n",
            "- 분석 결과 1: 음식명:파울라너, 수량:한 캔\n",
            "Input Text: 홍어와 삼합 주문하고 응급실닭볶음탕 중상맛으로 다이어트 하는데 수량 한 개로 가능할까요?\n"
          ]
        },
        {
          "name": "stderr",
          "output_type": "stream",
          "text": [
            "\rGenerating Outputs:  66%|██████▋   | 133/200 [09:58<04:12,  3.76s/it]"
          ]
        },
        {
          "name": "stdout",
          "output_type": "stream",
          "text": [
            "Result: - 분석 결과 0: 음식명:홍어와 삼합\n",
            "- 분석 결과 1: 음식명:응급실닭볶음탕,옵션:중상맛,수량:한 개\n",
            "Input Text: 다리와 라크치킨 하나랑 고추장찜닭 순살 대 4인분 좀 줄여서 3인분 해도 될까요?\n"
          ]
        },
        {
          "name": "stderr",
          "output_type": "stream",
          "text": [
            "\rGenerating Outputs:  67%|██████▋   | 134/200 [10:03<04:39,  4.24s/it]"
          ]
        },
        {
          "name": "stdout",
          "output_type": "stream",
          "text": [
            "Result: - 분석 결과 0: 음식명:다리\n",
            "- 분석 결과 1: 음식명:라크치킨,수량:하나\n",
            "- 분석 결과 2: 음식명:고추장찜닭,옵션:순살,대,수량:3인분.\n",
            "Input Text: 불고기치즈굿브레드 L사이즈로 두 개, 블랙우룽밀크티 컵사이즈 두 유로 한 잔 요리가 서빙되면 다음 주문하겠습니다.\n"
          ]
        },
        {
          "name": "stderr",
          "output_type": "stream",
          "text": [
            "\rGenerating Outputs:  68%|██████▊   | 135/200 [10:08<04:43,  4.36s/it]"
          ]
        },
        {
          "name": "stdout",
          "output_type": "stream",
          "text": [
            "Result: - 분석 결과 0: 음식명:불고기치즈굿브레드,옵션:L,수량:두 개\n",
            "- 분석 결과 1: 음식명:블랙우룽밀크티,옵션:컵사이즈,수량:두 유로,한 잔 요리하는 주문 문장.\n",
            "Input Text: 무뼈닭발 200g 주세요. 그리고 장치조림 이인분, 꽃살 180g 두개 추가해주실 수 있을까요?\n"
          ]
        },
        {
          "name": "stderr",
          "output_type": "stream",
          "text": [
            "\rGenerating Outputs:  68%|██████▊   | 136/200 [10:13<04:55,  4.62s/it]"
          ]
        },
        {
          "name": "stdout",
          "output_type": "stream",
          "text": [
            "Result: - 분석 결과 0: 음식명:무뼈닭발,옵션:200g\n",
            "- 분석 결과 1: 음식명:장치조림,수량:이인분\n",
            "- 분석 결과 2: 음식명:꽃살,옵션:180g,수량:두개 추가해주실 수 있을까요?\n",
            "Input Text: 모둠튀김세트 두 판 주세요. 그리고 제육볶음 한 그릇도 추가해주세요.\n"
          ]
        },
        {
          "name": "stderr",
          "output_type": "stream",
          "text": [
            "\rGenerating Outputs:  68%|██████▊   | 137/200 [10:17<04:39,  4.44s/it]"
          ]
        },
        {
          "name": "stdout",
          "output_type": "stream",
          "text": [
            "Result: - 분석 결과 0: 음식명:모둠튀김세트, 수량:두 판\n",
            "- 분석 결과 1: 음식명:제육볶음, 수량:한 그릇.\n",
            "Input Text: 흑임자죽 한 그릇하고, 버블티 아이스로 주세요.\n"
          ]
        },
        {
          "name": "stderr",
          "output_type": "stream",
          "text": [
            "\rGenerating Outputs:  69%|██████▉   | 138/200 [10:20<04:13,  4.08s/it]"
          ]
        },
        {
          "name": "stdout",
          "output_type": "stream",
          "text": [
            "Result: - 분석 결과 0: 음식명:흑임자죽, 수량:한 그릇\n",
            "- 분석 결과 1: 음식명:버블티, 옵션:아이스, 수량:한 잔.\n",
            "Input Text: 엄청난토마토해물떡볶이 1.5인분 주세요. 그리고 페스츄리핫도그 하나 더 주세요.\n"
          ]
        },
        {
          "name": "stderr",
          "output_type": "stream",
          "text": [
            "\rGenerating Outputs:  70%|██████▉   | 139/200 [10:24<04:02,  3.98s/it]"
          ]
        },
        {
          "name": "stdout",
          "output_type": "stream",
          "text": [
            "Result: - 분석 결과 0: 음식명:엄청난토마토해물떡볶이, 수량: 1.5인분\n",
            "- 분석 결과 1: 음식명:페스츄리핫도그, 수량: 하나.\n",
            "Input Text: 등심돈까스 두개랑 게딱지없는간장게장백반 한 개 주세요.\n"
          ]
        },
        {
          "name": "stderr",
          "output_type": "stream",
          "text": [
            "\rGenerating Outputs:  70%|███████   | 140/200 [10:28<03:53,  3.89s/it]"
          ]
        },
        {
          "name": "stdout",
          "output_type": "stream",
          "text": [
            "Result: - 분석 결과 0: 음식명:등심돈까스,수량:두개\n",
            "- 분석 결과 1: 음식명:게딱지없는간장게장백반,수량:한 개.\n",
            "Input Text: 쿨피스 패밀리사이즈 두 캔 주세요.\n"
          ]
        },
        {
          "name": "stderr",
          "output_type": "stream",
          "text": [
            "\rGenerating Outputs:  70%|███████   | 141/200 [10:31<03:29,  3.55s/it]"
          ]
        },
        {
          "name": "stdout",
          "output_type": "stream",
          "text": [
            "Result: - 분석 결과 0: 음식명:쿨피스,옵션:패밀리사이즈,수량:두 캔\n",
            "Input Text: 한우명품모듬 500g 주세요. 그리고 빠삭치킨 양 많게 해주세요.\n"
          ]
        },
        {
          "name": "stderr",
          "output_type": "stream",
          "text": [
            "\rGenerating Outputs:  71%|███████   | 142/200 [10:34<03:18,  3.42s/it]"
          ]
        },
        {
          "name": "stdout",
          "output_type": "stream",
          "text": [
            "Result: - 분석 결과 0: 음식명:한우명품모듬,옵션:500g\n",
            "- 분석 결과 1: 음식명:빠삭치킨,옵션:양많게\n",
            "Input Text: 뼈찜 덜 맵게 하고 양념소스 매운소스 주세요.\n"
          ]
        },
        {
          "name": "stderr",
          "output_type": "stream",
          "text": [
            "\rGenerating Outputs:  72%|███████▏  | 143/200 [10:37<03:09,  3.33s/it]"
          ]
        },
        {
          "name": "stdout",
          "output_type": "stream",
          "text": [
            "Result: - 분석 결과 0: 음식명:뼈찜,옵션:덜 맵게\n",
            "- 분석 결과 1: 음식명:양념소스,옵션:매운소스\n",
            "Input Text: 한우고기말이 두 판하고 마늘간장 소 짜로 주세요.\n"
          ]
        },
        {
          "name": "stderr",
          "output_type": "stream",
          "text": [
            "\rGenerating Outputs:  72%|███████▏  | 144/200 [10:40<03:03,  3.28s/it]"
          ]
        },
        {
          "name": "stdout",
          "output_type": "stream",
          "text": [
            "Result: - 분석 결과 0: 음식명:한우고기말이,수량:두 판\n",
            "- 분석 결과 1: 음식명:마늘간장,옵션:소,수량:두 판.\n",
            "Input Text: 콜라 ICE로 하나, 호세쿠엘보 750ml 두 병 주세요.\n"
          ]
        },
        {
          "name": "stderr",
          "output_type": "stream",
          "text": [
            "\rGenerating Outputs:  72%|███████▎  | 145/200 [10:45<03:21,  3.67s/it]"
          ]
        },
        {
          "name": "stdout",
          "output_type": "stream",
          "text": [
            "Result: - 분석 결과 0: 음식명:콜라,옵션:ICE,수량:하나\n",
            "- 분석 결과 1: 음식명:호세쿠엘보,옵션:750ml,수량:두 병.\n",
            "Input Text: 분노의짜장 레귤러 사이즈 2개랑 치즈베이글 하나 주세요.\n"
          ]
        },
        {
          "name": "stderr",
          "output_type": "stream",
          "text": [
            "\rGenerating Outputs:  73%|███████▎  | 146/200 [10:49<03:22,  3.76s/it]"
          ]
        },
        {
          "name": "stdout",
          "output_type": "stream",
          "text": [
            "Result: - 분석 결과 0: 음식명:분노의짜장,옵션:레귤러,수량:2개\n",
            "- 분석 결과 1: 음식명:치즈베이글,수량:하나.\n",
            "Input Text: 목덜미살 200g 한판, 고구마스틱 2개랑 아이스 레몬에이드 한잔 주세요.\n"
          ]
        },
        {
          "name": "stderr",
          "output_type": "stream",
          "text": [
            "\rGenerating Outputs:  74%|███████▎  | 147/200 [10:53<03:31,  4.00s/it]"
          ]
        },
        {
          "name": "stdout",
          "output_type": "stream",
          "text": [
            "Result: - 분석 결과 0: 음식명:목덜미살,옵션:200g,수량:한판\n",
            "- 분석 결과 1: 음식명:고구마스틱,수량:2개\n",
            "- 분석 결과 2: 음식명:아이스 레몬에이드,수량:한잔.\n",
            "Input Text: 냉라멘 라지 사이즈 하나, 수제등심돈까스 소짜로 한그릇 주세요.\n"
          ]
        },
        {
          "name": "stderr",
          "output_type": "stream",
          "text": [
            "\rGenerating Outputs:  74%|███████▍  | 148/200 [10:58<03:39,  4.22s/it]"
          ]
        },
        {
          "name": "stdout",
          "output_type": "stream",
          "text": [
            "Result: - 분석 결과 0: 음식명:냉라멘, 옵션:라지, 수량:하나\n",
            "- 분석 결과 1: 음식명:수제등심돈까스, 옵션:소짜, 수량:한그릇.\n",
            "Input Text: 북어조림 소자, 팥 크로아상 세개, 꼬마쥐포 150g 주세요.\n"
          ]
        },
        {
          "name": "stderr",
          "output_type": "stream",
          "text": [
            "\rGenerating Outputs:  74%|███████▍  | 149/200 [11:03<03:47,  4.46s/it]"
          ]
        },
        {
          "name": "stdout",
          "output_type": "stream",
          "text": [
            "Result: - 분석 결과 0: 음식명:북어조림,옵션:소자\n",
            "- 분석 결과 1: 음식명:팥 크로아상,수량:세개\n",
            "- 분석 결과 2: 음식명:꼬마쥐포,옵션:150g,수량:주세요.\n",
            "Input Text: 얼큰한우내장전 대로 두개, 왕만두 김치 네개 주세요.\n"
          ]
        },
        {
          "name": "stderr",
          "output_type": "stream",
          "text": [
            "\rGenerating Outputs:  75%|███████▌  | 150/200 [11:06<03:25,  4.10s/it]"
          ]
        },
        {
          "name": "stdout",
          "output_type": "stream",
          "text": [
            "Result: - 분석 결과 0: 음식명:얼큰한우내장전,옵션:대,수량:두개\n",
            "- 분석 결과 1: 음식명:왕만두 김치,수량:네개\n",
            "Input Text: 돼지부속모듬 600g, 새치 대 하나 채워주세요.\n"
          ]
        },
        {
          "name": "stderr",
          "output_type": "stream",
          "text": [
            "\rGenerating Outputs:  76%|███████▌  | 151/200 [11:10<03:10,  3.89s/it]"
          ]
        },
        {
          "name": "stdout",
          "output_type": "stream",
          "text": [
            "Result: - 분석 결과 0: 음식명:돼지부속모듬,옵션:600g\n",
            "- 분석 결과 1: 음식명:새치,옵션:대,수량:하나.\n",
            "Input Text: 육계닭볶음탕 한그릇, 팥 크로아상 두개, 아이스허브차 로즈마리 한잔 이랑 오곡라떼 한잔 주세요.\n"
          ]
        },
        {
          "name": "stderr",
          "output_type": "stream",
          "text": [
            "\rGenerating Outputs:  76%|███████▌  | 152/200 [11:17<03:57,  4.96s/it]"
          ]
        },
        {
          "name": "stdout",
          "output_type": "stream",
          "text": [
            "Result: - 분석 결과 0: 음식명:육계닭볶음탕,수량:한그릇\n",
            "- 분석 결과 1: 음식명:팥 크로아상,수량:두개\n",
            "- 분석 결과 2: 음식명:아이스허브차,옵션:로즈마리,수량:한잔\n",
            "- 분석 결과 3: 음식명:오곡라떼,수량:한잔.\n",
            "Input Text: 뼈찜 덜맵게 대, 홍차 HOT 한잔 주세요.\n"
          ]
        },
        {
          "name": "stderr",
          "output_type": "stream",
          "text": [
            "\rGenerating Outputs:  76%|███████▋  | 153/200 [11:21<03:34,  4.57s/it]"
          ]
        },
        {
          "name": "stdout",
          "output_type": "stream",
          "text": [
            "Result: - 분석 결과 0: 음식명:뼈찜, 옵션:덜맵게, 옵션:대\n",
            "- 분석 결과 1: 음식명:홍차, 옵션:HOT, 수량:한잔.\n",
            "Input Text: 계란찜 2개와 고구마스틱 한판 주세요.\n"
          ]
        },
        {
          "name": "stderr",
          "output_type": "stream",
          "text": [
            "\rGenerating Outputs:  77%|███████▋  | 154/200 [11:24<03:07,  4.07s/it]"
          ]
        },
        {
          "name": "stdout",
          "output_type": "stream",
          "text": [
            "Result: - 분석 결과 0: 음식명:계란찜,수량:2개\n",
            "- 분석 결과 1: 음식명:고구마스틱,수량:한판.\n",
            "Input Text: 간장삼겹살 SET XL 한판, 오리지널 자몽에이드 한잔 주세요.\n"
          ]
        },
        {
          "name": "stderr",
          "output_type": "stream",
          "text": [
            "\rGenerating Outputs:  78%|███████▊  | 155/200 [11:28<03:12,  4.27s/it]"
          ]
        },
        {
          "name": "stdout",
          "output_type": "stream",
          "text": [
            "Result: - 분석 결과 0: 음식명:간장삼겹살,옵션:SET XL,수량:한판\n",
            "- 분석 결과 1: 음식명:오리지널 자몽에이드,수량:한잔.\n",
            "Input Text: 비빔탄탄면 라지 하나, 왕만두 김치 한개, 수제등심돈까스 소짜 한그릇 주세요.\n"
          ]
        },
        {
          "name": "stderr",
          "output_type": "stream",
          "text": [
            "\rGenerating Outputs:  78%|███████▊  | 156/200 [11:34<03:24,  4.64s/it]"
          ]
        },
        {
          "name": "stdout",
          "output_type": "stream",
          "text": [
            "Result: - 분석 결과 0: 음식명:비빔탄탄면,옵션:라지,수량:하나\n",
            "- 분석 결과 1: 음식명:왕만두,옵션:김치,수량:한개\n",
            "- 분석 결과 2: 음식명:수제등심돈까스,옵션:소짜,수량:한그릇.\n",
            "Input Text: 이번에는 좀 달게요. 요번에는 순대육개장에 라지 사이즈로 주세요. 그리고 순댓국 중사이즈 두 그릇 주세요.\n"
          ]
        },
        {
          "name": "stderr",
          "output_type": "stream",
          "text": [
            "\rGenerating Outputs:  78%|███████▊  | 157/200 [11:37<03:03,  4.27s/it]"
          ]
        },
        {
          "name": "stdout",
          "output_type": "stream",
          "text": [
            "Result: - 분석 결과 0: 음식명:순대육개장,옵션:라지\n",
            "- 분석 결과 1: 음식명:순댓국,옵션:중사이즈,수량:두 그릇.\n",
            "Input Text: 날씨가 점점 더워지네요, 요번엔 팥칼국수 1인분에 빠사칸윙봉현미 추가 해주세요.\n"
          ]
        },
        {
          "name": "stderr",
          "output_type": "stream",
          "text": [
            "\rGenerating Outputs:  79%|███████▉  | 158/200 [11:41<02:57,  4.23s/it]"
          ]
        },
        {
          "name": "stdout",
          "output_type": "stream",
          "text": [
            "Result: - 분석 결과 0: 음식명:팥칼국수, 수량:1인분\n",
            "- 분석 결과 1: 음식명:빠사칸윙봉현미, 수량:1인분.\n",
            "Input Text: 저기요, 머리고기 한판하고 순대 두개 주세요. 그리고 깐풍육 소 사이즈로 주세요.\n"
          ]
        },
        {
          "name": "stderr",
          "output_type": "stream",
          "text": [
            "\rGenerating Outputs:  80%|███████▉  | 159/200 [11:46<02:56,  4.30s/it]"
          ]
        },
        {
          "name": "stdout",
          "output_type": "stream",
          "text": [
            "Result: - 분석 결과 0: 음식명:머리고기,수량:한판\n",
            "- 분석 결과 1: 음식명:순대,수량:두개\n",
            "- 분석 결과 2: 음식명:깐풍육,옵션:소,수량:두개.\n",
            "Input Text: 송어회 특대 한개랑 맵냥치킨 두개 주세요. 그리고 해삼송이 L사이즈로도 주세요.\n"
          ]
        },
        {
          "name": "stderr",
          "output_type": "stream",
          "text": [
            "\rGenerating Outputs:  80%|████████  | 160/200 [11:51<02:57,  4.43s/it]"
          ]
        },
        {
          "name": "stdout",
          "output_type": "stream",
          "text": [
            "Result: - 분석 결과 0: 음식명:송어회, 옵션:특대, 수량:한개\n",
            "- 분석 결과 1: 음식명:맵냥치킨, 수량:두개\n",
            "- 분석 결과 2: 음식명:해삼송이, 옵션:L사이즈, 수량:두개.\n",
            "Input Text: 딸기+바나나쥬스 한 잔이랑 뽕잎밥 2인분 주세요. 그리고 토종닭도리탕 중 사이즈도 주세요.\n"
          ]
        },
        {
          "name": "stderr",
          "output_type": "stream",
          "text": [
            "\rGenerating Outputs:  80%|████████  | 161/200 [11:57<03:14,  5.00s/it]"
          ]
        },
        {
          "name": "stdout",
          "output_type": "stream",
          "text": [
            "Result: - 분석 결과 0: 음식명:딸기+바나나쥬스,수량:한 잔\n",
            "- 분석 결과 1: 음식명:뽕잎밥,수량:2인분\n",
            "- 분석 결과 2: 음식명:토종닭도리탕,옵션:중,수량:2인분.\n",
            "Input Text: 사골곰국 한 그릇하고 뼈찜 아주맵게로 하나 주세요. 그리고 계란탕 추가요.\n"
          ]
        },
        {
          "name": "stderr",
          "output_type": "stream",
          "text": [
            "\rGenerating Outputs:  81%|████████  | 162/200 [12:02<03:06,  4.91s/it]"
          ]
        },
        {
          "name": "stdout",
          "output_type": "stream",
          "text": [
            "Result: - 분석 결과 0: 음식명:사골곰국,수량:한 그릇\n",
            "- 분석 결과 1: 음식명:뼈찜,옵션:아바맵게,수량:하나\n",
            "- 분석 결과 2: 음식명:계란탕,수량:추가요.\n",
            "Input Text: 제가 주문할게요, 참치김치컵밥 하나랑 cass생맥주 500cc 한잔 주세요.\n"
          ]
        },
        {
          "name": "stderr",
          "output_type": "stream",
          "text": [
            "\rGenerating Outputs:  82%|████████▏ | 163/200 [12:05<02:43,  4.42s/it]"
          ]
        },
        {
          "name": "stdout",
          "output_type": "stream",
          "text": [
            "Result: - 분석 결과 0: 음식명:참치김치컵밥,수량:하나\n",
            "- 분석 결과 1: 음식명: cass生맥주,옵션:500cc,수량:한잔.\n",
            "Input Text: 여기, 엽기오돌뼈 중사이즈로 한개 주세요. 그랑 떡볶이랑 김말이 추가요.\n"
          ]
        },
        {
          "name": "stderr",
          "output_type": "stream",
          "text": [
            "\rGenerating Outputs:  82%|████████▏ | 164/200 [12:09<02:39,  4.42s/it]"
          ]
        },
        {
          "name": "stdout",
          "output_type": "stream",
          "text": [
            "Result: - 분석 결과 0: 음식명:엽기오돌뼈, 옵션:중사이즈, 수량:한개\n",
            "- 분석 결과 1: 음식명:떡볶이, 옵션:김말이 추가요.\n",
            "Input Text: 철판 모짜렐라치즈 하나 주세요. 그리고 소주 한병 추가요.\n"
          ]
        },
        {
          "name": "stderr",
          "output_type": "stream",
          "text": [
            "\rGenerating Outputs:  82%|████████▎ | 165/200 [12:13<02:24,  4.14s/it]"
          ]
        },
        {
          "name": "stdout",
          "output_type": "stream",
          "text": [
            "Result: - 분석 결과 0: 음식명:철판 모짜렐라치즈, 수량:하나\n",
            "- 분석 결과 1: 음식명:소주, 수량:한병 추가요.\n",
            "Input Text: 마늘탕수육 중 사이즈 하나에요. 그리고 얼그레이밀크티 특대 사이즈로 주세요.\n"
          ]
        },
        {
          "name": "stderr",
          "output_type": "stream",
          "text": [
            "\rGenerating Outputs:  83%|████████▎ | 166/200 [12:16<02:15,  3.97s/it]"
          ]
        },
        {
          "name": "stdout",
          "output_type": "stream",
          "text": [
            "Result: - 분석 결과 0: 음식명:마늘탕수육,옵션:중,수량:하나\n",
            "- 분석 결과 1: 음식명:얼그레이밀크티,옵션:특대,수량:한잔.\n",
            "Input Text: 안녕하세요, 불뼈구이 소 조리한판 주문할게요 그리고 한우진곰탕도 둘 주세요.\n"
          ]
        },
        {
          "name": "stderr",
          "output_type": "stream",
          "text": [
            "\rGenerating Outputs:  84%|████████▎ | 167/200 [12:20<02:03,  3.73s/it]"
          ]
        },
        {
          "name": "stdout",
          "output_type": "stream",
          "text": [
            "Result: - 분석 결과 0: 음식명:불뼈구이,옵션:소,수량:한판\n",
            "- 분석 결과 1: 음식명:한우진곰탕,수량:둘\n",
            "Input Text: 당근케이크 조각 한개랑 미디엄 사이즈 아이스아메리카노 두잔이요!\n"
          ]
        },
        {
          "name": "stderr",
          "output_type": "stream",
          "text": [
            "\rGenerating Outputs:  84%|████████▍ | 168/200 [12:24<02:04,  3.89s/it]"
          ]
        },
        {
          "name": "stdout",
          "output_type": "stream",
          "text": [
            "Result: - 분석 결과 0: 음식명:당근케이크 조각, 수량:한개\n",
            "- 분석 결과 1: 음식명:아이스아메리카노, 옵션:미디엄, 수량:두잔.\n",
            "Input Text: 양등갈비 150g 2인분하고요, 아메리카노 그란데사이즈 두잔 해주세요.\n"
          ]
        },
        {
          "name": "stderr",
          "output_type": "stream",
          "text": [
            "\rGenerating Outputs:  84%|████████▍ | 169/200 [12:28<02:03,  3.99s/it]"
          ]
        },
        {
          "name": "stdout",
          "output_type": "stream",
          "text": [
            "Result: - 분석 결과 0: 음식명:양등갈비,옵션:150g,수량:2인분\n",
            "- 분석 결과 1: 음식명:아메리카노,옵션:그란데사이즈,수량:두잔.\n",
            "Input Text: 삼겹살 200g 셋 그리고 오돌뼈 토시살 된장찌개상합메뉴 하나입니다.\n"
          ]
        },
        {
          "name": "stderr",
          "output_type": "stream",
          "text": [
            "\rGenerating Outputs:  85%|████████▌ | 170/200 [12:32<01:56,  3.89s/it]"
          ]
        },
        {
          "name": "stdout",
          "output_type": "stream",
          "text": [
            "Result: - 분석 결과 0: 음식명:삼겹살, 옵션:200g, 수량: 셋\n",
            "- 분석 결과 1: 음식명:오돌뼈 토시살, 옵션:deno, 수량:하나.\n",
            "Input Text: 참치치즈돌솥밥 두그릇, 딸기에이드 스몰사이즈 두잔 주문하겠습니다.\n"
          ]
        },
        {
          "name": "stderr",
          "output_type": "stream",
          "text": [
            "\rGenerating Outputs:  86%|████████▌ | 171/200 [12:36<01:52,  3.87s/it]"
          ]
        },
        {
          "name": "stdout",
          "output_type": "stream",
          "text": [
            "Result: - 분석 결과 0: 음식명:참치치즈돌솥밥, 수량:두그릇\n",
            "- 분석 결과 1: 음식명:딸기에이드, 옵션:스몰사이즈, 수량:두잔.\n",
            "Input Text: 라조기 소로 한개, 되지마머니 튀김 한판 추가해주세요.\n"
          ]
        },
        {
          "name": "stderr",
          "output_type": "stream",
          "text": [
            "\rGenerating Outputs:  86%|████████▌ | 172/200 [12:40<01:52,  4.01s/it]"
          ]
        },
        {
          "name": "stdout",
          "output_type": "stream",
          "text": [
            "Result: - 분석 결과 0: 음식명:라조기,옵션:소,수량:한개\n",
            "- 분석 결과 1: 음식명:되지마머니 튀김,수량:한판 추가요.\n",
            "Input Text: 안녕하세요, 라제니요또 한그릇 주세요. 그리고 냉모밀도 한그릇 해주세요.\n"
          ]
        },
        {
          "name": "stderr",
          "output_type": "stream",
          "text": [
            "\rGenerating Outputs:  86%|████████▋ | 173/200 [12:43<01:40,  3.71s/it]"
          ]
        },
        {
          "name": "stdout",
          "output_type": "stream",
          "text": [
            "Result: - 분석 결과 0: 음식명:라제니요또, 수량:한그릇\n",
            "- 분석 결과 1: 음식명:냉모밀, 수량:한그릇.\n",
            "Input Text: 아메리카노세트메뉴 두세트랑 곱창탕 한그릇 주세요.\n"
          ]
        },
        {
          "name": "stderr",
          "output_type": "stream",
          "text": [
            "\rGenerating Outputs:  87%|████████▋ | 174/200 [12:46<01:32,  3.54s/it]"
          ]
        },
        {
          "name": "stdout",
          "output_type": "stream",
          "text": [
            "Result: - 분석 결과 0: 음식명:아메리카노세트메뉴,수량:두세트\n",
            "- 분석 결과 1: 음식명:곱창탕,수량:한그릇.\n",
            "Input Text: 안녕하세요, 또래오래 세트 2판 주세요. 그리고 매운오돌뼈랑 주먹밥 하나\n"
          ]
        },
        {
          "name": "stderr",
          "output_type": "stream",
          "text": [
            "\rGenerating Outputs:  88%|████████▊ | 175/200 [12:50<01:33,  3.75s/it]"
          ]
        },
        {
          "name": "stdout",
          "output_type": "stream",
          "text": [
            "Result: - 분석 결과 0: 음식명:안또래오래 세트, 수량:2판\n",
            "- 분석 결과 1: 음식명:매운오돌뼈\n",
            "- 분석 결과 2: 음식명:주먹밥, 수량:하나.\n",
            "Input Text: 바지락칼국수 세그릇 주세요. 아, 그리고 김밥 한줄 더요.\n"
          ]
        },
        {
          "name": "stderr",
          "output_type": "stream",
          "text": [
            "\rGenerating Outputs:  88%|████████▊ | 176/200 [12:54<01:31,  3.80s/it]"
          ]
        },
        {
          "name": "stdout",
          "output_type": "stream",
          "text": [
            "Result: - 분석 결과 0: 음식명:바지락칼국수,수량:세그릇\n",
            "- 분석 결과 1: 음식명:김밥,수량:한줄.\n",
            "Input Text: 곱창전골 두그릇하구요, 한우옛날육개장 한그릇이랑 통닭삼총사 하나 부탁드립니다.\n"
          ]
        },
        {
          "name": "stderr",
          "output_type": "stream",
          "text": [
            "\rGenerating Outputs:  88%|████████▊ | 177/200 [12:59<01:32,  4.03s/it]"
          ]
        },
        {
          "name": "stdout",
          "output_type": "stream",
          "text": [
            "Result: - 분석 결과 0: 음식명:곱창전골, 수량:두그릇\n",
            "- 분석 결과 1: 음식명:한우옛날육개장, 수량:한그릇\n",
            "- 분석 결과 2: 음식명:통닭삼총사, 수량:하나.\n",
            "Input Text: 가지고 있는 제주특산수제하귤 소세트 한 개 주세요.\n"
          ]
        },
        {
          "name": "stderr",
          "output_type": "stream",
          "text": [
            "\rGenerating Outputs:  89%|████████▉ | 178/200 [13:05<01:41,  4.59s/it]"
          ]
        },
        {
          "name": "stdout",
          "output_type": "stream",
          "text": [
            "Result: - 분석 결과 0: 음식명:제주특산수제하귤,옵션:소세트,수량:한 개. \n",
            "- 분석 결과 1: 음식명:수제하귤,수량:한 개. \n",
            "- 분석 결과 2: 음식명:제주특산수제하귤,옵션:소세트,수량:한 개.\n",
            "Input Text: 팔당농장 소불고기 산채정식 두인분 따로 주문 가능한가요?\n"
          ]
        },
        {
          "name": "stderr",
          "output_type": "stream",
          "text": [
            "\rGenerating Outputs:  90%|████████▉ | 179/200 [13:10<01:42,  4.87s/it]"
          ]
        },
        {
          "name": "stdout",
          "output_type": "stream",
          "text": [
            "Result: - 분석 결과 0: 음식명:팔당농장 소불고기,옵션:산채정식,수량:두인분\n",
            "- 분석 결과 1: 음식명:팔당농장,옵션:소불고기,옵션:산채정식,수량:두인분\n",
            "Input Text: 음료수로 미린다 원사이즈 두 캔 주실 수 있나요?\n"
          ]
        },
        {
          "name": "stderr",
          "output_type": "stream",
          "text": [
            "\rGenerating Outputs:  90%|█████████ | 180/200 [13:12<01:19,  3.98s/it]"
          ]
        },
        {
          "name": "stdout",
          "output_type": "stream",
          "text": [
            "Result: - 분석 결과 0: 음식명:미린다,옵션:원사이즈,수량:두 캔\n",
            "Input Text: 한스쿱 아이스로 바꾸고 싶은데, 그리고 사이즈는 그란데로 지정해주세요.\n"
          ]
        },
        {
          "name": "stderr",
          "output_type": "stream",
          "text": [
            "\rGenerating Outputs:  90%|█████████ | 181/200 [13:15<01:11,  3.75s/it]"
          ]
        },
        {
          "name": "stdout",
          "output_type": "stream",
          "text": [
            "Result: - 분석 결과 0: 음식명:한스쿱,옵션:아이스,그란데\n",
            "- 분석 결과 1: 음식명:아이스 한스쿱,옵션:그란데.\n",
            "Input Text: 조림 두 인분 주시고, 양념이 뭉클이지 않게 잘 섞어주세요.\n"
          ]
        },
        {
          "name": "stderr",
          "output_type": "stream",
          "text": [
            "\rGenerating Outputs:  91%|█████████ | 182/200 [13:18<01:04,  3.57s/it]"
          ]
        },
        {
          "name": "stdout",
          "output_type": "stream",
          "text": [
            "Result: - 분석 결과 0: 음식명:조림, 수량:두 인분\n",
            "- 분석 결과 1: 음식명:양념이 뭉클이지 않게 잘 섞어주세요.\n",
            "Input Text: 오늘의 명란파스타 한 그릇이랑 음료는 더치커피 아이스로 주세요.\n"
          ]
        },
        {
          "name": "stderr",
          "output_type": "stream",
          "text": [
            "\rGenerating Outputs:  92%|█████████▏| 183/200 [13:23<01:04,  3.80s/it]"
          ]
        },
        {
          "name": "stdout",
          "output_type": "stream",
          "text": [
            "Result: - 분석 결과 0: 음식명:명란파스타,수량:한 그릇\n",
            "- 분석 결과 1: 음식명:더치커피,옵션:아이스,수량:한 잔.\n",
            "Input Text: 한잔으로 유자차 고흥유자청 주세요. 그리고 약간 얼음 많이 주세요.\n"
          ]
        },
        {
          "name": "stderr",
          "output_type": "stream",
          "text": [
            "\rGenerating Outputs:  92%|█████████▏| 184/200 [13:26<01:00,  3.78s/it]"
          ]
        },
        {
          "name": "stdout",
          "output_type": "stream",
          "text": [
            "Result: - 분석 결과 0: 음식명:유자차,옵션:고흥유자청,수량:한잔\n",
            "- 분석 결과 1: 음식명:얼음,옵션:많이,수량:한잔.\n",
            "Input Text: 오늘 메뉴는 특갈비찜한 판으로 주문하겠습니다. 그런데 고기가 불린 것 주시면 좋겠어요.\n"
          ]
        },
        {
          "name": "stderr",
          "output_type": "stream",
          "text": [
            "\rGenerating Outputs:  92%|█████████▎| 185/200 [13:30<00:53,  3.59s/it]"
          ]
        },
        {
          "name": "stdout",
          "output_type": "stream",
          "text": [
            "Result: - 분석 결과 0: 음식명:특갈비찜,수량:한 판\n",
            "- 분석 결과 1: 음식명:고기,옵션:불리기,수량:한 판.\n",
            "Input Text: 왕갈비 100g 하나랑 순살 양념 매운맛 첨가해서 주시겠어요?\n"
          ]
        },
        {
          "name": "stderr",
          "output_type": "stream",
          "text": [
            "\rGenerating Outputs:  93%|█████████▎| 186/200 [13:33<00:49,  3.54s/it]"
          ]
        },
        {
          "name": "stdout",
          "output_type": "stream",
          "text": [
            "Result: - 분석 결과 0: 음식명:왕갈비,옵션:100g,수량:하나\n",
            "- 분석 결과 1: 음식명:순살 양념 매운맛,수량:하나.\n",
            "Input Text: 저는 묵은지두부김치 중자로 한그릇하고, 뿌링치즈볼 5개 주세요!\n"
          ]
        },
        {
          "name": "stderr",
          "output_type": "stream",
          "text": [
            "\rGenerating Outputs:  94%|█████████▎| 187/200 [13:37<00:49,  3.79s/it]"
          ]
        },
        {
          "name": "stdout",
          "output_type": "stream",
          "text": [
            "Result: - 분석 결과 0: 음식명:묵은지두부김치,옵션:중자,수량:한그릇\n",
            "- 분석 결과 1: 음식명:뿌링치즈볼,수량:5개\n",
            "Input Text: 자몽에이드 L 사이즈 한 정도 주세요. 그리고 얼큰뼈찜 중짜 주세요.\n"
          ]
        },
        {
          "name": "stderr",
          "output_type": "stream",
          "text": [
            "\rGenerating Outputs:  94%|█████████▍| 188/200 [13:41<00:45,  3.77s/it]"
          ]
        },
        {
          "name": "stdout",
          "output_type": "stream",
          "text": [
            "Result: - 분석 결과 0: 음식명:자몽에이드,옵션:L,수량:한degree\n",
            "- 분석 결과 1: 음식명:얼큰뼈찜,옵션:중짜,수량:한판.\n",
            "Input Text: 저하고 친구하고 둘이 와규 안심덧살 200g랑, 물냉면 두그릇 주세요.\n"
          ]
        },
        {
          "name": "stderr",
          "output_type": "stream",
          "text": [
            "\rGenerating Outputs:  94%|█████████▍| 189/200 [13:45<00:40,  3.72s/it]"
          ]
        },
        {
          "name": "stdout",
          "output_type": "stream",
          "text": [
            "Result: - 분석 결과 0: 음식명:저고하고 친구하고 둘이, 옵션:안심덧살, 수량:200g\n",
            "- 분석 결과 1: 음식명:물냉면, 수량:두그릇.\n",
            "Input Text: 플랫화이트 벨루치 다크 HOT 한잔하고 바닐라라떼 hot size up 한잔 주세요.\n"
          ]
        },
        {
          "name": "stderr",
          "output_type": "stream",
          "text": [
            "\rGenerating Outputs:  95%|█████████▌| 190/200 [13:50<00:41,  4.19s/it]"
          ]
        },
        {
          "name": "stdout",
          "output_type": "stream",
          "text": [
            "Result: - 분석 결과 0: 음식명:플랫화이트 벨루치 다크,옵션:HOT,수량:한잔\n",
            "- 분석 결과 1: 음식명:바닐라라떼,옵션:hot,수량:한잔.\n",
            "Input Text: 갈비치 킨 1개, 피자 R사이즈, 음료수 500ml 한판 주세요.\n"
          ]
        },
        {
          "name": "stderr",
          "output_type": "stream",
          "text": [
            "\rGenerating Outputs:  96%|█████████▌| 191/200 [13:55<00:38,  4.33s/it]"
          ]
        },
        {
          "name": "stdout",
          "output_type": "stream",
          "text": [
            "Result: - 분석 결과 0: 음식명:갈비치,옵션:킨,수량:1개\n",
            "- 분석 결과 1: 음식명:피자,옵션:R사이즈\n",
            "- 분석 결과 2: 음식명:음료수,옵션:500ml,수량:한판.\n",
            "Input Text: 불보쌈 대자 하나하고, 조각닭 후라이드 두 판 주세요.\n"
          ]
        },
        {
          "name": "stderr",
          "output_type": "stream",
          "text": [
            "\rGenerating Outputs:  96%|█████████▌| 192/200 [13:58<00:32,  4.09s/it]"
          ]
        },
        {
          "name": "stdout",
          "output_type": "stream",
          "text": [
            "Result: - 분석 결과 0: 음식명:불보쌈,옵션:대자,수량:하나\n",
            "- 분석 결과 1: 음식명:조각닭,옵션:후라이드,수량:두 판.\n",
            "Input Text: 베이컨에그샌드위치 하나랑 칠리새우 6P 두개 주세요.\n"
          ]
        },
        {
          "name": "stderr",
          "output_type": "stream",
          "text": [
            "\rGenerating Outputs:  96%|█████████▋| 193/200 [14:02<00:28,  4.05s/it]"
          ]
        },
        {
          "name": "stdout",
          "output_type": "stream",
          "text": [
            "Result: - 분석 결과 0: 음식명:베이컨에그샌드위치, 수량:하나\n",
            "- 분석 결과 1: 음식명:칠리새우, 옵션:6P, 수량:두개.\n",
            "Input Text: 엔도르피노순한맛 두병 과 허니 버터칩 한개 주세요.\n"
          ]
        },
        {
          "name": "stderr",
          "output_type": "stream",
          "text": [
            "\rGenerating Outputs:  97%|█████████▋| 194/200 [14:06<00:23,  3.93s/it]"
          ]
        },
        {
          "name": "stdout",
          "output_type": "stream",
          "text": [
            "Result: - 분석 결과 0: 음식명:엔도르피노순한맛,수량:두병\n",
            "- 분석 결과 1: 음식명:허니 버터칩,수량:한개\n",
            "Input Text: 수제비 한그릇과 아이스 아메리카노 미디엄 사이즈 두잔 주세요.\n"
          ]
        },
        {
          "name": "stderr",
          "output_type": "stream",
          "text": [
            "\rGenerating Outputs:  98%|█████████▊| 195/200 [14:09<00:18,  3.74s/it]"
          ]
        },
        {
          "name": "stdout",
          "output_type": "stream",
          "text": [
            "Result: - 분석 결과 0: 음식명:수제비,수량:한그릇\n",
            "- 분석 결과 1: 음식명:아이스 아메리카노,옵션:미디엄,수량:두잔.\n",
            "Input Text: 매운 감자탕 중짜, 상큼한 라임에이드 L 사이즈 한잔 부탁드려요.\n"
          ]
        },
        {
          "name": "stderr",
          "output_type": "stream",
          "text": [
            "\rGenerating Outputs:  98%|█████████▊| 196/200 [14:12<00:14,  3.56s/it]"
          ]
        },
        {
          "name": "stdout",
          "output_type": "stream",
          "text": [
            "Result: - 분석 결과 0: 음식명:매운 감자탕, 옵션:중짜\n",
            "- 분석 결과 1: 음식명:라임에이드, 옵션:L, 수량:한잔.\n",
            "Input Text: 사람 많으니까 아포카토 라지 한 그릇이랑 그린티라떼 라지 한 잔 주세요.\n"
          ]
        },
        {
          "name": "stderr",
          "output_type": "stream",
          "text": [
            "\rGenerating Outputs:  98%|█████████▊| 197/200 [14:17<00:11,  3.78s/it]"
          ]
        },
        {
          "name": "stdout",
          "output_type": "stream",
          "text": [
            "Result: - 분석 결과 0: 음식명:아포카토,옵션:라지,수량:한 그릇\n",
            "- 분석 결과 1: 음식명:그린티라떼,옵션:라지,수량:한 잔.\n",
            "Input Text: 오늘은 콩국수 미디엄 한 그릇과 갈비레오 라지 두 판 주세요.\n"
          ]
        },
        {
          "name": "stderr",
          "output_type": "stream",
          "text": [
            "\rGenerating Outputs:  99%|█████████▉| 198/200 [14:21<00:07,  3.96s/it]"
          ]
        },
        {
          "name": "stdout",
          "output_type": "stream",
          "text": [
            "Result: - 분석 결과 0: 음식명:콩국수,옵션:미디엄,수량:한 그릇\n",
            "- 분석 결과 1: 음식명:갈비레오,옵션:라지,수량:두 판.\n",
            "Input Text: 왕갈비탕 특 한 판, 마치찜 대 한 그릇 주세요.\n"
          ]
        },
        {
          "name": "stderr",
          "output_type": "stream",
          "text": [
            "\rGenerating Outputs: 100%|█████████▉| 199/200 [14:24<00:03,  3.84s/it]"
          ]
        },
        {
          "name": "stdout",
          "output_type": "stream",
          "text": [
            "Result: - 분석 결과 0: 음식명:왕갈비탕,옵션:특,수량:한 판\n",
            "- 분석 결과 1: 음식명:마치찜,옵션:대,수량:한 그릇.\n",
            "Input Text: 오늘은 뉴트리바 한 캔 줘. 그리고 불백 곱배기 한 그릇 같이 주세요.\n"
          ]
        },
        {
          "name": "stderr",
          "output_type": "stream",
          "text": [
            "Generating Outputs: 100%|██████████| 200/200 [14:28<00:00,  4.34s/it]"
          ]
        },
        {
          "name": "stdout",
          "output_type": "stream",
          "text": [
            "Result: - 분석 결과 0: 음식명:뉴트리바, 수량:한 캔\n",
            "- 분석 결과 1: 음식명:불백, 옵션:곱배기, 수량:한 그릇.\n"
          ]
        },
        {
          "name": "stderr",
          "output_type": "stream",
          "text": [
            "\n"
          ]
        }
      ],
      "source": [
        "# 검증 데이터셋의 input 값을 훈련시킨 모델에 입력시켜 결과 추출하기\n",
        "generated_outputs = []\n",
        "for input_text in tqdm(inputs, desc=\"Generating Outputs\"):\n",
        "    print(f\"Input Text: {input_text}\")  # 입력 확인\n",
        "    result = wrapper_generate(\n",
        "        tokenizer=tokenizer,\n",
        "        model=model,\n",
        "        input_prompt=preprocessor({'input': input_text}),\n",
        "        do_stream=False  # Stream 끄기\n",
        "    )\n",
        "    print(f\"Result: {result}\")  # 결과 확인\n",
        "    generated_outputs.append(result)\n"
      ]
    },
    {
      "cell_type": "markdown",
      "id": "ycNSILnTFd01",
      "metadata": {
        "id": "ycNSILnTFd01"
      },
      "source": [
        "### 생성된 output 값들"
      ]
    },
    {
      "cell_type": "code",
      "execution_count": 38,
      "id": "S27QKdVYjs8z",
      "metadata": {
        "colab": {
          "base_uri": "https://localhost:8080/"
        },
        "id": "S27QKdVYjs8z",
        "outputId": "abdee656-7cb5-4b7f-d639-f281c5333e28"
      },
      "outputs": [
        {
          "data": {
            "text/plain": [
              "['- 분석 결과 0: 음식명:꽃살버섯샐러드,수량:한그릇\\n- 분석 결과 1: 음식명:스테이크올리오스파게티,수량:세트\\n- 분석 결과 2: 음식명:꽃살버섯샐러드,옵션:스파게티,수량:한그릇\\n- 분석 결과 3: 음식명:스테이크올리오스파게티,수량:세트',\n",
              " '- 분석 결과 0: 음식명:교촌통통치킨카츠, 수량:한 판\\n- 분석 결과 1: 음식명:행복지수커피, 수량:한잔\\n- 분석 결과 2: 음식명:헤즐넛, 옵션:핫, 수량:하나.',\n",
              " '- 분석 결과 0: 음식명:에스프레소도피오,옵션:핫,수량:한잔\\n- 분석 결과 1: 음식명:허니티,옵션:진하게,수량:한 잔.',\n",
              " '- 분석 결과 0: 음식명:밀크티,수량:두 캔\\n- 분석 결과 1: 음식명:도토리묵밥,수량:한 그릇\\n- 분석 결과 2: 음식명:동치미,수량:한병.',\n",
              " '- 분석 결과 0: 음식명:열무국수,옵션:곱배기,수량:한 그릇\\n- 분석 결과 1: 음식명:칼국수,옵션:뚝배기,수량:한 뚝배기.',\n",
              " '- 분석 결과 0: 음식명:민족치킨, 수량:하나\\n- 분석 결과 1: 음식명:토란줄기 감자탕, 수량:하나.',\n",
              " '- 분석 결과 0: 음식명:참치모듬, 수량:하나\\n- 분석 결과 1: 음식명:제육두루치기, 수량:둘',\n",
              " '- 분석 결과 0: 음식명:구슬바닐라카페스무디,옵션:ICE,수량:한잔\\n- 분석 결과 1: 음식명:준과치즈케익,수량:하나.',\n",
              " '- 분석 결과 0: 음식명:라디오더치라떼,옵션:ICE,수량:한잔\\n- 분석 결과 1: 음식명:볼케이노피자,옵션:R,수량:한판.',\n",
              " '- 분석 결과 0: 음식명:물회,옵션:특,수량:한그릇\\n- 분석 결과 1: 음식명:웨이퍼롤 바닐라 세트,수량:세트',\n",
              " '- 분석 결과 0: 음식명:다크쇼콜라,옵션:L,수량:한잔\\n- 분석 결과 1: 음식명:짜파게티,수량:한개',\n",
              " '- 분석 결과 0: 음식명:코다리찜,옵션:중\\n- 분석 결과 1: 음식명:클라우드라떼,옵션:S,수량:한잔.',\n",
              " '- 분석 결과 0: 음식명:제주두루치기, 수량:2인분\\n- 분석 결과 1: 음식명:B set, 옵션:800g. 수량:수량을 차례대로 추출해야 한다.',\n",
              " '- 분석 결과 0: 음식명:오울블루,수량:한그릇\\n- 분석 결과 1: 음식명:라면,옵션:계란추가,수량:한그릇.',\n",
              " '- 분석 결과 0: 음식명:돈가스덮밥,옵션:등심,수량:한그릇\\n- 분석 결과 1: 음식명:심심풀이새우깡,수량:하나.',\n",
              " '- 분석 결과 0: 음식명:금준미홍차,수량:한잔\\n- 분석 결과 1: 음식명: 까망베르치즈구이,수량:하나\\n- 분석 결과 2: 음식명: 젤라또 초코,수량:한개.',\n",
              " '- 분석 결과 0: 음식명:불목살,옵션:중자,수량:200g\\n- 분석 결과 1: 음식명:꼬치어묵,수량:세 개\\n- 분석 결과 2: 음식명:흑당버블밀크티,옵션:아이스,레귤러,수량:두 잔.',\n",
              " '- 분석 결과 0: 음식명:호두아몬드파티,옵션:24cm,수량:한 판\\n- 분석 결과 1: 음식명:블루베리스무디,옵션:XL사이즈,수량:두 잔.',\n",
              " '- 분석 결과 0: 음식명:돈돈탕,옵션:중자,수량:한 그릇\\n- 분석 결과 1: 음식명:옥수수,수량:한 개.',\n",
              " '- 분석 결과 0: 음식명:카라멜프라페,옵션:그란데,수량:한 잔\\n- 분석 결과 1: 음식명:닭불고기백반,수량:1개.',\n",
              " '- 분석 결과 0: 음식명:징기스칸,옵션:양고기,수량:220g\\n- 분석 결과 1: 음식명:사리 당면,수량:한 개\\n- 분석 결과 2: 음식명:아이스 말차라떼,수량:이잔',\n",
              " '- 분석 결과 0: 음식명:보쌈 세트, 수량:한 판\\n- 분석 결과 1: 음식명:리얼 고구마라떼, 옵션:라지, 수량:한 잔.',\n",
              " '- 분석 결과 0: 음식명:치즈크레커,수량:두 판\\n- 분석 결과 1: 음식명:레몬에이드,옵션:ICE 레귤러,수량:한 잔.',\n",
              " '- 분석 결과 0: 음식명:오도독살,옵션:180g\\n- 분석 결과 1: 음식명:빵,수량:한개',\n",
              " '- 분석 결과 0: 음식명:한방 대나무 통삼계탕, 수량:두인분\\n- 분석 결과 1: 음식명:한우익힘 비빔밥, 수량:한 개.',\n",
              " '- 분석 결과 0: 음식명:코다리등갈비찜,옵션:소자\\n- 분석 결과 1: 음식명:칡찐빵,수량:6개',\n",
              " '- 분석 결과 0: 음식명:송어통매운탕, 수량:하나\\n- 분석 결과 1: 음식명:무침, 수량:추가로 주세요.',\n",
              " '- 분석 결과 0: 음식명:콩국수, 수량:두 그릇\\n- 분석 결과 1: 음식명:미니계란탕, 수량:한 개',\n",
              " '- 분석 결과 0: 음식명:제주흑돼지두루치기, 수량:2인분\\n- 분석 결과 1: 음식명:카라멜카페모카, 옵션:아이스, 수량:한잔.',\n",
              " '- 분석 결과 0: 음식명:몬테스클래식멜LOT,수량:한병\\n- 분석 결과 1: 음식명:칡냉면,수량:한그릇.',\n",
              " '- 분석 결과 0: 음식명:참치마요주먹밥, 수량:2개\\n- 분석 결과 1: 음식명:카페모카, 옵션:아이스, 수량:1잔.',\n",
              " '- 분석 결과 0: 음식명:양초삼계탕,옵션:곱배기\\n- 분석 결과 1: 음식명:포도,수량:1개\\n- 분석 결과 2: 음식명:키위쥬스대해,수량:한 잔\\n- 분석 결과 3: 음식명:배터지게 음식,옵션:음식명:양념,수량:한 판\\n- 분석 결과 4: 음식명:포도,수량:한 개',\n",
              " '- 분석 결과 0: 음식명:그런라면,수량:1개\\n- 분석 결과 1: 음식명:갈비닭,수량:한 개',\n",
              " '- 분석 결과 0: 음식명:justrae, 수량:하나\\n- 분석 결과 1: 음식명:핫코코아, 수량:한 잔.',\n",
              " '- 분석 결과 0: 음식명:두루치기,수량:1인분\\n- 분석 결과 1: 음식명:병맥주,옵션:중자\\n- 분석 결과 2: 음식명:날다닭마늘치킨,수량:한 번,옵션:반도',\n",
              " '- 분석 결과 0: 음식명:홍대피자,수량:한 판\\n- 분석 결과 1: 음식명:바닐라 라떼,옵션:스몰,수량:한잔\\n- 분석 결과 2: 음식명:해물파전,수량:추가로 주세요.',\n",
              " '- 분석 결과 0: 음식명:빡도니삼겹살, 수량:한판\\n- 분석 결과 1: 음식명:공기밥, 수량:2개',\n",
              " '- 분석 결과 0: 음식명:우롱밀크티, 옵션:J 사이즈, 수량:하나\\n- 분석 결과 1: 음식명:밀크티, 옵션:우롱, 수량:하나. \\n- 분석 결과 2: 음식명:우롱밀크티, 옵션:J 사이즈, 수량:하나.',\n",
              " '- 분석 결과 0: 음식명:모둠어묵, 수량:두그릇\\n- 분석 결과 1: 음식명:콜라, 옵션:355ml, 수량:한캔',\n",
              " '- 분석 결과 0: 음식명:보쌈,옵션:고기추가\\n- 분석 결과 1: 음식명:사리 라면,수량:한그릇.',\n",
              " '- 분석 결과 0: 음식명:시골쌈밥정식,옵션:삼겹살,수량:한판\\n- 분석 결과 1: 음식명:한치땅콩,수량:하나.',\n",
              " '- 분석 결과 0: 음식명:아포카토,옵션:Iced,수량:2잔\\n- 분석 결과 1: 음식명:아포카토,옵션:ICE,수량:2잔',\n",
              " '- 분석 결과 0: 음식명:모듬, 옵션:750g, 수량:4인분\\n- 분석 결과 1: 음식명:별미오뎅, 수량:4개',\n",
              " '- 분석 결과 0: 음식명:트레디셔널,옵션:M,수량:하나\\n- 분석 결과 1: 음식명:수제청귤,옵션:ICE,수량:한잔',\n",
              " '- 분석 결과 0: 음식명:베이컨 포테이토, 옵션:L, 수량:한개\\n- 분석 결과 1: 음식명:카페모카, 옵션:hot/L, 수량:두잔.',\n",
              " '- 분석 결과 0: 음식명:패밀리 세트, 수량:하나\\n- 분석 결과 1: 음식명:새우깡, 수량:두개, 옵션:추가해 주세요.',\n",
              " '- 분석 결과 0: 음식명:순살한 마리, 옵션:칠리\\n- 분석 결과 1: 음식명:찜햇닭강정, 수량:한 개\\n- 분석 결과 2: 음식명:찜뼈, 수량:한 개. \\n- 분석 결과 3: 음식명:찜뼈, 수량:한 개. \\n- 분석 결과 4: 음식명:찜뼈, 수량:한 개. \\n- 분석 결과 5: 음식명:',\n",
              " '- 분석 결과 0: 음식명:찜 비취교자, 수량:5개\\n- 분석 결과 1: 음식명:두부조림, 수량:2인분.',\n",
              " '- 분석 결과 0: 음식명:제육삼구비빔밥,수량:하나\\n- 분석 결과 1: 음식명:떡볶이,수량:한 그릇.',\n",
              " '- 분석 결과 0: 음식명:포슬포슬한 뼈삼겹살\\n- 분석 결과 1: 음식명:막창구이,옵션:곱배기,수량:한판.',\n",
              " '- 분석 결과 0: 음식명:비빔밥, 수량:한 그릇\\n- 분석 결과 1: 음식명:떡볶이, 수량:한 그릇\\n- 분석 결과 2: 음식명:비빔밥, 수량:한 그릇\\n- 분석 결과 3: 음식명:떡볶이, 수량:한 그릇\\n- 분석 결과 4: 음식명:비빔밥, 수량:한 그릇\\n- 분석 결과 5: 음',\n",
              " '- 분석 결과 0: 음식명:제육볶음,옵션:곱배기,수량:하나\\n- 분석 결과 1: 음식명:김치찌개,수량:한 그릇.',\n",
              " '- 분석 결과 0: 음식명:순살후라이드,수량:두 개\\n- 분석 결과 1: 음식명:코카콜라,옵션:라지사이즈,수량:두 개.',\n",
              " '- 분석 결과 0: 음식명:치킨 가라아게, 수량:한 판\\n- 분석 결과 1: 음식명:김치볶음밥, 수량:한 그릇.',\n",
              " '- 분석 결과 0: 음식명:소고기 덮밥, 수량:한 그릇\\n- 분석 결과 1: 음식명:미니 사이즈 라면, 수량:추가',\n",
              " '- 분석 결과 0: 음식명:홍합탕\\n- 분석 결과 1: 음식명:타릭피자\\n- 분석 결과 2: 음식명:사이다,수량:두 캔.',\n",
              " '- 분석 결과 0: 음식명:시레기 오리백숙, 수량:한 개\\n- 분석 결과 1: 음식명:카페라떼, 옵션:톨, 수량:둘',\n",
              " '- 분석 결과 0: 음식명:기린가족해피피크닉,옵션:15cm,수량:한 판\\n- 분석 결과 1: 음식명:마늘족발,옵션:세트 XL,수량:하나.',\n",
              " '- 분석 결과 0: 음식명:모카요프치노, 수량:한잔\\n- 분석 결과 1: 음식명:참게탕, 옵션:라면사리, 수량:한잔.',\n",
              " '- 분석 결과 0: 음식명:고기듬뿍김치찌개, 수량:한그릇\\n- 분석 결과 1: 음식명:올라라, 옵션:볼록만, 수량:한그릇.',\n",
              " '- 분석 결과 0: 음식명:알탕,옵션:맵게\\n- 분석 결과 1: 음식명:수비드삼겹살수육,옵션:대자,수량:한 판.',\n",
              " '- 분석 결과 0: 음식명:땡초불꽃치킨, 수량:한마리\\n- 분석 결과 1: 음식명:슈크림라떼, 옵션:reg, 수량:두 잔.',\n",
              " '- 분석 결과 0: 음식명:우리동네국수, 수량:1그릇\\n- 분석 결과 1: 음식명:우리밀국수, 수량:2그릇\\n- 분석 결과 2: 음식명:라면, 옵션:떡추가, 수량:2개.',\n",
              " '- 분석 결과 0: 음식명:당근케익, 수량:한 개\\n- 분석 결과 1: 음식명:볼로네제, 수량:두 개.',\n",
              " '- 분석 결과 0: 음식명:페퍼로니피자, 옵션:M, 수량:두개\\n- 분석 결과 1: 음식명:오자몽블랙티, 옵션:HOT, 수량:한잔.',\n",
              " '- 분석 결과 0: 음식명:조니워커하이볼세트,옵션:200ml\\n- 분석 결과 1: 음식명:수입대게,수량:하나.',\n",
              " '- 분석 결과 0: 음식명:망고요거트,옵션:아이스,수량:한잔\\n- 분석 결과 1: 음식명:수닭세트,수량:2인분.',\n",
              " '- 분석 결과 0: 음식명:아이스티,옵션:레귤러,수량:한 잔\\n- 분석 결과 1: 음식명:어린이음료,수량:하나.',\n",
              " '- 분석 결과 0: 음식명:참다랑어, 옵션:200g, 수량:두판\\n- 분석 결과 1: 음식명:참다랑어, 수량:두판',\n",
              " '- 분석 결과 0: 음식명:딸기쉐이크,수량:한 잔\\n- 분석 결과 1: 음식명:바닐라아이스크림,옵션:아이스,수량:한 개',\n",
              " '- 분석 결과 0: 음식명:망고스무디,옵션:XL,수량:두 잔\\n- 분석 결과 1: 음식명:망고스무디,옵션:XL,수량:두 잔',\n",
              " '- 분석 결과 0: 음식명:참다랑어초밥,옵션:12P 세트,수량:한 개\\n- 분석 결과 1: 음식명:잼잼주먹밥,수량:한 그릇.',\n",
              " '- 분석 결과 0: 음식명:한우스페셜,수량:1인분\\n- 분석 결과 1: 음식명:수제차,옵션:메리골드,수량:하나.',\n",
              " '- 분석 결과 0: 음식명:누룽지오리백숙, 수량:두 그릇\\n- 분석 결과 1: 음식명:오리백숙, 수량:두 그릇. \\n- 분석 결과 2: 음식명:누룽지오리백숙, 옵션:대, 수량:두 그릇. \\n- 분석 결과 3: 음식명:오리백숙, 수량:두 그릇. \\n- 분석 결과 4: 음식명:누룽지오리백숙',\n",
              " '- 분석 결과 0: 음식명:그릴비프치즈랩, 수량:한 판\\n- 분석 결과 1: 음식명:치즈슈프림윙봉치킨, 수량:한 그릇.',\n",
              " '- 분석 결과 0: 음식명:오리훈제영양돌솥밥,수량:한 그릇\\n- 분석 결과 1: 음식명:찰밥,옵션:추가로 주세요.',\n",
              " '- 분석 결과 0: 음식명:한우얼큰육개장,옵션:곱배기,수량:하나\\n- 분석 결과 1: 음식명:버블티밀크티,옵션:아이스,수량:한잔.',\n",
              " '- 분석 결과 0: 음식명:아이스티, 옵션:레몬 XL, 수량:한 잔\\n- 분석 결과 1: 음식명:단새우, 수량:한 판.',\n",
              " '- 분석 결과 0: 음식명:크리스피순살,옵션:간장 M,수량:두개\\n- 분석 결과 1: 음식명:황차 반발효차,옵션:HOT,수량:한잔.',\n",
              " '- 분석 결과 0: 음식명:레몬크림새우,옵션:소\\n- 분석 결과 1: 음식명:알탕,옵션:라면사리 추가\\n- 분석 결과 2: 음식명:새우,옵션:레몬크림새우,수량:소\\n- 분석 결과 3: 음식명:알탕,옵션:라면사리 추가\\n- 분석 결과 4: 음식명:새우,옵션:레몬크림새우,수량:소',\n",
              " '- 분석 결과 0: 음식명:카사바칩, 수량:하나\\n- 분석 결과 1: 음식명:코카콜라, 옵션:355ml, 수량:두 캔',\n",
              " '- 분석 결과 0: 음식명:모듬,수량:3인분\\n- 분석 결과 1: 음식명:반반이 가능한가요?\\n- 분석 결과 2: 음식명:육칼면,수량:한 그릇 추가해주세요.',\n",
              " '- 분석 결과 0: 음식명:명품꽃등심,옵션:150g,수량:1인분\\n- 분석 결과 1: 음식명:왕새치뱃살,옵션:100g,수량:두개.',\n",
              " '- 분석 결과 0: 음식명: 훠궈와 꼬치, 옵션: 기본\\n- 분석 결과 1: 음식명: 평일 점심, 수량: 한명만 possible.',\n",
              " '- 분석 결과 0: 음식명:냉채족발, 옵션:국내산\\n- 분석 결과 1: 음식명:더블 그린 카페라떼, 수량:한잔.',\n",
              " '- 분석 결과 0: 음식명:아포가토,옵션:핫,수량:한잔\\n- 분석 결과 1: 음식명:캐모마일,수량:한잔.',\n",
              " '- 분석 결과 0: 음식명:제주그린밀크티, 수량:잔\\n- 분석 결과 1: 음식명:얼그레이, 옵션:핫, 수량:한잔\\n- 분석 결과 2: 음식명:비스코프크림라떼, 옵션:아이스, 수량:한잔.',\n",
              " '- 분석 결과 0: 음식명:짜장면\\n- 분석 결과 1: 음식명:새우카레,수량:하나.',\n",
              " '- 분석 결과 0: 음식명:초코라떼,옵션:아이스,수량:1잔\\n- 분석 결과 1: 음식명:치즈볶음밥,수량:한그릇.',\n",
              " '- 분석 결과 0: 음식명:생로스구이, 수량:한판\\n- 분석 결과 1: 음식명:우럭, 수량:두마리.',\n",
              " '- 분석 결과 0: 음식명:한돈양념돼지갈비,옵션:200g\\n- 분석 결과 1: 음식명:가라아게카레덮밥\\n- 분석 결과 2: 음식명:쿠키앤크림바빈치노,수량:한개.',\n",
              " '- 분석 결과 0: 음식명:특정식, 수량:1인분\\n- 분석 결과 1: 음식명:고추장찌개, 수량:한개.',\n",
              " '- 분석 결과 0: 음식명: 까르보나라 피자, 옵션: 패스츄리도우\\n- 분석 결과 1: 음식명: 깐풍강정, 옵션: 커플팩, 수량: 400g.',\n",
              " '- 분석 결과 0: 음식명:치즈스노우퀸+후라이드,옵션:핫,수량:한개. \\n- 분석 결과 1: 음식명:치즈스노우퀸,옵션:후라이드,수량:한개. \\n- 분석 결과 2: 음식명:치즈스노우퀸+후라이드 핫한개.',\n",
              " '- 분석 결과 0: 음식명:버섯칼국수사리\\n- 분석 결과 1: 음식명:한우된장찌개,수량:한그릇.',\n",
              " '- 분석 결과 0: 음식명: 첵스초코쉐이크, 옵션: 레귤러\\n- 분석 결과 1: 음식명: 코코티스무디, 옵션: 망고복숭아, 옵션: 아이스, 메디엄 수량: 한잔.',\n",
              " '- 분석 결과 0: 음식명:도토리막국수,수량:두그릇\\n- 분석 결과 1: 음식명:찹쌀치즈볼,수량:2개',\n",
              " '- 분석 결과 0: 음식명:그린티민트초코칩라떼,옵션:아이스,수량:한잔\\n- 분석 결과 1: 음식명:쌀먹걸리,수량:한병.',\n",
              " '- 분석 결과 0: 음식명:묵은지생삼겹솥뚜껑구이,옵션:200g\\n- 분석 결과 1: 음식명:또봉이+고추통닭,수량:하나.',\n",
              " '- 분석 결과 0: 음식명:해물뼈찜, 옵션:중자\\n- 분석 결과 1: 음식명:와 참치김치찌개, 옵션:곱배기, 수량:주세요.',\n",
              " '- 분석 결과 0: 음식명:참이슬, 수량:한 병\\n- 분석 결과 1: 음식명:볶음면, 수량:한 그릇 추가요.',\n",
              " '- 분석 결과 0: 음식명:연유카페라떼,옵션:그란데\\n- 분석 결과 1: 음식명:소금소갈비,옵션:150g.',\n",
              " '- 분석 결과 0: 음식명:무침,수량:2인분\\n- 분석 결과 1: 음식명:어니언치즈순살뿌치4조각,수량:한판.',\n",
              " '- 분석 결과 0: 음식명:흑당버블티,옵션:버블추가\\n- 분석 결과 1: 음식명:하트팝,수량:하나.',\n",
              " '- 분석 결과 0: 음식명:마루국물떡볶이, 수량:한 판\\n- 분석 결과 1: 음식명:수제꽃잎차, 수량:한잔.',\n",
              " '- 분석 결과 0: 음식명:오리로스 쌈밥정식, 수량:1인분\\n- 분석 결과 1: 음식명:광어, 옵션:중자, 수량:1인분.',\n",
              " '- 분석 결과 0: 음식명:새우로제파스타,수량:하나\\n- 분석 결과 1: 음식명:333맥주,수량:한 캔.',\n",
              " '- 분석 결과 0: 음식명:더치블랙,수량:한 잔\\n- 분석 결과 1: 음식명:흑돼지갈비살,수량:이인분.',\n",
              " '- 분석 결과 0: 음식명:새싹보리라떼,옵션:아이스,수량:한 잔\\n- 분석 결과 1: 음식명:가자미조림,수량:한 그릇.',\n",
              " '- 분석 결과 0: 음식명:아인슈페너,옵션:라지\\n- 분석 결과 1: 음식명:꽃갈비살돈까스단품,수량:한 달러',\n",
              " '- 분석 결과 0: 음식명:골뱅ibi빔면,수량:두 그릇\\n- 분석 결과 1: 음식명:보쌈set,옵션:중자,수량:두 그릇.',\n",
              " '- 분석 결과 0: 음식명:치킨오이스터크림 파스타,옵션:핫,수량:하나\\n- 분석 결과 1: 음식명:코코넛크림,수량:한 판.',\n",
              " '- 분석 결과 0: 음식명:야채웰빙,옵션:M,수량:두 판\\n- 분석 결과 1: 음식명:탕수육,옵션:특대,수량:한 판.',\n",
              " '- 분석 결과 0: 음식명:착즙주스,옵션:포도,수량:한 잔\\n- 분석 결과 1: 음식명:물쫄면,수량:한 그릇.',\n",
              " '- 분석 결과 0: 음식명:자스민,옵션:아이스,수량:한 잔\\n- 분석 결과 1: 음식명:마라탄면,수량:한 그릇.',\n",
              " '- 분석 결과 0: 음식명:꿔바로우 잔치 세트\\n- 분석 결과 1: 음식명:요거트 프라페, 수량:한 잔.',\n",
              " '- 분석 결과 0: 음식명:핏자 콤비\\n- 분석 결과 1: 음식명: 웰빙피자, 옵션:L, 수량: 추가\\n- 분석 결과 2: 음식명:핏자 콤비, 수량: 추가',\n",
              " '- 분석 결과 0: 음식명:하와이얀 피자,옵션:L,수량:두판\\n- 분석 결과 1: 음식명:흑후추소안심이\\n- 분석 결과 2: 음식명:칠리 큰새우도,수량:두개.',\n",
              " '- 분석 결과 0: 음식명:치즈감자\\n- 분석 결과 1: 음식명:곱대창,옵션:200g\\n- 분석 결과 2: 음식명:치즈감자,옵션:치즈,수량:한판',\n",
              " '- 분석 결과 0: 음식명:맥주\\n- 분석 결과 1: 음식명:대만 우유튀김\\n- 분석 결과 2: 음식명:하노이 맥주, 수량:한 캔. \\n- 분석 결과 3: 음식명:대만 우유튀김, 수량:한 개.',\n",
              " '- 분석 결과 0: 음식명:프리미엄 티\\n- 분석 결과 1: 음식명:캐모마일\\n- 분석 결과 2: 음식명:단호박 라떼, 수량:하나.',\n",
              " '- 분석 결과 0: 음식명:요국산의 토종순대국,옵션:특,수량:한 그릇\\n- 분석 결과 1: 음식명:헤이즐넛라떼,옵션:아이스,수량:하나.',\n",
              " '- 분석 결과 0: 음식명:콘치즈크러스트, 수량:한 판\\n- 분석 결과 1: 음식명:딸기 크로플, 수량: 겨울 한정 메뉴도 함께 주문하겠습니다.',\n",
              " '- 분석 결과 0: 음식명:교촌리얼후라이드,수량:한 마리\\n- 분석 결과 1: 음식명:머릿고기,옵션:대,수량:한 개.',\n",
              " '- 분석 결과 0: 음식명:오도독살\\n- 분석 결과 1: 음식명:주스,옵션:팝,수량:하나\\n- 분석 결과 2: 음식명:오도독살이,수량:하나.',\n",
              " '- 분석 결과 0: 음식명:에스프레소 아포가토,옵션:중,수량:하나\\n- 분석 결과 1: 음식명:스팸&계란후라이,수량:하나.',\n",
              " '- 분석 결과 0: 음식명:묵은지찜, 옵션:중, 수량:한판\\n- 분석 결과 1: 음식명:가브리살, 옵션:200g, 수량:두판.',\n",
              " '- 분석 결과 0: 음식명:어향가지밥\\n- 분석 결과 1: 음식명:팥빙수,옵션:컬프,수량:하나',\n",
              " '- 분석 결과 0: 음식명:블랙밀크티,옵션:M사이즈,수량:두 잔\\n- 분석 결과 1: 음식명:돼지고기찌개,수량:한그릇.',\n",
              " '- 분석 결과 0: 음식명:수제오징어튀김,수량:6개\\n- 분석 결과 1: 음식명:통등심체다돈까스,수량:두 개.',\n",
              " '- 분석 결과 0: 음식명:인절미호떡\\n- 분석 결과 1: 음식명:피넛버터쿠키,수량:세 개\\n- 분석 결과 2: 음식명:생대구,옵션:소,수량:세 개,옵션:마끼아또,옵션:생대구,수량:세 개.',\n",
              " '- 분석 결과 0: 음식명:엄나무, 옵션:삼계탕, 수량:한방\\n- 분석 결과 1: 음식명:파울라너, 수량:한 캔',\n",
              " '- 분석 결과 0: 음식명:홍어와 삼합\\n- 분석 결과 1: 음식명:응급실닭볶음탕,옵션:중상맛,수량:한 개',\n",
              " '- 분석 결과 0: 음식명:다리\\n- 분석 결과 1: 음식명:라크치킨,수량:하나\\n- 분석 결과 2: 음식명:고추장찜닭,옵션:순살,대,수량:3인분.',\n",
              " '- 분석 결과 0: 음식명:불고기치즈굿브레드,옵션:L,수량:두 개\\n- 분석 결과 1: 음식명:블랙우룽밀크티,옵션:컵사이즈,수량:두 유로,한 잔 요리하는 주문 문장.',\n",
              " '- 분석 결과 0: 음식명:무뼈닭발,옵션:200g\\n- 분석 결과 1: 음식명:장치조림,수량:이인분\\n- 분석 결과 2: 음식명:꽃살,옵션:180g,수량:두개 추가해주실 수 있을까요?',\n",
              " '- 분석 결과 0: 음식명:모둠튀김세트, 수량:두 판\\n- 분석 결과 1: 음식명:제육볶음, 수량:한 그릇.',\n",
              " '- 분석 결과 0: 음식명:흑임자죽, 수량:한 그릇\\n- 분석 결과 1: 음식명:버블티, 옵션:아이스, 수량:한 잔.',\n",
              " '- 분석 결과 0: 음식명:엄청난토마토해물떡볶이, 수량: 1.5인분\\n- 분석 결과 1: 음식명:페스츄리핫도그, 수량: 하나.',\n",
              " '- 분석 결과 0: 음식명:등심돈까스,수량:두개\\n- 분석 결과 1: 음식명:게딱지없는간장게장백반,수량:한 개.',\n",
              " '- 분석 결과 0: 음식명:쿨피스,옵션:패밀리사이즈,수량:두 캔',\n",
              " '- 분석 결과 0: 음식명:한우명품모듬,옵션:500g\\n- 분석 결과 1: 음식명:빠삭치킨,옵션:양많게',\n",
              " '- 분석 결과 0: 음식명:뼈찜,옵션:덜 맵게\\n- 분석 결과 1: 음식명:양념소스,옵션:매운소스',\n",
              " '- 분석 결과 0: 음식명:한우고기말이,수량:두 판\\n- 분석 결과 1: 음식명:마늘간장,옵션:소,수량:두 판.',\n",
              " '- 분석 결과 0: 음식명:콜라,옵션:ICE,수량:하나\\n- 분석 결과 1: 음식명:호세쿠엘보,옵션:750ml,수량:두 병.',\n",
              " '- 분석 결과 0: 음식명:분노의짜장,옵션:레귤러,수량:2개\\n- 분석 결과 1: 음식명:치즈베이글,수량:하나.',\n",
              " '- 분석 결과 0: 음식명:목덜미살,옵션:200g,수량:한판\\n- 분석 결과 1: 음식명:고구마스틱,수량:2개\\n- 분석 결과 2: 음식명:아이스 레몬에이드,수량:한잔.',\n",
              " '- 분석 결과 0: 음식명:냉라멘, 옵션:라지, 수량:하나\\n- 분석 결과 1: 음식명:수제등심돈까스, 옵션:소짜, 수량:한그릇.',\n",
              " '- 분석 결과 0: 음식명:북어조림,옵션:소자\\n- 분석 결과 1: 음식명:팥 크로아상,수량:세개\\n- 분석 결과 2: 음식명:꼬마쥐포,옵션:150g,수량:주세요.',\n",
              " '- 분석 결과 0: 음식명:얼큰한우내장전,옵션:대,수량:두개\\n- 분석 결과 1: 음식명:왕만두 김치,수량:네개',\n",
              " '- 분석 결과 0: 음식명:돼지부속모듬,옵션:600g\\n- 분석 결과 1: 음식명:새치,옵션:대,수량:하나.',\n",
              " '- 분석 결과 0: 음식명:육계닭볶음탕,수량:한그릇\\n- 분석 결과 1: 음식명:팥 크로아상,수량:두개\\n- 분석 결과 2: 음식명:아이스허브차,옵션:로즈마리,수량:한잔\\n- 분석 결과 3: 음식명:오곡라떼,수량:한잔.',\n",
              " '- 분석 결과 0: 음식명:뼈찜, 옵션:덜맵게, 옵션:대\\n- 분석 결과 1: 음식명:홍차, 옵션:HOT, 수량:한잔.',\n",
              " '- 분석 결과 0: 음식명:계란찜,수량:2개\\n- 분석 결과 1: 음식명:고구마스틱,수량:한판.',\n",
              " '- 분석 결과 0: 음식명:간장삼겹살,옵션:SET XL,수량:한판\\n- 분석 결과 1: 음식명:오리지널 자몽에이드,수량:한잔.',\n",
              " '- 분석 결과 0: 음식명:비빔탄탄면,옵션:라지,수량:하나\\n- 분석 결과 1: 음식명:왕만두,옵션:김치,수량:한개\\n- 분석 결과 2: 음식명:수제등심돈까스,옵션:소짜,수량:한그릇.',\n",
              " '- 분석 결과 0: 음식명:순대육개장,옵션:라지\\n- 분석 결과 1: 음식명:순댓국,옵션:중사이즈,수량:두 그릇.',\n",
              " '- 분석 결과 0: 음식명:팥칼국수, 수량:1인분\\n- 분석 결과 1: 음식명:빠사칸윙봉현미, 수량:1인분.',\n",
              " '- 분석 결과 0: 음식명:머리고기,수량:한판\\n- 분석 결과 1: 음식명:순대,수량:두개\\n- 분석 결과 2: 음식명:깐풍육,옵션:소,수량:두개.',\n",
              " '- 분석 결과 0: 음식명:송어회, 옵션:특대, 수량:한개\\n- 분석 결과 1: 음식명:맵냥치킨, 수량:두개\\n- 분석 결과 2: 음식명:해삼송이, 옵션:L사이즈, 수량:두개.',\n",
              " '- 분석 결과 0: 음식명:딸기+바나나쥬스,수량:한 잔\\n- 분석 결과 1: 음식명:뽕잎밥,수량:2인분\\n- 분석 결과 2: 음식명:토종닭도리탕,옵션:중,수량:2인분.',\n",
              " '- 분석 결과 0: 음식명:사골곰국,수량:한 그릇\\n- 분석 결과 1: 음식명:뼈찜,옵션:아바맵게,수량:하나\\n- 분석 결과 2: 음식명:계란탕,수량:추가요.',\n",
              " '- 분석 결과 0: 음식명:참치김치컵밥,수량:하나\\n- 분석 결과 1: 음식명: cass生맥주,옵션:500cc,수량:한잔.',\n",
              " '- 분석 결과 0: 음식명:엽기오돌뼈, 옵션:중사이즈, 수량:한개\\n- 분석 결과 1: 음식명:떡볶이, 옵션:김말이 추가요.',\n",
              " '- 분석 결과 0: 음식명:철판 모짜렐라치즈, 수량:하나\\n- 분석 결과 1: 음식명:소주, 수량:한병 추가요.',\n",
              " '- 분석 결과 0: 음식명:마늘탕수육,옵션:중,수량:하나\\n- 분석 결과 1: 음식명:얼그레이밀크티,옵션:특대,수량:한잔.',\n",
              " '- 분석 결과 0: 음식명:불뼈구이,옵션:소,수량:한판\\n- 분석 결과 1: 음식명:한우진곰탕,수량:둘',\n",
              " '- 분석 결과 0: 음식명:당근케이크 조각, 수량:한개\\n- 분석 결과 1: 음식명:아이스아메리카노, 옵션:미디엄, 수량:두잔.',\n",
              " '- 분석 결과 0: 음식명:양등갈비,옵션:150g,수량:2인분\\n- 분석 결과 1: 음식명:아메리카노,옵션:그란데사이즈,수량:두잔.',\n",
              " '- 분석 결과 0: 음식명:삼겹살, 옵션:200g, 수량: 셋\\n- 분석 결과 1: 음식명:오돌뼈 토시살, 옵션:deno, 수량:하나.',\n",
              " '- 분석 결과 0: 음식명:참치치즈돌솥밥, 수량:두그릇\\n- 분석 결과 1: 음식명:딸기에이드, 옵션:스몰사이즈, 수량:두잔.',\n",
              " '- 분석 결과 0: 음식명:라조기,옵션:소,수량:한개\\n- 분석 결과 1: 음식명:되지마머니 튀김,수량:한판 추가요.',\n",
              " '- 분석 결과 0: 음식명:라제니요또, 수량:한그릇\\n- 분석 결과 1: 음식명:냉모밀, 수량:한그릇.',\n",
              " '- 분석 결과 0: 음식명:아메리카노세트메뉴,수량:두세트\\n- 분석 결과 1: 음식명:곱창탕,수량:한그릇.',\n",
              " '- 분석 결과 0: 음식명:안또래오래 세트, 수량:2판\\n- 분석 결과 1: 음식명:매운오돌뼈\\n- 분석 결과 2: 음식명:주먹밥, 수량:하나.',\n",
              " '- 분석 결과 0: 음식명:바지락칼국수,수량:세그릇\\n- 분석 결과 1: 음식명:김밥,수량:한줄.',\n",
              " '- 분석 결과 0: 음식명:곱창전골, 수량:두그릇\\n- 분석 결과 1: 음식명:한우옛날육개장, 수량:한그릇\\n- 분석 결과 2: 음식명:통닭삼총사, 수량:하나.',\n",
              " '- 분석 결과 0: 음식명:제주특산수제하귤,옵션:소세트,수량:한 개. \\n- 분석 결과 1: 음식명:수제하귤,수량:한 개. \\n- 분석 결과 2: 음식명:제주특산수제하귤,옵션:소세트,수량:한 개.',\n",
              " '- 분석 결과 0: 음식명:팔당농장 소불고기,옵션:산채정식,수량:두인분\\n- 분석 결과 1: 음식명:팔당농장,옵션:소불고기,옵션:산채정식,수량:두인분',\n",
              " '- 분석 결과 0: 음식명:미린다,옵션:원사이즈,수량:두 캔',\n",
              " '- 분석 결과 0: 음식명:한스쿱,옵션:아이스,그란데\\n- 분석 결과 1: 음식명:아이스 한스쿱,옵션:그란데.',\n",
              " '- 분석 결과 0: 음식명:조림, 수량:두 인분\\n- 분석 결과 1: 음식명:양념이 뭉클이지 않게 잘 섞어주세요.',\n",
              " '- 분석 결과 0: 음식명:명란파스타,수량:한 그릇\\n- 분석 결과 1: 음식명:더치커피,옵션:아이스,수량:한 잔.',\n",
              " '- 분석 결과 0: 음식명:유자차,옵션:고흥유자청,수량:한잔\\n- 분석 결과 1: 음식명:얼음,옵션:많이,수량:한잔.',\n",
              " '- 분석 결과 0: 음식명:특갈비찜,수량:한 판\\n- 분석 결과 1: 음식명:고기,옵션:불리기,수량:한 판.',\n",
              " '- 분석 결과 0: 음식명:왕갈비,옵션:100g,수량:하나\\n- 분석 결과 1: 음식명:순살 양념 매운맛,수량:하나.',\n",
              " '- 분석 결과 0: 음식명:묵은지두부김치,옵션:중자,수량:한그릇\\n- 분석 결과 1: 음식명:뿌링치즈볼,수량:5개',\n",
              " '- 분석 결과 0: 음식명:자몽에이드,옵션:L,수량:한degree\\n- 분석 결과 1: 음식명:얼큰뼈찜,옵션:중짜,수량:한판.',\n",
              " '- 분석 결과 0: 음식명:저고하고 친구하고 둘이, 옵션:안심덧살, 수량:200g\\n- 분석 결과 1: 음식명:물냉면, 수량:두그릇.',\n",
              " '- 분석 결과 0: 음식명:플랫화이트 벨루치 다크,옵션:HOT,수량:한잔\\n- 분석 결과 1: 음식명:바닐라라떼,옵션:hot,수량:한잔.',\n",
              " '- 분석 결과 0: 음식명:갈비치,옵션:킨,수량:1개\\n- 분석 결과 1: 음식명:피자,옵션:R사이즈\\n- 분석 결과 2: 음식명:음료수,옵션:500ml,수량:한판.',\n",
              " '- 분석 결과 0: 음식명:불보쌈,옵션:대자,수량:하나\\n- 분석 결과 1: 음식명:조각닭,옵션:후라이드,수량:두 판.',\n",
              " '- 분석 결과 0: 음식명:베이컨에그샌드위치, 수량:하나\\n- 분석 결과 1: 음식명:칠리새우, 옵션:6P, 수량:두개.',\n",
              " '- 분석 결과 0: 음식명:엔도르피노순한맛,수량:두병\\n- 분석 결과 1: 음식명:허니 버터칩,수량:한개',\n",
              " '- 분석 결과 0: 음식명:수제비,수량:한그릇\\n- 분석 결과 1: 음식명:아이스 아메리카노,옵션:미디엄,수량:두잔.',\n",
              " '- 분석 결과 0: 음식명:매운 감자탕, 옵션:중짜\\n- 분석 결과 1: 음식명:라임에이드, 옵션:L, 수량:한잔.',\n",
              " '- 분석 결과 0: 음식명:아포카토,옵션:라지,수량:한 그릇\\n- 분석 결과 1: 음식명:그린티라떼,옵션:라지,수량:한 잔.',\n",
              " '- 분석 결과 0: 음식명:콩국수,옵션:미디엄,수량:한 그릇\\n- 분석 결과 1: 음식명:갈비레오,옵션:라지,수량:두 판.',\n",
              " '- 분석 결과 0: 음식명:왕갈비탕,옵션:특,수량:한 판\\n- 분석 결과 1: 음식명:마치찜,옵션:대,수량:한 그릇.',\n",
              " '- 분석 결과 0: 음식명:뉴트리바, 수량:한 캔\\n- 분석 결과 1: 음식명:불백, 옵션:곱배기, 수량:한 그릇.']"
            ]
          },
          "execution_count": 38,
          "metadata": {},
          "output_type": "execute_result"
        }
      ],
      "source": [
        "generated_outputs"
      ]
    },
    {
      "cell_type": "markdown",
      "id": "v0yfYP2qs7tU",
      "metadata": {
        "id": "v0yfYP2qs7tU"
      },
      "source": [
        "## Q5. sacrebleu 를 사용하여 검증 세트와 생성된 출력 간의 BLEU 점수를 측정"
      ]
    },
    {
      "cell_type": "code",
      "execution_count": 39,
      "id": "w2MDWevTtFQt",
      "metadata": {
        "colab": {
          "base_uri": "https://localhost:8080/"
        },
        "id": "w2MDWevTtFQt",
        "outputId": "92f664ec-245c-4f25-bbbb-a9851d49a139"
      },
      "outputs": [
        {
          "name": "stdout",
          "output_type": "stream",
          "text": [
            "Collecting evaluate\n",
            "  Downloading evaluate-0.4.3-py3-none-any.whl.metadata (9.2 kB)\n",
            "Requirement already satisfied: datasets>=2.0.0 in /usr/local/lib/python3.10/dist-packages (from evaluate) (3.1.0)\n",
            "Requirement already satisfied: numpy>=1.17 in /usr/local/lib/python3.10/dist-packages (from evaluate) (1.26.4)\n",
            "Requirement already satisfied: dill in /usr/local/lib/python3.10/dist-packages (from evaluate) (0.3.8)\n",
            "Requirement already satisfied: pandas in /usr/local/lib/python3.10/dist-packages (from evaluate) (2.2.2)\n",
            "Requirement already satisfied: requests>=2.19.0 in /usr/local/lib/python3.10/dist-packages (from evaluate) (2.32.3)\n",
            "Requirement already satisfied: tqdm>=4.62.1 in /usr/local/lib/python3.10/dist-packages (from evaluate) (4.66.6)\n",
            "Requirement already satisfied: xxhash in /usr/local/lib/python3.10/dist-packages (from evaluate) (3.5.0)\n",
            "Requirement already satisfied: multiprocess in /usr/local/lib/python3.10/dist-packages (from evaluate) (0.70.16)\n",
            "Requirement already satisfied: fsspec>=2021.05.0 in /usr/local/lib/python3.10/dist-packages (from fsspec[http]>=2021.05.0->evaluate) (2024.9.0)\n",
            "Requirement already satisfied: huggingface-hub>=0.7.0 in /usr/local/lib/python3.10/dist-packages (from evaluate) (0.26.3)\n",
            "Requirement already satisfied: packaging in /usr/local/lib/python3.10/dist-packages (from evaluate) (24.2)\n",
            "Requirement already satisfied: filelock in /usr/local/lib/python3.10/dist-packages (from datasets>=2.0.0->evaluate) (3.16.1)\n",
            "Requirement already satisfied: pyarrow>=15.0.0 in /usr/local/lib/python3.10/dist-packages (from datasets>=2.0.0->evaluate) (17.0.0)\n",
            "Requirement already satisfied: aiohttp in /usr/local/lib/python3.10/dist-packages (from datasets>=2.0.0->evaluate) (3.11.9)\n",
            "Requirement already satisfied: pyyaml>=5.1 in /usr/local/lib/python3.10/dist-packages (from datasets>=2.0.0->evaluate) (6.0.2)\n",
            "Requirement already satisfied: typing-extensions>=3.7.4.3 in /usr/local/lib/python3.10/dist-packages (from huggingface-hub>=0.7.0->evaluate) (4.12.2)\n",
            "Requirement already satisfied: charset-normalizer<4,>=2 in /usr/local/lib/python3.10/dist-packages (from requests>=2.19.0->evaluate) (3.4.0)\n",
            "Requirement already satisfied: idna<4,>=2.5 in /usr/local/lib/python3.10/dist-packages (from requests>=2.19.0->evaluate) (3.10)\n",
            "Requirement already satisfied: urllib3<3,>=1.21.1 in /usr/local/lib/python3.10/dist-packages (from requests>=2.19.0->evaluate) (2.2.3)\n",
            "Requirement already satisfied: certifi>=2017.4.17 in /usr/local/lib/python3.10/dist-packages (from requests>=2.19.0->evaluate) (2024.8.30)\n",
            "Requirement already satisfied: python-dateutil>=2.8.2 in /usr/local/lib/python3.10/dist-packages (from pandas->evaluate) (2.8.2)\n",
            "Requirement already satisfied: pytz>=2020.1 in /usr/local/lib/python3.10/dist-packages (from pandas->evaluate) (2024.2)\n",
            "Requirement already satisfied: tzdata>=2022.7 in /usr/local/lib/python3.10/dist-packages (from pandas->evaluate) (2024.2)\n",
            "Requirement already satisfied: aiohappyeyeballs>=2.3.0 in /usr/local/lib/python3.10/dist-packages (from aiohttp->datasets>=2.0.0->evaluate) (2.4.4)\n",
            "Requirement already satisfied: aiosignal>=1.1.2 in /usr/local/lib/python3.10/dist-packages (from aiohttp->datasets>=2.0.0->evaluate) (1.3.1)\n",
            "Requirement already satisfied: async-timeout<6.0,>=4.0 in /usr/local/lib/python3.10/dist-packages (from aiohttp->datasets>=2.0.0->evaluate) (4.0.3)\n",
            "Requirement already satisfied: attrs>=17.3.0 in /usr/local/lib/python3.10/dist-packages (from aiohttp->datasets>=2.0.0->evaluate) (24.2.0)\n",
            "Requirement already satisfied: frozenlist>=1.1.1 in /usr/local/lib/python3.10/dist-packages (from aiohttp->datasets>=2.0.0->evaluate) (1.5.0)\n",
            "Requirement already satisfied: multidict<7.0,>=4.5 in /usr/local/lib/python3.10/dist-packages (from aiohttp->datasets>=2.0.0->evaluate) (6.1.0)\n",
            "Requirement already satisfied: propcache>=0.2.0 in /usr/local/lib/python3.10/dist-packages (from aiohttp->datasets>=2.0.0->evaluate) (0.2.1)\n",
            "Requirement already satisfied: yarl<2.0,>=1.17.0 in /usr/local/lib/python3.10/dist-packages (from aiohttp->datasets>=2.0.0->evaluate) (1.18.3)\n",
            "Requirement already satisfied: six>=1.5 in /usr/local/lib/python3.10/dist-packages (from python-dateutil>=2.8.2->pandas->evaluate) (1.16.0)\n",
            "Downloading evaluate-0.4.3-py3-none-any.whl (84 kB)\n",
            "\u001b[2K   \u001b[90m━━━━━━━━━━━━━━━━━━━━━━━━━━━━━━━━━━━━━━━━\u001b[0m \u001b[32m84.0/84.0 kB\u001b[0m \u001b[31m3.3 MB/s\u001b[0m eta \u001b[36m0:00:00\u001b[0m\n",
            "\u001b[?25hInstalling collected packages: evaluate\n",
            "Successfully installed evaluate-0.4.3\n",
            "Collecting sacrebleu\n",
            "  Downloading sacrebleu-2.4.3-py3-none-any.whl.metadata (51 kB)\n",
            "\u001b[2K     \u001b[90m━━━━━━━━━━━━━━━━━━━━━━━━━━━━━━━━━━━━━━━━\u001b[0m \u001b[32m51.8/51.8 kB\u001b[0m \u001b[31m3.4 MB/s\u001b[0m eta \u001b[36m0:00:00\u001b[0m\n",
            "\u001b[?25hCollecting portalocker (from sacrebleu)\n",
            "  Downloading portalocker-3.0.0-py3-none-any.whl.metadata (8.5 kB)\n",
            "Requirement already satisfied: regex in /usr/local/lib/python3.10/dist-packages (from sacrebleu) (2024.9.11)\n",
            "Requirement already satisfied: tabulate>=0.8.9 in /usr/local/lib/python3.10/dist-packages (from sacrebleu) (0.9.0)\n",
            "Requirement already satisfied: numpy>=1.17 in /usr/local/lib/python3.10/dist-packages (from sacrebleu) (1.26.4)\n",
            "Collecting colorama (from sacrebleu)\n",
            "  Downloading colorama-0.4.6-py2.py3-none-any.whl.metadata (17 kB)\n",
            "Requirement already satisfied: lxml in /usr/local/lib/python3.10/dist-packages (from sacrebleu) (5.3.0)\n",
            "Downloading sacrebleu-2.4.3-py3-none-any.whl (103 kB)\n",
            "\u001b[2K   \u001b[90m━━━━━━━━━━━━━━━━━━━━━━━━━━━━━━━━━━━━━━━━\u001b[0m \u001b[32m104.0/104.0 kB\u001b[0m \u001b[31m7.3 MB/s\u001b[0m eta \u001b[36m0:00:00\u001b[0m\n",
            "\u001b[?25hDownloading colorama-0.4.6-py2.py3-none-any.whl (25 kB)\n",
            "Downloading portalocker-3.0.0-py3-none-any.whl (19 kB)\n",
            "Installing collected packages: portalocker, colorama, sacrebleu\n",
            "Successfully installed colorama-0.4.6 portalocker-3.0.0 sacrebleu-2.4.3\n"
          ]
        }
      ],
      "source": [
        "! pip install evaluate\n",
        "! pip install sacrebleu"
      ]
    },
    {
      "cell_type": "code",
      "execution_count": 40,
      "id": "-YcuO8yRsv_Q",
      "metadata": {
        "colab": {
          "base_uri": "https://localhost:8080/",
          "height": 49,
          "referenced_widgets": [
            "ad971c30091b4df88bb0da9181d5650a",
            "81c92ffc7763470bba59809fcd5519b4",
            "6fe8307f773c4e6c904bf3b7519a0720",
            "f726d2c73d584180ad6744fe251e47e5",
            "bcf0c005efee4fcaa47b9615d6b196e1",
            "2d4d75ac515f46a8867b3d9ad046c414",
            "64dcde6c0b684819959ffc405372708e",
            "cb70d42af19945468dc3f2de5cc68570",
            "4ec4fd31c89041ea8a7376187511fe17",
            "2d4f9585a9f24849b0ea58815b95a204",
            "f0afeaab71ff4f868c351bfea03edad9"
          ]
        },
        "id": "-YcuO8yRsv_Q",
        "outputId": "21636a92-7fbd-49db-9b04-2dbedf821be4"
      },
      "outputs": [
        {
          "data": {
            "application/vnd.jupyter.widget-view+json": {
              "model_id": "ad971c30091b4df88bb0da9181d5650a",
              "version_major": 2,
              "version_minor": 0
            },
            "text/plain": [
              "Downloading builder script:   0%|          | 0.00/8.15k [00:00<?, ?B/s]"
            ]
          },
          "metadata": {},
          "output_type": "display_data"
        }
      ],
      "source": [
        "import evaluate\n",
        "bleu_metric = evaluate.load(\"sacrebleu\")"
      ]
    },
    {
      "cell_type": "code",
      "execution_count": 41,
      "id": "iWE0QUYgtQta",
      "metadata": {
        "colab": {
          "base_uri": "https://localhost:8080/"
        },
        "id": "iWE0QUYgtQta",
        "outputId": "4816f607-fae0-4d33-b386-7220c165bb95"
      },
      "outputs": [
        {
          "data": {
            "text/plain": [
              "{'score': 79.19589065406393,\n",
              " 'counts': [5414, 5085, 4765, 4451],\n",
              " 'totals': [6511, 6311, 6111, 5911],\n",
              " 'precisions': [83.15158961757027,\n",
              "  80.57360164791633,\n",
              "  77.97414498445426,\n",
              "  75.30028759939097],\n",
              " 'bp': 1.0,\n",
              " 'sys_len': 6511,\n",
              " 'ref_len': 5567}"
            ]
          },
          "execution_count": 41,
          "metadata": {},
          "output_type": "execute_result"
        }
      ],
      "source": [
        "# 검증 데이터셋의 output과 생성된 output간의 BLEU score 확인\n",
        "bleu_results = bleu_metric.compute(predictions=generated_outputs, references=expected_outputs)\n",
        "bleu_results"
      ]
    }
  ],
  "metadata": {
    "accelerator": "GPU",
    "colab": {
      "gpuType": "T4",
      "provenance": [],
      "toc_visible": true
    },
    "kernelspec": {
      "display_name": "conda",
      "language": "python",
      "name": "conda"
    },
    "language_info": {
      "codemirror_mode": {
        "name": "ipython",
        "version": 3
      },
      "file_extension": ".py",
      "mimetype": "text/x-python",
      "name": "python",
      "nbconvert_exporter": "python",
      "pygments_lexer": "ipython3",
      "version": "3.9.12"
    },
    "widgets": {
      "application/vnd.jupyter.widget-state+json": {
        "002ae991c3e74faba584b6aac80bff81": {
          "model_module": "@jupyter-widgets/controls",
          "model_module_version": "1.5.0",
          "model_name": "DescriptionStyleModel",
          "state": {
            "_model_module": "@jupyter-widgets/controls",
            "_model_module_version": "1.5.0",
            "_model_name": "DescriptionStyleModel",
            "_view_count": null,
            "_view_module": "@jupyter-widgets/base",
            "_view_module_version": "1.2.0",
            "_view_name": "StyleView",
            "description_width": ""
          }
        },
        "027a4428521740fa910436854c00581c": {
          "model_module": "@jupyter-widgets/controls",
          "model_module_version": "1.5.0",
          "model_name": "FloatProgressModel",
          "state": {
            "_dom_classes": [],
            "_model_module": "@jupyter-widgets/controls",
            "_model_module_version": "1.5.0",
            "_model_name": "FloatProgressModel",
            "_view_count": null,
            "_view_module": "@jupyter-widgets/controls",
            "_view_module_version": "1.5.0",
            "_view_name": "ProgressView",
            "bar_style": "success",
            "description": "",
            "description_tooltip": null,
            "layout": "IPY_MODEL_4e8179892b9d412f91e941d2b334c093",
            "max": 877,
            "min": 0,
            "orientation": "horizontal",
            "style": "IPY_MODEL_d2f82de71cf545a5bafca207facfb672",
            "value": 877
          }
        },
        "02d3d6e2827e400c9cd8b4de8bfe0d5b": {
          "model_module": "@jupyter-widgets/base",
          "model_module_version": "1.2.0",
          "model_name": "LayoutModel",
          "state": {
            "_model_module": "@jupyter-widgets/base",
            "_model_module_version": "1.2.0",
            "_model_name": "LayoutModel",
            "_view_count": null,
            "_view_module": "@jupyter-widgets/base",
            "_view_module_version": "1.2.0",
            "_view_name": "LayoutView",
            "align_content": null,
            "align_items": null,
            "align_self": null,
            "border": null,
            "bottom": null,
            "display": null,
            "flex": null,
            "flex_flow": null,
            "grid_area": null,
            "grid_auto_columns": null,
            "grid_auto_flow": null,
            "grid_auto_rows": null,
            "grid_column": null,
            "grid_gap": null,
            "grid_row": null,
            "grid_template_areas": null,
            "grid_template_columns": null,
            "grid_template_rows": null,
            "height": null,
            "justify_content": null,
            "justify_items": null,
            "left": null,
            "margin": null,
            "max_height": null,
            "max_width": null,
            "min_height": null,
            "min_width": null,
            "object_fit": null,
            "object_position": null,
            "order": null,
            "overflow": null,
            "overflow_x": null,
            "overflow_y": null,
            "padding": null,
            "right": null,
            "top": null,
            "visibility": null,
            "width": null
          }
        },
        "043544c7a8bc4359ad61c117c4023d91": {
          "model_module": "@jupyter-widgets/controls",
          "model_module_version": "1.5.0",
          "model_name": "HTMLModel",
          "state": {
            "_dom_classes": [],
            "_model_module": "@jupyter-widgets/controls",
            "_model_module_version": "1.5.0",
            "_model_name": "HTMLModel",
            "_view_count": null,
            "_view_module": "@jupyter-widgets/controls",
            "_view_module_version": "1.5.0",
            "_view_name": "HTMLView",
            "description": "",
            "description_tooltip": null,
            "layout": "IPY_MODEL_580aa2b608244de083d760da5ff7d48c",
            "placeholder": "​",
            "style": "IPY_MODEL_62a703c1c72d4acf974235d9479fd913",
            "value": " 22.6M/22.6M [00:00&lt;00:00, 43.6MB/s]"
          }
        },
        "0512342bd8c646cc812773ecfc24175a": {
          "model_module": "@jupyter-widgets/controls",
          "model_module_version": "1.5.0",
          "model_name": "HTMLModel",
          "state": {
            "_dom_classes": [],
            "_model_module": "@jupyter-widgets/controls",
            "_model_module_version": "1.5.0",
            "_model_name": "HTMLModel",
            "_view_count": null,
            "_view_module": "@jupyter-widgets/controls",
            "_view_module_version": "1.5.0",
            "_view_name": "HTMLView",
            "description": "",
            "description_tooltip": null,
            "layout": "IPY_MODEL_ecd59dac9a9645458c518b3660cef52a",
            "placeholder": "​",
            "style": "IPY_MODEL_21bbf628db3f4717b83373ae774e26c2",
            "value": " 3/3 [00:04&lt;00:00,  4.23s/it]"
          }
        },
        "070fb31851bd4f79b1974121c979ce86": {
          "model_module": "@jupyter-widgets/controls",
          "model_module_version": "1.5.0",
          "model_name": "ProgressStyleModel",
          "state": {
            "_model_module": "@jupyter-widgets/controls",
            "_model_module_version": "1.5.0",
            "_model_name": "ProgressStyleModel",
            "_view_count": null,
            "_view_module": "@jupyter-widgets/base",
            "_view_module_version": "1.2.0",
            "_view_name": "StyleView",
            "bar_color": null,
            "description_width": ""
          }
        },
        "0762f8f161ca4f1c8a2f4fd5d8c8b066": {
          "model_module": "@jupyter-widgets/controls",
          "model_module_version": "1.5.0",
          "model_name": "FloatProgressModel",
          "state": {
            "_dom_classes": [],
            "_model_module": "@jupyter-widgets/controls",
            "_model_module_version": "1.5.0",
            "_model_name": "FloatProgressModel",
            "_view_count": null,
            "_view_module": "@jupyter-widgets/controls",
            "_view_module_version": "1.5.0",
            "_view_name": "ProgressView",
            "bar_style": "success",
            "description": "",
            "description_tooltip": null,
            "layout": "IPY_MODEL_64fb52caab9a4c3abc262cd5563ca2d7",
            "max": 5560,
            "min": 0,
            "orientation": "horizontal",
            "style": "IPY_MODEL_39ea4a25880d4dedb9096f1f0f8869da",
            "value": 5560
          }
        },
        "120bb09635b541e6a459faf3d8c5fd27": {
          "model_module": "@jupyter-widgets/controls",
          "model_module_version": "1.5.0",
          "model_name": "DescriptionStyleModel",
          "state": {
            "_model_module": "@jupyter-widgets/controls",
            "_model_module_version": "1.5.0",
            "_model_name": "DescriptionStyleModel",
            "_view_count": null,
            "_view_module": "@jupyter-widgets/base",
            "_view_module_version": "1.2.0",
            "_view_name": "StyleView",
            "description_width": ""
          }
        },
        "165c1ff4579a41c292d007a94f6f5d67": {
          "model_module": "@jupyter-widgets/base",
          "model_module_version": "1.2.0",
          "model_name": "LayoutModel",
          "state": {
            "_model_module": "@jupyter-widgets/base",
            "_model_module_version": "1.2.0",
            "_model_name": "LayoutModel",
            "_view_count": null,
            "_view_module": "@jupyter-widgets/base",
            "_view_module_version": "1.2.0",
            "_view_name": "LayoutView",
            "align_content": null,
            "align_items": null,
            "align_self": null,
            "border": null,
            "bottom": null,
            "display": null,
            "flex": null,
            "flex_flow": null,
            "grid_area": null,
            "grid_auto_columns": null,
            "grid_auto_flow": null,
            "grid_auto_rows": null,
            "grid_column": null,
            "grid_gap": null,
            "grid_row": null,
            "grid_template_areas": null,
            "grid_template_columns": null,
            "grid_template_rows": null,
            "height": null,
            "justify_content": null,
            "justify_items": null,
            "left": null,
            "margin": null,
            "max_height": null,
            "max_width": null,
            "min_height": null,
            "min_width": null,
            "object_fit": null,
            "object_position": null,
            "order": null,
            "overflow": null,
            "overflow_x": null,
            "overflow_y": null,
            "padding": null,
            "right": null,
            "top": null,
            "visibility": null,
            "width": null
          }
        },
        "173da04f65fb4cb8bd04fedde44ae85c": {
          "model_module": "@jupyter-widgets/controls",
          "model_module_version": "1.5.0",
          "model_name": "HTMLModel",
          "state": {
            "_dom_classes": [],
            "_model_module": "@jupyter-widgets/controls",
            "_model_module_version": "1.5.0",
            "_model_name": "HTMLModel",
            "_view_count": null,
            "_view_module": "@jupyter-widgets/controls",
            "_view_module_version": "1.5.0",
            "_view_name": "HTMLView",
            "description": "",
            "description_tooltip": null,
            "layout": "IPY_MODEL_a8fc0291476446a8bb7364ac61d0327b",
            "placeholder": "​",
            "style": "IPY_MODEL_4b2c70771bd94f929aeaac1bd9330612",
            "value": "Upload 3 LFS files: 100%"
          }
        },
        "190ae00812244db988b3e3778fa943a6": {
          "model_module": "@jupyter-widgets/controls",
          "model_module_version": "1.5.0",
          "model_name": "HTMLModel",
          "state": {
            "_dom_classes": [],
            "_model_module": "@jupyter-widgets/controls",
            "_model_module_version": "1.5.0",
            "_model_name": "HTMLModel",
            "_view_count": null,
            "_view_module": "@jupyter-widgets/controls",
            "_view_module_version": "1.5.0",
            "_view_name": "HTMLView",
            "description": "",
            "description_tooltip": null,
            "layout": "IPY_MODEL_42e61f592e074674a06703609ea53ae0",
            "placeholder": "​",
            "style": "IPY_MODEL_b5ced2c30c184d648ba134b8f14c2b5f",
            "value": "special_tokens_map.json: 100%"
          }
        },
        "193eefaf791046828812228f7e86a0fc": {
          "model_module": "@jupyter-widgets/controls",
          "model_module_version": "1.5.0",
          "model_name": "HTMLModel",
          "state": {
            "_dom_classes": [],
            "_model_module": "@jupyter-widgets/controls",
            "_model_module_version": "1.5.0",
            "_model_name": "HTMLModel",
            "_view_count": null,
            "_view_module": "@jupyter-widgets/controls",
            "_view_module_version": "1.5.0",
            "_view_name": "HTMLView",
            "description": "",
            "description_tooltip": null,
            "layout": "IPY_MODEL_2d3ed489f55944bdb90b6f7d4b05d338",
            "placeholder": "​",
            "style": "IPY_MODEL_3633cca2782444ec9df7ba0bc8380230",
            "value": "Generating train split: "
          }
        },
        "1e0d9c420388498b8f803a027207290f": {
          "model_module": "@jupyter-widgets/controls",
          "model_module_version": "1.5.0",
          "model_name": "ProgressStyleModel",
          "state": {
            "_model_module": "@jupyter-widgets/controls",
            "_model_module_version": "1.5.0",
            "_model_name": "ProgressStyleModel",
            "_view_count": null,
            "_view_module": "@jupyter-widgets/base",
            "_view_module_version": "1.2.0",
            "_view_name": "StyleView",
            "bar_color": null,
            "description_width": ""
          }
        },
        "1e58bc15629a4161a05aa6e841a728e9": {
          "model_module": "@jupyter-widgets/controls",
          "model_module_version": "1.5.0",
          "model_name": "HBoxModel",
          "state": {
            "_dom_classes": [],
            "_model_module": "@jupyter-widgets/controls",
            "_model_module_version": "1.5.0",
            "_model_name": "HBoxModel",
            "_view_count": null,
            "_view_module": "@jupyter-widgets/controls",
            "_view_module_version": "1.5.0",
            "_view_name": "HBoxView",
            "box_style": "",
            "children": [
              "IPY_MODEL_6c15a8a81ac74bbabd443f73851fad52",
              "IPY_MODEL_027a4428521740fa910436854c00581c",
              "IPY_MODEL_34c42ceb3bed49b3a6dcb0546f4e2ac8"
            ],
            "layout": "IPY_MODEL_165c1ff4579a41c292d007a94f6f5d67"
          }
        },
        "2133473d2f0b4ccdba0c1df52105e2fe": {
          "model_module": "@jupyter-widgets/controls",
          "model_module_version": "1.5.0",
          "model_name": "HBoxModel",
          "state": {
            "_dom_classes": [],
            "_model_module": "@jupyter-widgets/controls",
            "_model_module_version": "1.5.0",
            "_model_name": "HBoxModel",
            "_view_count": null,
            "_view_module": "@jupyter-widgets/controls",
            "_view_module_version": "1.5.0",
            "_view_name": "HBoxView",
            "box_style": "",
            "children": [
              "IPY_MODEL_c8eb7d5b5c1c49d089267b0f4e635bc8",
              "IPY_MODEL_59959e247bc94c6ababae06d486b4c12",
              "IPY_MODEL_4f6e913e7e8a4f8a888b80f1e30b6f85"
            ],
            "layout": "IPY_MODEL_7186daca947c45ec84ba4669b7b31981"
          }
        },
        "21bbf628db3f4717b83373ae774e26c2": {
          "model_module": "@jupyter-widgets/controls",
          "model_module_version": "1.5.0",
          "model_name": "DescriptionStyleModel",
          "state": {
            "_model_module": "@jupyter-widgets/controls",
            "_model_module_version": "1.5.0",
            "_model_name": "DescriptionStyleModel",
            "_view_count": null,
            "_view_module": "@jupyter-widgets/base",
            "_view_module_version": "1.2.0",
            "_view_name": "StyleView",
            "description_width": ""
          }
        },
        "22a2bd3b72e94cdd88632198a2c8da75": {
          "model_module": "@jupyter-widgets/controls",
          "model_module_version": "1.5.0",
          "model_name": "DescriptionStyleModel",
          "state": {
            "_model_module": "@jupyter-widgets/controls",
            "_model_module_version": "1.5.0",
            "_model_name": "DescriptionStyleModel",
            "_view_count": null,
            "_view_module": "@jupyter-widgets/base",
            "_view_module_version": "1.2.0",
            "_view_name": "StyleView",
            "description_width": ""
          }
        },
        "2315e06a9ffd4bb986dbfdce7b72d0ac": {
          "model_module": "@jupyter-widgets/controls",
          "model_module_version": "1.5.0",
          "model_name": "ProgressStyleModel",
          "state": {
            "_model_module": "@jupyter-widgets/controls",
            "_model_module_version": "1.5.0",
            "_model_name": "ProgressStyleModel",
            "_view_count": null,
            "_view_module": "@jupyter-widgets/base",
            "_view_module_version": "1.2.0",
            "_view_name": "StyleView",
            "bar_color": null,
            "description_width": ""
          }
        },
        "23fda1f56d4a456da09d3db23fa289db": {
          "model_module": "@jupyter-widgets/controls",
          "model_module_version": "1.5.0",
          "model_name": "ProgressStyleModel",
          "state": {
            "_model_module": "@jupyter-widgets/controls",
            "_model_module_version": "1.5.0",
            "_model_name": "ProgressStyleModel",
            "_view_count": null,
            "_view_module": "@jupyter-widgets/base",
            "_view_module_version": "1.2.0",
            "_view_name": "StyleView",
            "bar_color": null,
            "description_width": ""
          }
        },
        "253ef944c55f47868b4f821620d24b13": {
          "model_module": "@jupyter-widgets/controls",
          "model_module_version": "1.5.0",
          "model_name": "DescriptionStyleModel",
          "state": {
            "_model_module": "@jupyter-widgets/controls",
            "_model_module_version": "1.5.0",
            "_model_name": "DescriptionStyleModel",
            "_view_count": null,
            "_view_module": "@jupyter-widgets/base",
            "_view_module_version": "1.2.0",
            "_view_name": "StyleView",
            "description_width": ""
          }
        },
        "27b5811a4f284616977aa8d981ab5428": {
          "model_module": "@jupyter-widgets/controls",
          "model_module_version": "1.5.0",
          "model_name": "HBoxModel",
          "state": {
            "_dom_classes": [],
            "_model_module": "@jupyter-widgets/controls",
            "_model_module_version": "1.5.0",
            "_model_name": "HBoxModel",
            "_view_count": null,
            "_view_module": "@jupyter-widgets/controls",
            "_view_module_version": "1.5.0",
            "_view_name": "HBoxView",
            "box_style": "",
            "children": [
              "IPY_MODEL_9b490c87acab4e979b2a1f58cfb36887",
              "IPY_MODEL_caa1c322b6a94dc89d5b388aca3a8fc7",
              "IPY_MODEL_41ce8aca83234903aa148523ed01a7ab"
            ],
            "layout": "IPY_MODEL_efdfe68e7ce94cb9bf0447faf2b4f34c"
          }
        },
        "2817da44edd148889b8733d1b2a39d4b": {
          "model_module": "@jupyter-widgets/base",
          "model_module_version": "1.2.0",
          "model_name": "LayoutModel",
          "state": {
            "_model_module": "@jupyter-widgets/base",
            "_model_module_version": "1.2.0",
            "_model_name": "LayoutModel",
            "_view_count": null,
            "_view_module": "@jupyter-widgets/base",
            "_view_module_version": "1.2.0",
            "_view_name": "LayoutView",
            "align_content": null,
            "align_items": null,
            "align_self": null,
            "border": null,
            "bottom": null,
            "display": null,
            "flex": null,
            "flex_flow": null,
            "grid_area": null,
            "grid_auto_columns": null,
            "grid_auto_flow": null,
            "grid_auto_rows": null,
            "grid_column": null,
            "grid_gap": null,
            "grid_row": null,
            "grid_template_areas": null,
            "grid_template_columns": null,
            "grid_template_rows": null,
            "height": null,
            "justify_content": null,
            "justify_items": null,
            "left": null,
            "margin": null,
            "max_height": null,
            "max_width": null,
            "min_height": null,
            "min_width": null,
            "object_fit": null,
            "object_position": null,
            "order": null,
            "overflow": null,
            "overflow_x": null,
            "overflow_y": null,
            "padding": null,
            "right": null,
            "top": null,
            "visibility": null,
            "width": null
          }
        },
        "2b226c87418c4fb7952186b16101bfa4": {
          "model_module": "@jupyter-widgets/base",
          "model_module_version": "1.2.0",
          "model_name": "LayoutModel",
          "state": {
            "_model_module": "@jupyter-widgets/base",
            "_model_module_version": "1.2.0",
            "_model_name": "LayoutModel",
            "_view_count": null,
            "_view_module": "@jupyter-widgets/base",
            "_view_module_version": "1.2.0",
            "_view_name": "LayoutView",
            "align_content": null,
            "align_items": null,
            "align_self": null,
            "border": null,
            "bottom": null,
            "display": null,
            "flex": null,
            "flex_flow": null,
            "grid_area": null,
            "grid_auto_columns": null,
            "grid_auto_flow": null,
            "grid_auto_rows": null,
            "grid_column": null,
            "grid_gap": null,
            "grid_row": null,
            "grid_template_areas": null,
            "grid_template_columns": null,
            "grid_template_rows": null,
            "height": null,
            "justify_content": null,
            "justify_items": null,
            "left": null,
            "margin": null,
            "max_height": null,
            "max_width": null,
            "min_height": null,
            "min_width": null,
            "object_fit": null,
            "object_position": null,
            "order": null,
            "overflow": null,
            "overflow_x": null,
            "overflow_y": null,
            "padding": null,
            "right": null,
            "top": null,
            "visibility": null,
            "width": null
          }
        },
        "2c123ed100a947eca137243bd2159c68": {
          "model_module": "@jupyter-widgets/controls",
          "model_module_version": "1.5.0",
          "model_name": "FloatProgressModel",
          "state": {
            "_dom_classes": [],
            "_model_module": "@jupyter-widgets/controls",
            "_model_module_version": "1.5.0",
            "_model_name": "FloatProgressModel",
            "_view_count": null,
            "_view_module": "@jupyter-widgets/controls",
            "_view_module_version": "1.5.0",
            "_view_name": "ProgressView",
            "bar_style": "success",
            "description": "",
            "description_tooltip": null,
            "layout": "IPY_MODEL_5f7bccbd5c8a416b8b515b473d8c6391",
            "max": 189,
            "min": 0,
            "orientation": "horizontal",
            "style": "IPY_MODEL_8485cbf9adff4081a25778a07c806475",
            "value": 189
          }
        },
        "2d3ed489f55944bdb90b6f7d4b05d338": {
          "model_module": "@jupyter-widgets/base",
          "model_module_version": "1.2.0",
          "model_name": "LayoutModel",
          "state": {
            "_model_module": "@jupyter-widgets/base",
            "_model_module_version": "1.2.0",
            "_model_name": "LayoutModel",
            "_view_count": null,
            "_view_module": "@jupyter-widgets/base",
            "_view_module_version": "1.2.0",
            "_view_name": "LayoutView",
            "align_content": null,
            "align_items": null,
            "align_self": null,
            "border": null,
            "bottom": null,
            "display": null,
            "flex": null,
            "flex_flow": null,
            "grid_area": null,
            "grid_auto_columns": null,
            "grid_auto_flow": null,
            "grid_auto_rows": null,
            "grid_column": null,
            "grid_gap": null,
            "grid_row": null,
            "grid_template_areas": null,
            "grid_template_columns": null,
            "grid_template_rows": null,
            "height": null,
            "justify_content": null,
            "justify_items": null,
            "left": null,
            "margin": null,
            "max_height": null,
            "max_width": null,
            "min_height": null,
            "min_width": null,
            "object_fit": null,
            "object_position": null,
            "order": null,
            "overflow": null,
            "overflow_x": null,
            "overflow_y": null,
            "padding": null,
            "right": null,
            "top": null,
            "visibility": null,
            "width": null
          }
        },
        "2d4d75ac515f46a8867b3d9ad046c414": {
          "model_module": "@jupyter-widgets/base",
          "model_module_version": "1.2.0",
          "model_name": "LayoutModel",
          "state": {
            "_model_module": "@jupyter-widgets/base",
            "_model_module_version": "1.2.0",
            "_model_name": "LayoutModel",
            "_view_count": null,
            "_view_module": "@jupyter-widgets/base",
            "_view_module_version": "1.2.0",
            "_view_name": "LayoutView",
            "align_content": null,
            "align_items": null,
            "align_self": null,
            "border": null,
            "bottom": null,
            "display": null,
            "flex": null,
            "flex_flow": null,
            "grid_area": null,
            "grid_auto_columns": null,
            "grid_auto_flow": null,
            "grid_auto_rows": null,
            "grid_column": null,
            "grid_gap": null,
            "grid_row": null,
            "grid_template_areas": null,
            "grid_template_columns": null,
            "grid_template_rows": null,
            "height": null,
            "justify_content": null,
            "justify_items": null,
            "left": null,
            "margin": null,
            "max_height": null,
            "max_width": null,
            "min_height": null,
            "min_width": null,
            "object_fit": null,
            "object_position": null,
            "order": null,
            "overflow": null,
            "overflow_x": null,
            "overflow_y": null,
            "padding": null,
            "right": null,
            "top": null,
            "visibility": null,
            "width": null
          }
        },
        "2d4f9585a9f24849b0ea58815b95a204": {
          "model_module": "@jupyter-widgets/base",
          "model_module_version": "1.2.0",
          "model_name": "LayoutModel",
          "state": {
            "_model_module": "@jupyter-widgets/base",
            "_model_module_version": "1.2.0",
            "_model_name": "LayoutModel",
            "_view_count": null,
            "_view_module": "@jupyter-widgets/base",
            "_view_module_version": "1.2.0",
            "_view_name": "LayoutView",
            "align_content": null,
            "align_items": null,
            "align_self": null,
            "border": null,
            "bottom": null,
            "display": null,
            "flex": null,
            "flex_flow": null,
            "grid_area": null,
            "grid_auto_columns": null,
            "grid_auto_flow": null,
            "grid_auto_rows": null,
            "grid_column": null,
            "grid_gap": null,
            "grid_row": null,
            "grid_template_areas": null,
            "grid_template_columns": null,
            "grid_template_rows": null,
            "height": null,
            "justify_content": null,
            "justify_items": null,
            "left": null,
            "margin": null,
            "max_height": null,
            "max_width": null,
            "min_height": null,
            "min_width": null,
            "object_fit": null,
            "object_position": null,
            "order": null,
            "overflow": null,
            "overflow_x": null,
            "overflow_y": null,
            "padding": null,
            "right": null,
            "top": null,
            "visibility": null,
            "width": null
          }
        },
        "2dfd5a82506542ccb0ca3a316de39042": {
          "model_module": "@jupyter-widgets/base",
          "model_module_version": "1.2.0",
          "model_name": "LayoutModel",
          "state": {
            "_model_module": "@jupyter-widgets/base",
            "_model_module_version": "1.2.0",
            "_model_name": "LayoutModel",
            "_view_count": null,
            "_view_module": "@jupyter-widgets/base",
            "_view_module_version": "1.2.0",
            "_view_name": "LayoutView",
            "align_content": null,
            "align_items": null,
            "align_self": null,
            "border": null,
            "bottom": null,
            "display": null,
            "flex": null,
            "flex_flow": null,
            "grid_area": null,
            "grid_auto_columns": null,
            "grid_auto_flow": null,
            "grid_auto_rows": null,
            "grid_column": null,
            "grid_gap": null,
            "grid_row": null,
            "grid_template_areas": null,
            "grid_template_columns": null,
            "grid_template_rows": null,
            "height": null,
            "justify_content": null,
            "justify_items": null,
            "left": null,
            "margin": null,
            "max_height": null,
            "max_width": null,
            "min_height": null,
            "min_width": null,
            "object_fit": null,
            "object_position": null,
            "order": null,
            "overflow": null,
            "overflow_x": null,
            "overflow_y": null,
            "padding": null,
            "right": null,
            "top": null,
            "visibility": null,
            "width": null
          }
        },
        "2e0ea504d9384753a5868a8d8eb089c7": {
          "model_module": "@jupyter-widgets/controls",
          "model_module_version": "1.5.0",
          "model_name": "HBoxModel",
          "state": {
            "_dom_classes": [],
            "_model_module": "@jupyter-widgets/controls",
            "_model_module_version": "1.5.0",
            "_model_name": "HBoxModel",
            "_view_count": null,
            "_view_module": "@jupyter-widgets/controls",
            "_view_module_version": "1.5.0",
            "_view_name": "HBoxView",
            "box_style": "",
            "children": [
              "IPY_MODEL_df65025cf0094ba79d8e71e324a92420",
              "IPY_MODEL_feb7999ceb774a49b904a7f1c8fcf643",
              "IPY_MODEL_496c81034d904d9293cc821016698374"
            ],
            "layout": "IPY_MODEL_ef439b6b2669422e8033d2314f8bda91"
          }
        },
        "343e7d4defd4471da4172e2dcf8b6c2f": {
          "model_module": "@jupyter-widgets/controls",
          "model_module_version": "1.5.0",
          "model_name": "DescriptionStyleModel",
          "state": {
            "_model_module": "@jupyter-widgets/controls",
            "_model_module_version": "1.5.0",
            "_model_name": "DescriptionStyleModel",
            "_view_count": null,
            "_view_module": "@jupyter-widgets/base",
            "_view_module_version": "1.2.0",
            "_view_name": "StyleView",
            "description_width": ""
          }
        },
        "34c42ceb3bed49b3a6dcb0546f4e2ac8": {
          "model_module": "@jupyter-widgets/controls",
          "model_module_version": "1.5.0",
          "model_name": "HTMLModel",
          "state": {
            "_dom_classes": [],
            "_model_module": "@jupyter-widgets/controls",
            "_model_module_version": "1.5.0",
            "_model_name": "HTMLModel",
            "_view_count": null,
            "_view_module": "@jupyter-widgets/controls",
            "_view_module_version": "1.5.0",
            "_view_name": "HTMLView",
            "description": "",
            "description_tooltip": null,
            "layout": "IPY_MODEL_f85eea3c47714fb6839c7bda212a25a7",
            "placeholder": "​",
            "style": "IPY_MODEL_b68dbd02d6604d41852eae84250d54cc",
            "value": " 877/877 [00:00&lt;00:00, 14.0kB/s]"
          }
        },
        "35687360905f44b1bad4a74ed245b650": {
          "model_module": "@jupyter-widgets/controls",
          "model_module_version": "1.5.0",
          "model_name": "HTMLModel",
          "state": {
            "_dom_classes": [],
            "_model_module": "@jupyter-widgets/controls",
            "_model_module_version": "1.5.0",
            "_model_name": "HTMLModel",
            "_view_count": null,
            "_view_module": "@jupyter-widgets/controls",
            "_view_module_version": "1.5.0",
            "_view_name": "HTMLView",
            "description": "",
            "description_tooltip": null,
            "layout": "IPY_MODEL_7a456704092e4b0c877422329982cc05",
            "placeholder": "​",
            "style": "IPY_MODEL_253ef944c55f47868b4f821620d24b13",
            "value": "adapter_model.safetensors: 100%"
          }
        },
        "3633cca2782444ec9df7ba0bc8380230": {
          "model_module": "@jupyter-widgets/controls",
          "model_module_version": "1.5.0",
          "model_name": "DescriptionStyleModel",
          "state": {
            "_model_module": "@jupyter-widgets/controls",
            "_model_module_version": "1.5.0",
            "_model_name": "DescriptionStyleModel",
            "_view_count": null,
            "_view_module": "@jupyter-widgets/base",
            "_view_module_version": "1.2.0",
            "_view_name": "StyleView",
            "description_width": ""
          }
        },
        "3687c050ad584d6681eddc8517b47656": {
          "model_module": "@jupyter-widgets/controls",
          "model_module_version": "1.5.0",
          "model_name": "DescriptionStyleModel",
          "state": {
            "_model_module": "@jupyter-widgets/controls",
            "_model_module_version": "1.5.0",
            "_model_name": "DescriptionStyleModel",
            "_view_count": null,
            "_view_module": "@jupyter-widgets/base",
            "_view_module_version": "1.2.0",
            "_view_name": "StyleView",
            "description_width": ""
          }
        },
        "39ea4a25880d4dedb9096f1f0f8869da": {
          "model_module": "@jupyter-widgets/controls",
          "model_module_version": "1.5.0",
          "model_name": "ProgressStyleModel",
          "state": {
            "_model_module": "@jupyter-widgets/controls",
            "_model_module_version": "1.5.0",
            "_model_name": "ProgressStyleModel",
            "_view_count": null,
            "_view_module": "@jupyter-widgets/base",
            "_view_module_version": "1.2.0",
            "_view_name": "StyleView",
            "bar_color": null,
            "description_width": ""
          }
        },
        "3cd210cd1c044806a4d595491045bf79": {
          "model_module": "@jupyter-widgets/controls",
          "model_module_version": "1.5.0",
          "model_name": "HBoxModel",
          "state": {
            "_dom_classes": [],
            "_model_module": "@jupyter-widgets/controls",
            "_model_module_version": "1.5.0",
            "_model_name": "HBoxModel",
            "_view_count": null,
            "_view_module": "@jupyter-widgets/controls",
            "_view_module_version": "1.5.0",
            "_view_name": "HBoxView",
            "box_style": "",
            "children": [
              "IPY_MODEL_173da04f65fb4cb8bd04fedde44ae85c",
              "IPY_MODEL_f977d2d088954bfa99395025e00bb276",
              "IPY_MODEL_0512342bd8c646cc812773ecfc24175a"
            ],
            "layout": "IPY_MODEL_4ad04bb8a26e4cc1bb37b9af2cf6c951"
          }
        },
        "3e427dfa340f421091aaac917491f1f8": {
          "model_module": "@jupyter-widgets/controls",
          "model_module_version": "1.5.0",
          "model_name": "DescriptionStyleModel",
          "state": {
            "_model_module": "@jupyter-widgets/controls",
            "_model_module_version": "1.5.0",
            "_model_name": "DescriptionStyleModel",
            "_view_count": null,
            "_view_module": "@jupyter-widgets/base",
            "_view_module_version": "1.2.0",
            "_view_name": "StyleView",
            "description_width": ""
          }
        },
        "3eecc5bdc82c48c9b85d2de401c012df": {
          "model_module": "@jupyter-widgets/controls",
          "model_module_version": "1.5.0",
          "model_name": "HTMLModel",
          "state": {
            "_dom_classes": [],
            "_model_module": "@jupyter-widgets/controls",
            "_model_module_version": "1.5.0",
            "_model_name": "HTMLModel",
            "_view_count": null,
            "_view_module": "@jupyter-widgets/controls",
            "_view_module_version": "1.5.0",
            "_view_name": "HTMLView",
            "description": "",
            "description_tooltip": null,
            "layout": "IPY_MODEL_891839598054467ca6d3f56ecce4d976",
            "placeholder": "​",
            "style": "IPY_MODEL_bcbf6362004747b79f663b2cd6cdc7a5",
            "value": " 17.2M/17.2M [00:00&lt;00:00, 27.2MB/s]"
          }
        },
        "41ce8aca83234903aa148523ed01a7ab": {
          "model_module": "@jupyter-widgets/controls",
          "model_module_version": "1.5.0",
          "model_name": "HTMLModel",
          "state": {
            "_dom_classes": [],
            "_model_module": "@jupyter-widgets/controls",
            "_model_module_version": "1.5.0",
            "_model_name": "HTMLModel",
            "_view_count": null,
            "_view_module": "@jupyter-widgets/controls",
            "_view_module_version": "1.5.0",
            "_view_name": "HTMLView",
            "description": "",
            "description_tooltip": null,
            "layout": "IPY_MODEL_a363e235f3964823a65822718f5b3cb8",
            "placeholder": "​",
            "style": "IPY_MODEL_5f06529df403459eac31c28e38b914ab",
            "value": " 22.6M/22.6M [00:04&lt;00:00, 11.3MB/s]"
          }
        },
        "41cf6e5726d1499bb8810fd5c36ed8df": {
          "model_module": "@jupyter-widgets/controls",
          "model_module_version": "1.5.0",
          "model_name": "HBoxModel",
          "state": {
            "_dom_classes": [],
            "_model_module": "@jupyter-widgets/controls",
            "_model_module_version": "1.5.0",
            "_model_name": "HBoxModel",
            "_view_count": null,
            "_view_module": "@jupyter-widgets/controls",
            "_view_module_version": "1.5.0",
            "_view_name": "HBoxView",
            "box_style": "",
            "children": [
              "IPY_MODEL_7ef90725fd46483a9735add63323cf36",
              "IPY_MODEL_0762f8f161ca4f1c8a2f4fd5d8c8b066",
              "IPY_MODEL_4d507cfd120a41ce85a124926ca2ed34"
            ],
            "layout": "IPY_MODEL_72f2a856cf9b4adab755ba5cdecc1ae7"
          }
        },
        "42e61f592e074674a06703609ea53ae0": {
          "model_module": "@jupyter-widgets/base",
          "model_module_version": "1.2.0",
          "model_name": "LayoutModel",
          "state": {
            "_model_module": "@jupyter-widgets/base",
            "_model_module_version": "1.2.0",
            "_model_name": "LayoutModel",
            "_view_count": null,
            "_view_module": "@jupyter-widgets/base",
            "_view_module_version": "1.2.0",
            "_view_name": "LayoutView",
            "align_content": null,
            "align_items": null,
            "align_self": null,
            "border": null,
            "bottom": null,
            "display": null,
            "flex": null,
            "flex_flow": null,
            "grid_area": null,
            "grid_auto_columns": null,
            "grid_auto_flow": null,
            "grid_auto_rows": null,
            "grid_column": null,
            "grid_gap": null,
            "grid_row": null,
            "grid_template_areas": null,
            "grid_template_columns": null,
            "grid_template_rows": null,
            "height": null,
            "justify_content": null,
            "justify_items": null,
            "left": null,
            "margin": null,
            "max_height": null,
            "max_width": null,
            "min_height": null,
            "min_width": null,
            "object_fit": null,
            "object_position": null,
            "order": null,
            "overflow": null,
            "overflow_x": null,
            "overflow_y": null,
            "padding": null,
            "right": null,
            "top": null,
            "visibility": null,
            "width": null
          }
        },
        "45db22b330e34ba1ad50f6e8297b2bbc": {
          "model_module": "@jupyter-widgets/base",
          "model_module_version": "1.2.0",
          "model_name": "LayoutModel",
          "state": {
            "_model_module": "@jupyter-widgets/base",
            "_model_module_version": "1.2.0",
            "_model_name": "LayoutModel",
            "_view_count": null,
            "_view_module": "@jupyter-widgets/base",
            "_view_module_version": "1.2.0",
            "_view_name": "LayoutView",
            "align_content": null,
            "align_items": null,
            "align_self": null,
            "border": null,
            "bottom": null,
            "display": null,
            "flex": null,
            "flex_flow": null,
            "grid_area": null,
            "grid_auto_columns": null,
            "grid_auto_flow": null,
            "grid_auto_rows": null,
            "grid_column": null,
            "grid_gap": null,
            "grid_row": null,
            "grid_template_areas": null,
            "grid_template_columns": null,
            "grid_template_rows": null,
            "height": null,
            "justify_content": null,
            "justify_items": null,
            "left": null,
            "margin": null,
            "max_height": null,
            "max_width": null,
            "min_height": null,
            "min_width": null,
            "object_fit": null,
            "object_position": null,
            "order": null,
            "overflow": null,
            "overflow_x": null,
            "overflow_y": null,
            "padding": null,
            "right": null,
            "top": null,
            "visibility": null,
            "width": null
          }
        },
        "48a3b2f74a134f21973cf88011296fe3": {
          "model_module": "@jupyter-widgets/base",
          "model_module_version": "1.2.0",
          "model_name": "LayoutModel",
          "state": {
            "_model_module": "@jupyter-widgets/base",
            "_model_module_version": "1.2.0",
            "_model_name": "LayoutModel",
            "_view_count": null,
            "_view_module": "@jupyter-widgets/base",
            "_view_module_version": "1.2.0",
            "_view_name": "LayoutView",
            "align_content": null,
            "align_items": null,
            "align_self": null,
            "border": null,
            "bottom": null,
            "display": null,
            "flex": null,
            "flex_flow": null,
            "grid_area": null,
            "grid_auto_columns": null,
            "grid_auto_flow": null,
            "grid_auto_rows": null,
            "grid_column": null,
            "grid_gap": null,
            "grid_row": null,
            "grid_template_areas": null,
            "grid_template_columns": null,
            "grid_template_rows": null,
            "height": null,
            "justify_content": null,
            "justify_items": null,
            "left": null,
            "margin": null,
            "max_height": null,
            "max_width": null,
            "min_height": null,
            "min_width": null,
            "object_fit": null,
            "object_position": null,
            "order": null,
            "overflow": null,
            "overflow_x": null,
            "overflow_y": null,
            "padding": null,
            "right": null,
            "top": null,
            "visibility": null,
            "width": null
          }
        },
        "496c81034d904d9293cc821016698374": {
          "model_module": "@jupyter-widgets/controls",
          "model_module_version": "1.5.0",
          "model_name": "HTMLModel",
          "state": {
            "_dom_classes": [],
            "_model_module": "@jupyter-widgets/controls",
            "_model_module_version": "1.5.0",
            "_model_name": "HTMLModel",
            "_view_count": null,
            "_view_module": "@jupyter-widgets/controls",
            "_view_module_version": "1.5.0",
            "_view_name": "HTMLView",
            "description": "",
            "description_tooltip": null,
            "layout": "IPY_MODEL_749b9c3c7bb34d3b8a2e239594a1267b",
            "placeholder": "​",
            "style": "IPY_MODEL_002ae991c3e74faba584b6aac80bff81",
            "value": " 734/734 [00:00&lt;00:00, 18.8kB/s]"
          }
        },
        "4a612e11ac8b43b481b986b69c771cd6": {
          "model_module": "@jupyter-widgets/base",
          "model_module_version": "1.2.0",
          "model_name": "LayoutModel",
          "state": {
            "_model_module": "@jupyter-widgets/base",
            "_model_module_version": "1.2.0",
            "_model_name": "LayoutModel",
            "_view_count": null,
            "_view_module": "@jupyter-widgets/base",
            "_view_module_version": "1.2.0",
            "_view_name": "LayoutView",
            "align_content": null,
            "align_items": null,
            "align_self": null,
            "border": null,
            "bottom": null,
            "display": null,
            "flex": null,
            "flex_flow": null,
            "grid_area": null,
            "grid_auto_columns": null,
            "grid_auto_flow": null,
            "grid_auto_rows": null,
            "grid_column": null,
            "grid_gap": null,
            "grid_row": null,
            "grid_template_areas": null,
            "grid_template_columns": null,
            "grid_template_rows": null,
            "height": null,
            "justify_content": null,
            "justify_items": null,
            "left": null,
            "margin": null,
            "max_height": null,
            "max_width": null,
            "min_height": null,
            "min_width": null,
            "object_fit": null,
            "object_position": null,
            "order": null,
            "overflow": null,
            "overflow_x": null,
            "overflow_y": null,
            "padding": null,
            "right": null,
            "top": null,
            "visibility": null,
            "width": null
          }
        },
        "4ad04bb8a26e4cc1bb37b9af2cf6c951": {
          "model_module": "@jupyter-widgets/base",
          "model_module_version": "1.2.0",
          "model_name": "LayoutModel",
          "state": {
            "_model_module": "@jupyter-widgets/base",
            "_model_module_version": "1.2.0",
            "_model_name": "LayoutModel",
            "_view_count": null,
            "_view_module": "@jupyter-widgets/base",
            "_view_module_version": "1.2.0",
            "_view_name": "LayoutView",
            "align_content": null,
            "align_items": null,
            "align_self": null,
            "border": null,
            "bottom": null,
            "display": null,
            "flex": null,
            "flex_flow": null,
            "grid_area": null,
            "grid_auto_columns": null,
            "grid_auto_flow": null,
            "grid_auto_rows": null,
            "grid_column": null,
            "grid_gap": null,
            "grid_row": null,
            "grid_template_areas": null,
            "grid_template_columns": null,
            "grid_template_rows": null,
            "height": null,
            "justify_content": null,
            "justify_items": null,
            "left": null,
            "margin": null,
            "max_height": null,
            "max_width": null,
            "min_height": null,
            "min_width": null,
            "object_fit": null,
            "object_position": null,
            "order": null,
            "overflow": null,
            "overflow_x": null,
            "overflow_y": null,
            "padding": null,
            "right": null,
            "top": null,
            "visibility": null,
            "width": null
          }
        },
        "4b2c70771bd94f929aeaac1bd9330612": {
          "model_module": "@jupyter-widgets/controls",
          "model_module_version": "1.5.0",
          "model_name": "DescriptionStyleModel",
          "state": {
            "_model_module": "@jupyter-widgets/controls",
            "_model_module_version": "1.5.0",
            "_model_name": "DescriptionStyleModel",
            "_view_count": null,
            "_view_module": "@jupyter-widgets/base",
            "_view_module_version": "1.2.0",
            "_view_name": "StyleView",
            "description_width": ""
          }
        },
        "4ba1aab821fc471bbb32139f65cf4cf3": {
          "model_module": "@jupyter-widgets/controls",
          "model_module_version": "1.5.0",
          "model_name": "DescriptionStyleModel",
          "state": {
            "_model_module": "@jupyter-widgets/controls",
            "_model_module_version": "1.5.0",
            "_model_name": "DescriptionStyleModel",
            "_view_count": null,
            "_view_module": "@jupyter-widgets/base",
            "_view_module_version": "1.2.0",
            "_view_name": "StyleView",
            "description_width": ""
          }
        },
        "4d507cfd120a41ce85a124926ca2ed34": {
          "model_module": "@jupyter-widgets/controls",
          "model_module_version": "1.5.0",
          "model_name": "HTMLModel",
          "state": {
            "_dom_classes": [],
            "_model_module": "@jupyter-widgets/controls",
            "_model_module_version": "1.5.0",
            "_model_name": "HTMLModel",
            "_view_count": null,
            "_view_module": "@jupyter-widgets/controls",
            "_view_module_version": "1.5.0",
            "_view_name": "HTMLView",
            "description": "",
            "description_tooltip": null,
            "layout": "IPY_MODEL_b3f885429769449687ea6c466bc7404d",
            "placeholder": "​",
            "style": "IPY_MODEL_3e427dfa340f421091aaac917491f1f8",
            "value": " 5.56k/5.56k [00:00&lt;00:00, 28.4kB/s]"
          }
        },
        "4e8179892b9d412f91e941d2b334c093": {
          "model_module": "@jupyter-widgets/base",
          "model_module_version": "1.2.0",
          "model_name": "LayoutModel",
          "state": {
            "_model_module": "@jupyter-widgets/base",
            "_model_module_version": "1.2.0",
            "_model_name": "LayoutModel",
            "_view_count": null,
            "_view_module": "@jupyter-widgets/base",
            "_view_module_version": "1.2.0",
            "_view_name": "LayoutView",
            "align_content": null,
            "align_items": null,
            "align_self": null,
            "border": null,
            "bottom": null,
            "display": null,
            "flex": null,
            "flex_flow": null,
            "grid_area": null,
            "grid_auto_columns": null,
            "grid_auto_flow": null,
            "grid_auto_rows": null,
            "grid_column": null,
            "grid_gap": null,
            "grid_row": null,
            "grid_template_areas": null,
            "grid_template_columns": null,
            "grid_template_rows": null,
            "height": null,
            "justify_content": null,
            "justify_items": null,
            "left": null,
            "margin": null,
            "max_height": null,
            "max_width": null,
            "min_height": null,
            "min_width": null,
            "object_fit": null,
            "object_position": null,
            "order": null,
            "overflow": null,
            "overflow_x": null,
            "overflow_y": null,
            "padding": null,
            "right": null,
            "top": null,
            "visibility": null,
            "width": null
          }
        },
        "4ec4fd31c89041ea8a7376187511fe17": {
          "model_module": "@jupyter-widgets/controls",
          "model_module_version": "1.5.0",
          "model_name": "ProgressStyleModel",
          "state": {
            "_model_module": "@jupyter-widgets/controls",
            "_model_module_version": "1.5.0",
            "_model_name": "ProgressStyleModel",
            "_view_count": null,
            "_view_module": "@jupyter-widgets/base",
            "_view_module_version": "1.2.0",
            "_view_name": "StyleView",
            "bar_color": null,
            "description_width": ""
          }
        },
        "4f4efc2ea73a4256a8639e41f9f35b64": {
          "model_module": "@jupyter-widgets/controls",
          "model_module_version": "1.5.0",
          "model_name": "HBoxModel",
          "state": {
            "_dom_classes": [],
            "_model_module": "@jupyter-widgets/controls",
            "_model_module_version": "1.5.0",
            "_model_name": "HBoxModel",
            "_view_count": null,
            "_view_module": "@jupyter-widgets/controls",
            "_view_module_version": "1.5.0",
            "_view_name": "HBoxView",
            "box_style": "",
            "children": [
              "IPY_MODEL_f13c6eaaf22d4027bade59de32cd8e63",
              "IPY_MODEL_91bb582cbd0049d589aa4530418678ca",
              "IPY_MODEL_3eecc5bdc82c48c9b85d2de401c012df"
            ],
            "layout": "IPY_MODEL_5d591827fa284390878e524188897f6f"
          }
        },
        "4f6e913e7e8a4f8a888b80f1e30b6f85": {
          "model_module": "@jupyter-widgets/controls",
          "model_module_version": "1.5.0",
          "model_name": "HTMLModel",
          "state": {
            "_dom_classes": [],
            "_model_module": "@jupyter-widgets/controls",
            "_model_module_version": "1.5.0",
            "_model_name": "HTMLModel",
            "_view_count": null,
            "_view_module": "@jupyter-widgets/controls",
            "_view_module_version": "1.5.0",
            "_view_name": "HTMLView",
            "description": "",
            "description_tooltip": null,
            "layout": "IPY_MODEL_8d6da28bb8174c25846fb984c2693838",
            "placeholder": "​",
            "style": "IPY_MODEL_4ba1aab821fc471bbb32139f65cf4cf3",
            "value": " 2.47G/2.47G [00:58&lt;00:00, 42.9MB/s]"
          }
        },
        "5241d89a4c0d49ef8fbfdb9d4220ab00": {
          "model_module": "@jupyter-widgets/controls",
          "model_module_version": "1.5.0",
          "model_name": "FloatProgressModel",
          "state": {
            "_dom_classes": [],
            "_model_module": "@jupyter-widgets/controls",
            "_model_module_version": "1.5.0",
            "_model_name": "FloatProgressModel",
            "_view_count": null,
            "_view_module": "@jupyter-widgets/controls",
            "_view_module_version": "1.5.0",
            "_view_name": "ProgressView",
            "bar_style": "success",
            "description": "",
            "description_tooltip": null,
            "layout": "IPY_MODEL_90b3fb81a92549ff99c30f662aa82d77",
            "max": 54557,
            "min": 0,
            "orientation": "horizontal",
            "style": "IPY_MODEL_1e0d9c420388498b8f803a027207290f",
            "value": 54557
          }
        },
        "5737cc8fcd3546269235e2a039b3d1a2": {
          "model_module": "@jupyter-widgets/base",
          "model_module_version": "1.2.0",
          "model_name": "LayoutModel",
          "state": {
            "_model_module": "@jupyter-widgets/base",
            "_model_module_version": "1.2.0",
            "_model_name": "LayoutModel",
            "_view_count": null,
            "_view_module": "@jupyter-widgets/base",
            "_view_module_version": "1.2.0",
            "_view_name": "LayoutView",
            "align_content": null,
            "align_items": null,
            "align_self": null,
            "border": null,
            "bottom": null,
            "display": null,
            "flex": null,
            "flex_flow": null,
            "grid_area": null,
            "grid_auto_columns": null,
            "grid_auto_flow": null,
            "grid_auto_rows": null,
            "grid_column": null,
            "grid_gap": null,
            "grid_row": null,
            "grid_template_areas": null,
            "grid_template_columns": null,
            "grid_template_rows": null,
            "height": null,
            "justify_content": null,
            "justify_items": null,
            "left": null,
            "margin": null,
            "max_height": null,
            "max_width": null,
            "min_height": null,
            "min_width": null,
            "object_fit": null,
            "object_position": null,
            "order": null,
            "overflow": null,
            "overflow_x": null,
            "overflow_y": null,
            "padding": null,
            "right": null,
            "top": null,
            "visibility": null,
            "width": null
          }
        },
        "57411c8449524880b2c185a54a9f4829": {
          "model_module": "@jupyter-widgets/controls",
          "model_module_version": "1.5.0",
          "model_name": "DescriptionStyleModel",
          "state": {
            "_model_module": "@jupyter-widgets/controls",
            "_model_module_version": "1.5.0",
            "_model_name": "DescriptionStyleModel",
            "_view_count": null,
            "_view_module": "@jupyter-widgets/base",
            "_view_module_version": "1.2.0",
            "_view_name": "StyleView",
            "description_width": ""
          }
        },
        "580aa2b608244de083d760da5ff7d48c": {
          "model_module": "@jupyter-widgets/base",
          "model_module_version": "1.2.0",
          "model_name": "LayoutModel",
          "state": {
            "_model_module": "@jupyter-widgets/base",
            "_model_module_version": "1.2.0",
            "_model_name": "LayoutModel",
            "_view_count": null,
            "_view_module": "@jupyter-widgets/base",
            "_view_module_version": "1.2.0",
            "_view_name": "LayoutView",
            "align_content": null,
            "align_items": null,
            "align_self": null,
            "border": null,
            "bottom": null,
            "display": null,
            "flex": null,
            "flex_flow": null,
            "grid_area": null,
            "grid_auto_columns": null,
            "grid_auto_flow": null,
            "grid_auto_rows": null,
            "grid_column": null,
            "grid_gap": null,
            "grid_row": null,
            "grid_template_areas": null,
            "grid_template_columns": null,
            "grid_template_rows": null,
            "height": null,
            "justify_content": null,
            "justify_items": null,
            "left": null,
            "margin": null,
            "max_height": null,
            "max_width": null,
            "min_height": null,
            "min_width": null,
            "object_fit": null,
            "object_position": null,
            "order": null,
            "overflow": null,
            "overflow_x": null,
            "overflow_y": null,
            "padding": null,
            "right": null,
            "top": null,
            "visibility": null,
            "width": null
          }
        },
        "59959e247bc94c6ababae06d486b4c12": {
          "model_module": "@jupyter-widgets/controls",
          "model_module_version": "1.5.0",
          "model_name": "FloatProgressModel",
          "state": {
            "_dom_classes": [],
            "_model_module": "@jupyter-widgets/controls",
            "_model_module_version": "1.5.0",
            "_model_name": "FloatProgressModel",
            "_view_count": null,
            "_view_module": "@jupyter-widgets/controls",
            "_view_module_version": "1.5.0",
            "_view_name": "ProgressView",
            "bar_style": "success",
            "description": "",
            "description_tooltip": null,
            "layout": "IPY_MODEL_02d3d6e2827e400c9cd8b4de8bfe0d5b",
            "max": 2471645608,
            "min": 0,
            "orientation": "horizontal",
            "style": "IPY_MODEL_5c1372cf0d2648f0b3638c56b13b4257",
            "value": 2471645608
          }
        },
        "5c1372cf0d2648f0b3638c56b13b4257": {
          "model_module": "@jupyter-widgets/controls",
          "model_module_version": "1.5.0",
          "model_name": "ProgressStyleModel",
          "state": {
            "_model_module": "@jupyter-widgets/controls",
            "_model_module_version": "1.5.0",
            "_model_name": "ProgressStyleModel",
            "_view_count": null,
            "_view_module": "@jupyter-widgets/base",
            "_view_module_version": "1.2.0",
            "_view_name": "StyleView",
            "bar_color": null,
            "description_width": ""
          }
        },
        "5d591827fa284390878e524188897f6f": {
          "model_module": "@jupyter-widgets/base",
          "model_module_version": "1.2.0",
          "model_name": "LayoutModel",
          "state": {
            "_model_module": "@jupyter-widgets/base",
            "_model_module_version": "1.2.0",
            "_model_name": "LayoutModel",
            "_view_count": null,
            "_view_module": "@jupyter-widgets/base",
            "_view_module_version": "1.2.0",
            "_view_name": "LayoutView",
            "align_content": null,
            "align_items": null,
            "align_self": null,
            "border": null,
            "bottom": null,
            "display": null,
            "flex": null,
            "flex_flow": null,
            "grid_area": null,
            "grid_auto_columns": null,
            "grid_auto_flow": null,
            "grid_auto_rows": null,
            "grid_column": null,
            "grid_gap": null,
            "grid_row": null,
            "grid_template_areas": null,
            "grid_template_columns": null,
            "grid_template_rows": null,
            "height": null,
            "justify_content": null,
            "justify_items": null,
            "left": null,
            "margin": null,
            "max_height": null,
            "max_width": null,
            "min_height": null,
            "min_width": null,
            "object_fit": null,
            "object_position": null,
            "order": null,
            "overflow": null,
            "overflow_x": null,
            "overflow_y": null,
            "padding": null,
            "right": null,
            "top": null,
            "visibility": null,
            "width": null
          }
        },
        "5dc88e07ff4547ddbf96d88851bbfc85": {
          "model_module": "@jupyter-widgets/controls",
          "model_module_version": "1.5.0",
          "model_name": "HBoxModel",
          "state": {
            "_dom_classes": [],
            "_model_module": "@jupyter-widgets/controls",
            "_model_module_version": "1.5.0",
            "_model_name": "HBoxModel",
            "_view_count": null,
            "_view_module": "@jupyter-widgets/controls",
            "_view_module_version": "1.5.0",
            "_view_name": "HBoxView",
            "box_style": "",
            "children": [
              "IPY_MODEL_35687360905f44b1bad4a74ed245b650",
              "IPY_MODEL_e387675d3ff44bcd8677ee1308c35b1b",
              "IPY_MODEL_043544c7a8bc4359ad61c117c4023d91"
            ],
            "layout": "IPY_MODEL_a58a616ee132479d9faedec83aa6ecb9"
          }
        },
        "5e01b35fe6464971969abe6d428c57a3": {
          "model_module": "@jupyter-widgets/base",
          "model_module_version": "1.2.0",
          "model_name": "LayoutModel",
          "state": {
            "_model_module": "@jupyter-widgets/base",
            "_model_module_version": "1.2.0",
            "_model_name": "LayoutModel",
            "_view_count": null,
            "_view_module": "@jupyter-widgets/base",
            "_view_module_version": "1.2.0",
            "_view_name": "LayoutView",
            "align_content": null,
            "align_items": null,
            "align_self": null,
            "border": null,
            "bottom": null,
            "display": null,
            "flex": null,
            "flex_flow": null,
            "grid_area": null,
            "grid_auto_columns": null,
            "grid_auto_flow": null,
            "grid_auto_rows": null,
            "grid_column": null,
            "grid_gap": null,
            "grid_row": null,
            "grid_template_areas": null,
            "grid_template_columns": null,
            "grid_template_rows": null,
            "height": null,
            "justify_content": null,
            "justify_items": null,
            "left": null,
            "margin": null,
            "max_height": null,
            "max_width": null,
            "min_height": null,
            "min_width": null,
            "object_fit": null,
            "object_position": null,
            "order": null,
            "overflow": null,
            "overflow_x": null,
            "overflow_y": null,
            "padding": null,
            "right": null,
            "top": null,
            "visibility": null,
            "width": null
          }
        },
        "5f06529df403459eac31c28e38b914ab": {
          "model_module": "@jupyter-widgets/controls",
          "model_module_version": "1.5.0",
          "model_name": "DescriptionStyleModel",
          "state": {
            "_model_module": "@jupyter-widgets/controls",
            "_model_module_version": "1.5.0",
            "_model_name": "DescriptionStyleModel",
            "_view_count": null,
            "_view_module": "@jupyter-widgets/base",
            "_view_module_version": "1.2.0",
            "_view_name": "StyleView",
            "description_width": ""
          }
        },
        "5f7bccbd5c8a416b8b515b473d8c6391": {
          "model_module": "@jupyter-widgets/base",
          "model_module_version": "1.2.0",
          "model_name": "LayoutModel",
          "state": {
            "_model_module": "@jupyter-widgets/base",
            "_model_module_version": "1.2.0",
            "_model_name": "LayoutModel",
            "_view_count": null,
            "_view_module": "@jupyter-widgets/base",
            "_view_module_version": "1.2.0",
            "_view_name": "LayoutView",
            "align_content": null,
            "align_items": null,
            "align_self": null,
            "border": null,
            "bottom": null,
            "display": null,
            "flex": null,
            "flex_flow": null,
            "grid_area": null,
            "grid_auto_columns": null,
            "grid_auto_flow": null,
            "grid_auto_rows": null,
            "grid_column": null,
            "grid_gap": null,
            "grid_row": null,
            "grid_template_areas": null,
            "grid_template_columns": null,
            "grid_template_rows": null,
            "height": null,
            "justify_content": null,
            "justify_items": null,
            "left": null,
            "margin": null,
            "max_height": null,
            "max_width": null,
            "min_height": null,
            "min_width": null,
            "object_fit": null,
            "object_position": null,
            "order": null,
            "overflow": null,
            "overflow_x": null,
            "overflow_y": null,
            "padding": null,
            "right": null,
            "top": null,
            "visibility": null,
            "width": null
          }
        },
        "62a703c1c72d4acf974235d9479fd913": {
          "model_module": "@jupyter-widgets/controls",
          "model_module_version": "1.5.0",
          "model_name": "DescriptionStyleModel",
          "state": {
            "_model_module": "@jupyter-widgets/controls",
            "_model_module_version": "1.5.0",
            "_model_name": "DescriptionStyleModel",
            "_view_count": null,
            "_view_module": "@jupyter-widgets/base",
            "_view_module_version": "1.2.0",
            "_view_name": "StyleView",
            "description_width": ""
          }
        },
        "62f8c8bb54af4780b0fd152cd2f9f920": {
          "model_module": "@jupyter-widgets/controls",
          "model_module_version": "1.5.0",
          "model_name": "ProgressStyleModel",
          "state": {
            "_model_module": "@jupyter-widgets/controls",
            "_model_module_version": "1.5.0",
            "_model_name": "ProgressStyleModel",
            "_view_count": null,
            "_view_module": "@jupyter-widgets/base",
            "_view_module_version": "1.2.0",
            "_view_name": "StyleView",
            "bar_color": null,
            "description_width": ""
          }
        },
        "648022be2f214d5fb54db5589fd197dd": {
          "model_module": "@jupyter-widgets/controls",
          "model_module_version": "1.5.0",
          "model_name": "DescriptionStyleModel",
          "state": {
            "_model_module": "@jupyter-widgets/controls",
            "_model_module_version": "1.5.0",
            "_model_name": "DescriptionStyleModel",
            "_view_count": null,
            "_view_module": "@jupyter-widgets/base",
            "_view_module_version": "1.2.0",
            "_view_name": "StyleView",
            "description_width": ""
          }
        },
        "64dcde6c0b684819959ffc405372708e": {
          "model_module": "@jupyter-widgets/controls",
          "model_module_version": "1.5.0",
          "model_name": "DescriptionStyleModel",
          "state": {
            "_model_module": "@jupyter-widgets/controls",
            "_model_module_version": "1.5.0",
            "_model_name": "DescriptionStyleModel",
            "_view_count": null,
            "_view_module": "@jupyter-widgets/base",
            "_view_module_version": "1.2.0",
            "_view_name": "StyleView",
            "description_width": ""
          }
        },
        "64fb52caab9a4c3abc262cd5563ca2d7": {
          "model_module": "@jupyter-widgets/base",
          "model_module_version": "1.2.0",
          "model_name": "LayoutModel",
          "state": {
            "_model_module": "@jupyter-widgets/base",
            "_model_module_version": "1.2.0",
            "_model_name": "LayoutModel",
            "_view_count": null,
            "_view_module": "@jupyter-widgets/base",
            "_view_module_version": "1.2.0",
            "_view_name": "LayoutView",
            "align_content": null,
            "align_items": null,
            "align_self": null,
            "border": null,
            "bottom": null,
            "display": null,
            "flex": null,
            "flex_flow": null,
            "grid_area": null,
            "grid_auto_columns": null,
            "grid_auto_flow": null,
            "grid_auto_rows": null,
            "grid_column": null,
            "grid_gap": null,
            "grid_row": null,
            "grid_template_areas": null,
            "grid_template_columns": null,
            "grid_template_rows": null,
            "height": null,
            "justify_content": null,
            "justify_items": null,
            "left": null,
            "margin": null,
            "max_height": null,
            "max_width": null,
            "min_height": null,
            "min_width": null,
            "object_fit": null,
            "object_position": null,
            "order": null,
            "overflow": null,
            "overflow_x": null,
            "overflow_y": null,
            "padding": null,
            "right": null,
            "top": null,
            "visibility": null,
            "width": null
          }
        },
        "6c15a8a81ac74bbabd443f73851fad52": {
          "model_module": "@jupyter-widgets/controls",
          "model_module_version": "1.5.0",
          "model_name": "HTMLModel",
          "state": {
            "_dom_classes": [],
            "_model_module": "@jupyter-widgets/controls",
            "_model_module_version": "1.5.0",
            "_model_name": "HTMLModel",
            "_view_count": null,
            "_view_module": "@jupyter-widgets/controls",
            "_view_module_version": "1.5.0",
            "_view_name": "HTMLView",
            "description": "",
            "description_tooltip": null,
            "layout": "IPY_MODEL_c26ffd1fb3ff48bdbb9effcc68cf0d16",
            "placeholder": "​",
            "style": "IPY_MODEL_57411c8449524880b2c185a54a9f4829",
            "value": "config.json: 100%"
          }
        },
        "6fe8307f773c4e6c904bf3b7519a0720": {
          "model_module": "@jupyter-widgets/controls",
          "model_module_version": "1.5.0",
          "model_name": "FloatProgressModel",
          "state": {
            "_dom_classes": [],
            "_model_module": "@jupyter-widgets/controls",
            "_model_module_version": "1.5.0",
            "_model_name": "FloatProgressModel",
            "_view_count": null,
            "_view_module": "@jupyter-widgets/controls",
            "_view_module_version": "1.5.0",
            "_view_name": "ProgressView",
            "bar_style": "success",
            "description": "",
            "description_tooltip": null,
            "layout": "IPY_MODEL_cb70d42af19945468dc3f2de5cc68570",
            "max": 8146,
            "min": 0,
            "orientation": "horizontal",
            "style": "IPY_MODEL_4ec4fd31c89041ea8a7376187511fe17",
            "value": 8146
          }
        },
        "7186daca947c45ec84ba4669b7b31981": {
          "model_module": "@jupyter-widgets/base",
          "model_module_version": "1.2.0",
          "model_name": "LayoutModel",
          "state": {
            "_model_module": "@jupyter-widgets/base",
            "_model_module_version": "1.2.0",
            "_model_name": "LayoutModel",
            "_view_count": null,
            "_view_module": "@jupyter-widgets/base",
            "_view_module_version": "1.2.0",
            "_view_name": "LayoutView",
            "align_content": null,
            "align_items": null,
            "align_self": null,
            "border": null,
            "bottom": null,
            "display": null,
            "flex": null,
            "flex_flow": null,
            "grid_area": null,
            "grid_auto_columns": null,
            "grid_auto_flow": null,
            "grid_auto_rows": null,
            "grid_column": null,
            "grid_gap": null,
            "grid_row": null,
            "grid_template_areas": null,
            "grid_template_columns": null,
            "grid_template_rows": null,
            "height": null,
            "justify_content": null,
            "justify_items": null,
            "left": null,
            "margin": null,
            "max_height": null,
            "max_width": null,
            "min_height": null,
            "min_width": null,
            "object_fit": null,
            "object_position": null,
            "order": null,
            "overflow": null,
            "overflow_x": null,
            "overflow_y": null,
            "padding": null,
            "right": null,
            "top": null,
            "visibility": null,
            "width": null
          }
        },
        "72f2a856cf9b4adab755ba5cdecc1ae7": {
          "model_module": "@jupyter-widgets/base",
          "model_module_version": "1.2.0",
          "model_name": "LayoutModel",
          "state": {
            "_model_module": "@jupyter-widgets/base",
            "_model_module_version": "1.2.0",
            "_model_name": "LayoutModel",
            "_view_count": null,
            "_view_module": "@jupyter-widgets/base",
            "_view_module_version": "1.2.0",
            "_view_name": "LayoutView",
            "align_content": null,
            "align_items": null,
            "align_self": null,
            "border": null,
            "bottom": null,
            "display": null,
            "flex": null,
            "flex_flow": null,
            "grid_area": null,
            "grid_auto_columns": null,
            "grid_auto_flow": null,
            "grid_auto_rows": null,
            "grid_column": null,
            "grid_gap": null,
            "grid_row": null,
            "grid_template_areas": null,
            "grid_template_columns": null,
            "grid_template_rows": null,
            "height": null,
            "justify_content": null,
            "justify_items": null,
            "left": null,
            "margin": null,
            "max_height": null,
            "max_width": null,
            "min_height": null,
            "min_width": null,
            "object_fit": null,
            "object_position": null,
            "order": null,
            "overflow": null,
            "overflow_x": null,
            "overflow_y": null,
            "padding": null,
            "right": null,
            "top": null,
            "visibility": null,
            "width": null
          }
        },
        "741e4a180d7043ffbc04f8ce535a9639": {
          "model_module": "@jupyter-widgets/controls",
          "model_module_version": "1.5.0",
          "model_name": "ProgressStyleModel",
          "state": {
            "_model_module": "@jupyter-widgets/controls",
            "_model_module_version": "1.5.0",
            "_model_name": "ProgressStyleModel",
            "_view_count": null,
            "_view_module": "@jupyter-widgets/base",
            "_view_module_version": "1.2.0",
            "_view_name": "StyleView",
            "bar_color": null,
            "description_width": ""
          }
        },
        "749b9c3c7bb34d3b8a2e239594a1267b": {
          "model_module": "@jupyter-widgets/base",
          "model_module_version": "1.2.0",
          "model_name": "LayoutModel",
          "state": {
            "_model_module": "@jupyter-widgets/base",
            "_model_module_version": "1.2.0",
            "_model_name": "LayoutModel",
            "_view_count": null,
            "_view_module": "@jupyter-widgets/base",
            "_view_module_version": "1.2.0",
            "_view_name": "LayoutView",
            "align_content": null,
            "align_items": null,
            "align_self": null,
            "border": null,
            "bottom": null,
            "display": null,
            "flex": null,
            "flex_flow": null,
            "grid_area": null,
            "grid_auto_columns": null,
            "grid_auto_flow": null,
            "grid_auto_rows": null,
            "grid_column": null,
            "grid_gap": null,
            "grid_row": null,
            "grid_template_areas": null,
            "grid_template_columns": null,
            "grid_template_rows": null,
            "height": null,
            "justify_content": null,
            "justify_items": null,
            "left": null,
            "margin": null,
            "max_height": null,
            "max_width": null,
            "min_height": null,
            "min_width": null,
            "object_fit": null,
            "object_position": null,
            "order": null,
            "overflow": null,
            "overflow_x": null,
            "overflow_y": null,
            "padding": null,
            "right": null,
            "top": null,
            "visibility": null,
            "width": null
          }
        },
        "75fe4c9153cf42e4b2094a1e3210d997": {
          "model_module": "@jupyter-widgets/controls",
          "model_module_version": "1.5.0",
          "model_name": "DescriptionStyleModel",
          "state": {
            "_model_module": "@jupyter-widgets/controls",
            "_model_module_version": "1.5.0",
            "_model_name": "DescriptionStyleModel",
            "_view_count": null,
            "_view_module": "@jupyter-widgets/base",
            "_view_module_version": "1.2.0",
            "_view_name": "StyleView",
            "description_width": ""
          }
        },
        "78462038c43c40b28d6eac4dc9056a1f": {
          "model_module": "@jupyter-widgets/base",
          "model_module_version": "1.2.0",
          "model_name": "LayoutModel",
          "state": {
            "_model_module": "@jupyter-widgets/base",
            "_model_module_version": "1.2.0",
            "_model_name": "LayoutModel",
            "_view_count": null,
            "_view_module": "@jupyter-widgets/base",
            "_view_module_version": "1.2.0",
            "_view_name": "LayoutView",
            "align_content": null,
            "align_items": null,
            "align_self": null,
            "border": null,
            "bottom": null,
            "display": null,
            "flex": null,
            "flex_flow": null,
            "grid_area": null,
            "grid_auto_columns": null,
            "grid_auto_flow": null,
            "grid_auto_rows": null,
            "grid_column": null,
            "grid_gap": null,
            "grid_row": null,
            "grid_template_areas": null,
            "grid_template_columns": null,
            "grid_template_rows": null,
            "height": null,
            "justify_content": null,
            "justify_items": null,
            "left": null,
            "margin": null,
            "max_height": null,
            "max_width": null,
            "min_height": null,
            "min_width": null,
            "object_fit": null,
            "object_position": null,
            "order": null,
            "overflow": null,
            "overflow_x": null,
            "overflow_y": null,
            "padding": null,
            "right": null,
            "top": null,
            "visibility": null,
            "width": null
          }
        },
        "784715bedd504091a683f32a5bb59c60": {
          "model_module": "@jupyter-widgets/controls",
          "model_module_version": "1.5.0",
          "model_name": "HTMLModel",
          "state": {
            "_dom_classes": [],
            "_model_module": "@jupyter-widgets/controls",
            "_model_module_version": "1.5.0",
            "_model_name": "HTMLModel",
            "_view_count": null,
            "_view_module": "@jupyter-widgets/controls",
            "_view_module_version": "1.5.0",
            "_view_name": "HTMLView",
            "description": "",
            "description_tooltip": null,
            "layout": "IPY_MODEL_45db22b330e34ba1ad50f6e8297b2bbc",
            "placeholder": "​",
            "style": "IPY_MODEL_75fe4c9153cf42e4b2094a1e3210d997",
            "value": "generation_config.json: 100%"
          }
        },
        "78e4896f18974f41bff41143944ce4d8": {
          "model_module": "@jupyter-widgets/controls",
          "model_module_version": "1.5.0",
          "model_name": "HBoxModel",
          "state": {
            "_dom_classes": [],
            "_model_module": "@jupyter-widgets/controls",
            "_model_module_version": "1.5.0",
            "_model_name": "HBoxModel",
            "_view_count": null,
            "_view_module": "@jupyter-widgets/controls",
            "_view_module_version": "1.5.0",
            "_view_name": "HBoxView",
            "box_style": "",
            "children": [
              "IPY_MODEL_784715bedd504091a683f32a5bb59c60",
              "IPY_MODEL_2c123ed100a947eca137243bd2159c68",
              "IPY_MODEL_a345305428044caaa9f264580d674875"
            ],
            "layout": "IPY_MODEL_90062ac5df4a46078db9db751be34bfa"
          }
        },
        "7a456704092e4b0c877422329982cc05": {
          "model_module": "@jupyter-widgets/base",
          "model_module_version": "1.2.0",
          "model_name": "LayoutModel",
          "state": {
            "_model_module": "@jupyter-widgets/base",
            "_model_module_version": "1.2.0",
            "_model_name": "LayoutModel",
            "_view_count": null,
            "_view_module": "@jupyter-widgets/base",
            "_view_module_version": "1.2.0",
            "_view_name": "LayoutView",
            "align_content": null,
            "align_items": null,
            "align_self": null,
            "border": null,
            "bottom": null,
            "display": null,
            "flex": null,
            "flex_flow": null,
            "grid_area": null,
            "grid_auto_columns": null,
            "grid_auto_flow": null,
            "grid_auto_rows": null,
            "grid_column": null,
            "grid_gap": null,
            "grid_row": null,
            "grid_template_areas": null,
            "grid_template_columns": null,
            "grid_template_rows": null,
            "height": null,
            "justify_content": null,
            "justify_items": null,
            "left": null,
            "margin": null,
            "max_height": null,
            "max_width": null,
            "min_height": null,
            "min_width": null,
            "object_fit": null,
            "object_position": null,
            "order": null,
            "overflow": null,
            "overflow_x": null,
            "overflow_y": null,
            "padding": null,
            "right": null,
            "top": null,
            "visibility": null,
            "width": null
          }
        },
        "7c03238e95f8418ba793b77bca25460d": {
          "model_module": "@jupyter-widgets/controls",
          "model_module_version": "1.5.0",
          "model_name": "HTMLModel",
          "state": {
            "_dom_classes": [],
            "_model_module": "@jupyter-widgets/controls",
            "_model_module_version": "1.5.0",
            "_model_name": "HTMLModel",
            "_view_count": null,
            "_view_module": "@jupyter-widgets/controls",
            "_view_module_version": "1.5.0",
            "_view_name": "HTMLView",
            "description": "",
            "description_tooltip": null,
            "layout": "IPY_MODEL_5737cc8fcd3546269235e2a039b3d1a2",
            "placeholder": "​",
            "style": "IPY_MODEL_a4d753b2741f40c79f6a0324180bbf1d",
            "value": " 325/325 [00:00&lt;00:00, 18.9kB/s]"
          }
        },
        "7ef90725fd46483a9735add63323cf36": {
          "model_module": "@jupyter-widgets/controls",
          "model_module_version": "1.5.0",
          "model_name": "HTMLModel",
          "state": {
            "_dom_classes": [],
            "_model_module": "@jupyter-widgets/controls",
            "_model_module_version": "1.5.0",
            "_model_name": "HTMLModel",
            "_view_count": null,
            "_view_module": "@jupyter-widgets/controls",
            "_view_module_version": "1.5.0",
            "_view_name": "HTMLView",
            "description": "",
            "description_tooltip": null,
            "layout": "IPY_MODEL_48a3b2f74a134f21973cf88011296fe3",
            "placeholder": "​",
            "style": "IPY_MODEL_120bb09635b541e6a459faf3d8c5fd27",
            "value": "training_args.bin: 100%"
          }
        },
        "81c92ffc7763470bba59809fcd5519b4": {
          "model_module": "@jupyter-widgets/controls",
          "model_module_version": "1.5.0",
          "model_name": "HTMLModel",
          "state": {
            "_dom_classes": [],
            "_model_module": "@jupyter-widgets/controls",
            "_model_module_version": "1.5.0",
            "_model_name": "HTMLModel",
            "_view_count": null,
            "_view_module": "@jupyter-widgets/controls",
            "_view_module_version": "1.5.0",
            "_view_name": "HTMLView",
            "description": "",
            "description_tooltip": null,
            "layout": "IPY_MODEL_2d4d75ac515f46a8867b3d9ad046c414",
            "placeholder": "​",
            "style": "IPY_MODEL_64dcde6c0b684819959ffc405372708e",
            "value": "Downloading builder script: 100%"
          }
        },
        "8485cbf9adff4081a25778a07c806475": {
          "model_module": "@jupyter-widgets/controls",
          "model_module_version": "1.5.0",
          "model_name": "ProgressStyleModel",
          "state": {
            "_model_module": "@jupyter-widgets/controls",
            "_model_module_version": "1.5.0",
            "_model_name": "ProgressStyleModel",
            "_view_count": null,
            "_view_module": "@jupyter-widgets/base",
            "_view_module_version": "1.2.0",
            "_view_name": "StyleView",
            "bar_color": null,
            "description_width": ""
          }
        },
        "88e52707a3aa4740a311280bf593bbdc": {
          "model_module": "@jupyter-widgets/controls",
          "model_module_version": "1.5.0",
          "model_name": "FloatProgressModel",
          "state": {
            "_dom_classes": [],
            "_model_module": "@jupyter-widgets/controls",
            "_model_module_version": "1.5.0",
            "_model_name": "FloatProgressModel",
            "_view_count": null,
            "_view_module": "@jupyter-widgets/controls",
            "_view_module_version": "1.5.0",
            "_view_name": "ProgressView",
            "bar_style": "success",
            "description": "",
            "description_tooltip": null,
            "layout": "IPY_MODEL_2dfd5a82506542ccb0ca3a316de39042",
            "max": 17209920,
            "min": 0,
            "orientation": "horizontal",
            "style": "IPY_MODEL_e24cbb6745914e6580887e2b904ff7dd",
            "value": 17209920
          }
        },
        "891839598054467ca6d3f56ecce4d976": {
          "model_module": "@jupyter-widgets/base",
          "model_module_version": "1.2.0",
          "model_name": "LayoutModel",
          "state": {
            "_model_module": "@jupyter-widgets/base",
            "_model_module_version": "1.2.0",
            "_model_name": "LayoutModel",
            "_view_count": null,
            "_view_module": "@jupyter-widgets/base",
            "_view_module_version": "1.2.0",
            "_view_name": "LayoutView",
            "align_content": null,
            "align_items": null,
            "align_self": null,
            "border": null,
            "bottom": null,
            "display": null,
            "flex": null,
            "flex_flow": null,
            "grid_area": null,
            "grid_auto_columns": null,
            "grid_auto_flow": null,
            "grid_auto_rows": null,
            "grid_column": null,
            "grid_gap": null,
            "grid_row": null,
            "grid_template_areas": null,
            "grid_template_columns": null,
            "grid_template_rows": null,
            "height": null,
            "justify_content": null,
            "justify_items": null,
            "left": null,
            "margin": null,
            "max_height": null,
            "max_width": null,
            "min_height": null,
            "min_width": null,
            "object_fit": null,
            "object_position": null,
            "order": null,
            "overflow": null,
            "overflow_x": null,
            "overflow_y": null,
            "padding": null,
            "right": null,
            "top": null,
            "visibility": null,
            "width": null
          }
        },
        "8d217e92297c4c95857b9fa8f9cd682f": {
          "model_module": "@jupyter-widgets/base",
          "model_module_version": "1.2.0",
          "model_name": "LayoutModel",
          "state": {
            "_model_module": "@jupyter-widgets/base",
            "_model_module_version": "1.2.0",
            "_model_name": "LayoutModel",
            "_view_count": null,
            "_view_module": "@jupyter-widgets/base",
            "_view_module_version": "1.2.0",
            "_view_name": "LayoutView",
            "align_content": null,
            "align_items": null,
            "align_self": null,
            "border": null,
            "bottom": null,
            "display": null,
            "flex": null,
            "flex_flow": null,
            "grid_area": null,
            "grid_auto_columns": null,
            "grid_auto_flow": null,
            "grid_auto_rows": null,
            "grid_column": null,
            "grid_gap": null,
            "grid_row": null,
            "grid_template_areas": null,
            "grid_template_columns": null,
            "grid_template_rows": null,
            "height": null,
            "justify_content": null,
            "justify_items": null,
            "left": null,
            "margin": null,
            "max_height": null,
            "max_width": null,
            "min_height": null,
            "min_width": null,
            "object_fit": null,
            "object_position": null,
            "order": null,
            "overflow": null,
            "overflow_x": null,
            "overflow_y": null,
            "padding": null,
            "right": null,
            "top": null,
            "visibility": null,
            "width": "20px"
          }
        },
        "8d6da28bb8174c25846fb984c2693838": {
          "model_module": "@jupyter-widgets/base",
          "model_module_version": "1.2.0",
          "model_name": "LayoutModel",
          "state": {
            "_model_module": "@jupyter-widgets/base",
            "_model_module_version": "1.2.0",
            "_model_name": "LayoutModel",
            "_view_count": null,
            "_view_module": "@jupyter-widgets/base",
            "_view_module_version": "1.2.0",
            "_view_name": "LayoutView",
            "align_content": null,
            "align_items": null,
            "align_self": null,
            "border": null,
            "bottom": null,
            "display": null,
            "flex": null,
            "flex_flow": null,
            "grid_area": null,
            "grid_auto_columns": null,
            "grid_auto_flow": null,
            "grid_auto_rows": null,
            "grid_column": null,
            "grid_gap": null,
            "grid_row": null,
            "grid_template_areas": null,
            "grid_template_columns": null,
            "grid_template_rows": null,
            "height": null,
            "justify_content": null,
            "justify_items": null,
            "left": null,
            "margin": null,
            "max_height": null,
            "max_width": null,
            "min_height": null,
            "min_width": null,
            "object_fit": null,
            "object_position": null,
            "order": null,
            "overflow": null,
            "overflow_x": null,
            "overflow_y": null,
            "padding": null,
            "right": null,
            "top": null,
            "visibility": null,
            "width": null
          }
        },
        "8df0e0b444bb4552b9a36e8b96c87f58": {
          "model_module": "@jupyter-widgets/base",
          "model_module_version": "1.2.0",
          "model_name": "LayoutModel",
          "state": {
            "_model_module": "@jupyter-widgets/base",
            "_model_module_version": "1.2.0",
            "_model_name": "LayoutModel",
            "_view_count": null,
            "_view_module": "@jupyter-widgets/base",
            "_view_module_version": "1.2.0",
            "_view_name": "LayoutView",
            "align_content": null,
            "align_items": null,
            "align_self": null,
            "border": null,
            "bottom": null,
            "display": null,
            "flex": null,
            "flex_flow": null,
            "grid_area": null,
            "grid_auto_columns": null,
            "grid_auto_flow": null,
            "grid_auto_rows": null,
            "grid_column": null,
            "grid_gap": null,
            "grid_row": null,
            "grid_template_areas": null,
            "grid_template_columns": null,
            "grid_template_rows": null,
            "height": null,
            "justify_content": null,
            "justify_items": null,
            "left": null,
            "margin": null,
            "max_height": null,
            "max_width": null,
            "min_height": null,
            "min_width": null,
            "object_fit": null,
            "object_position": null,
            "order": null,
            "overflow": null,
            "overflow_x": null,
            "overflow_y": null,
            "padding": null,
            "right": null,
            "top": null,
            "visibility": null,
            "width": null
          }
        },
        "8ef45f2a6bb14e67b68faf37843c61de": {
          "model_module": "@jupyter-widgets/controls",
          "model_module_version": "1.5.0",
          "model_name": "DescriptionStyleModel",
          "state": {
            "_model_module": "@jupyter-widgets/controls",
            "_model_module_version": "1.5.0",
            "_model_name": "DescriptionStyleModel",
            "_view_count": null,
            "_view_module": "@jupyter-widgets/base",
            "_view_module_version": "1.2.0",
            "_view_name": "StyleView",
            "description_width": ""
          }
        },
        "8f16266ad8cf448e91a84284fb299146": {
          "model_module": "@jupyter-widgets/base",
          "model_module_version": "1.2.0",
          "model_name": "LayoutModel",
          "state": {
            "_model_module": "@jupyter-widgets/base",
            "_model_module_version": "1.2.0",
            "_model_name": "LayoutModel",
            "_view_count": null,
            "_view_module": "@jupyter-widgets/base",
            "_view_module_version": "1.2.0",
            "_view_name": "LayoutView",
            "align_content": null,
            "align_items": null,
            "align_self": null,
            "border": null,
            "bottom": null,
            "display": null,
            "flex": null,
            "flex_flow": null,
            "grid_area": null,
            "grid_auto_columns": null,
            "grid_auto_flow": null,
            "grid_auto_rows": null,
            "grid_column": null,
            "grid_gap": null,
            "grid_row": null,
            "grid_template_areas": null,
            "grid_template_columns": null,
            "grid_template_rows": null,
            "height": null,
            "justify_content": null,
            "justify_items": null,
            "left": null,
            "margin": null,
            "max_height": null,
            "max_width": null,
            "min_height": null,
            "min_width": null,
            "object_fit": null,
            "object_position": null,
            "order": null,
            "overflow": null,
            "overflow_x": null,
            "overflow_y": null,
            "padding": null,
            "right": null,
            "top": null,
            "visibility": null,
            "width": null
          }
        },
        "90062ac5df4a46078db9db751be34bfa": {
          "model_module": "@jupyter-widgets/base",
          "model_module_version": "1.2.0",
          "model_name": "LayoutModel",
          "state": {
            "_model_module": "@jupyter-widgets/base",
            "_model_module_version": "1.2.0",
            "_model_name": "LayoutModel",
            "_view_count": null,
            "_view_module": "@jupyter-widgets/base",
            "_view_module_version": "1.2.0",
            "_view_name": "LayoutView",
            "align_content": null,
            "align_items": null,
            "align_self": null,
            "border": null,
            "bottom": null,
            "display": null,
            "flex": null,
            "flex_flow": null,
            "grid_area": null,
            "grid_auto_columns": null,
            "grid_auto_flow": null,
            "grid_auto_rows": null,
            "grid_column": null,
            "grid_gap": null,
            "grid_row": null,
            "grid_template_areas": null,
            "grid_template_columns": null,
            "grid_template_rows": null,
            "height": null,
            "justify_content": null,
            "justify_items": null,
            "left": null,
            "margin": null,
            "max_height": null,
            "max_width": null,
            "min_height": null,
            "min_width": null,
            "object_fit": null,
            "object_position": null,
            "order": null,
            "overflow": null,
            "overflow_x": null,
            "overflow_y": null,
            "padding": null,
            "right": null,
            "top": null,
            "visibility": null,
            "width": null
          }
        },
        "90b3fb81a92549ff99c30f662aa82d77": {
          "model_module": "@jupyter-widgets/base",
          "model_module_version": "1.2.0",
          "model_name": "LayoutModel",
          "state": {
            "_model_module": "@jupyter-widgets/base",
            "_model_module_version": "1.2.0",
            "_model_name": "LayoutModel",
            "_view_count": null,
            "_view_module": "@jupyter-widgets/base",
            "_view_module_version": "1.2.0",
            "_view_name": "LayoutView",
            "align_content": null,
            "align_items": null,
            "align_self": null,
            "border": null,
            "bottom": null,
            "display": null,
            "flex": null,
            "flex_flow": null,
            "grid_area": null,
            "grid_auto_columns": null,
            "grid_auto_flow": null,
            "grid_auto_rows": null,
            "grid_column": null,
            "grid_gap": null,
            "grid_row": null,
            "grid_template_areas": null,
            "grid_template_columns": null,
            "grid_template_rows": null,
            "height": null,
            "justify_content": null,
            "justify_items": null,
            "left": null,
            "margin": null,
            "max_height": null,
            "max_width": null,
            "min_height": null,
            "min_width": null,
            "object_fit": null,
            "object_position": null,
            "order": null,
            "overflow": null,
            "overflow_x": null,
            "overflow_y": null,
            "padding": null,
            "right": null,
            "top": null,
            "visibility": null,
            "width": null
          }
        },
        "91bb582cbd0049d589aa4530418678ca": {
          "model_module": "@jupyter-widgets/controls",
          "model_module_version": "1.5.0",
          "model_name": "FloatProgressModel",
          "state": {
            "_dom_classes": [],
            "_model_module": "@jupyter-widgets/controls",
            "_model_module_version": "1.5.0",
            "_model_name": "FloatProgressModel",
            "_view_count": null,
            "_view_module": "@jupyter-widgets/controls",
            "_view_module_version": "1.5.0",
            "_view_name": "ProgressView",
            "bar_style": "success",
            "description": "",
            "description_tooltip": null,
            "layout": "IPY_MODEL_cbde15630b9a4bd690e9f48a54da780a",
            "max": 17209920,
            "min": 0,
            "orientation": "horizontal",
            "style": "IPY_MODEL_23fda1f56d4a456da09d3db23fa289db",
            "value": 17209920
          }
        },
        "9b490c87acab4e979b2a1f58cfb36887": {
          "model_module": "@jupyter-widgets/controls",
          "model_module_version": "1.5.0",
          "model_name": "HTMLModel",
          "state": {
            "_dom_classes": [],
            "_model_module": "@jupyter-widgets/controls",
            "_model_module_version": "1.5.0",
            "_model_name": "HTMLModel",
            "_view_count": null,
            "_view_module": "@jupyter-widgets/controls",
            "_view_module_version": "1.5.0",
            "_view_name": "HTMLView",
            "description": "",
            "description_tooltip": null,
            "layout": "IPY_MODEL_8f16266ad8cf448e91a84284fb299146",
            "placeholder": "​",
            "style": "IPY_MODEL_648022be2f214d5fb54db5589fd197dd",
            "value": "adapter_model.safetensors: 100%"
          }
        },
        "9d9591513c99422dbdf705cfc6ee9d65": {
          "model_module": "@jupyter-widgets/controls",
          "model_module_version": "1.5.0",
          "model_name": "DescriptionStyleModel",
          "state": {
            "_model_module": "@jupyter-widgets/controls",
            "_model_module_version": "1.5.0",
            "_model_name": "DescriptionStyleModel",
            "_view_count": null,
            "_view_module": "@jupyter-widgets/base",
            "_view_module_version": "1.2.0",
            "_view_name": "StyleView",
            "description_width": ""
          }
        },
        "9df058bafb1d42bc9d0731be171999b4": {
          "model_module": "@jupyter-widgets/base",
          "model_module_version": "1.2.0",
          "model_name": "LayoutModel",
          "state": {
            "_model_module": "@jupyter-widgets/base",
            "_model_module_version": "1.2.0",
            "_model_name": "LayoutModel",
            "_view_count": null,
            "_view_module": "@jupyter-widgets/base",
            "_view_module_version": "1.2.0",
            "_view_name": "LayoutView",
            "align_content": null,
            "align_items": null,
            "align_self": null,
            "border": null,
            "bottom": null,
            "display": null,
            "flex": null,
            "flex_flow": null,
            "grid_area": null,
            "grid_auto_columns": null,
            "grid_auto_flow": null,
            "grid_auto_rows": null,
            "grid_column": null,
            "grid_gap": null,
            "grid_row": null,
            "grid_template_areas": null,
            "grid_template_columns": null,
            "grid_template_rows": null,
            "height": null,
            "justify_content": null,
            "justify_items": null,
            "left": null,
            "margin": null,
            "max_height": null,
            "max_width": null,
            "min_height": null,
            "min_width": null,
            "object_fit": null,
            "object_position": null,
            "order": null,
            "overflow": null,
            "overflow_x": null,
            "overflow_y": null,
            "padding": null,
            "right": null,
            "top": null,
            "visibility": null,
            "width": null
          }
        },
        "a16de46bfb9c4445a1e5809ef1c93335": {
          "model_module": "@jupyter-widgets/controls",
          "model_module_version": "1.5.0",
          "model_name": "DescriptionStyleModel",
          "state": {
            "_model_module": "@jupyter-widgets/controls",
            "_model_module_version": "1.5.0",
            "_model_name": "DescriptionStyleModel",
            "_view_count": null,
            "_view_module": "@jupyter-widgets/base",
            "_view_module_version": "1.2.0",
            "_view_name": "StyleView",
            "description_width": ""
          }
        },
        "a1b76f79eac1463e9cab7beedeed7fe2": {
          "model_module": "@jupyter-widgets/base",
          "model_module_version": "1.2.0",
          "model_name": "LayoutModel",
          "state": {
            "_model_module": "@jupyter-widgets/base",
            "_model_module_version": "1.2.0",
            "_model_name": "LayoutModel",
            "_view_count": null,
            "_view_module": "@jupyter-widgets/base",
            "_view_module_version": "1.2.0",
            "_view_name": "LayoutView",
            "align_content": null,
            "align_items": null,
            "align_self": null,
            "border": null,
            "bottom": null,
            "display": null,
            "flex": null,
            "flex_flow": null,
            "grid_area": null,
            "grid_auto_columns": null,
            "grid_auto_flow": null,
            "grid_auto_rows": null,
            "grid_column": null,
            "grid_gap": null,
            "grid_row": null,
            "grid_template_areas": null,
            "grid_template_columns": null,
            "grid_template_rows": null,
            "height": null,
            "justify_content": null,
            "justify_items": null,
            "left": null,
            "margin": null,
            "max_height": null,
            "max_width": null,
            "min_height": null,
            "min_width": null,
            "object_fit": null,
            "object_position": null,
            "order": null,
            "overflow": null,
            "overflow_x": null,
            "overflow_y": null,
            "padding": null,
            "right": null,
            "top": null,
            "visibility": null,
            "width": null
          }
        },
        "a345305428044caaa9f264580d674875": {
          "model_module": "@jupyter-widgets/controls",
          "model_module_version": "1.5.0",
          "model_name": "HTMLModel",
          "state": {
            "_dom_classes": [],
            "_model_module": "@jupyter-widgets/controls",
            "_model_module_version": "1.5.0",
            "_model_name": "HTMLModel",
            "_view_count": null,
            "_view_module": "@jupyter-widgets/controls",
            "_view_module_version": "1.5.0",
            "_view_name": "HTMLView",
            "description": "",
            "description_tooltip": null,
            "layout": "IPY_MODEL_2817da44edd148889b8733d1b2a39d4b",
            "placeholder": "​",
            "style": "IPY_MODEL_b81e35afe2704d81aa0464eb83224dce",
            "value": " 189/189 [00:00&lt;00:00, 11.4kB/s]"
          }
        },
        "a363e235f3964823a65822718f5b3cb8": {
          "model_module": "@jupyter-widgets/base",
          "model_module_version": "1.2.0",
          "model_name": "LayoutModel",
          "state": {
            "_model_module": "@jupyter-widgets/base",
            "_model_module_version": "1.2.0",
            "_model_name": "LayoutModel",
            "_view_count": null,
            "_view_module": "@jupyter-widgets/base",
            "_view_module_version": "1.2.0",
            "_view_name": "LayoutView",
            "align_content": null,
            "align_items": null,
            "align_self": null,
            "border": null,
            "bottom": null,
            "display": null,
            "flex": null,
            "flex_flow": null,
            "grid_area": null,
            "grid_auto_columns": null,
            "grid_auto_flow": null,
            "grid_auto_rows": null,
            "grid_column": null,
            "grid_gap": null,
            "grid_row": null,
            "grid_template_areas": null,
            "grid_template_columns": null,
            "grid_template_rows": null,
            "height": null,
            "justify_content": null,
            "justify_items": null,
            "left": null,
            "margin": null,
            "max_height": null,
            "max_width": null,
            "min_height": null,
            "min_width": null,
            "object_fit": null,
            "object_position": null,
            "order": null,
            "overflow": null,
            "overflow_x": null,
            "overflow_y": null,
            "padding": null,
            "right": null,
            "top": null,
            "visibility": null,
            "width": null
          }
        },
        "a4d753b2741f40c79f6a0324180bbf1d": {
          "model_module": "@jupyter-widgets/controls",
          "model_module_version": "1.5.0",
          "model_name": "DescriptionStyleModel",
          "state": {
            "_model_module": "@jupyter-widgets/controls",
            "_model_module_version": "1.5.0",
            "_model_name": "DescriptionStyleModel",
            "_view_count": null,
            "_view_module": "@jupyter-widgets/base",
            "_view_module_version": "1.2.0",
            "_view_name": "StyleView",
            "description_width": ""
          }
        },
        "a58a616ee132479d9faedec83aa6ecb9": {
          "model_module": "@jupyter-widgets/base",
          "model_module_version": "1.2.0",
          "model_name": "LayoutModel",
          "state": {
            "_model_module": "@jupyter-widgets/base",
            "_model_module_version": "1.2.0",
            "_model_name": "LayoutModel",
            "_view_count": null,
            "_view_module": "@jupyter-widgets/base",
            "_view_module_version": "1.2.0",
            "_view_name": "LayoutView",
            "align_content": null,
            "align_items": null,
            "align_self": null,
            "border": null,
            "bottom": null,
            "display": null,
            "flex": null,
            "flex_flow": null,
            "grid_area": null,
            "grid_auto_columns": null,
            "grid_auto_flow": null,
            "grid_auto_rows": null,
            "grid_column": null,
            "grid_gap": null,
            "grid_row": null,
            "grid_template_areas": null,
            "grid_template_columns": null,
            "grid_template_rows": null,
            "height": null,
            "justify_content": null,
            "justify_items": null,
            "left": null,
            "margin": null,
            "max_height": null,
            "max_width": null,
            "min_height": null,
            "min_width": null,
            "object_fit": null,
            "object_position": null,
            "order": null,
            "overflow": null,
            "overflow_x": null,
            "overflow_y": null,
            "padding": null,
            "right": null,
            "top": null,
            "visibility": null,
            "width": null
          }
        },
        "a6206491c1914eca8f50652f2802b871": {
          "model_module": "@jupyter-widgets/controls",
          "model_module_version": "1.5.0",
          "model_name": "HBoxModel",
          "state": {
            "_dom_classes": [],
            "_model_module": "@jupyter-widgets/controls",
            "_model_module_version": "1.5.0",
            "_model_name": "HBoxModel",
            "_view_count": null,
            "_view_module": "@jupyter-widgets/controls",
            "_view_module_version": "1.5.0",
            "_view_name": "HBoxView",
            "box_style": "",
            "children": [
              "IPY_MODEL_e92698e4f29349a7a986c4b09b720597",
              "IPY_MODEL_88e52707a3aa4740a311280bf593bbdc",
              "IPY_MODEL_c65c16802f27402382d1f96d5d30ab70"
            ],
            "layout": "IPY_MODEL_2b226c87418c4fb7952186b16101bfa4"
          }
        },
        "a8fc0291476446a8bb7364ac61d0327b": {
          "model_module": "@jupyter-widgets/base",
          "model_module_version": "1.2.0",
          "model_name": "LayoutModel",
          "state": {
            "_model_module": "@jupyter-widgets/base",
            "_model_module_version": "1.2.0",
            "_model_name": "LayoutModel",
            "_view_count": null,
            "_view_module": "@jupyter-widgets/base",
            "_view_module_version": "1.2.0",
            "_view_name": "LayoutView",
            "align_content": null,
            "align_items": null,
            "align_self": null,
            "border": null,
            "bottom": null,
            "display": null,
            "flex": null,
            "flex_flow": null,
            "grid_area": null,
            "grid_auto_columns": null,
            "grid_auto_flow": null,
            "grid_auto_rows": null,
            "grid_column": null,
            "grid_gap": null,
            "grid_row": null,
            "grid_template_areas": null,
            "grid_template_columns": null,
            "grid_template_rows": null,
            "height": null,
            "justify_content": null,
            "justify_items": null,
            "left": null,
            "margin": null,
            "max_height": null,
            "max_width": null,
            "min_height": null,
            "min_width": null,
            "object_fit": null,
            "object_position": null,
            "order": null,
            "overflow": null,
            "overflow_x": null,
            "overflow_y": null,
            "padding": null,
            "right": null,
            "top": null,
            "visibility": null,
            "width": null
          }
        },
        "aa68d6aca7c241a3ab13d3e92333ec6c": {
          "model_module": "@jupyter-widgets/controls",
          "model_module_version": "1.5.0",
          "model_name": "HTMLModel",
          "state": {
            "_dom_classes": [],
            "_model_module": "@jupyter-widgets/controls",
            "_model_module_version": "1.5.0",
            "_model_name": "HTMLModel",
            "_view_count": null,
            "_view_module": "@jupyter-widgets/controls",
            "_view_module_version": "1.5.0",
            "_view_name": "HTMLView",
            "description": "",
            "description_tooltip": null,
            "layout": "IPY_MODEL_9df058bafb1d42bc9d0731be171999b4",
            "placeholder": "​",
            "style": "IPY_MODEL_8ef45f2a6bb14e67b68faf37843c61de",
            "value": " 54.6k/54.6k [00:00&lt;00:00, 2.51MB/s]"
          }
        },
        "ab6c986922774b739678d2f15806baa7": {
          "model_module": "@jupyter-widgets/controls",
          "model_module_version": "1.5.0",
          "model_name": "HBoxModel",
          "state": {
            "_dom_classes": [],
            "_model_module": "@jupyter-widgets/controls",
            "_model_module_version": "1.5.0",
            "_model_name": "HBoxModel",
            "_view_count": null,
            "_view_module": "@jupyter-widgets/controls",
            "_view_module_version": "1.5.0",
            "_view_name": "HBoxView",
            "box_style": "",
            "children": [
              "IPY_MODEL_190ae00812244db988b3e3778fa943a6",
              "IPY_MODEL_dd23367d5d0a48c2a6c94147c313c961",
              "IPY_MODEL_7c03238e95f8418ba793b77bca25460d"
            ],
            "layout": "IPY_MODEL_8df0e0b444bb4552b9a36e8b96c87f58"
          }
        },
        "ac812acb6747449ebc9d049e3ae4ff53": {
          "model_module": "@jupyter-widgets/base",
          "model_module_version": "1.2.0",
          "model_name": "LayoutModel",
          "state": {
            "_model_module": "@jupyter-widgets/base",
            "_model_module_version": "1.2.0",
            "_model_name": "LayoutModel",
            "_view_count": null,
            "_view_module": "@jupyter-widgets/base",
            "_view_module_version": "1.2.0",
            "_view_name": "LayoutView",
            "align_content": null,
            "align_items": null,
            "align_self": null,
            "border": null,
            "bottom": null,
            "display": null,
            "flex": null,
            "flex_flow": null,
            "grid_area": null,
            "grid_auto_columns": null,
            "grid_auto_flow": null,
            "grid_auto_rows": null,
            "grid_column": null,
            "grid_gap": null,
            "grid_row": null,
            "grid_template_areas": null,
            "grid_template_columns": null,
            "grid_template_rows": null,
            "height": null,
            "justify_content": null,
            "justify_items": null,
            "left": null,
            "margin": null,
            "max_height": null,
            "max_width": null,
            "min_height": null,
            "min_width": null,
            "object_fit": null,
            "object_position": null,
            "order": null,
            "overflow": null,
            "overflow_x": null,
            "overflow_y": null,
            "padding": null,
            "right": null,
            "top": null,
            "visibility": null,
            "width": null
          }
        },
        "ad971c30091b4df88bb0da9181d5650a": {
          "model_module": "@jupyter-widgets/controls",
          "model_module_version": "1.5.0",
          "model_name": "HBoxModel",
          "state": {
            "_dom_classes": [],
            "_model_module": "@jupyter-widgets/controls",
            "_model_module_version": "1.5.0",
            "_model_name": "HBoxModel",
            "_view_count": null,
            "_view_module": "@jupyter-widgets/controls",
            "_view_module_version": "1.5.0",
            "_view_name": "HBoxView",
            "box_style": "",
            "children": [
              "IPY_MODEL_81c92ffc7763470bba59809fcd5519b4",
              "IPY_MODEL_6fe8307f773c4e6c904bf3b7519a0720",
              "IPY_MODEL_f726d2c73d584180ad6744fe251e47e5"
            ],
            "layout": "IPY_MODEL_bcf0c005efee4fcaa47b9615d6b196e1"
          }
        },
        "aff0ea85c44741608ebc55ec2f126aea": {
          "model_module": "@jupyter-widgets/controls",
          "model_module_version": "1.5.0",
          "model_name": "HTMLModel",
          "state": {
            "_dom_classes": [],
            "_model_module": "@jupyter-widgets/controls",
            "_model_module_version": "1.5.0",
            "_model_name": "HTMLModel",
            "_view_count": null,
            "_view_module": "@jupyter-widgets/controls",
            "_view_module_version": "1.5.0",
            "_view_name": "HTMLView",
            "description": "",
            "description_tooltip": null,
            "layout": "IPY_MODEL_a1b76f79eac1463e9cab7beedeed7fe2",
            "placeholder": "​",
            "style": "IPY_MODEL_22a2bd3b72e94cdd88632198a2c8da75",
            "value": "tokenizer_config.json: 100%"
          }
        },
        "b23f39c2071c436480c686a8f6df67e9": {
          "model_module": "@jupyter-widgets/controls",
          "model_module_version": "1.5.0",
          "model_name": "ProgressStyleModel",
          "state": {
            "_model_module": "@jupyter-widgets/controls",
            "_model_module_version": "1.5.0",
            "_model_name": "ProgressStyleModel",
            "_view_count": null,
            "_view_module": "@jupyter-widgets/base",
            "_view_module_version": "1.2.0",
            "_view_name": "StyleView",
            "bar_color": null,
            "description_width": ""
          }
        },
        "b2f99a5effe54686bb594a589a615b4d": {
          "model_module": "@jupyter-widgets/base",
          "model_module_version": "1.2.0",
          "model_name": "LayoutModel",
          "state": {
            "_model_module": "@jupyter-widgets/base",
            "_model_module_version": "1.2.0",
            "_model_name": "LayoutModel",
            "_view_count": null,
            "_view_module": "@jupyter-widgets/base",
            "_view_module_version": "1.2.0",
            "_view_name": "LayoutView",
            "align_content": null,
            "align_items": null,
            "align_self": null,
            "border": null,
            "bottom": null,
            "display": null,
            "flex": null,
            "flex_flow": null,
            "grid_area": null,
            "grid_auto_columns": null,
            "grid_auto_flow": null,
            "grid_auto_rows": null,
            "grid_column": null,
            "grid_gap": null,
            "grid_row": null,
            "grid_template_areas": null,
            "grid_template_columns": null,
            "grid_template_rows": null,
            "height": null,
            "justify_content": null,
            "justify_items": null,
            "left": null,
            "margin": null,
            "max_height": null,
            "max_width": null,
            "min_height": null,
            "min_width": null,
            "object_fit": null,
            "object_position": null,
            "order": null,
            "overflow": null,
            "overflow_x": null,
            "overflow_y": null,
            "padding": null,
            "right": null,
            "top": null,
            "visibility": null,
            "width": null
          }
        },
        "b3f885429769449687ea6c466bc7404d": {
          "model_module": "@jupyter-widgets/base",
          "model_module_version": "1.2.0",
          "model_name": "LayoutModel",
          "state": {
            "_model_module": "@jupyter-widgets/base",
            "_model_module_version": "1.2.0",
            "_model_name": "LayoutModel",
            "_view_count": null,
            "_view_module": "@jupyter-widgets/base",
            "_view_module_version": "1.2.0",
            "_view_name": "LayoutView",
            "align_content": null,
            "align_items": null,
            "align_self": null,
            "border": null,
            "bottom": null,
            "display": null,
            "flex": null,
            "flex_flow": null,
            "grid_area": null,
            "grid_auto_columns": null,
            "grid_auto_flow": null,
            "grid_auto_rows": null,
            "grid_column": null,
            "grid_gap": null,
            "grid_row": null,
            "grid_template_areas": null,
            "grid_template_columns": null,
            "grid_template_rows": null,
            "height": null,
            "justify_content": null,
            "justify_items": null,
            "left": null,
            "margin": null,
            "max_height": null,
            "max_width": null,
            "min_height": null,
            "min_width": null,
            "object_fit": null,
            "object_position": null,
            "order": null,
            "overflow": null,
            "overflow_x": null,
            "overflow_y": null,
            "padding": null,
            "right": null,
            "top": null,
            "visibility": null,
            "width": null
          }
        },
        "b5ced2c30c184d648ba134b8f14c2b5f": {
          "model_module": "@jupyter-widgets/controls",
          "model_module_version": "1.5.0",
          "model_name": "DescriptionStyleModel",
          "state": {
            "_model_module": "@jupyter-widgets/controls",
            "_model_module_version": "1.5.0",
            "_model_name": "DescriptionStyleModel",
            "_view_count": null,
            "_view_module": "@jupyter-widgets/base",
            "_view_module_version": "1.2.0",
            "_view_name": "StyleView",
            "description_width": ""
          }
        },
        "b68dbd02d6604d41852eae84250d54cc": {
          "model_module": "@jupyter-widgets/controls",
          "model_module_version": "1.5.0",
          "model_name": "DescriptionStyleModel",
          "state": {
            "_model_module": "@jupyter-widgets/controls",
            "_model_module_version": "1.5.0",
            "_model_name": "DescriptionStyleModel",
            "_view_count": null,
            "_view_module": "@jupyter-widgets/base",
            "_view_module_version": "1.2.0",
            "_view_name": "StyleView",
            "description_width": ""
          }
        },
        "b81e35afe2704d81aa0464eb83224dce": {
          "model_module": "@jupyter-widgets/controls",
          "model_module_version": "1.5.0",
          "model_name": "DescriptionStyleModel",
          "state": {
            "_model_module": "@jupyter-widgets/controls",
            "_model_module_version": "1.5.0",
            "_model_name": "DescriptionStyleModel",
            "_view_count": null,
            "_view_module": "@jupyter-widgets/base",
            "_view_module_version": "1.2.0",
            "_view_name": "StyleView",
            "description_width": ""
          }
        },
        "bb046630b49d4a90bc592b9fabff6736": {
          "model_module": "@jupyter-widgets/base",
          "model_module_version": "1.2.0",
          "model_name": "LayoutModel",
          "state": {
            "_model_module": "@jupyter-widgets/base",
            "_model_module_version": "1.2.0",
            "_model_name": "LayoutModel",
            "_view_count": null,
            "_view_module": "@jupyter-widgets/base",
            "_view_module_version": "1.2.0",
            "_view_name": "LayoutView",
            "align_content": null,
            "align_items": null,
            "align_self": null,
            "border": null,
            "bottom": null,
            "display": null,
            "flex": null,
            "flex_flow": null,
            "grid_area": null,
            "grid_auto_columns": null,
            "grid_auto_flow": null,
            "grid_auto_rows": null,
            "grid_column": null,
            "grid_gap": null,
            "grid_row": null,
            "grid_template_areas": null,
            "grid_template_columns": null,
            "grid_template_rows": null,
            "height": null,
            "justify_content": null,
            "justify_items": null,
            "left": null,
            "margin": null,
            "max_height": null,
            "max_width": null,
            "min_height": null,
            "min_width": null,
            "object_fit": null,
            "object_position": null,
            "order": null,
            "overflow": null,
            "overflow_x": null,
            "overflow_y": null,
            "padding": null,
            "right": null,
            "top": null,
            "visibility": null,
            "width": null
          }
        },
        "bcbf6362004747b79f663b2cd6cdc7a5": {
          "model_module": "@jupyter-widgets/controls",
          "model_module_version": "1.5.0",
          "model_name": "DescriptionStyleModel",
          "state": {
            "_model_module": "@jupyter-widgets/controls",
            "_model_module_version": "1.5.0",
            "_model_name": "DescriptionStyleModel",
            "_view_count": null,
            "_view_module": "@jupyter-widgets/base",
            "_view_module_version": "1.2.0",
            "_view_name": "StyleView",
            "description_width": ""
          }
        },
        "bcf0c005efee4fcaa47b9615d6b196e1": {
          "model_module": "@jupyter-widgets/base",
          "model_module_version": "1.2.0",
          "model_name": "LayoutModel",
          "state": {
            "_model_module": "@jupyter-widgets/base",
            "_model_module_version": "1.2.0",
            "_model_name": "LayoutModel",
            "_view_count": null,
            "_view_module": "@jupyter-widgets/base",
            "_view_module_version": "1.2.0",
            "_view_name": "LayoutView",
            "align_content": null,
            "align_items": null,
            "align_self": null,
            "border": null,
            "bottom": null,
            "display": null,
            "flex": null,
            "flex_flow": null,
            "grid_area": null,
            "grid_auto_columns": null,
            "grid_auto_flow": null,
            "grid_auto_rows": null,
            "grid_column": null,
            "grid_gap": null,
            "grid_row": null,
            "grid_template_areas": null,
            "grid_template_columns": null,
            "grid_template_rows": null,
            "height": null,
            "justify_content": null,
            "justify_items": null,
            "left": null,
            "margin": null,
            "max_height": null,
            "max_width": null,
            "min_height": null,
            "min_width": null,
            "object_fit": null,
            "object_position": null,
            "order": null,
            "overflow": null,
            "overflow_x": null,
            "overflow_y": null,
            "padding": null,
            "right": null,
            "top": null,
            "visibility": null,
            "width": null
          }
        },
        "bde82b38c79d4b67b3ee352d7f7b73e3": {
          "model_module": "@jupyter-widgets/base",
          "model_module_version": "1.2.0",
          "model_name": "LayoutModel",
          "state": {
            "_model_module": "@jupyter-widgets/base",
            "_model_module_version": "1.2.0",
            "_model_name": "LayoutModel",
            "_view_count": null,
            "_view_module": "@jupyter-widgets/base",
            "_view_module_version": "1.2.0",
            "_view_name": "LayoutView",
            "align_content": null,
            "align_items": null,
            "align_self": null,
            "border": null,
            "bottom": null,
            "display": null,
            "flex": null,
            "flex_flow": null,
            "grid_area": null,
            "grid_auto_columns": null,
            "grid_auto_flow": null,
            "grid_auto_rows": null,
            "grid_column": null,
            "grid_gap": null,
            "grid_row": null,
            "grid_template_areas": null,
            "grid_template_columns": null,
            "grid_template_rows": null,
            "height": null,
            "justify_content": null,
            "justify_items": null,
            "left": null,
            "margin": null,
            "max_height": null,
            "max_width": null,
            "min_height": null,
            "min_width": null,
            "object_fit": null,
            "object_position": null,
            "order": null,
            "overflow": null,
            "overflow_x": null,
            "overflow_y": null,
            "padding": null,
            "right": null,
            "top": null,
            "visibility": null,
            "width": null
          }
        },
        "c26ffd1fb3ff48bdbb9effcc68cf0d16": {
          "model_module": "@jupyter-widgets/base",
          "model_module_version": "1.2.0",
          "model_name": "LayoutModel",
          "state": {
            "_model_module": "@jupyter-widgets/base",
            "_model_module_version": "1.2.0",
            "_model_name": "LayoutModel",
            "_view_count": null,
            "_view_module": "@jupyter-widgets/base",
            "_view_module_version": "1.2.0",
            "_view_name": "LayoutView",
            "align_content": null,
            "align_items": null,
            "align_self": null,
            "border": null,
            "bottom": null,
            "display": null,
            "flex": null,
            "flex_flow": null,
            "grid_area": null,
            "grid_auto_columns": null,
            "grid_auto_flow": null,
            "grid_auto_rows": null,
            "grid_column": null,
            "grid_gap": null,
            "grid_row": null,
            "grid_template_areas": null,
            "grid_template_columns": null,
            "grid_template_rows": null,
            "height": null,
            "justify_content": null,
            "justify_items": null,
            "left": null,
            "margin": null,
            "max_height": null,
            "max_width": null,
            "min_height": null,
            "min_width": null,
            "object_fit": null,
            "object_position": null,
            "order": null,
            "overflow": null,
            "overflow_x": null,
            "overflow_y": null,
            "padding": null,
            "right": null,
            "top": null,
            "visibility": null,
            "width": null
          }
        },
        "c65c16802f27402382d1f96d5d30ab70": {
          "model_module": "@jupyter-widgets/controls",
          "model_module_version": "1.5.0",
          "model_name": "HTMLModel",
          "state": {
            "_dom_classes": [],
            "_model_module": "@jupyter-widgets/controls",
            "_model_module_version": "1.5.0",
            "_model_name": "HTMLModel",
            "_view_count": null,
            "_view_module": "@jupyter-widgets/controls",
            "_view_module_version": "1.5.0",
            "_view_name": "HTMLView",
            "description": "",
            "description_tooltip": null,
            "layout": "IPY_MODEL_c8f292327879494391e4c1937bfafbd4",
            "placeholder": "​",
            "style": "IPY_MODEL_a16de46bfb9c4445a1e5809ef1c93335",
            "value": " 17.2M/17.2M [00:01&lt;00:00, 12.0MB/s]"
          }
        },
        "c746564f4b5c469da4d3338add3eb33f": {
          "model_module": "@jupyter-widgets/base",
          "model_module_version": "1.2.0",
          "model_name": "LayoutModel",
          "state": {
            "_model_module": "@jupyter-widgets/base",
            "_model_module_version": "1.2.0",
            "_model_name": "LayoutModel",
            "_view_count": null,
            "_view_module": "@jupyter-widgets/base",
            "_view_module_version": "1.2.0",
            "_view_name": "LayoutView",
            "align_content": null,
            "align_items": null,
            "align_self": null,
            "border": null,
            "bottom": null,
            "display": null,
            "flex": null,
            "flex_flow": null,
            "grid_area": null,
            "grid_auto_columns": null,
            "grid_auto_flow": null,
            "grid_auto_rows": null,
            "grid_column": null,
            "grid_gap": null,
            "grid_row": null,
            "grid_template_areas": null,
            "grid_template_columns": null,
            "grid_template_rows": null,
            "height": null,
            "justify_content": null,
            "justify_items": null,
            "left": null,
            "margin": null,
            "max_height": null,
            "max_width": null,
            "min_height": null,
            "min_width": null,
            "object_fit": null,
            "object_position": null,
            "order": null,
            "overflow": null,
            "overflow_x": null,
            "overflow_y": null,
            "padding": null,
            "right": null,
            "top": null,
            "visibility": null,
            "width": null
          }
        },
        "c79160e8cc084b70be10021484f6bd54": {
          "model_module": "@jupyter-widgets/controls",
          "model_module_version": "1.5.0",
          "model_name": "ProgressStyleModel",
          "state": {
            "_model_module": "@jupyter-widgets/controls",
            "_model_module_version": "1.5.0",
            "_model_name": "ProgressStyleModel",
            "_view_count": null,
            "_view_module": "@jupyter-widgets/base",
            "_view_module_version": "1.2.0",
            "_view_name": "StyleView",
            "bar_color": null,
            "description_width": ""
          }
        },
        "c8eb7d5b5c1c49d089267b0f4e635bc8": {
          "model_module": "@jupyter-widgets/controls",
          "model_module_version": "1.5.0",
          "model_name": "HTMLModel",
          "state": {
            "_dom_classes": [],
            "_model_module": "@jupyter-widgets/controls",
            "_model_module_version": "1.5.0",
            "_model_name": "HTMLModel",
            "_view_count": null,
            "_view_module": "@jupyter-widgets/controls",
            "_view_module_version": "1.5.0",
            "_view_name": "HTMLView",
            "description": "",
            "description_tooltip": null,
            "layout": "IPY_MODEL_4a612e11ac8b43b481b986b69c771cd6",
            "placeholder": "​",
            "style": "IPY_MODEL_3687c050ad584d6681eddc8517b47656",
            "value": "model.safetensors: 100%"
          }
        },
        "c8f292327879494391e4c1937bfafbd4": {
          "model_module": "@jupyter-widgets/base",
          "model_module_version": "1.2.0",
          "model_name": "LayoutModel",
          "state": {
            "_model_module": "@jupyter-widgets/base",
            "_model_module_version": "1.2.0",
            "_model_name": "LayoutModel",
            "_view_count": null,
            "_view_module": "@jupyter-widgets/base",
            "_view_module_version": "1.2.0",
            "_view_name": "LayoutView",
            "align_content": null,
            "align_items": null,
            "align_self": null,
            "border": null,
            "bottom": null,
            "display": null,
            "flex": null,
            "flex_flow": null,
            "grid_area": null,
            "grid_auto_columns": null,
            "grid_auto_flow": null,
            "grid_auto_rows": null,
            "grid_column": null,
            "grid_gap": null,
            "grid_row": null,
            "grid_template_areas": null,
            "grid_template_columns": null,
            "grid_template_rows": null,
            "height": null,
            "justify_content": null,
            "justify_items": null,
            "left": null,
            "margin": null,
            "max_height": null,
            "max_width": null,
            "min_height": null,
            "min_width": null,
            "object_fit": null,
            "object_position": null,
            "order": null,
            "overflow": null,
            "overflow_x": null,
            "overflow_y": null,
            "padding": null,
            "right": null,
            "top": null,
            "visibility": null,
            "width": null
          }
        },
        "caa1c322b6a94dc89d5b388aca3a8fc7": {
          "model_module": "@jupyter-widgets/controls",
          "model_module_version": "1.5.0",
          "model_name": "FloatProgressModel",
          "state": {
            "_dom_classes": [],
            "_model_module": "@jupyter-widgets/controls",
            "_model_module_version": "1.5.0",
            "_model_name": "FloatProgressModel",
            "_view_count": null,
            "_view_module": "@jupyter-widgets/controls",
            "_view_module_version": "1.5.0",
            "_view_name": "ProgressView",
            "bar_style": "success",
            "description": "",
            "description_tooltip": null,
            "layout": "IPY_MODEL_b2f99a5effe54686bb594a589a615b4d",
            "max": 22573704,
            "min": 0,
            "orientation": "horizontal",
            "style": "IPY_MODEL_2315e06a9ffd4bb986dbfdce7b72d0ac",
            "value": 22573704
          }
        },
        "cb70d42af19945468dc3f2de5cc68570": {
          "model_module": "@jupyter-widgets/base",
          "model_module_version": "1.2.0",
          "model_name": "LayoutModel",
          "state": {
            "_model_module": "@jupyter-widgets/base",
            "_model_module_version": "1.2.0",
            "_model_name": "LayoutModel",
            "_view_count": null,
            "_view_module": "@jupyter-widgets/base",
            "_view_module_version": "1.2.0",
            "_view_name": "LayoutView",
            "align_content": null,
            "align_items": null,
            "align_self": null,
            "border": null,
            "bottom": null,
            "display": null,
            "flex": null,
            "flex_flow": null,
            "grid_area": null,
            "grid_auto_columns": null,
            "grid_auto_flow": null,
            "grid_auto_rows": null,
            "grid_column": null,
            "grid_gap": null,
            "grid_row": null,
            "grid_template_areas": null,
            "grid_template_columns": null,
            "grid_template_rows": null,
            "height": null,
            "justify_content": null,
            "justify_items": null,
            "left": null,
            "margin": null,
            "max_height": null,
            "max_width": null,
            "min_height": null,
            "min_width": null,
            "object_fit": null,
            "object_position": null,
            "order": null,
            "overflow": null,
            "overflow_x": null,
            "overflow_y": null,
            "padding": null,
            "right": null,
            "top": null,
            "visibility": null,
            "width": null
          }
        },
        "cbde15630b9a4bd690e9f48a54da780a": {
          "model_module": "@jupyter-widgets/base",
          "model_module_version": "1.2.0",
          "model_name": "LayoutModel",
          "state": {
            "_model_module": "@jupyter-widgets/base",
            "_model_module_version": "1.2.0",
            "_model_name": "LayoutModel",
            "_view_count": null,
            "_view_module": "@jupyter-widgets/base",
            "_view_module_version": "1.2.0",
            "_view_name": "LayoutView",
            "align_content": null,
            "align_items": null,
            "align_self": null,
            "border": null,
            "bottom": null,
            "display": null,
            "flex": null,
            "flex_flow": null,
            "grid_area": null,
            "grid_auto_columns": null,
            "grid_auto_flow": null,
            "grid_auto_rows": null,
            "grid_column": null,
            "grid_gap": null,
            "grid_row": null,
            "grid_template_areas": null,
            "grid_template_columns": null,
            "grid_template_rows": null,
            "height": null,
            "justify_content": null,
            "justify_items": null,
            "left": null,
            "margin": null,
            "max_height": null,
            "max_width": null,
            "min_height": null,
            "min_width": null,
            "object_fit": null,
            "object_position": null,
            "order": null,
            "overflow": null,
            "overflow_x": null,
            "overflow_y": null,
            "padding": null,
            "right": null,
            "top": null,
            "visibility": null,
            "width": null
          }
        },
        "cf48eae86e694233994ec33795fb70d6": {
          "model_module": "@jupyter-widgets/controls",
          "model_module_version": "1.5.0",
          "model_name": "HTMLModel",
          "state": {
            "_dom_classes": [],
            "_model_module": "@jupyter-widgets/controls",
            "_model_module_version": "1.5.0",
            "_model_name": "HTMLModel",
            "_view_count": null,
            "_view_module": "@jupyter-widgets/controls",
            "_view_module_version": "1.5.0",
            "_view_name": "HTMLView",
            "description": "",
            "description_tooltip": null,
            "layout": "IPY_MODEL_ac812acb6747449ebc9d049e3ae4ff53",
            "placeholder": "​",
            "style": "IPY_MODEL_9d9591513c99422dbdf705cfc6ee9d65",
            "value": " 3000/0 [00:00&lt;00:00, 10203.98 examples/s]"
          }
        },
        "d2716cf750454f039d479e23b364240a": {
          "model_module": "@jupyter-widgets/base",
          "model_module_version": "1.2.0",
          "model_name": "LayoutModel",
          "state": {
            "_model_module": "@jupyter-widgets/base",
            "_model_module_version": "1.2.0",
            "_model_name": "LayoutModel",
            "_view_count": null,
            "_view_module": "@jupyter-widgets/base",
            "_view_module_version": "1.2.0",
            "_view_name": "LayoutView",
            "align_content": null,
            "align_items": null,
            "align_self": null,
            "border": null,
            "bottom": null,
            "display": null,
            "flex": null,
            "flex_flow": null,
            "grid_area": null,
            "grid_auto_columns": null,
            "grid_auto_flow": null,
            "grid_auto_rows": null,
            "grid_column": null,
            "grid_gap": null,
            "grid_row": null,
            "grid_template_areas": null,
            "grid_template_columns": null,
            "grid_template_rows": null,
            "height": null,
            "justify_content": null,
            "justify_items": null,
            "left": null,
            "margin": null,
            "max_height": null,
            "max_width": null,
            "min_height": null,
            "min_width": null,
            "object_fit": null,
            "object_position": null,
            "order": null,
            "overflow": null,
            "overflow_x": null,
            "overflow_y": null,
            "padding": null,
            "right": null,
            "top": null,
            "visibility": null,
            "width": null
          }
        },
        "d2f82de71cf545a5bafca207facfb672": {
          "model_module": "@jupyter-widgets/controls",
          "model_module_version": "1.5.0",
          "model_name": "ProgressStyleModel",
          "state": {
            "_model_module": "@jupyter-widgets/controls",
            "_model_module_version": "1.5.0",
            "_model_name": "ProgressStyleModel",
            "_view_count": null,
            "_view_module": "@jupyter-widgets/base",
            "_view_module_version": "1.2.0",
            "_view_name": "StyleView",
            "bar_color": null,
            "description_width": ""
          }
        },
        "d7505b941d0644b1be6cdcd5ef7d2a28": {
          "model_module": "@jupyter-widgets/controls",
          "model_module_version": "1.5.0",
          "model_name": "DescriptionStyleModel",
          "state": {
            "_model_module": "@jupyter-widgets/controls",
            "_model_module_version": "1.5.0",
            "_model_name": "DescriptionStyleModel",
            "_view_count": null,
            "_view_module": "@jupyter-widgets/base",
            "_view_module_version": "1.2.0",
            "_view_name": "StyleView",
            "description_width": ""
          }
        },
        "dab6fdf313af44ba8fae417b44d589c1": {
          "model_module": "@jupyter-widgets/base",
          "model_module_version": "1.2.0",
          "model_name": "LayoutModel",
          "state": {
            "_model_module": "@jupyter-widgets/base",
            "_model_module_version": "1.2.0",
            "_model_name": "LayoutModel",
            "_view_count": null,
            "_view_module": "@jupyter-widgets/base",
            "_view_module_version": "1.2.0",
            "_view_name": "LayoutView",
            "align_content": null,
            "align_items": null,
            "align_self": null,
            "border": null,
            "bottom": null,
            "display": null,
            "flex": null,
            "flex_flow": null,
            "grid_area": null,
            "grid_auto_columns": null,
            "grid_auto_flow": null,
            "grid_auto_rows": null,
            "grid_column": null,
            "grid_gap": null,
            "grid_row": null,
            "grid_template_areas": null,
            "grid_template_columns": null,
            "grid_template_rows": null,
            "height": null,
            "justify_content": null,
            "justify_items": null,
            "left": null,
            "margin": null,
            "max_height": null,
            "max_width": null,
            "min_height": null,
            "min_width": null,
            "object_fit": null,
            "object_position": null,
            "order": null,
            "overflow": null,
            "overflow_x": null,
            "overflow_y": null,
            "padding": null,
            "right": null,
            "top": null,
            "visibility": null,
            "width": null
          }
        },
        "dadd51ccb0294e6ca33cdb82e4c28dcc": {
          "model_module": "@jupyter-widgets/controls",
          "model_module_version": "1.5.0",
          "model_name": "FloatProgressModel",
          "state": {
            "_dom_classes": [],
            "_model_module": "@jupyter-widgets/controls",
            "_model_module_version": "1.5.0",
            "_model_name": "FloatProgressModel",
            "_view_count": null,
            "_view_module": "@jupyter-widgets/controls",
            "_view_module_version": "1.5.0",
            "_view_name": "ProgressView",
            "bar_style": "success",
            "description": "",
            "description_tooltip": null,
            "layout": "IPY_MODEL_8d217e92297c4c95857b9fa8f9cd682f",
            "max": 1,
            "min": 0,
            "orientation": "horizontal",
            "style": "IPY_MODEL_741e4a180d7043ffbc04f8ce535a9639",
            "value": 1
          }
        },
        "db8f42675d4f41f08b927997330e98a5": {
          "model_module": "@jupyter-widgets/base",
          "model_module_version": "1.2.0",
          "model_name": "LayoutModel",
          "state": {
            "_model_module": "@jupyter-widgets/base",
            "_model_module_version": "1.2.0",
            "_model_name": "LayoutModel",
            "_view_count": null,
            "_view_module": "@jupyter-widgets/base",
            "_view_module_version": "1.2.0",
            "_view_name": "LayoutView",
            "align_content": null,
            "align_items": null,
            "align_self": null,
            "border": null,
            "bottom": null,
            "display": null,
            "flex": null,
            "flex_flow": null,
            "grid_area": null,
            "grid_auto_columns": null,
            "grid_auto_flow": null,
            "grid_auto_rows": null,
            "grid_column": null,
            "grid_gap": null,
            "grid_row": null,
            "grid_template_areas": null,
            "grid_template_columns": null,
            "grid_template_rows": null,
            "height": null,
            "justify_content": null,
            "justify_items": null,
            "left": null,
            "margin": null,
            "max_height": null,
            "max_width": null,
            "min_height": null,
            "min_width": null,
            "object_fit": null,
            "object_position": null,
            "order": null,
            "overflow": null,
            "overflow_x": null,
            "overflow_y": null,
            "padding": null,
            "right": null,
            "top": null,
            "visibility": null,
            "width": null
          }
        },
        "dd23367d5d0a48c2a6c94147c313c961": {
          "model_module": "@jupyter-widgets/controls",
          "model_module_version": "1.5.0",
          "model_name": "FloatProgressModel",
          "state": {
            "_dom_classes": [],
            "_model_module": "@jupyter-widgets/controls",
            "_model_module_version": "1.5.0",
            "_model_name": "FloatProgressModel",
            "_view_count": null,
            "_view_module": "@jupyter-widgets/controls",
            "_view_module_version": "1.5.0",
            "_view_name": "ProgressView",
            "bar_style": "success",
            "description": "",
            "description_tooltip": null,
            "layout": "IPY_MODEL_d2716cf750454f039d479e23b364240a",
            "max": 325,
            "min": 0,
            "orientation": "horizontal",
            "style": "IPY_MODEL_b23f39c2071c436480c686a8f6df67e9",
            "value": 325
          }
        },
        "df65025cf0094ba79d8e71e324a92420": {
          "model_module": "@jupyter-widgets/controls",
          "model_module_version": "1.5.0",
          "model_name": "HTMLModel",
          "state": {
            "_dom_classes": [],
            "_model_module": "@jupyter-widgets/controls",
            "_model_module_version": "1.5.0",
            "_model_name": "HTMLModel",
            "_view_count": null,
            "_view_module": "@jupyter-widgets/controls",
            "_view_module_version": "1.5.0",
            "_view_name": "HTMLView",
            "description": "",
            "description_tooltip": null,
            "layout": "IPY_MODEL_bb046630b49d4a90bc592b9fabff6736",
            "placeholder": "​",
            "style": "IPY_MODEL_f6bd1d8074ba4df28f0fd35f5720f634",
            "value": "adapter_config.json: 100%"
          }
        },
        "e24cbb6745914e6580887e2b904ff7dd": {
          "model_module": "@jupyter-widgets/controls",
          "model_module_version": "1.5.0",
          "model_name": "ProgressStyleModel",
          "state": {
            "_model_module": "@jupyter-widgets/controls",
            "_model_module_version": "1.5.0",
            "_model_name": "ProgressStyleModel",
            "_view_count": null,
            "_view_module": "@jupyter-widgets/base",
            "_view_module_version": "1.2.0",
            "_view_name": "StyleView",
            "bar_color": null,
            "description_width": ""
          }
        },
        "e387675d3ff44bcd8677ee1308c35b1b": {
          "model_module": "@jupyter-widgets/controls",
          "model_module_version": "1.5.0",
          "model_name": "FloatProgressModel",
          "state": {
            "_dom_classes": [],
            "_model_module": "@jupyter-widgets/controls",
            "_model_module_version": "1.5.0",
            "_model_name": "FloatProgressModel",
            "_view_count": null,
            "_view_module": "@jupyter-widgets/controls",
            "_view_module_version": "1.5.0",
            "_view_name": "ProgressView",
            "bar_style": "success",
            "description": "",
            "description_tooltip": null,
            "layout": "IPY_MODEL_bde82b38c79d4b67b3ee352d7f7b73e3",
            "max": 22573704,
            "min": 0,
            "orientation": "horizontal",
            "style": "IPY_MODEL_070fb31851bd4f79b1974121c979ce86",
            "value": 22573704
          }
        },
        "e6210928e2084eb69083dfc3155b320d": {
          "model_module": "@jupyter-widgets/controls",
          "model_module_version": "1.5.0",
          "model_name": "HBoxModel",
          "state": {
            "_dom_classes": [],
            "_model_module": "@jupyter-widgets/controls",
            "_model_module_version": "1.5.0",
            "_model_name": "HBoxModel",
            "_view_count": null,
            "_view_module": "@jupyter-widgets/controls",
            "_view_module_version": "1.5.0",
            "_view_name": "HBoxView",
            "box_style": "",
            "children": [
              "IPY_MODEL_aff0ea85c44741608ebc55ec2f126aea",
              "IPY_MODEL_5241d89a4c0d49ef8fbfdb9d4220ab00",
              "IPY_MODEL_aa68d6aca7c241a3ab13d3e92333ec6c"
            ],
            "layout": "IPY_MODEL_ea2183d811cb436a8993c18dd1434d1f"
          }
        },
        "e92698e4f29349a7a986c4b09b720597": {
          "model_module": "@jupyter-widgets/controls",
          "model_module_version": "1.5.0",
          "model_name": "HTMLModel",
          "state": {
            "_dom_classes": [],
            "_model_module": "@jupyter-widgets/controls",
            "_model_module_version": "1.5.0",
            "_model_name": "HTMLModel",
            "_view_count": null,
            "_view_module": "@jupyter-widgets/controls",
            "_view_module_version": "1.5.0",
            "_view_name": "HTMLView",
            "description": "",
            "description_tooltip": null,
            "layout": "IPY_MODEL_c746564f4b5c469da4d3338add3eb33f",
            "placeholder": "​",
            "style": "IPY_MODEL_d7505b941d0644b1be6cdcd5ef7d2a28",
            "value": "tokenizer.json: 100%"
          }
        },
        "ea2183d811cb436a8993c18dd1434d1f": {
          "model_module": "@jupyter-widgets/base",
          "model_module_version": "1.2.0",
          "model_name": "LayoutModel",
          "state": {
            "_model_module": "@jupyter-widgets/base",
            "_model_module_version": "1.2.0",
            "_model_name": "LayoutModel",
            "_view_count": null,
            "_view_module": "@jupyter-widgets/base",
            "_view_module_version": "1.2.0",
            "_view_name": "LayoutView",
            "align_content": null,
            "align_items": null,
            "align_self": null,
            "border": null,
            "bottom": null,
            "display": null,
            "flex": null,
            "flex_flow": null,
            "grid_area": null,
            "grid_auto_columns": null,
            "grid_auto_flow": null,
            "grid_auto_rows": null,
            "grid_column": null,
            "grid_gap": null,
            "grid_row": null,
            "grid_template_areas": null,
            "grid_template_columns": null,
            "grid_template_rows": null,
            "height": null,
            "justify_content": null,
            "justify_items": null,
            "left": null,
            "margin": null,
            "max_height": null,
            "max_width": null,
            "min_height": null,
            "min_width": null,
            "object_fit": null,
            "object_position": null,
            "order": null,
            "overflow": null,
            "overflow_x": null,
            "overflow_y": null,
            "padding": null,
            "right": null,
            "top": null,
            "visibility": null,
            "width": null
          }
        },
        "ecd59dac9a9645458c518b3660cef52a": {
          "model_module": "@jupyter-widgets/base",
          "model_module_version": "1.2.0",
          "model_name": "LayoutModel",
          "state": {
            "_model_module": "@jupyter-widgets/base",
            "_model_module_version": "1.2.0",
            "_model_name": "LayoutModel",
            "_view_count": null,
            "_view_module": "@jupyter-widgets/base",
            "_view_module_version": "1.2.0",
            "_view_name": "LayoutView",
            "align_content": null,
            "align_items": null,
            "align_self": null,
            "border": null,
            "bottom": null,
            "display": null,
            "flex": null,
            "flex_flow": null,
            "grid_area": null,
            "grid_auto_columns": null,
            "grid_auto_flow": null,
            "grid_auto_rows": null,
            "grid_column": null,
            "grid_gap": null,
            "grid_row": null,
            "grid_template_areas": null,
            "grid_template_columns": null,
            "grid_template_rows": null,
            "height": null,
            "justify_content": null,
            "justify_items": null,
            "left": null,
            "margin": null,
            "max_height": null,
            "max_width": null,
            "min_height": null,
            "min_width": null,
            "object_fit": null,
            "object_position": null,
            "order": null,
            "overflow": null,
            "overflow_x": null,
            "overflow_y": null,
            "padding": null,
            "right": null,
            "top": null,
            "visibility": null,
            "width": null
          }
        },
        "ef439b6b2669422e8033d2314f8bda91": {
          "model_module": "@jupyter-widgets/base",
          "model_module_version": "1.2.0",
          "model_name": "LayoutModel",
          "state": {
            "_model_module": "@jupyter-widgets/base",
            "_model_module_version": "1.2.0",
            "_model_name": "LayoutModel",
            "_view_count": null,
            "_view_module": "@jupyter-widgets/base",
            "_view_module_version": "1.2.0",
            "_view_name": "LayoutView",
            "align_content": null,
            "align_items": null,
            "align_self": null,
            "border": null,
            "bottom": null,
            "display": null,
            "flex": null,
            "flex_flow": null,
            "grid_area": null,
            "grid_auto_columns": null,
            "grid_auto_flow": null,
            "grid_auto_rows": null,
            "grid_column": null,
            "grid_gap": null,
            "grid_row": null,
            "grid_template_areas": null,
            "grid_template_columns": null,
            "grid_template_rows": null,
            "height": null,
            "justify_content": null,
            "justify_items": null,
            "left": null,
            "margin": null,
            "max_height": null,
            "max_width": null,
            "min_height": null,
            "min_width": null,
            "object_fit": null,
            "object_position": null,
            "order": null,
            "overflow": null,
            "overflow_x": null,
            "overflow_y": null,
            "padding": null,
            "right": null,
            "top": null,
            "visibility": null,
            "width": null
          }
        },
        "efdfe68e7ce94cb9bf0447faf2b4f34c": {
          "model_module": "@jupyter-widgets/base",
          "model_module_version": "1.2.0",
          "model_name": "LayoutModel",
          "state": {
            "_model_module": "@jupyter-widgets/base",
            "_model_module_version": "1.2.0",
            "_model_name": "LayoutModel",
            "_view_count": null,
            "_view_module": "@jupyter-widgets/base",
            "_view_module_version": "1.2.0",
            "_view_name": "LayoutView",
            "align_content": null,
            "align_items": null,
            "align_self": null,
            "border": null,
            "bottom": null,
            "display": null,
            "flex": null,
            "flex_flow": null,
            "grid_area": null,
            "grid_auto_columns": null,
            "grid_auto_flow": null,
            "grid_auto_rows": null,
            "grid_column": null,
            "grid_gap": null,
            "grid_row": null,
            "grid_template_areas": null,
            "grid_template_columns": null,
            "grid_template_rows": null,
            "height": null,
            "justify_content": null,
            "justify_items": null,
            "left": null,
            "margin": null,
            "max_height": null,
            "max_width": null,
            "min_height": null,
            "min_width": null,
            "object_fit": null,
            "object_position": null,
            "order": null,
            "overflow": null,
            "overflow_x": null,
            "overflow_y": null,
            "padding": null,
            "right": null,
            "top": null,
            "visibility": null,
            "width": null
          }
        },
        "f0afeaab71ff4f868c351bfea03edad9": {
          "model_module": "@jupyter-widgets/controls",
          "model_module_version": "1.5.0",
          "model_name": "DescriptionStyleModel",
          "state": {
            "_model_module": "@jupyter-widgets/controls",
            "_model_module_version": "1.5.0",
            "_model_name": "DescriptionStyleModel",
            "_view_count": null,
            "_view_module": "@jupyter-widgets/base",
            "_view_module_version": "1.2.0",
            "_view_name": "StyleView",
            "description_width": ""
          }
        },
        "f13c6eaaf22d4027bade59de32cd8e63": {
          "model_module": "@jupyter-widgets/controls",
          "model_module_version": "1.5.0",
          "model_name": "HTMLModel",
          "state": {
            "_dom_classes": [],
            "_model_module": "@jupyter-widgets/controls",
            "_model_module_version": "1.5.0",
            "_model_name": "HTMLModel",
            "_view_count": null,
            "_view_module": "@jupyter-widgets/controls",
            "_view_module_version": "1.5.0",
            "_view_name": "HTMLView",
            "description": "",
            "description_tooltip": null,
            "layout": "IPY_MODEL_db8f42675d4f41f08b927997330e98a5",
            "placeholder": "​",
            "style": "IPY_MODEL_343e7d4defd4471da4172e2dcf8b6c2f",
            "value": "tokenizer.json: 100%"
          }
        },
        "f6bd1d8074ba4df28f0fd35f5720f634": {
          "model_module": "@jupyter-widgets/controls",
          "model_module_version": "1.5.0",
          "model_name": "DescriptionStyleModel",
          "state": {
            "_model_module": "@jupyter-widgets/controls",
            "_model_module_version": "1.5.0",
            "_model_name": "DescriptionStyleModel",
            "_view_count": null,
            "_view_module": "@jupyter-widgets/base",
            "_view_module_version": "1.2.0",
            "_view_name": "StyleView",
            "description_width": ""
          }
        },
        "f726d2c73d584180ad6744fe251e47e5": {
          "model_module": "@jupyter-widgets/controls",
          "model_module_version": "1.5.0",
          "model_name": "HTMLModel",
          "state": {
            "_dom_classes": [],
            "_model_module": "@jupyter-widgets/controls",
            "_model_module_version": "1.5.0",
            "_model_name": "HTMLModel",
            "_view_count": null,
            "_view_module": "@jupyter-widgets/controls",
            "_view_module_version": "1.5.0",
            "_view_name": "HTMLView",
            "description": "",
            "description_tooltip": null,
            "layout": "IPY_MODEL_2d4f9585a9f24849b0ea58815b95a204",
            "placeholder": "​",
            "style": "IPY_MODEL_f0afeaab71ff4f868c351bfea03edad9",
            "value": " 8.15k/8.15k [00:00&lt;00:00, 156kB/s]"
          }
        },
        "f85eea3c47714fb6839c7bda212a25a7": {
          "model_module": "@jupyter-widgets/base",
          "model_module_version": "1.2.0",
          "model_name": "LayoutModel",
          "state": {
            "_model_module": "@jupyter-widgets/base",
            "_model_module_version": "1.2.0",
            "_model_name": "LayoutModel",
            "_view_count": null,
            "_view_module": "@jupyter-widgets/base",
            "_view_module_version": "1.2.0",
            "_view_name": "LayoutView",
            "align_content": null,
            "align_items": null,
            "align_self": null,
            "border": null,
            "bottom": null,
            "display": null,
            "flex": null,
            "flex_flow": null,
            "grid_area": null,
            "grid_auto_columns": null,
            "grid_auto_flow": null,
            "grid_auto_rows": null,
            "grid_column": null,
            "grid_gap": null,
            "grid_row": null,
            "grid_template_areas": null,
            "grid_template_columns": null,
            "grid_template_rows": null,
            "height": null,
            "justify_content": null,
            "justify_items": null,
            "left": null,
            "margin": null,
            "max_height": null,
            "max_width": null,
            "min_height": null,
            "min_width": null,
            "object_fit": null,
            "object_position": null,
            "order": null,
            "overflow": null,
            "overflow_x": null,
            "overflow_y": null,
            "padding": null,
            "right": null,
            "top": null,
            "visibility": null,
            "width": null
          }
        },
        "f977d2d088954bfa99395025e00bb276": {
          "model_module": "@jupyter-widgets/controls",
          "model_module_version": "1.5.0",
          "model_name": "FloatProgressModel",
          "state": {
            "_dom_classes": [],
            "_model_module": "@jupyter-widgets/controls",
            "_model_module_version": "1.5.0",
            "_model_name": "FloatProgressModel",
            "_view_count": null,
            "_view_module": "@jupyter-widgets/controls",
            "_view_module_version": "1.5.0",
            "_view_name": "ProgressView",
            "bar_style": "success",
            "description": "",
            "description_tooltip": null,
            "layout": "IPY_MODEL_78462038c43c40b28d6eac4dc9056a1f",
            "max": 3,
            "min": 0,
            "orientation": "horizontal",
            "style": "IPY_MODEL_62f8c8bb54af4780b0fd152cd2f9f920",
            "value": 3
          }
        },
        "fdc1adaf647a4c94b062a06460cb547d": {
          "model_module": "@jupyter-widgets/controls",
          "model_module_version": "1.5.0",
          "model_name": "HBoxModel",
          "state": {
            "_dom_classes": [],
            "_model_module": "@jupyter-widgets/controls",
            "_model_module_version": "1.5.0",
            "_model_name": "HBoxModel",
            "_view_count": null,
            "_view_module": "@jupyter-widgets/controls",
            "_view_module_version": "1.5.0",
            "_view_name": "HBoxView",
            "box_style": "",
            "children": [
              "IPY_MODEL_193eefaf791046828812228f7e86a0fc",
              "IPY_MODEL_dadd51ccb0294e6ca33cdb82e4c28dcc",
              "IPY_MODEL_cf48eae86e694233994ec33795fb70d6"
            ],
            "layout": "IPY_MODEL_5e01b35fe6464971969abe6d428c57a3"
          }
        },
        "feb7999ceb774a49b904a7f1c8fcf643": {
          "model_module": "@jupyter-widgets/controls",
          "model_module_version": "1.5.0",
          "model_name": "FloatProgressModel",
          "state": {
            "_dom_classes": [],
            "_model_module": "@jupyter-widgets/controls",
            "_model_module_version": "1.5.0",
            "_model_name": "FloatProgressModel",
            "_view_count": null,
            "_view_module": "@jupyter-widgets/controls",
            "_view_module_version": "1.5.0",
            "_view_name": "ProgressView",
            "bar_style": "success",
            "description": "",
            "description_tooltip": null,
            "layout": "IPY_MODEL_dab6fdf313af44ba8fae417b44d589c1",
            "max": 734,
            "min": 0,
            "orientation": "horizontal",
            "style": "IPY_MODEL_c79160e8cc084b70be10021484f6bd54",
            "value": 734
          }
        }
      }
    }
  },
  "nbformat": 4,
  "nbformat_minor": 5
}
